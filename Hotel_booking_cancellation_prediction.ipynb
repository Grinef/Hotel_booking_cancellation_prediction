{
 "cells": [
  {
   "cell_type": "markdown",
   "metadata": {},
   "source": [
    "# Прогнозирование оттока клиентов в сети отелей «Как в гостях»"
   ]
  },
  {
   "cell_type": "markdown",
   "metadata": {},
   "source": [
    "**Описание проекта:**\n",
    "\n",
    "Заказчик этого исследования — сеть отелей «Как в гостях». \n",
    "\n",
    "Чтобы привлечь клиентов, эта сеть отелей добавила на свой сайт возможность забронировать номер без предоплаты. Однако если клиент отменял бронирование, то компания терпела убытки. Сотрудники отеля могли, например, закупить продукты к приезду гостя или просто не успеть найти другого клиента.\n",
    "\n",
    "\n",
    "**Цель проекта:**\n",
    "\n",
    "Необходимо разработать систему, которая будет предсказывает отказ от брони.\n",
    "\n",
    "**Метод работы модели:**\n",
    "\n",
    "Если модель покажет, что бронь будет отменена, то клиенту предлагается внести депозит. Размер депозита — 80% от стоимости номера за одни сутки и затрат на разовую уборку. Деньги будут списаны со счёта клиента, если он всё же отменит бронь.\n"
   ]
  },
  {
   "cell_type": "markdown",
   "metadata": {},
   "source": [
    "**Дополнительная информация:**\n",
    "\n",
    "Основная бизнес-метрика —  прибыль. \n",
    "В данном случае прибыль - это разница между стоимостью номера за все ночи и затраты на обслуживание: как при подготовке номера, так и при проживании постояльца.\n",
    "\n",
    "В отеле есть несколько типов номеров. В зависимости от типа номера назначается стоимость за одну ночь. Есть также затраты на уборку. Если клиент снял номер надолго, то убираются каждые два дня. (Количество раз, когда убираются - расчётное значение). \n",
    "\n",
    "Стоимость номеров отеля:\n",
    "\n",
    "    •\tКатегория A: за ночь — 1 000, разовое обслуживание — 400;\n",
    "    •\tКатегория B: за ночь — 800, разовое обслуживание — 350;\n",
    "    •\tКатегория C: за ночь — 600, разовое обслуживание — 350;\n",
    "    •\tКатегория D: за ночь — 550, разовое обслуживание — 150;\n",
    "    •\tКатегория E: за ночь — 500, разовое обслуживание — 150;\n",
    "    •\tКатегория F: за ночь — 450, разовое обслуживание — 150;\n",
    "    •\tКатегория G: за ночь — 350, разовое обслуживание — 150.\n",
    "\n",
    "В ценовой политике отеля используются сезонные коэффициенты: весной и осенью цены повышаются на 20%, летом — на 40%.\n",
    "Убытки отеля в случае отмены брони номера — это стоимость одной уборки и одной ночи с учётом сезонного коэффициента.\n",
    "\n",
    "Затраты на разработку (400.000 руб.) должны быть меньше той выручки, которую система принесёт компании.\n"
   ]
  },
  {
   "cell_type": "code",
   "execution_count": 3,
   "metadata": {},
   "outputs": [],
   "source": [
    "# работа с данными:\n",
    "import pandas as pd\n",
    "import numpy as np\n",
    "from math import *\n",
    "import matplotlib.pyplot as plt\n",
    "from numpy.random import RandomState\n",
    "import random\n",
    "\n",
    "# предобработка:\n",
    "from sklearn.model_selection import cross_val_score, cross_val_predict\n",
    "from sklearn.preprocessing import StandardScaler\n",
    "from sklearn.preprocessing import OneHotEncoder\n",
    "from sklearn.preprocessing import OrdinalEncoder\n",
    "from sklearn.compose import ColumnTransformer\n",
    "from sklearn.compose import make_column_selector as selector\n",
    "from sklearn.pipeline import Pipeline\n",
    "from sklearn.pipeline import make_pipeline\n",
    "\n",
    "# модели для обучения:\n",
    "from sklearn.ensemble import RandomForestClassifier \n",
    "from sklearn.linear_model import LogisticRegression\n",
    "\n",
    "\n",
    "# метрики:\n",
    "from sklearn.metrics import make_scorer, recall_score\n",
    "\n",
    "import os\n",
    "# дополнительно:\n",
    "import warnings\n",
    "warnings.filterwarnings('ignore')\n",
    "pd.set_option('display.max_columns', None)\n",
    "os.chdir(r'C:\\Users\\Grine\\Desktop\\GitHub\\YandexPracticum\\7 СБОРНЫЙ ПРОЕКТ 2\\\\')\n",
    "state = RandomState(12345) "
   ]
  },
  {
   "cell_type": "markdown",
   "metadata": {},
   "source": [
    "### Загрузка данных"
   ]
  },
  {
   "cell_type": "code",
   "execution_count": 5,
   "metadata": {},
   "outputs": [],
   "source": [
    "data = pd.read_csv('hotel_train.csv')\n",
    "data_test = pd.read_csv('hotel_test.csv')"
   ]
  },
  {
   "cell_type": "markdown",
   "metadata": {},
   "source": [
    "### Шаг 2. Предобработка и исследовательский анализ данных"
   ]
  },
  {
   "cell_type": "markdown",
   "metadata": {},
   "source": [
    "#### Предобработка"
   ]
  },
  {
   "cell_type": "code",
   "execution_count": 6,
   "metadata": {},
   "outputs": [
    {
     "name": "stdout",
     "output_type": "stream",
     "text": [
      "<class 'pandas.core.frame.DataFrame'>\n",
      "RangeIndex: 65229 entries, 0 to 65228\n",
      "Data columns (total 25 columns):\n",
      " #   Column                          Non-Null Count  Dtype  \n",
      "---  ------                          --------------  -----  \n",
      " 0   id                              65229 non-null  int64  \n",
      " 1   is_canceled                     65229 non-null  int64  \n",
      " 2   lead_time                       65229 non-null  float64\n",
      " 3   arrival_date_year               65229 non-null  int64  \n",
      " 4   arrival_date_month              65229 non-null  object \n",
      " 5   arrival_date_week_number        65229 non-null  int64  \n",
      " 6   arrival_date_day_of_month       65229 non-null  int64  \n",
      " 7   stays_in_weekend_nights         65229 non-null  int64  \n",
      " 8   stays_in_week_nights            65229 non-null  int64  \n",
      " 9   adults                          65229 non-null  float64\n",
      " 10  children                        65229 non-null  float64\n",
      " 11  babies                          65229 non-null  float64\n",
      " 12  meal                            65229 non-null  object \n",
      " 13  country                         65229 non-null  object \n",
      " 14  distribution_channel            65229 non-null  object \n",
      " 15  is_repeated_guest               65229 non-null  int64  \n",
      " 16  previous_cancellations          65229 non-null  int64  \n",
      " 17  previous_bookings_not_canceled  65229 non-null  int64  \n",
      " 18  reserved_room_type              65229 non-null  object \n",
      " 19  booking_changes                 65229 non-null  int64  \n",
      " 20  days_in_waiting_list            65229 non-null  int64  \n",
      " 21  customer_type                   65229 non-null  object \n",
      " 22  required_car_parking_spaces     65229 non-null  int64  \n",
      " 23  total_of_special_requests       65229 non-null  int64  \n",
      " 24  total_nights                    65229 non-null  int64  \n",
      "dtypes: float64(4), int64(15), object(6)\n",
      "memory usage: 12.4+ MB\n"
     ]
    }
   ],
   "source": [
    "data.info()"
   ]
  },
  {
   "cell_type": "code",
   "execution_count": 7,
   "metadata": {},
   "outputs": [
    {
     "name": "stdout",
     "output_type": "stream",
     "text": [
      "<class 'pandas.core.frame.DataFrame'>\n",
      "RangeIndex: 32412 entries, 0 to 32411\n",
      "Data columns (total 25 columns):\n",
      " #   Column                          Non-Null Count  Dtype  \n",
      "---  ------                          --------------  -----  \n",
      " 0   id                              32412 non-null  int64  \n",
      " 1   is_canceled                     32412 non-null  int64  \n",
      " 2   lead_time                       32412 non-null  float64\n",
      " 3   arrival_date_year               32412 non-null  int64  \n",
      " 4   arrival_date_month              32412 non-null  object \n",
      " 5   arrival_date_week_number        32412 non-null  int64  \n",
      " 6   arrival_date_day_of_month       32412 non-null  int64  \n",
      " 7   stays_in_weekend_nights         32412 non-null  int64  \n",
      " 8   stays_in_week_nights            32412 non-null  int64  \n",
      " 9   adults                          32412 non-null  float64\n",
      " 10  children                        32412 non-null  float64\n",
      " 11  babies                          32412 non-null  float64\n",
      " 12  meal                            32412 non-null  object \n",
      " 13  country                         32412 non-null  object \n",
      " 14  distribution_channel            32412 non-null  object \n",
      " 15  is_repeated_guest               32412 non-null  int64  \n",
      " 16  previous_cancellations          32412 non-null  int64  \n",
      " 17  previous_bookings_not_canceled  32412 non-null  int64  \n",
      " 18  reserved_room_type              32412 non-null  object \n",
      " 19  booking_changes                 32412 non-null  int64  \n",
      " 20  days_in_waiting_list            32412 non-null  int64  \n",
      " 21  customer_type                   32412 non-null  object \n",
      " 22  required_car_parking_spaces     32412 non-null  int64  \n",
      " 23  total_of_special_requests       32412 non-null  int64  \n",
      " 24  total_nights                    32412 non-null  int64  \n",
      "dtypes: float64(4), int64(15), object(6)\n",
      "memory usage: 6.2+ MB\n"
     ]
    }
   ],
   "source": [
    "data_test.info()"
   ]
  },
  {
   "cell_type": "code",
   "execution_count": 8,
   "metadata": {},
   "outputs": [
    {
     "data": {
      "text/html": [
       "<div>\n",
       "<style scoped>\n",
       "    .dataframe tbody tr th:only-of-type {\n",
       "        vertical-align: middle;\n",
       "    }\n",
       "\n",
       "    .dataframe tbody tr th {\n",
       "        vertical-align: top;\n",
       "    }\n",
       "\n",
       "    .dataframe thead th {\n",
       "        text-align: right;\n",
       "    }\n",
       "</style>\n",
       "<table border=\"1\" class=\"dataframe\">\n",
       "  <thead>\n",
       "    <tr style=\"text-align: right;\">\n",
       "      <th></th>\n",
       "      <th>id</th>\n",
       "      <th>is_canceled</th>\n",
       "      <th>lead_time</th>\n",
       "      <th>arrival_date_year</th>\n",
       "      <th>arrival_date_month</th>\n",
       "      <th>arrival_date_week_number</th>\n",
       "      <th>arrival_date_day_of_month</th>\n",
       "      <th>stays_in_weekend_nights</th>\n",
       "      <th>stays_in_week_nights</th>\n",
       "      <th>adults</th>\n",
       "      <th>children</th>\n",
       "      <th>babies</th>\n",
       "      <th>meal</th>\n",
       "      <th>country</th>\n",
       "      <th>distribution_channel</th>\n",
       "      <th>is_repeated_guest</th>\n",
       "      <th>previous_cancellations</th>\n",
       "      <th>previous_bookings_not_canceled</th>\n",
       "      <th>reserved_room_type</th>\n",
       "      <th>booking_changes</th>\n",
       "      <th>days_in_waiting_list</th>\n",
       "      <th>customer_type</th>\n",
       "      <th>required_car_parking_spaces</th>\n",
       "      <th>total_of_special_requests</th>\n",
       "      <th>total_nights</th>\n",
       "    </tr>\n",
       "  </thead>\n",
       "  <tbody>\n",
       "    <tr>\n",
       "      <th>0</th>\n",
       "      <td>0</td>\n",
       "      <td>0</td>\n",
       "      <td>7.0</td>\n",
       "      <td>2015</td>\n",
       "      <td>July</td>\n",
       "      <td>27</td>\n",
       "      <td>1</td>\n",
       "      <td>0</td>\n",
       "      <td>1</td>\n",
       "      <td>1.0</td>\n",
       "      <td>0.0</td>\n",
       "      <td>0.0</td>\n",
       "      <td>BB</td>\n",
       "      <td>GBR</td>\n",
       "      <td>Direct</td>\n",
       "      <td>0</td>\n",
       "      <td>0</td>\n",
       "      <td>0</td>\n",
       "      <td>A</td>\n",
       "      <td>0</td>\n",
       "      <td>0</td>\n",
       "      <td>Transient</td>\n",
       "      <td>0</td>\n",
       "      <td>0</td>\n",
       "      <td>1</td>\n",
       "    </tr>\n",
       "    <tr>\n",
       "      <th>1</th>\n",
       "      <td>1</td>\n",
       "      <td>0</td>\n",
       "      <td>14.0</td>\n",
       "      <td>2015</td>\n",
       "      <td>July</td>\n",
       "      <td>27</td>\n",
       "      <td>1</td>\n",
       "      <td>0</td>\n",
       "      <td>2</td>\n",
       "      <td>2.0</td>\n",
       "      <td>0.0</td>\n",
       "      <td>0.0</td>\n",
       "      <td>BB</td>\n",
       "      <td>GBR</td>\n",
       "      <td>TA/TO</td>\n",
       "      <td>0</td>\n",
       "      <td>0</td>\n",
       "      <td>0</td>\n",
       "      <td>A</td>\n",
       "      <td>0</td>\n",
       "      <td>0</td>\n",
       "      <td>Transient</td>\n",
       "      <td>0</td>\n",
       "      <td>1</td>\n",
       "      <td>2</td>\n",
       "    </tr>\n",
       "    <tr>\n",
       "      <th>2</th>\n",
       "      <td>2</td>\n",
       "      <td>0</td>\n",
       "      <td>0.0</td>\n",
       "      <td>2015</td>\n",
       "      <td>July</td>\n",
       "      <td>27</td>\n",
       "      <td>1</td>\n",
       "      <td>0</td>\n",
       "      <td>2</td>\n",
       "      <td>2.0</td>\n",
       "      <td>0.0</td>\n",
       "      <td>0.0</td>\n",
       "      <td>BB</td>\n",
       "      <td>PRT</td>\n",
       "      <td>Direct</td>\n",
       "      <td>0</td>\n",
       "      <td>0</td>\n",
       "      <td>0</td>\n",
       "      <td>C</td>\n",
       "      <td>0</td>\n",
       "      <td>0</td>\n",
       "      <td>Transient</td>\n",
       "      <td>0</td>\n",
       "      <td>0</td>\n",
       "      <td>2</td>\n",
       "    </tr>\n",
       "    <tr>\n",
       "      <th>3</th>\n",
       "      <td>3</td>\n",
       "      <td>0</td>\n",
       "      <td>9.0</td>\n",
       "      <td>2015</td>\n",
       "      <td>July</td>\n",
       "      <td>27</td>\n",
       "      <td>1</td>\n",
       "      <td>0</td>\n",
       "      <td>2</td>\n",
       "      <td>2.0</td>\n",
       "      <td>0.0</td>\n",
       "      <td>0.0</td>\n",
       "      <td>FB</td>\n",
       "      <td>PRT</td>\n",
       "      <td>Direct</td>\n",
       "      <td>0</td>\n",
       "      <td>0</td>\n",
       "      <td>0</td>\n",
       "      <td>C</td>\n",
       "      <td>0</td>\n",
       "      <td>0</td>\n",
       "      <td>Transient</td>\n",
       "      <td>0</td>\n",
       "      <td>1</td>\n",
       "      <td>2</td>\n",
       "    </tr>\n",
       "    <tr>\n",
       "      <th>4</th>\n",
       "      <td>4</td>\n",
       "      <td>1</td>\n",
       "      <td>85.0</td>\n",
       "      <td>2015</td>\n",
       "      <td>July</td>\n",
       "      <td>27</td>\n",
       "      <td>1</td>\n",
       "      <td>0</td>\n",
       "      <td>3</td>\n",
       "      <td>2.0</td>\n",
       "      <td>0.0</td>\n",
       "      <td>0.0</td>\n",
       "      <td>BB</td>\n",
       "      <td>PRT</td>\n",
       "      <td>TA/TO</td>\n",
       "      <td>0</td>\n",
       "      <td>0</td>\n",
       "      <td>0</td>\n",
       "      <td>A</td>\n",
       "      <td>0</td>\n",
       "      <td>0</td>\n",
       "      <td>Transient</td>\n",
       "      <td>0</td>\n",
       "      <td>1</td>\n",
       "      <td>3</td>\n",
       "    </tr>\n",
       "  </tbody>\n",
       "</table>\n",
       "</div>"
      ],
      "text/plain": [
       "   id  is_canceled  lead_time  arrival_date_year arrival_date_month  \\\n",
       "0   0            0        7.0               2015               July   \n",
       "1   1            0       14.0               2015               July   \n",
       "2   2            0        0.0               2015               July   \n",
       "3   3            0        9.0               2015               July   \n",
       "4   4            1       85.0               2015               July   \n",
       "\n",
       "   arrival_date_week_number  arrival_date_day_of_month  \\\n",
       "0                        27                          1   \n",
       "1                        27                          1   \n",
       "2                        27                          1   \n",
       "3                        27                          1   \n",
       "4                        27                          1   \n",
       "\n",
       "   stays_in_weekend_nights  stays_in_week_nights  adults  children  babies  \\\n",
       "0                        0                     1     1.0       0.0     0.0   \n",
       "1                        0                     2     2.0       0.0     0.0   \n",
       "2                        0                     2     2.0       0.0     0.0   \n",
       "3                        0                     2     2.0       0.0     0.0   \n",
       "4                        0                     3     2.0       0.0     0.0   \n",
       "\n",
       "        meal country distribution_channel  is_repeated_guest  \\\n",
       "0  BB            GBR               Direct                  0   \n",
       "1  BB            GBR                TA/TO                  0   \n",
       "2  BB            PRT               Direct                  0   \n",
       "3  FB            PRT               Direct                  0   \n",
       "4  BB            PRT                TA/TO                  0   \n",
       "\n",
       "   previous_cancellations  previous_bookings_not_canceled reserved_room_type  \\\n",
       "0                       0                               0   A                  \n",
       "1                       0                               0   A                  \n",
       "2                       0                               0   C                  \n",
       "3                       0                               0   C                  \n",
       "4                       0                               0   A                  \n",
       "\n",
       "   booking_changes  days_in_waiting_list customer_type  \\\n",
       "0                0                     0     Transient   \n",
       "1                0                     0     Transient   \n",
       "2                0                     0     Transient   \n",
       "3                0                     0     Transient   \n",
       "4                0                     0     Transient   \n",
       "\n",
       "   required_car_parking_spaces  total_of_special_requests  total_nights  \n",
       "0                            0                          0             1  \n",
       "1                            0                          1             2  \n",
       "2                            0                          0             2  \n",
       "3                            0                          1             2  \n",
       "4                            0                          1             3  "
      ]
     },
     "execution_count": 8,
     "metadata": {},
     "output_type": "execute_result"
    }
   ],
   "source": [
    "data.head(5)"
   ]
  },
  {
   "cell_type": "code",
   "execution_count": 9,
   "metadata": {},
   "outputs": [
    {
     "data": {
      "text/html": [
       "<div>\n",
       "<style scoped>\n",
       "    .dataframe tbody tr th:only-of-type {\n",
       "        vertical-align: middle;\n",
       "    }\n",
       "\n",
       "    .dataframe tbody tr th {\n",
       "        vertical-align: top;\n",
       "    }\n",
       "\n",
       "    .dataframe thead th {\n",
       "        text-align: right;\n",
       "    }\n",
       "</style>\n",
       "<table border=\"1\" class=\"dataframe\">\n",
       "  <thead>\n",
       "    <tr style=\"text-align: right;\">\n",
       "      <th></th>\n",
       "      <th>id</th>\n",
       "      <th>is_canceled</th>\n",
       "      <th>lead_time</th>\n",
       "      <th>arrival_date_year</th>\n",
       "      <th>arrival_date_month</th>\n",
       "      <th>arrival_date_week_number</th>\n",
       "      <th>arrival_date_day_of_month</th>\n",
       "      <th>stays_in_weekend_nights</th>\n",
       "      <th>stays_in_week_nights</th>\n",
       "      <th>adults</th>\n",
       "      <th>children</th>\n",
       "      <th>babies</th>\n",
       "      <th>meal</th>\n",
       "      <th>country</th>\n",
       "      <th>distribution_channel</th>\n",
       "      <th>is_repeated_guest</th>\n",
       "      <th>previous_cancellations</th>\n",
       "      <th>previous_bookings_not_canceled</th>\n",
       "      <th>reserved_room_type</th>\n",
       "      <th>booking_changes</th>\n",
       "      <th>days_in_waiting_list</th>\n",
       "      <th>customer_type</th>\n",
       "      <th>required_car_parking_spaces</th>\n",
       "      <th>total_of_special_requests</th>\n",
       "      <th>total_nights</th>\n",
       "    </tr>\n",
       "  </thead>\n",
       "  <tbody>\n",
       "    <tr>\n",
       "      <th>0</th>\n",
       "      <td>6086</td>\n",
       "      <td>1</td>\n",
       "      <td>74.0</td>\n",
       "      <td>2017</td>\n",
       "      <td>January</td>\n",
       "      <td>1</td>\n",
       "      <td>1</td>\n",
       "      <td>1</td>\n",
       "      <td>0</td>\n",
       "      <td>2.0</td>\n",
       "      <td>0.0</td>\n",
       "      <td>0.0</td>\n",
       "      <td>BB</td>\n",
       "      <td>PRT</td>\n",
       "      <td>TA/TO</td>\n",
       "      <td>0</td>\n",
       "      <td>0</td>\n",
       "      <td>0</td>\n",
       "      <td>A</td>\n",
       "      <td>0</td>\n",
       "      <td>0</td>\n",
       "      <td>Transient</td>\n",
       "      <td>0</td>\n",
       "      <td>0</td>\n",
       "      <td>1</td>\n",
       "    </tr>\n",
       "    <tr>\n",
       "      <th>1</th>\n",
       "      <td>6087</td>\n",
       "      <td>1</td>\n",
       "      <td>62.0</td>\n",
       "      <td>2017</td>\n",
       "      <td>January</td>\n",
       "      <td>1</td>\n",
       "      <td>1</td>\n",
       "      <td>2</td>\n",
       "      <td>2</td>\n",
       "      <td>2.0</td>\n",
       "      <td>0.0</td>\n",
       "      <td>0.0</td>\n",
       "      <td>BB</td>\n",
       "      <td>AUT</td>\n",
       "      <td>TA/TO</td>\n",
       "      <td>0</td>\n",
       "      <td>0</td>\n",
       "      <td>0</td>\n",
       "      <td>A</td>\n",
       "      <td>0</td>\n",
       "      <td>0</td>\n",
       "      <td>Transient</td>\n",
       "      <td>0</td>\n",
       "      <td>1</td>\n",
       "      <td>4</td>\n",
       "    </tr>\n",
       "    <tr>\n",
       "      <th>2</th>\n",
       "      <td>6088</td>\n",
       "      <td>1</td>\n",
       "      <td>62.0</td>\n",
       "      <td>2017</td>\n",
       "      <td>January</td>\n",
       "      <td>1</td>\n",
       "      <td>1</td>\n",
       "      <td>2</td>\n",
       "      <td>2</td>\n",
       "      <td>2.0</td>\n",
       "      <td>0.0</td>\n",
       "      <td>0.0</td>\n",
       "      <td>BB</td>\n",
       "      <td>AUT</td>\n",
       "      <td>TA/TO</td>\n",
       "      <td>0</td>\n",
       "      <td>0</td>\n",
       "      <td>0</td>\n",
       "      <td>A</td>\n",
       "      <td>0</td>\n",
       "      <td>0</td>\n",
       "      <td>Transient</td>\n",
       "      <td>0</td>\n",
       "      <td>1</td>\n",
       "      <td>4</td>\n",
       "    </tr>\n",
       "    <tr>\n",
       "      <th>3</th>\n",
       "      <td>6089</td>\n",
       "      <td>1</td>\n",
       "      <td>71.0</td>\n",
       "      <td>2017</td>\n",
       "      <td>January</td>\n",
       "      <td>1</td>\n",
       "      <td>1</td>\n",
       "      <td>2</td>\n",
       "      <td>2</td>\n",
       "      <td>1.0</td>\n",
       "      <td>0.0</td>\n",
       "      <td>0.0</td>\n",
       "      <td>BB</td>\n",
       "      <td>PRT</td>\n",
       "      <td>TA/TO</td>\n",
       "      <td>0</td>\n",
       "      <td>0</td>\n",
       "      <td>0</td>\n",
       "      <td>A</td>\n",
       "      <td>0</td>\n",
       "      <td>0</td>\n",
       "      <td>Transient</td>\n",
       "      <td>0</td>\n",
       "      <td>1</td>\n",
       "      <td>4</td>\n",
       "    </tr>\n",
       "    <tr>\n",
       "      <th>4</th>\n",
       "      <td>6090</td>\n",
       "      <td>1</td>\n",
       "      <td>172.0</td>\n",
       "      <td>2017</td>\n",
       "      <td>January</td>\n",
       "      <td>1</td>\n",
       "      <td>1</td>\n",
       "      <td>2</td>\n",
       "      <td>5</td>\n",
       "      <td>2.0</td>\n",
       "      <td>0.0</td>\n",
       "      <td>0.0</td>\n",
       "      <td>BB</td>\n",
       "      <td>BEL</td>\n",
       "      <td>TA/TO</td>\n",
       "      <td>0</td>\n",
       "      <td>0</td>\n",
       "      <td>0</td>\n",
       "      <td>A</td>\n",
       "      <td>0</td>\n",
       "      <td>0</td>\n",
       "      <td>Transient</td>\n",
       "      <td>0</td>\n",
       "      <td>0</td>\n",
       "      <td>7</td>\n",
       "    </tr>\n",
       "  </tbody>\n",
       "</table>\n",
       "</div>"
      ],
      "text/plain": [
       "     id  is_canceled  lead_time  arrival_date_year arrival_date_month  \\\n",
       "0  6086            1       74.0               2017            January   \n",
       "1  6087            1       62.0               2017            January   \n",
       "2  6088            1       62.0               2017            January   \n",
       "3  6089            1       71.0               2017            January   \n",
       "4  6090            1      172.0               2017            January   \n",
       "\n",
       "   arrival_date_week_number  arrival_date_day_of_month  \\\n",
       "0                         1                          1   \n",
       "1                         1                          1   \n",
       "2                         1                          1   \n",
       "3                         1                          1   \n",
       "4                         1                          1   \n",
       "\n",
       "   stays_in_weekend_nights  stays_in_week_nights  adults  children  babies  \\\n",
       "0                        1                     0     2.0       0.0     0.0   \n",
       "1                        2                     2     2.0       0.0     0.0   \n",
       "2                        2                     2     2.0       0.0     0.0   \n",
       "3                        2                     2     1.0       0.0     0.0   \n",
       "4                        2                     5     2.0       0.0     0.0   \n",
       "\n",
       "        meal country distribution_channel  is_repeated_guest  \\\n",
       "0  BB            PRT                TA/TO                  0   \n",
       "1  BB            AUT                TA/TO                  0   \n",
       "2  BB            AUT                TA/TO                  0   \n",
       "3  BB            PRT                TA/TO                  0   \n",
       "4  BB            BEL                TA/TO                  0   \n",
       "\n",
       "   previous_cancellations  previous_bookings_not_canceled reserved_room_type  \\\n",
       "0                       0                               0   A                  \n",
       "1                       0                               0   A                  \n",
       "2                       0                               0   A                  \n",
       "3                       0                               0   A                  \n",
       "4                       0                               0   A                  \n",
       "\n",
       "   booking_changes  days_in_waiting_list customer_type  \\\n",
       "0                0                     0     Transient   \n",
       "1                0                     0     Transient   \n",
       "2                0                     0     Transient   \n",
       "3                0                     0     Transient   \n",
       "4                0                     0     Transient   \n",
       "\n",
       "   required_car_parking_spaces  total_of_special_requests  total_nights  \n",
       "0                            0                          0             1  \n",
       "1                            0                          1             4  \n",
       "2                            0                          1             4  \n",
       "3                            0                          1             4  \n",
       "4                            0                          0             7  "
      ]
     },
     "execution_count": 9,
     "metadata": {},
     "output_type": "execute_result"
    }
   ],
   "source": [
    "data_test.head(5)"
   ]
  },
  {
   "cell_type": "markdown",
   "metadata": {},
   "source": [
    "**Выводы по предобработка:**\n",
    "\n",
    "Нет необходимости в том, чтобы изменяться форматы или типы данных ни в обучающей, ни в тестовой выборках.\n",
    "Однако, можно уменьшить все значения с 64-битной системы до 32-битной c целью экономии оперативной памяти. \n",
    "\n",
    "На первый взгляд видна незначительаня разница между обучающими и тестовыми данными. Тем не менее необходимо будет провести разведочный анализ данных."
   ]
  },
  {
   "cell_type": "code",
   "execution_count": 10,
   "metadata": {},
   "outputs": [],
   "source": [
    "# для обучающих данных\n",
    "int_columns = data.select_dtypes(include='int64').columns\n",
    "data[int_columns] = data[int_columns].astype('int32')\n",
    "\n",
    "float_columns = data.select_dtypes(include='float64').columns\n",
    "data[float_columns] = data[float_columns].astype('float32')\n",
    "\n",
    "\n",
    "# для тестовых данных\n",
    "int_columns_test = data_test.select_dtypes(include='int64').columns\n",
    "data_test[int_columns_test] = data_test[int_columns_test].astype('int32')\n",
    "\n",
    "float_columns_test = data_test.select_dtypes(include='float64').columns\n",
    "data_test[float_columns_test] = data_test[float_columns_test].astype('float32')"
   ]
  },
  {
   "cell_type": "markdown",
   "metadata": {},
   "source": [
    "#### Исследовательский  анализ данных"
   ]
  },
  {
   "cell_type": "markdown",
   "metadata": {},
   "source": [
    "**Количественные признаки:**"
   ]
  },
  {
   "cell_type": "code",
   "execution_count": 11,
   "metadata": {},
   "outputs": [
    {
     "data": {
      "text/html": [
       "<div>\n",
       "<style scoped>\n",
       "    .dataframe tbody tr th:only-of-type {\n",
       "        vertical-align: middle;\n",
       "    }\n",
       "\n",
       "    .dataframe tbody tr th {\n",
       "        vertical-align: top;\n",
       "    }\n",
       "\n",
       "    .dataframe thead th {\n",
       "        text-align: right;\n",
       "    }\n",
       "</style>\n",
       "<table border=\"1\" class=\"dataframe\">\n",
       "  <thead>\n",
       "    <tr style=\"text-align: right;\">\n",
       "      <th></th>\n",
       "      <th>index</th>\n",
       "      <th>lead_time</th>\n",
       "      <th>arrival_date_year</th>\n",
       "      <th>arrival_date_week_number</th>\n",
       "      <th>arrival_date_day_of_month</th>\n",
       "      <th>stays_in_weekend_nights</th>\n",
       "      <th>stays_in_week_nights</th>\n",
       "      <th>adults</th>\n",
       "      <th>children</th>\n",
       "      <th>babies</th>\n",
       "      <th>is_repeated_guest</th>\n",
       "      <th>previous_cancellations</th>\n",
       "      <th>previous_bookings_not_canceled</th>\n",
       "      <th>booking_changes</th>\n",
       "      <th>days_in_waiting_list</th>\n",
       "      <th>required_car_parking_spaces</th>\n",
       "      <th>total_of_special_requests</th>\n",
       "      <th>total_nights</th>\n",
       "      <th>type</th>\n",
       "    </tr>\n",
       "  </thead>\n",
       "  <tbody>\n",
       "    <tr>\n",
       "      <th>1</th>\n",
       "      <td>mean</td>\n",
       "      <td>97.587868</td>\n",
       "      <td>2017.000000</td>\n",
       "      <td>17.804054</td>\n",
       "      <td>15.656948</td>\n",
       "      <td>0.867888</td>\n",
       "      <td>2.340090</td>\n",
       "      <td>1.858602</td>\n",
       "      <td>0.083765</td>\n",
       "      <td>0.005523</td>\n",
       "      <td>0.031377</td>\n",
       "      <td>0.011601</td>\n",
       "      <td>0.171418</td>\n",
       "      <td>0.216741</td>\n",
       "      <td>0.262341</td>\n",
       "      <td>0.046248</td>\n",
       "      <td>0.657781</td>\n",
       "      <td>3.207979</td>\n",
       "      <td>тест</td>\n",
       "    </tr>\n",
       "    <tr>\n",
       "      <th>1</th>\n",
       "      <td>mean</td>\n",
       "      <td>96.337914</td>\n",
       "      <td>2015.719021</td>\n",
       "      <td>31.339772</td>\n",
       "      <td>15.847813</td>\n",
       "      <td>0.825185</td>\n",
       "      <td>2.224793</td>\n",
       "      <td>1.836576</td>\n",
       "      <td>0.074890</td>\n",
       "      <td>0.007236</td>\n",
       "      <td>0.027151</td>\n",
       "      <td>0.128915</td>\n",
       "      <td>0.107713</td>\n",
       "      <td>0.194269</td>\n",
       "      <td>3.334422</td>\n",
       "      <td>0.056647</td>\n",
       "      <td>0.512763</td>\n",
       "      <td>3.049978</td>\n",
       "      <td>обучение</td>\n",
       "    </tr>\n",
       "    <tr>\n",
       "      <th>2</th>\n",
       "      <td>std</td>\n",
       "      <td>86.506012</td>\n",
       "      <td>0.000000</td>\n",
       "      <td>9.177384</td>\n",
       "      <td>8.766429</td>\n",
       "      <td>0.853394</td>\n",
       "      <td>1.375170</td>\n",
       "      <td>0.489370</td>\n",
       "      <td>0.343488</td>\n",
       "      <td>0.075757</td>\n",
       "      <td>0.174338</td>\n",
       "      <td>0.180473</td>\n",
       "      <td>1.875170</td>\n",
       "      <td>0.640551</td>\n",
       "      <td>4.733027</td>\n",
       "      <td>0.219367</td>\n",
       "      <td>0.834341</td>\n",
       "      <td>1.738683</td>\n",
       "      <td>тест</td>\n",
       "    </tr>\n",
       "    <tr>\n",
       "      <th>2</th>\n",
       "      <td>std</td>\n",
       "      <td>96.126114</td>\n",
       "      <td>0.449481</td>\n",
       "      <td>13.464024</td>\n",
       "      <td>8.748182</td>\n",
       "      <td>0.853477</td>\n",
       "      <td>1.354992</td>\n",
       "      <td>0.480201</td>\n",
       "      <td>0.334093</td>\n",
       "      <td>0.098816</td>\n",
       "      <td>0.162523</td>\n",
       "      <td>0.965326</td>\n",
       "      <td>1.326638</td>\n",
       "      <td>0.593838</td>\n",
       "      <td>18.239606</td>\n",
       "      <td>0.232094</td>\n",
       "      <td>0.752590</td>\n",
       "      <td>1.738108</td>\n",
       "      <td>обучение</td>\n",
       "    </tr>\n",
       "    <tr>\n",
       "      <th>3</th>\n",
       "      <td>min</td>\n",
       "      <td>0.000000</td>\n",
       "      <td>2017.000000</td>\n",
       "      <td>1.000000</td>\n",
       "      <td>1.000000</td>\n",
       "      <td>0.000000</td>\n",
       "      <td>0.000000</td>\n",
       "      <td>0.000000</td>\n",
       "      <td>0.000000</td>\n",
       "      <td>0.000000</td>\n",
       "      <td>0.000000</td>\n",
       "      <td>0.000000</td>\n",
       "      <td>0.000000</td>\n",
       "      <td>0.000000</td>\n",
       "      <td>0.000000</td>\n",
       "      <td>0.000000</td>\n",
       "      <td>0.000000</td>\n",
       "      <td>1.000000</td>\n",
       "      <td>тест</td>\n",
       "    </tr>\n",
       "    <tr>\n",
       "      <th>3</th>\n",
       "      <td>min</td>\n",
       "      <td>0.000000</td>\n",
       "      <td>2015.000000</td>\n",
       "      <td>1.000000</td>\n",
       "      <td>1.000000</td>\n",
       "      <td>0.000000</td>\n",
       "      <td>0.000000</td>\n",
       "      <td>0.000000</td>\n",
       "      <td>0.000000</td>\n",
       "      <td>0.000000</td>\n",
       "      <td>0.000000</td>\n",
       "      <td>0.000000</td>\n",
       "      <td>0.000000</td>\n",
       "      <td>0.000000</td>\n",
       "      <td>0.000000</td>\n",
       "      <td>0.000000</td>\n",
       "      <td>0.000000</td>\n",
       "      <td>1.000000</td>\n",
       "      <td>обучение</td>\n",
       "    </tr>\n",
       "    <tr>\n",
       "      <th>4</th>\n",
       "      <td>25%</td>\n",
       "      <td>23.000000</td>\n",
       "      <td>2017.000000</td>\n",
       "      <td>10.000000</td>\n",
       "      <td>8.000000</td>\n",
       "      <td>0.000000</td>\n",
       "      <td>1.000000</td>\n",
       "      <td>2.000000</td>\n",
       "      <td>0.000000</td>\n",
       "      <td>0.000000</td>\n",
       "      <td>0.000000</td>\n",
       "      <td>0.000000</td>\n",
       "      <td>0.000000</td>\n",
       "      <td>0.000000</td>\n",
       "      <td>0.000000</td>\n",
       "      <td>0.000000</td>\n",
       "      <td>0.000000</td>\n",
       "      <td>2.000000</td>\n",
       "      <td>тест</td>\n",
       "    </tr>\n",
       "    <tr>\n",
       "      <th>4</th>\n",
       "      <td>25%</td>\n",
       "      <td>17.000000</td>\n",
       "      <td>2015.000000</td>\n",
       "      <td>21.000000</td>\n",
       "      <td>8.000000</td>\n",
       "      <td>0.000000</td>\n",
       "      <td>1.000000</td>\n",
       "      <td>2.000000</td>\n",
       "      <td>0.000000</td>\n",
       "      <td>0.000000</td>\n",
       "      <td>0.000000</td>\n",
       "      <td>0.000000</td>\n",
       "      <td>0.000000</td>\n",
       "      <td>0.000000</td>\n",
       "      <td>0.000000</td>\n",
       "      <td>0.000000</td>\n",
       "      <td>0.000000</td>\n",
       "      <td>2.000000</td>\n",
       "      <td>обучение</td>\n",
       "    </tr>\n",
       "    <tr>\n",
       "      <th>5</th>\n",
       "      <td>50%</td>\n",
       "      <td>76.000000</td>\n",
       "      <td>2017.000000</td>\n",
       "      <td>18.000000</td>\n",
       "      <td>15.500000</td>\n",
       "      <td>1.000000</td>\n",
       "      <td>2.000000</td>\n",
       "      <td>2.000000</td>\n",
       "      <td>0.000000</td>\n",
       "      <td>0.000000</td>\n",
       "      <td>0.000000</td>\n",
       "      <td>0.000000</td>\n",
       "      <td>0.000000</td>\n",
       "      <td>0.000000</td>\n",
       "      <td>0.000000</td>\n",
       "      <td>0.000000</td>\n",
       "      <td>0.000000</td>\n",
       "      <td>3.000000</td>\n",
       "      <td>тест</td>\n",
       "    </tr>\n",
       "    <tr>\n",
       "      <th>5</th>\n",
       "      <td>50%</td>\n",
       "      <td>64.000000</td>\n",
       "      <td>2016.000000</td>\n",
       "      <td>34.000000</td>\n",
       "      <td>16.000000</td>\n",
       "      <td>1.000000</td>\n",
       "      <td>2.000000</td>\n",
       "      <td>2.000000</td>\n",
       "      <td>0.000000</td>\n",
       "      <td>0.000000</td>\n",
       "      <td>0.000000</td>\n",
       "      <td>0.000000</td>\n",
       "      <td>0.000000</td>\n",
       "      <td>0.000000</td>\n",
       "      <td>0.000000</td>\n",
       "      <td>0.000000</td>\n",
       "      <td>0.000000</td>\n",
       "      <td>3.000000</td>\n",
       "      <td>обучение</td>\n",
       "    </tr>\n",
       "    <tr>\n",
       "      <th>6</th>\n",
       "      <td>75%</td>\n",
       "      <td>155.000000</td>\n",
       "      <td>2017.000000</td>\n",
       "      <td>25.000000</td>\n",
       "      <td>23.000000</td>\n",
       "      <td>2.000000</td>\n",
       "      <td>3.000000</td>\n",
       "      <td>2.000000</td>\n",
       "      <td>0.000000</td>\n",
       "      <td>0.000000</td>\n",
       "      <td>0.000000</td>\n",
       "      <td>0.000000</td>\n",
       "      <td>0.000000</td>\n",
       "      <td>0.000000</td>\n",
       "      <td>0.000000</td>\n",
       "      <td>0.000000</td>\n",
       "      <td>1.000000</td>\n",
       "      <td>4.000000</td>\n",
       "      <td>тест</td>\n",
       "    </tr>\n",
       "    <tr>\n",
       "      <th>6</th>\n",
       "      <td>75%</td>\n",
       "      <td>151.000000</td>\n",
       "      <td>2016.000000</td>\n",
       "      <td>42.000000</td>\n",
       "      <td>23.000000</td>\n",
       "      <td>2.000000</td>\n",
       "      <td>3.000000</td>\n",
       "      <td>2.000000</td>\n",
       "      <td>0.000000</td>\n",
       "      <td>0.000000</td>\n",
       "      <td>0.000000</td>\n",
       "      <td>0.000000</td>\n",
       "      <td>0.000000</td>\n",
       "      <td>0.000000</td>\n",
       "      <td>0.000000</td>\n",
       "      <td>0.000000</td>\n",
       "      <td>1.000000</td>\n",
       "      <td>4.000000</td>\n",
       "      <td>обучение</td>\n",
       "    </tr>\n",
       "    <tr>\n",
       "      <th>7</th>\n",
       "      <td>max</td>\n",
       "      <td>373.000000</td>\n",
       "      <td>2017.000000</td>\n",
       "      <td>35.000000</td>\n",
       "      <td>31.000000</td>\n",
       "      <td>4.000000</td>\n",
       "      <td>6.000000</td>\n",
       "      <td>4.000000</td>\n",
       "      <td>3.000000</td>\n",
       "      <td>2.000000</td>\n",
       "      <td>1.000000</td>\n",
       "      <td>6.000000</td>\n",
       "      <td>72.000000</td>\n",
       "      <td>18.000000</td>\n",
       "      <td>223.000000</td>\n",
       "      <td>8.000000</td>\n",
       "      <td>5.000000</td>\n",
       "      <td>10.000000</td>\n",
       "      <td>тест</td>\n",
       "    </tr>\n",
       "    <tr>\n",
       "      <th>7</th>\n",
       "      <td>max</td>\n",
       "      <td>374.000000</td>\n",
       "      <td>2016.000000</td>\n",
       "      <td>53.000000</td>\n",
       "      <td>31.000000</td>\n",
       "      <td>4.000000</td>\n",
       "      <td>6.000000</td>\n",
       "      <td>4.000000</td>\n",
       "      <td>3.000000</td>\n",
       "      <td>10.000000</td>\n",
       "      <td>1.000000</td>\n",
       "      <td>26.000000</td>\n",
       "      <td>58.000000</td>\n",
       "      <td>17.000000</td>\n",
       "      <td>259.000000</td>\n",
       "      <td>3.000000</td>\n",
       "      <td>5.000000</td>\n",
       "      <td>10.000000</td>\n",
       "      <td>обучение</td>\n",
       "    </tr>\n",
       "  </tbody>\n",
       "</table>\n",
       "</div>"
      ],
      "text/plain": [
       "  index   lead_time  arrival_date_year  arrival_date_week_number  \\\n",
       "1  mean   97.587868        2017.000000                 17.804054   \n",
       "1  mean   96.337914        2015.719021                 31.339772   \n",
       "2   std   86.506012           0.000000                  9.177384   \n",
       "2   std   96.126114           0.449481                 13.464024   \n",
       "3   min    0.000000        2017.000000                  1.000000   \n",
       "3   min    0.000000        2015.000000                  1.000000   \n",
       "4   25%   23.000000        2017.000000                 10.000000   \n",
       "4   25%   17.000000        2015.000000                 21.000000   \n",
       "5   50%   76.000000        2017.000000                 18.000000   \n",
       "5   50%   64.000000        2016.000000                 34.000000   \n",
       "6   75%  155.000000        2017.000000                 25.000000   \n",
       "6   75%  151.000000        2016.000000                 42.000000   \n",
       "7   max  373.000000        2017.000000                 35.000000   \n",
       "7   max  374.000000        2016.000000                 53.000000   \n",
       "\n",
       "   arrival_date_day_of_month  stays_in_weekend_nights  stays_in_week_nights  \\\n",
       "1                  15.656948                 0.867888              2.340090   \n",
       "1                  15.847813                 0.825185              2.224793   \n",
       "2                   8.766429                 0.853394              1.375170   \n",
       "2                   8.748182                 0.853477              1.354992   \n",
       "3                   1.000000                 0.000000              0.000000   \n",
       "3                   1.000000                 0.000000              0.000000   \n",
       "4                   8.000000                 0.000000              1.000000   \n",
       "4                   8.000000                 0.000000              1.000000   \n",
       "5                  15.500000                 1.000000              2.000000   \n",
       "5                  16.000000                 1.000000              2.000000   \n",
       "6                  23.000000                 2.000000              3.000000   \n",
       "6                  23.000000                 2.000000              3.000000   \n",
       "7                  31.000000                 4.000000              6.000000   \n",
       "7                  31.000000                 4.000000              6.000000   \n",
       "\n",
       "     adults  children     babies  is_repeated_guest  previous_cancellations  \\\n",
       "1  1.858602  0.083765   0.005523           0.031377                0.011601   \n",
       "1  1.836576  0.074890   0.007236           0.027151                0.128915   \n",
       "2  0.489370  0.343488   0.075757           0.174338                0.180473   \n",
       "2  0.480201  0.334093   0.098816           0.162523                0.965326   \n",
       "3  0.000000  0.000000   0.000000           0.000000                0.000000   \n",
       "3  0.000000  0.000000   0.000000           0.000000                0.000000   \n",
       "4  2.000000  0.000000   0.000000           0.000000                0.000000   \n",
       "4  2.000000  0.000000   0.000000           0.000000                0.000000   \n",
       "5  2.000000  0.000000   0.000000           0.000000                0.000000   \n",
       "5  2.000000  0.000000   0.000000           0.000000                0.000000   \n",
       "6  2.000000  0.000000   0.000000           0.000000                0.000000   \n",
       "6  2.000000  0.000000   0.000000           0.000000                0.000000   \n",
       "7  4.000000  3.000000   2.000000           1.000000                6.000000   \n",
       "7  4.000000  3.000000  10.000000           1.000000               26.000000   \n",
       "\n",
       "   previous_bookings_not_canceled  booking_changes  days_in_waiting_list  \\\n",
       "1                        0.171418         0.216741              0.262341   \n",
       "1                        0.107713         0.194269              3.334422   \n",
       "2                        1.875170         0.640551              4.733027   \n",
       "2                        1.326638         0.593838             18.239606   \n",
       "3                        0.000000         0.000000              0.000000   \n",
       "3                        0.000000         0.000000              0.000000   \n",
       "4                        0.000000         0.000000              0.000000   \n",
       "4                        0.000000         0.000000              0.000000   \n",
       "5                        0.000000         0.000000              0.000000   \n",
       "5                        0.000000         0.000000              0.000000   \n",
       "6                        0.000000         0.000000              0.000000   \n",
       "6                        0.000000         0.000000              0.000000   \n",
       "7                       72.000000        18.000000            223.000000   \n",
       "7                       58.000000        17.000000            259.000000   \n",
       "\n",
       "   required_car_parking_spaces  total_of_special_requests  total_nights  \\\n",
       "1                     0.046248                   0.657781      3.207979   \n",
       "1                     0.056647                   0.512763      3.049978   \n",
       "2                     0.219367                   0.834341      1.738683   \n",
       "2                     0.232094                   0.752590      1.738108   \n",
       "3                     0.000000                   0.000000      1.000000   \n",
       "3                     0.000000                   0.000000      1.000000   \n",
       "4                     0.000000                   0.000000      2.000000   \n",
       "4                     0.000000                   0.000000      2.000000   \n",
       "5                     0.000000                   0.000000      3.000000   \n",
       "5                     0.000000                   0.000000      3.000000   \n",
       "6                     0.000000                   1.000000      4.000000   \n",
       "6                     0.000000                   1.000000      4.000000   \n",
       "7                     8.000000                   5.000000     10.000000   \n",
       "7                     3.000000                   5.000000     10.000000   \n",
       "\n",
       "       type  \n",
       "1      тест  \n",
       "1  обучение  \n",
       "2      тест  \n",
       "2  обучение  \n",
       "3      тест  \n",
       "3  обучение  \n",
       "4      тест  \n",
       "4  обучение  \n",
       "5      тест  \n",
       "5  обучение  \n",
       "6      тест  \n",
       "6  обучение  \n",
       "7      тест  \n",
       "7  обучение  "
      ]
     },
     "execution_count": 11,
     "metadata": {},
     "output_type": "execute_result"
    }
   ],
   "source": [
    "# Методом describe изучим данные для тестовой и обучающей выборок, сравним их.\n",
    "test_describe = data_test.describe().reset_index().reset_index() \n",
    "test_describe['type'] = 'тест'\n",
    "data_describe = data.describe().reset_index().reset_index()\n",
    "data_describe['type']= 'обучение'\n",
    "pd.concat([test_describe, data_describe]).sort_values(by='level_0').drop(['level_0', 'id', 'is_canceled'], axis=1).iloc[2:]"
   ]
  },
  {
   "cell_type": "markdown",
   "metadata": {},
   "source": [
    "Выделим поля, в которых значения тестовых данных и обучающихся значительно отличается:\n",
    "\n",
    "    1) Cильное расхождение наблюдается в отменённых заказах у клиента поле (previous_cancellations);\n",
    "    2) Сильное расхождение по стандартному отклонению наблюдается в поле (days_in_waiting_list) - сколько дней заказ ожидал подтверждения;\n",
    "    3) Стоит изучить заказы без взрослых.\n",
    "\n",
    "При этом, наблюдается перевес нулевых значений. в следующих полях: \n",
    "    \n",
    "    1) 'children'\n",
    "    2) 'is_repeated_guest'\n",
    "    3) 'previous_cancellations'\n",
    "    4) 'previous_bookings_not_canceled'\n",
    "    5) 'booking_changes'\n",
    "    6) 'days_in_waiting_list'\n",
    "    7) 'required_car_parking_spaces'\n",
    "    8) 'total_of_special_requests'"
   ]
  },
  {
   "cell_type": "code",
   "execution_count": 12,
   "metadata": {},
   "outputs": [
    {
     "data": {
      "image/png": "[encoded data removed]",
      "text/plain": [
       "<Figure size 1500x500 with 2 Axes>"
      ]
     },
     "metadata": {},
     "output_type": "display_data"
    }
   ],
   "source": [
    "plt.figure(figsize=(15, 5))\n",
    "plt.subplot(1, 2, 1)\n",
    "data.boxplot(column='days_in_waiting_list')\n",
    "plt.title('Для обучения')\n",
    "\n",
    "plt.subplot(1, 2, 2)\n",
    "data_test.boxplot(column='days_in_waiting_list')\n",
    "plt.title('Тестовые')\n",
    "\n",
    "plt.show()"
   ]
  },
  {
   "cell_type": "markdown",
   "metadata": {},
   "source": [
    "*От выбросов точно стоит избавиться (а лучше заполнить их средним значением), но для начала нужно проверить гипотезу, не бывает ли такого, что \"количество дней между датой бронирования и датой прибытия\" меньше, чем \"количество дней, когда заказ ожидал подтверждения\".\n",
    "Дополнительно изучим этот параметр:*"
   ]
  },
  {
   "cell_type": "code",
   "execution_count": 13,
   "metadata": {},
   "outputs": [
    {
     "name": "stdout",
     "output_type": "stream",
     "text": [
      "Данные для обучения:\n"
     ]
    },
    {
     "data": {
      "text/html": [
       "<div>\n",
       "<style scoped>\n",
       "    .dataframe tbody tr th:only-of-type {\n",
       "        vertical-align: middle;\n",
       "    }\n",
       "\n",
       "    .dataframe tbody tr th {\n",
       "        vertical-align: top;\n",
       "    }\n",
       "\n",
       "    .dataframe thead th {\n",
       "        text-align: right;\n",
       "    }\n",
       "</style>\n",
       "<table border=\"1\" class=\"dataframe\">\n",
       "  <thead>\n",
       "    <tr style=\"text-align: right;\">\n",
       "      <th></th>\n",
       "      <th>days_in_waiting_list</th>\n",
       "      <th>lead_time</th>\n",
       "      <th>is_canceled</th>\n",
       "    </tr>\n",
       "  </thead>\n",
       "  <tbody>\n",
       "  </tbody>\n",
       "</table>\n",
       "</div>"
      ],
      "text/plain": [
       "Empty DataFrame\n",
       "Columns: [days_in_waiting_list, lead_time, is_canceled]\n",
       "Index: []"
      ]
     },
     "metadata": {},
     "output_type": "display_data"
    },
    {
     "name": "stdout",
     "output_type": "stream",
     "text": [
      "Данные для теста:\n"
     ]
    },
    {
     "data": {
      "text/html": [
       "<div>\n",
       "<style scoped>\n",
       "    .dataframe tbody tr th:only-of-type {\n",
       "        vertical-align: middle;\n",
       "    }\n",
       "\n",
       "    .dataframe tbody tr th {\n",
       "        vertical-align: top;\n",
       "    }\n",
       "\n",
       "    .dataframe thead th {\n",
       "        text-align: right;\n",
       "    }\n",
       "</style>\n",
       "<table border=\"1\" class=\"dataframe\">\n",
       "  <thead>\n",
       "    <tr style=\"text-align: right;\">\n",
       "      <th></th>\n",
       "      <th>days_in_waiting_list</th>\n",
       "      <th>lead_time</th>\n",
       "      <th>is_canceled</th>\n",
       "    </tr>\n",
       "  </thead>\n",
       "  <tbody>\n",
       "  </tbody>\n",
       "</table>\n",
       "</div>"
      ],
      "text/plain": [
       "Empty DataFrame\n",
       "Columns: [days_in_waiting_list, lead_time, is_canceled]\n",
       "Index: []"
      ]
     },
     "metadata": {},
     "output_type": "display_data"
    }
   ],
   "source": [
    "data_tech = data[['days_in_waiting_list', 'lead_time', 'is_canceled']]\n",
    "print('Данные для обучения:')\n",
    "display(data_tech[data_tech['lead_time'] < data_tech['days_in_waiting_list']])\n",
    "\n",
    "print('Данные для теста:')\n",
    "data_tech = data_test[['days_in_waiting_list', 'lead_time', 'is_canceled']]\n",
    "display(data_tech[data_tech['lead_time'] < data_tech['days_in_waiting_list']])"
   ]
  },
  {
   "cell_type": "markdown",
   "metadata": {},
   "source": [
    "*Не бывает такого, что клиент ждёт подтверждения брони дольше, чем время до заказа. Это избавляет нас от очевидных выбросов.*"
   ]
  },
  {
   "cell_type": "code",
   "execution_count": 15,
   "metadata": {},
   "outputs": [
    {
     "data": {
      "image/png": "[encoded data removed]",
      "text/plain": [
       "<Figure size 1500x500 with 1 Axes>"
      ]
     },
     "metadata": {},
     "output_type": "display_data"
    }
   ],
   "source": [
    "x_array = data['days_in_waiting_list'].values\n",
    "x2_array = data['lead_time'].values\n",
    "\n",
    "plt.figure(figsize=(15, 5))\n",
    "plt.hist(x_array, color='black', alpha = 0.5, label='days_in_waiting_list')\n",
    "\n",
    "plt.hist(x2_array, color='b', alpha = 0.5, label='lead_time')\n",
    "plt.legend()\n",
    "\n",
    "plt.title('Распределение показателей days_in_waiting_list и lead_time')\n",
    "plt.show()"
   ]
  },
  {
   "cell_type": "markdown",
   "metadata": {},
   "source": [
    "*Распределение является случайным и не может быть заменено каким-то из значений. Несмотря на наличие выбросов - оставим как есть.*"
   ]
  },
  {
   "cell_type": "code",
   "execution_count": 16,
   "metadata": {},
   "outputs": [],
   "source": [
    "# дополнительно очистим данные от заказов, когда взрослые отсуствуют\n",
    "data = data[data['adults'] != 0]\n",
    "data_test = data_test[data_test['adults'] != 0]"
   ]
  },
  {
   "cell_type": "markdown",
   "metadata": {},
   "source": [
    "Далее изучим столбцы, средние значения в которых нулевые.\n",
    "\n",
    "Данные для тестирования:"
   ]
  },
  {
   "cell_type": "code",
   "execution_count": 17,
   "metadata": {},
   "outputs": [
    {
     "data": {
      "image/png": "[encoded data removed]",
      "text/plain": [
       "<Figure size 2000x1000 with 9 Axes>"
      ]
     },
     "metadata": {},
     "output_type": "display_data"
    }
   ],
   "source": [
    "data_test[['children', 'is_repeated_guest', 'previous_cancellations', 'previous_bookings_not_canceled', 'booking_changes', 'days_in_waiting_list', 'required_car_parking_spaces', 'total_of_special_requests']].hist(figsize=(20, 10));"
   ]
  },
  {
   "cell_type": "markdown",
   "metadata": {},
   "source": [
    "**В данных очень много пропусков. Перепроверим их.**"
   ]
  },
  {
   "cell_type": "code",
   "execution_count": 18,
   "metadata": {},
   "outputs": [
    {
     "data": {
      "text/plain": [
       "0.0    30353\n",
       "1.0     1392\n",
       "2.0      595\n",
       "3.0        3\n",
       "Name: children, dtype: int64"
      ]
     },
     "execution_count": 18,
     "metadata": {},
     "output_type": "execute_result"
    }
   ],
   "source": [
    "data_test['children'].value_counts()"
   ]
  },
  {
   "cell_type": "markdown",
   "metadata": {},
   "source": [
    "*По количеству детей - всё в порядке. Этот признак оставим как есть. Несмотря на то, что присуствует не так много записей, где люди едут с 3 детьми, тем не менее, такое бывает.*"
   ]
  },
  {
   "cell_type": "code",
   "execution_count": 19,
   "metadata": {},
   "outputs": [
    {
     "data": {
      "text/plain": [
       "0    32118\n",
       "1      164\n",
       "2       29\n",
       "6       15\n",
       "4       10\n",
       "3        6\n",
       "5        1\n",
       "Name: previous_cancellations, dtype: int64"
      ]
     },
     "execution_count": 19,
     "metadata": {},
     "output_type": "execute_result"
    }
   ],
   "source": [
    "data_test['previous_cancellations'].value_counts()"
   ]
  },
  {
   "cell_type": "markdown",
   "metadata": {},
   "source": [
    "*количество отменённых заказов у клиента - это важный параметр и абсолютно случайный. Преобразовать его не получится.*"
   ]
  },
  {
   "cell_type": "code",
   "execution_count": 21,
   "metadata": {},
   "outputs": [
    {
     "data": {
      "image/png": "[encoded data removed]",
      "text/plain": [
       "<Figure size 1500x500 with 2 Axes>"
      ]
     },
     "metadata": {},
     "output_type": "display_data"
    }
   ],
   "source": [
    "plt.figure(figsize=(15, 5))\n",
    "plt.subplot(1, 2, 1)\n",
    "data.boxplot(column='babies')\n",
    "plt.title('Для обучения')\n",
    "\n",
    "plt.subplot(1, 2, 2)\n",
    "data_test.boxplot(column='babies')\n",
    "plt.title('Тестовые')\n",
    "\n",
    "plt.show()"
   ]
  },
  {
   "cell_type": "markdown",
   "metadata": {},
   "source": [
    "**В данных по количеству младенцев явно есть выбросы. Предлагается избавится от тех значений, когда малышей больше, чем 2.**"
   ]
  },
  {
   "cell_type": "code",
   "execution_count": 22,
   "metadata": {},
   "outputs": [],
   "source": [
    "data = data.query('babies <= 2')\n",
    "data_test = data_test.query('babies <= 2')"
   ]
  },
  {
   "cell_type": "markdown",
   "metadata": {},
   "source": [
    "total_nights — это сумма stays_in_week_nights и stays_in_weekend_nights,  проверим так ли это."
   ]
  },
  {
   "cell_type": "code",
   "execution_count": 23,
   "metadata": {},
   "outputs": [
    {
     "name": "stdout",
     "output_type": "stream",
     "text": [
      "стоит удалить лишние признаки    65061\n",
      "Name: тестовая колонка, dtype: int64\n",
      "стоит удалить лишние признаки    32343\n",
      "Name: тестовая колонка, dtype: int64\n"
     ]
    }
   ],
   "source": [
    "def count_of_nights(data):\n",
    "    if data['total_nights'] == data['stays_in_weekend_nights'] + data['stays_in_week_nights']:\n",
    "        return 'стоит удалить лишние признаки'\n",
    "    else:\n",
    "        return 'стоит оставить признаки'\n",
    "    \n",
    "data['тестовая колонка'] = data.apply(count_of_nights, axis=1)\n",
    "print(data['тестовая колонка'].value_counts())\n",
    "data_test['тестовая колонка'] = data_test.apply(count_of_nights, axis=1)\n",
    "print(data_test['тестовая колонка'].value_counts())"
   ]
  },
  {
   "cell_type": "markdown",
   "metadata": {},
   "source": [
    "**Да это так. Соответственно от этих двух столбцов можно избавиться.**"
   ]
  },
  {
   "cell_type": "code",
   "execution_count": 24,
   "metadata": {},
   "outputs": [],
   "source": [
    "data = data.drop(['stays_in_weekend_nights', 'stays_in_week_nights', 'тестовая колонка'], axis=1)\n",
    "data_test = data_test.drop(['stays_in_weekend_nights', 'stays_in_week_nights', 'тестовая колонка'], axis=1)"
   ]
  },
  {
   "cell_type": "markdown",
   "metadata": {},
   "source": [
    "Изучим корреляции признаков:"
   ]
  },
  {
   "cell_type": "code",
   "execution_count": 25,
   "metadata": {
    "scrolled": false
   },
   "outputs": [
    {
     "data": {
      "text/html": [
       "<div>\n",
       "<style scoped>\n",
       "    .dataframe tbody tr th:only-of-type {\n",
       "        vertical-align: middle;\n",
       "    }\n",
       "\n",
       "    .dataframe tbody tr th {\n",
       "        vertical-align: top;\n",
       "    }\n",
       "\n",
       "    .dataframe thead th {\n",
       "        text-align: right;\n",
       "    }\n",
       "</style>\n",
       "<table border=\"1\" class=\"dataframe\">\n",
       "  <thead>\n",
       "    <tr style=\"text-align: right;\">\n",
       "      <th></th>\n",
       "      <th>feature</th>\n",
       "      <th>data_is_canceled_feature</th>\n",
       "      <th>data_test_is_canceled_feature</th>\n",
       "      <th>corr_difference</th>\n",
       "    </tr>\n",
       "  </thead>\n",
       "  <tbody>\n",
       "    <tr>\n",
       "      <th>9</th>\n",
       "      <td>previous_cancellations</td>\n",
       "      <td>0.153126</td>\n",
       "      <td>-0.032892</td>\n",
       "      <td>0.186019</td>\n",
       "    </tr>\n",
       "    <tr>\n",
       "      <th>1</th>\n",
       "      <td>lead_time</td>\n",
       "      <td>0.328596</td>\n",
       "      <td>0.238382</td>\n",
       "      <td>0.090215</td>\n",
       "    </tr>\n",
       "    <tr>\n",
       "      <th>8</th>\n",
       "      <td>is_repeated_guest</td>\n",
       "      <td>-0.040303</td>\n",
       "      <td>-0.125593</td>\n",
       "      <td>0.085289</td>\n",
       "    </tr>\n",
       "    <tr>\n",
       "      <th>12</th>\n",
       "      <td>days_in_waiting_list</td>\n",
       "      <td>0.075859</td>\n",
       "      <td>0.018397</td>\n",
       "      <td>0.057462</td>\n",
       "    </tr>\n",
       "    <tr>\n",
       "      <th>14</th>\n",
       "      <td>total_of_special_requests</td>\n",
       "      <td>-0.257134</td>\n",
       "      <td>-0.218440</td>\n",
       "      <td>0.038694</td>\n",
       "    </tr>\n",
       "    <tr>\n",
       "      <th>5</th>\n",
       "      <td>adults</td>\n",
       "      <td>0.044418</td>\n",
       "      <td>0.079475</td>\n",
       "      <td>0.035057</td>\n",
       "    </tr>\n",
       "    <tr>\n",
       "      <th>15</th>\n",
       "      <td>total_nights</td>\n",
       "      <td>0.001339</td>\n",
       "      <td>0.036173</td>\n",
       "      <td>0.034833</td>\n",
       "    </tr>\n",
       "    <tr>\n",
       "      <th>6</th>\n",
       "      <td>children</td>\n",
       "      <td>-0.017193</td>\n",
       "      <td>0.010626</td>\n",
       "      <td>0.027819</td>\n",
       "    </tr>\n",
       "    <tr>\n",
       "      <th>3</th>\n",
       "      <td>arrival_date_week_number</td>\n",
       "      <td>0.012751</td>\n",
       "      <td>0.037554</td>\n",
       "      <td>0.024803</td>\n",
       "    </tr>\n",
       "    <tr>\n",
       "      <th>10</th>\n",
       "      <td>previous_bookings_not_canceled</td>\n",
       "      <td>-0.045638</td>\n",
       "      <td>-0.065408</td>\n",
       "      <td>0.019771</td>\n",
       "    </tr>\n",
       "    <tr>\n",
       "      <th>13</th>\n",
       "      <td>required_car_parking_spaces</td>\n",
       "      <td>-0.186773</td>\n",
       "      <td>-0.168049</td>\n",
       "      <td>0.018723</td>\n",
       "    </tr>\n",
       "    <tr>\n",
       "      <th>4</th>\n",
       "      <td>arrival_date_day_of_month</td>\n",
       "      <td>-0.001811</td>\n",
       "      <td>-0.008888</td>\n",
       "      <td>0.007077</td>\n",
       "    </tr>\n",
       "    <tr>\n",
       "      <th>7</th>\n",
       "      <td>babies</td>\n",
       "      <td>-0.032443</td>\n",
       "      <td>-0.038909</td>\n",
       "      <td>0.006466</td>\n",
       "    </tr>\n",
       "    <tr>\n",
       "      <th>11</th>\n",
       "      <td>booking_changes</td>\n",
       "      <td>-0.142719</td>\n",
       "      <td>-0.137279</td>\n",
       "      <td>0.005440</td>\n",
       "    </tr>\n",
       "    <tr>\n",
       "      <th>0</th>\n",
       "      <td>is_canceled</td>\n",
       "      <td>1.000000</td>\n",
       "      <td>1.000000</td>\n",
       "      <td>0.000000</td>\n",
       "    </tr>\n",
       "    <tr>\n",
       "      <th>2</th>\n",
       "      <td>arrival_date_year</td>\n",
       "      <td>-0.030698</td>\n",
       "      <td>NaN</td>\n",
       "      <td>NaN</td>\n",
       "    </tr>\n",
       "  </tbody>\n",
       "</table>\n",
       "</div>"
      ],
      "text/plain": [
       "                           feature  data_is_canceled_feature  \\\n",
       "9           previous_cancellations                  0.153126   \n",
       "1                        lead_time                  0.328596   \n",
       "8                is_repeated_guest                 -0.040303   \n",
       "12            days_in_waiting_list                  0.075859   \n",
       "14       total_of_special_requests                 -0.257134   \n",
       "5                           adults                  0.044418   \n",
       "15                    total_nights                  0.001339   \n",
       "6                         children                 -0.017193   \n",
       "3         arrival_date_week_number                  0.012751   \n",
       "10  previous_bookings_not_canceled                 -0.045638   \n",
       "13     required_car_parking_spaces                 -0.186773   \n",
       "4        arrival_date_day_of_month                 -0.001811   \n",
       "7                           babies                 -0.032443   \n",
       "11                 booking_changes                 -0.142719   \n",
       "0                      is_canceled                  1.000000   \n",
       "2                arrival_date_year                 -0.030698   \n",
       "\n",
       "    data_test_is_canceled_feature  corr_difference  \n",
       "9                       -0.032892         0.186019  \n",
       "1                        0.238382         0.090215  \n",
       "8                       -0.125593         0.085289  \n",
       "12                       0.018397         0.057462  \n",
       "14                      -0.218440         0.038694  \n",
       "5                        0.079475         0.035057  \n",
       "15                       0.036173         0.034833  \n",
       "6                        0.010626         0.027819  \n",
       "3                        0.037554         0.024803  \n",
       "10                      -0.065408         0.019771  \n",
       "13                      -0.168049         0.018723  \n",
       "4                       -0.008888         0.007077  \n",
       "7                       -0.038909         0.006466  \n",
       "11                      -0.137279         0.005440  \n",
       "0                        1.000000         0.000000  \n",
       "2                             NaN              NaN  "
      ]
     },
     "execution_count": 25,
     "metadata": {},
     "output_type": "execute_result"
    }
   ],
   "source": [
    "#Посмотрим, как коррелирует целевой признак, с остальными:\n",
    "\n",
    "# создадим 2 матрицы корреляций, и выделим целевой признак. Транспортируем таблицы, для удобного анализа\n",
    "data_corr = data.corr().iloc[1:2, 1:].transpose()\n",
    "data_test_corr = data_test.corr().iloc[1:2, 1:].transpose()\n",
    "# соединим созданные признаки\n",
    "data_and_data_test_corr = pd.concat([data_corr, data_test_corr], axis=1).reset_index()\n",
    "\n",
    "# перемименуем названия столбцов, для более понятных признаков\n",
    "data_and_data_test_corr.columns=['feature', 'data_is_canceled_feature', 'data_test_is_canceled_feature']\n",
    "\n",
    "# изучим разницу между признаками и отранжируем по убыванию разницы. Чтобы удобно было увидеть зависимость данных.\n",
    "data_and_data_test_corr['corr_difference'] = abs(data_and_data_test_corr['data_is_canceled_feature']-data_and_data_test_corr['data_test_is_canceled_feature'])\n",
    "data_and_data_test_corr.sort_values(by='corr_difference', ascending=False)"
   ]
  },
  {
   "cell_type": "markdown",
   "metadata": {},
   "source": [
    "**previous_cancellations - признак, который сильнее всего влияет на статистику.**"
   ]
  },
  {
   "cell_type": "code",
   "execution_count": 26,
   "metadata": {},
   "outputs": [],
   "source": [
    "# дополнительно удалим client_id - этот признак, тоже не повлияет на обучение модели.\n",
    "data = data.drop(['id'], axis=1)\n",
    "data_test = data_test.drop(['id'], axis=1)"
   ]
  },
  {
   "cell_type": "code",
   "execution_count": 27,
   "metadata": {},
   "outputs": [],
   "source": [
    "data = data.drop_duplicates()\n",
    "data_test = data_test.drop_duplicates()"
   ]
  },
  {
   "cell_type": "markdown",
   "metadata": {},
   "source": [
    "Изучим категориальные переменные:"
   ]
  },
  {
   "cell_type": "code",
   "execution_count": 28,
   "metadata": {
    "scrolled": false
   },
   "outputs": [
    {
     "name": "stdout",
     "output_type": "stream",
     "text": [
      "Данные для обучения: {'August', 'May', 'October', 'September', 'November', 'December', 'February', 'March', 'July', 'June', 'January', 'April'} | Данные для тестирования: {'August', 'May', 'February', 'June', 'March', 'July', 'January', 'April'}\n",
      "Множества столбцов arrival_date_month и равны: False \n",
      "\n",
      "\n",
      "Данные для обучения: {'FB       ', 'BB       ', 'HB       ', 'SC', 'SC       '} | Данные для тестирования: {'FB       ', 'BB       ', 'HB       ', 'SC', 'SC       '}\n",
      "Множества столбцов meal и равны: True \n",
      "\n",
      "\n",
      "Данные для обучения: {'STP', 'ISR', 'LBN', 'AUT', 'ATA', 'PRI', 'KAZ', 'KEN', 'JPN', 'MLI', 'COL', 'ECU', 'TZA', 'PLW', 'SVK', 'VNM', 'JAM', 'DZA', 'CYP', 'MYS', 'BGD', 'ZMB', 'NGA', 'ROU', 'SUR', 'ARG', 'BOL', 'FIN', 'UZB', 'USA', 'DNK', 'MEX', 'NAM', 'LBY', 'TJK', 'BHR', 'HRV', 'DOM', 'ZAF', 'BWA', 'DMA', 'ESP', 'NLD', 'ARM', 'ARE', 'EGY', 'DEU', 'LCA', 'AGO', 'CHN', 'GLP', 'BFA', 'ZWE', 'PAN', 'ISL', 'VEN', 'PYF', 'MDV', 'FRA', 'AUS', 'BIH', 'GAB', 'OMN', 'TUR', 'GGY', 'ETH', 'KHM', 'ITA', 'HUN', 'MCO', 'NZL', 'BLR', 'BEN', 'GRC', 'PHL', 'RUS', 'CHL', 'KOR', 'MUS', 'MLT', 'IRL', 'SLV', 'ALB', 'RWA', 'TMP', 'MAR', 'BRA', 'GUY', 'MNE', 'CUB', 'IRN', 'SAU', 'BEL', 'LIE', 'THA', 'NIC', 'IRQ', 'QAT', 'CZE', 'MOZ', 'BDI', 'CPV', 'CHE', 'IMN', 'SRB', 'LKA', 'PER', 'JEY', 'CN', 'UKR', 'URY', 'CRI', 'SGP', 'CMR', 'SMR', 'TWN', 'SWE', 'UGA', 'PRY', 'SYC', 'CYM', 'CIV', 'AND', 'PRT', 'MMR', 'SVN', 'JOR', 'NOR', 'PAK', 'GEO', 'EST', 'GNB', 'SEN', 'LTU', 'MKD', 'VGB', 'IDN', 'IND', 'HND', 'GIB', 'LUX', 'LVA', 'AZE', 'MWI', 'KWT', 'POL', 'HKG', 'BRB', 'ABW', 'GBR', 'KNA', 'SYR', 'BGR', 'MAC', 'TUN'} | Данные для тестирования: {'STP', 'FRO', 'ISR', 'LBN', 'AUT', 'ATA', 'NPL', 'PRI', 'GTM', 'UMI', 'KAZ', 'KEN', 'JPN', 'COL', 'ECU', 'TZA', 'MYT', 'SVK', 'VNM', 'JAM', 'DZA', 'MYS', 'CYP', 'BGD', 'NGA', 'ROU', 'SUR', 'ARG', 'FIN', 'UZB', 'USA', 'DNK', 'MEX', 'LBY', 'TJK', 'BHR', 'HRV', 'DOM', 'ZAF', 'NCL', 'ESP', 'NLD', 'ARE', 'EGY', 'DEU', 'AGO', 'CHN', 'ASM', 'ZWE', 'PAN', 'ISL', 'VEN', 'MRT', 'MDV', 'AUS', 'FRA', 'BIH', 'GAB', 'TUR', 'SDN', 'ETH', 'ITA', 'HUN', 'MCO', 'NZL', 'BLR', 'BEN', 'GRC', 'PHL', 'RUS', 'CHL', 'KOR', 'MLT', 'MUS', 'IRL', 'SLV', 'ALB', 'MAR', 'BRA', 'BHS', 'MNE', 'CUB', 'IRN', 'CAF', 'SAU', 'BEL', 'LIE', 'THA', 'IRQ', 'QAT', 'KIR', 'CZE', 'MOZ', 'CPV', 'CHE', 'IMN', 'SRB', 'LKA', 'PER', 'JEY', 'CN', 'UKR', 'URY', 'CRI', 'SGP', 'CMR', 'TWN', 'SWE', 'PRY', 'SYC', 'CIV', 'AND', 'PRT', 'SVN', 'GHA', 'JOR', 'NOR', 'FJI', 'PAK', 'ATF', 'LAO', 'EST', 'GNB', 'SLE', 'MDG', 'SEN', 'LTU', 'TGO', 'IDN', 'IND', 'GIB', 'LUX', 'LVA', 'AZE', 'KWT', 'POL', 'HKG', 'ABW', 'GBR', 'SYR', 'BGR', 'MAC', 'TUN'}\n",
      "Множества столбцов country и равны: False \n",
      "\n",
      "\n",
      "Данные для обучения: {'TA/TO', 'Corporate', 'GDS', 'Direct'} | Данные для тестирования: {'TA/TO', 'Corporate', 'GDS', 'Direct'}\n",
      "Множества столбцов distribution_channel и равны: True \n",
      "\n",
      "\n",
      "Данные для обучения: {'D               ', 'F               ', 'C               ', 'E               ', 'B               ', 'G               ', 'A               '} | Данные для тестирования: {'D               ', 'F               ', 'C               ', 'E               ', 'B               ', 'G               ', 'A               '}\n",
      "Множества столбцов reserved_room_type и равны: True \n",
      "\n",
      "\n",
      "Данные для обучения: {'Contract', 'Transient-Party', 'Transient', 'Group'} | Данные для тестирования: {'Contract', 'Transient-Party', 'Transient', 'Group'}\n",
      "Множества столбцов customer_type и равны: True \n",
      "\n",
      "\n"
     ]
    }
   ],
   "source": [
    "data_train_obj_columns = data.select_dtypes('object').columns\n",
    "\n",
    "for mean in data_train_obj_columns:\n",
    "    x_array = set(data[mean])\n",
    "    y_array = set(data_test[mean])\n",
    "    print('Данные для обучения:', set(x_array),'|', 'Данные для тестирования:', set(y_array))\n",
    "    \n",
    "    print(f'Множества столбцов {mean} и равны:', np.array_equal(x_array, y_array), '\\n'*2)"
   ]
  },
  {
   "cell_type": "markdown",
   "metadata": {},
   "source": [
    "Категориальные признаки отличаются друг от друга в столбцах \"arrival_date_month\" и \"country\".\n",
    " \n",
    "Поскольку столбец \"arrival_date_month\" в данных для обучения - содержит информацию за полный год (а точнее, за несколько), а тестовые данные хранят информацию за пол года. Тем не менее - это не помешает обучаться модели. А вот столбец \"country\" - требует дополнительного исследования.\n",
    "\n",
    "Но перед этим избавимся от очевидных неявных дубликатов в столбцах: meal и reserved_room_type. "
   ]
  },
  {
   "cell_type": "code",
   "execution_count": 29,
   "metadata": {},
   "outputs": [],
   "source": [
    "data['reserved_room_type'] = data['reserved_room_type'].str.strip()           # избавимся от пробелов\n",
    "data_test['reserved_room_type'] = data_test['reserved_room_type'].str.strip() # избавимся от пробелов\n",
    "\n",
    "data['meal'] = data['meal'].str.strip()\n",
    "data_test['meal'] = data_test['meal'].str.strip()"
   ]
  },
  {
   "cell_type": "markdown",
   "metadata": {},
   "source": [
    "###  Формулировка ML-задачи на основе бизнес-задачи"
   ]
  },
  {
   "cell_type": "markdown",
   "metadata": {},
   "source": [
    "#### Создадим все столбцы, необходимые для оценки прибыли."
   ]
  },
  {
   "cell_type": "code",
   "execution_count": 30,
   "metadata": {},
   "outputs": [],
   "source": [
    "# первое, что нужно сделать - это создать все необходимые поля для расчёта выручки\n",
    "def price(x):\n",
    "    '''\n",
    "    Функция рассчитывает стоимость номера исходя из его типа\n",
    "    '''\n",
    "    if x == 'A':\n",
    "        return 1000\n",
    "    elif x == 'B':\n",
    "        return 800\n",
    "    elif x == 'C':\n",
    "        return 600\n",
    "    elif x == 'D':\n",
    "        return 550 \n",
    "    elif x == 'E':\n",
    "        return 500\n",
    "    elif x == 'F':\n",
    "        return 450\n",
    "    elif x == 'G':\n",
    "        return 350\n",
    "    \n",
    "def cleaning_price(x):\n",
    "    '''\n",
    "    Функция рассчитывает стоимость разовой уборки номера исходя из его типа\n",
    "    '''\n",
    "    if x == 'A':\n",
    "        return 400\n",
    "    elif x in ['B', 'C']:\n",
    "        return 350\n",
    "    else: \n",
    "        return 150\n",
    "    \n",
    "def cleaning_counts(x):\n",
    "    '''\n",
    "    Функция рассчитывает количество уборок\n",
    "    '''\n",
    "    return (1 + floor(x / 2))\n",
    "\n",
    "def seasone_coef(x):\n",
    "    '''\n",
    "    Функция рассчитывает сезонный коеф.\n",
    "    '''\n",
    "    if x in ['June', 'July', 'August']:\n",
    "        return 1.4\n",
    "    elif x in ['December', 'January', 'February']:\n",
    "        return 1\n",
    "    else:\n",
    "        return 1.2"
   ]
  },
  {
   "cell_type": "code",
   "execution_count": 31,
   "metadata": {},
   "outputs": [],
   "source": [
    "data['room_price'] = data.reserved_room_type.apply(lambda x: price(x))\n",
    "data_test['room_price'] = data_test.reserved_room_type.apply(lambda x: price(x))\n",
    "\n",
    "data['cleaning_price'] = data.reserved_room_type.apply(lambda x1: cleaning_price(x1))\n",
    "data_test['cleaning_price'] = data_test.reserved_room_type.apply(lambda x1: cleaning_price(x1))\n",
    "\n",
    "data['cleaning_counts'] = data.total_nights.apply(lambda x2: cleaning_counts(x2))\n",
    "data_test['cleaning_counts'] = data_test.total_nights.apply(lambda x2: cleaning_counts(x2))\n",
    "\n",
    "data['seasone_coef'] = data.arrival_date_month.apply(lambda x3: seasone_coef(x3))\n",
    "data_test['seasone_coef'] = data_test.arrival_date_month.apply(lambda x3: seasone_coef(x3))"
   ]
  },
  {
   "cell_type": "code",
   "execution_count": 32,
   "metadata": {},
   "outputs": [],
   "source": [
    "def total_revenue(df):\n",
    "    '''\n",
    "    Функция расчитывает общую выручку. Если клиент отказался от бронирования, то она отрицательна.\n",
    "    '''\n",
    "    if df['is_canceled'] == 0:\n",
    "        return (df['room_price'] * df['seasone_coef'] * df['total_nights'] - df['cleaning_counts'] * df['cleaning_price'])\n",
    "    else:\n",
    "        return -(df['room_price'] * df['seasone_coef'] + df['cleaning_price'])\n",
    "\n",
    "data['total_revenue'] = data.apply(total_revenue, axis=1)\n",
    "data_test['total_revenue'] = data_test.apply(total_revenue, axis=1)"
   ]
  },
  {
   "cell_type": "markdown",
   "metadata": {},
   "source": [
    "#### Проанализируем целевую бизнес-метрику."
   ]
  },
  {
   "cell_type": "code",
   "execution_count": 33,
   "metadata": {},
   "outputs": [],
   "source": [
    "def month_converter(month):\n",
    "    '''\n",
    "    Функция определяет номер месяца.\n",
    "    '''\n",
    "    months = ['Jan', 'Feb', 'Mar', 'Apr', 'May', 'Jun', 'Jul', 'Aug', 'Sep', 'Oct', 'Nov', 'Dec']\n",
    "    return months.index(month[:3]) + 1\n",
    "\n",
    "\n",
    "def profit_statistics(data, year):\n",
    "    '''\n",
    "    Функция представляет сводную статистику о том, как изменяется выручка по месяцам\n",
    "    '''\n",
    "    data = data.query('arrival_date_year == @year')\n",
    "    data_total_revenue_per_month = (data\n",
    "                                    .pivot_table(index='arrival_date_month',\n",
    "                                                 columns='is_canceled',\n",
    "                                                 values='total_revenue',\n",
    "                                                 aggfunc='sum')\n",
    "                                    .reset_index()) # создадим свод\n",
    "    # переименуем столбцы\n",
    "    data_total_revenue_per_month.columns = ['month', 'earned', 'losed'] \n",
    "\n",
    "\n",
    "\n",
    "    # отсортируем дата-фрейм по номеру месяца\n",
    "    data_total_revenue_per_month['month_number'] = data_total_revenue_per_month.month.apply(lambda x: month_converter(x))\n",
    "    data_total_revenue_per_month = data_total_revenue_per_month.sort_values(by='month_number')\n",
    "\n",
    "    # создадим переменные для графиков\n",
    "    x = data_total_revenue_per_month['month']\n",
    "    y1 = abs(data_total_revenue_per_month['losed']/1000000)\n",
    "    y2 = data_total_revenue_per_month['earned']/1000000\n",
    "\n",
    "    # создадим и оформим график\n",
    "    plt.figure(figsize=(15, 5))\n",
    "\n",
    "    plt.plot(x, y1, color='green', marker='o')\n",
    "\n",
    "    for i, mean in enumerate(y1):\n",
    "        plt.text(i, mean+0.3, round(float(mean), 2), ha='center')\n",
    "\n",
    "    plt.bar(x, y2, color='lightblue')\n",
    "\n",
    "    for i, mean in enumerate(y2):\n",
    "        plt.text(i, mean, round(float(mean), 2), ha='center')\n",
    "\n",
    "    plt.title('Выручка и убытки в млн. руб, по месяцам. Данные для обучения')\n",
    "    plt.ylabel('Млн. руб')\n",
    "    plt.xlabel('Месяц')\n",
    "    plt.legend(['Убытки', 'Выручка'])\n",
    "\n",
    "    plt.show()\n",
    "\n",
    "\n",
    "    data_total_revenue_per_month['profit'] = data_total_revenue_per_month['earned'] + data_total_revenue_per_month['losed']\n",
    "    print('Общая вырчука за исследуемый период:', round(sum(data_total_revenue_per_month['earned']/1_000_000), 2), 'в млн. руб.')\n",
    "    print('Общая прибыль за исследуемый период:', round(sum(data_total_revenue_per_month['profit']/1_000_000), 2), 'в млн. руб.')\n",
    "    \n",
    "    data_total_revenue_per_month = data_total_revenue_per_month.sort_values(by='profit')\n",
    "    data_total_revenue_per_month = data_total_revenue_per_month[['profit', 'month']].transpose()\n",
    "    data_total_revenue_per_month.columns = data_total_revenue_per_month.loc['month'].tolist()\n",
    "    data_total_revenue_per_month = data_total_revenue_per_month.drop('month', axis=0)\n",
    "    return display(data_total_revenue_per_month)"
   ]
  },
  {
   "cell_type": "code",
   "execution_count": 34,
   "metadata": {},
   "outputs": [
    {
     "data": {
      "image/png": "[encoded data removed]",
      "text/plain": [
       "<Figure size 1500x500 with 1 Axes>"
      ]
     },
     "metadata": {},
     "output_type": "display_data"
    },
    {
     "name": "stdout",
     "output_type": "stream",
     "text": [
      "Общая вырчука за исследуемый период: 20.96 в млн. руб.\n",
      "Общая прибыль за исследуемый период: 17.98 в млн. руб.\n"
     ]
    },
    {
     "data": {
      "text/html": [
       "<div>\n",
       "<style scoped>\n",
       "    .dataframe tbody tr th:only-of-type {\n",
       "        vertical-align: middle;\n",
       "    }\n",
       "\n",
       "    .dataframe tbody tr th {\n",
       "        vertical-align: top;\n",
       "    }\n",
       "\n",
       "    .dataframe thead th {\n",
       "        text-align: right;\n",
       "    }\n",
       "</style>\n",
       "<table border=\"1\" class=\"dataframe\">\n",
       "  <thead>\n",
       "    <tr style=\"text-align: right;\">\n",
       "      <th></th>\n",
       "      <th>December</th>\n",
       "      <th>July</th>\n",
       "      <th>November</th>\n",
       "      <th>August</th>\n",
       "      <th>October</th>\n",
       "      <th>September</th>\n",
       "    </tr>\n",
       "  </thead>\n",
       "  <tbody>\n",
       "    <tr>\n",
       "      <th>profit</th>\n",
       "      <td>1804850.0</td>\n",
       "      <td>2132150.0</td>\n",
       "      <td>2258820.0</td>\n",
       "      <td>3787050.0</td>\n",
       "      <td>3839900.0</td>\n",
       "      <td>4154640.0</td>\n",
       "    </tr>\n",
       "  </tbody>\n",
       "</table>\n",
       "</div>"
      ],
      "text/plain": [
       "         December       July   November     August    October  September\n",
       "profit  1804850.0  2132150.0  2258820.0  3787050.0  3839900.0  4154640.0"
      ]
     },
     "metadata": {},
     "output_type": "display_data"
    }
   ],
   "source": [
    "profit_statistics(data, year=2015)"
   ]
  },
  {
   "cell_type": "code",
   "execution_count": 35,
   "metadata": {},
   "outputs": [
    {
     "data": {
      "image/png": "[encoded data removed]",
      "text/plain": [
       "<Figure size 1500x500 with 1 Axes>"
      ]
     },
     "metadata": {},
     "output_type": "display_data"
    },
    {
     "name": "stdout",
     "output_type": "stream",
     "text": [
      "Общая вырчука за исследуемый период: 60.4 в млн. руб.\n",
      "Общая прибыль за исследуемый период: 48.27 в млн. руб.\n"
     ]
    },
    {
     "data": {
      "text/html": [
       "<div>\n",
       "<style scoped>\n",
       "    .dataframe tbody tr th:only-of-type {\n",
       "        vertical-align: middle;\n",
       "    }\n",
       "\n",
       "    .dataframe tbody tr th {\n",
       "        vertical-align: top;\n",
       "    }\n",
       "\n",
       "    .dataframe thead th {\n",
       "        text-align: right;\n",
       "    }\n",
       "</style>\n",
       "<table border=\"1\" class=\"dataframe\">\n",
       "  <thead>\n",
       "    <tr style=\"text-align: right;\">\n",
       "      <th></th>\n",
       "      <th>January</th>\n",
       "      <th>December</th>\n",
       "      <th>February</th>\n",
       "      <th>September</th>\n",
       "      <th>October</th>\n",
       "      <th>November</th>\n",
       "      <th>April</th>\n",
       "      <th>May</th>\n",
       "      <th>March</th>\n",
       "      <th>June</th>\n",
       "      <th>August</th>\n",
       "      <th>July</th>\n",
       "    </tr>\n",
       "  </thead>\n",
       "  <tbody>\n",
       "    <tr>\n",
       "      <th>profit</th>\n",
       "      <td>1508800.0</td>\n",
       "      <td>2225850.0</td>\n",
       "      <td>2560200.0</td>\n",
       "      <td>3929830.0</td>\n",
       "      <td>4351050.0</td>\n",
       "      <td>4367760.0</td>\n",
       "      <td>4374060.0</td>\n",
       "      <td>4404220.0</td>\n",
       "      <td>4813660.0</td>\n",
       "      <td>5056100.0</td>\n",
       "      <td>5157970.0</td>\n",
       "      <td>5517260.0</td>\n",
       "    </tr>\n",
       "  </tbody>\n",
       "</table>\n",
       "</div>"
      ],
      "text/plain": [
       "          January   December   February  September    October   November  \\\n",
       "profit  1508800.0  2225850.0  2560200.0  3929830.0  4351050.0  4367760.0   \n",
       "\n",
       "            April        May      March       June     August       July  \n",
       "profit  4374060.0  4404220.0  4813660.0  5056100.0  5157970.0  5517260.0  "
      ]
     },
     "metadata": {},
     "output_type": "display_data"
    }
   ],
   "source": [
    "profit_statistics(data, year=2016)"
   ]
  },
  {
   "cell_type": "code",
   "execution_count": 36,
   "metadata": {},
   "outputs": [
    {
     "data": {
      "image/png": "[encoded data removed]",
      "text/plain": [
       "<Figure size 1500x500 with 1 Axes>"
      ]
     },
     "metadata": {},
     "output_type": "display_data"
    },
    {
     "name": "stdout",
     "output_type": "stream",
     "text": [
      "Общая вырчука за исследуемый период: 43.14 в млн. руб.\n",
      "Общая прибыль за исследуемый период: 32.61 в млн. руб.\n"
     ]
    },
    {
     "data": {
      "text/html": [
       "<div>\n",
       "<style scoped>\n",
       "    .dataframe tbody tr th:only-of-type {\n",
       "        vertical-align: middle;\n",
       "    }\n",
       "\n",
       "    .dataframe tbody tr th {\n",
       "        vertical-align: top;\n",
       "    }\n",
       "\n",
       "    .dataframe thead th {\n",
       "        text-align: right;\n",
       "    }\n",
       "</style>\n",
       "<table border=\"1\" class=\"dataframe\">\n",
       "  <thead>\n",
       "    <tr style=\"text-align: right;\">\n",
       "      <th></th>\n",
       "      <th>January</th>\n",
       "      <th>February</th>\n",
       "      <th>April</th>\n",
       "      <th>May</th>\n",
       "      <th>August</th>\n",
       "      <th>March</th>\n",
       "      <th>July</th>\n",
       "      <th>June</th>\n",
       "    </tr>\n",
       "  </thead>\n",
       "  <tbody>\n",
       "    <tr>\n",
       "      <th>profit</th>\n",
       "      <td>2285100.0</td>\n",
       "      <td>2769500.0</td>\n",
       "      <td>4246690.0</td>\n",
       "      <td>4421240.0</td>\n",
       "      <td>4454480.0</td>\n",
       "      <td>4523200.0</td>\n",
       "      <td>4849620.0</td>\n",
       "      <td>5057780.0</td>\n",
       "    </tr>\n",
       "  </tbody>\n",
       "</table>\n",
       "</div>"
      ],
      "text/plain": [
       "          January   February      April        May     August      March  \\\n",
       "profit  2285100.0  2769500.0  4246690.0  4421240.0  4454480.0  4523200.0   \n",
       "\n",
       "             July       June  \n",
       "profit  4849620.0  5057780.0  "
      ]
     },
     "metadata": {},
     "output_type": "display_data"
    }
   ],
   "source": [
    "profit_statistics(data_test, year=2017)"
   ]
  },
  {
   "cell_type": "markdown",
   "metadata": {},
   "source": [
    "Исходя из данных выше видно, что у отеля всё неплохо с выручкой. Однако, есть значимая доля убытков. Находящаясь примерно на 5-10% от общей выручки отеля.\n",
    "\n",
    "Поэтому, прибыль можно максимизировать. Сделать это можно за счёт ML-алгоритмов, один из которых будет рассмотрен дальше."
   ]
  },
  {
   "cell_type": "code",
   "execution_count": 37,
   "metadata": {},
   "outputs": [],
   "source": [
    "# после исследования данных, ненужные для обучения столбцы также можно удалить.\n",
    "data = data.drop(['arrival_date_year', 'arrival_date_month'], axis=1) \n",
    "data_test = data_test.drop(['arrival_date_year', 'arrival_date_month'], axis=1) \n",
    "\n",
    "data = data.reset_index(drop=True)\n",
    "data_test = data_test.reset_index(drop=True)"
   ]
  },
  {
   "cell_type": "markdown",
   "metadata": {},
   "source": [
    "### Разработка модели ML"
   ]
  },
  {
   "cell_type": "markdown",
   "metadata": {},
   "source": [
    "#### Выбор и обоснование метрики"
   ]
  },
  {
   "cell_type": "markdown",
   "metadata": {},
   "source": [
    "Поскольку для нас самое важное - это найти тех клиентов, кто наиболее точно откажется от брони. То больше всего подходит метрика recall. \n",
    "\n",
    "Всё дело в том, что в самом задание недостаточно информации. Мы не понимаем, как измениться выручка для тех клиентов, которые не будут отменять бронь номера, но внесли депозит. В связи с этим нам нужно минимизировать количество таких клиентов. "
   ]
  },
  {
   "cell_type": "markdown",
   "metadata": {},
   "source": [
    " #### Обучение моделей и предобработка:"
   ]
  },
  {
   "cell_type": "code",
   "execution_count": 38,
   "metadata": {},
   "outputs": [],
   "source": [
    "# выделим дополнительные дата-фреймы, на которых будем проводить предобработку для обучения.\n",
    "df = data.copy()\n",
    "df_test = data_test.copy()\n",
    "\n",
    "# выделим признаки\n",
    "target = df['is_canceled']\n",
    "features = df.drop('is_canceled', axis=1).iloc[:, :-5]\n",
    "\n",
    "target_test = df_test['is_canceled']\n",
    "features_test = df_test.drop('is_canceled', axis=1).iloc[:, :-5]"
   ]
  },
  {
   "cell_type": "code",
   "execution_count": 39,
   "metadata": {},
   "outputs": [],
   "source": [
    "num_cols = selector(dtype_exclude=[object, bool]) # опредлим числовые объекты\n",
    "cat_cols = selector(dtype_include=object)         # опредлим категориальные объекты\n",
    "\n",
    "# Методы предобработки:\n",
    "categorical_preprocessor_log = OneHotEncoder(handle_unknown='ignore')\n",
    "categorical_preprocessor_tree = OrdinalEncoder(handle_unknown='use_encoded_value', unknown_value=np.nan) \n",
    "numerical_preprocessor = StandardScaler()\n",
    "\n",
    "# создадим этап предобработки для логистической регрессии\n",
    "preprocessor_log = ColumnTransformer([\n",
    "    ('oe', categorical_preprocessor_log, cat_cols),\n",
    "    ('scaler', numerical_preprocessor, num_cols)])\n",
    "\n",
    "# создадим этап предобработки для случайного леса\n",
    "preprocessor_tree = ColumnTransformer([\n",
    "    ('ohe', categorical_preprocessor_tree, cat_cols),\n",
    "    ('scaler', numerical_preprocessor, num_cols)])"
   ]
  },
  {
   "cell_type": "code",
   "execution_count": 40,
   "metadata": {},
   "outputs": [],
   "source": [
    "# предобработаем признаки\n",
    "features_logs = preprocessor_log.fit_transform(features)\n",
    "features_trees = preprocessor_tree.fit_transform(features)"
   ]
  },
  {
   "cell_type": "code",
   "execution_count": 41,
   "metadata": {},
   "outputs": [],
   "source": [
    "dict_of_resuts_logs_models = {}\n",
    "\n",
    "# протестим 5 случайных моделей (пока не получим 5 результатов)\n",
    "for pen in ['l1', 'l2', None, 'elasticnet']:\n",
    "    for solv in ['lbfgs', 'liblinear']:\n",
    "        model_log = LogisticRegression(class_weight = 'balanced',\n",
    "                                                   penalty=pen,\n",
    "                                                   solver=solv,\n",
    "                                                   random_state=12345)\n",
    "                \n",
    "        result_log = cross_val_score(model_log, features_trees, target, cv=5, scoring='recall')\n",
    "        results_log = np.mean(result_log)\n",
    "        dict_of_resuts_logs_models.update({model_log: results_log})"
   ]
  },
  {
   "cell_type": "code",
   "execution_count": 42,
   "metadata": {},
   "outputs": [
    {
     "data": {
      "text/plain": [
       "{LogisticRegression(class_weight='balanced', penalty='l1', random_state=12345): nan,\n",
       " LogisticRegression(class_weight='balanced', penalty='l1', random_state=12345,\n",
       "                    solver='liblinear'): 0.637927927927928,\n",
       " LogisticRegression(class_weight='balanced', random_state=12345): 0.6406306306306305,\n",
       " LogisticRegression(class_weight='balanced', random_state=12345,\n",
       "                    solver='liblinear'): 0.637927927927928,\n",
       " LogisticRegression(class_weight='balanced', penalty=None, random_state=12345): nan,\n",
       " LogisticRegression(class_weight='balanced', penalty=None, random_state=12345,\n",
       "                    solver='liblinear'): nan,\n",
       " LogisticRegression(class_weight='balanced', penalty='elasticnet',\n",
       "                    random_state=12345): nan,\n",
       " LogisticRegression(class_weight='balanced', penalty='elasticnet',\n",
       "                    random_state=12345, solver='liblinear'): nan}"
      ]
     },
     "execution_count": 42,
     "metadata": {},
     "output_type": "execute_result"
    }
   ],
   "source": [
    "dict_of_resuts_logs_models"
   ]
  },
  {
   "cell_type": "code",
   "execution_count": 43,
   "metadata": {},
   "outputs": [],
   "source": [
    "dict_of_resuts_trees_models = {}\n",
    "\n",
    "for n_e in [50, 100, 150]:\n",
    "    for depth in [5, 10, 15]:\n",
    "        model_tree = RandomForestClassifier(class_weight = 'balanced', n_estimators = n_e, max_depth = depth,\n",
    "                                                                             random_state=12345)\n",
    "        \n",
    "        results_tree = np.mean(cross_val_score(model_tree, features_trees, target, cv=5, scoring='recall'))\n",
    "        dict_of_resuts_trees_models.update({model_tree: results_tree})"
   ]
  },
  {
   "cell_type": "code",
   "execution_count": 44,
   "metadata": {},
   "outputs": [
    {
     "data": {
      "text/plain": [
       "{RandomForestClassifier(class_weight='balanced', max_depth=5, n_estimators=50,\n",
       "                        random_state=12345): 0.5553153153153153,\n",
       " RandomForestClassifier(class_weight='balanced', max_depth=10, n_estimators=50,\n",
       "                        random_state=12345): 0.45099099099099105,\n",
       " RandomForestClassifier(class_weight='balanced', max_depth=15, n_estimators=50,\n",
       "                        random_state=12345): 0.3524324324324325,\n",
       " RandomForestClassifier(class_weight='balanced', max_depth=5, random_state=12345): 0.5671171171171172,\n",
       " RandomForestClassifier(class_weight='balanced', max_depth=10,\n",
       "                        random_state=12345): 0.45657657657657663,\n",
       " RandomForestClassifier(class_weight='balanced', max_depth=15,\n",
       "                        random_state=12345): 0.35081081081081084,\n",
       " RandomForestClassifier(class_weight='balanced', max_depth=5, n_estimators=150,\n",
       "                        random_state=12345): 0.5676576576576576,\n",
       " RandomForestClassifier(class_weight='balanced', max_depth=10, n_estimators=150,\n",
       "                        random_state=12345): 0.44585585585585585,\n",
       " RandomForestClassifier(class_weight='balanced', max_depth=15, n_estimators=150,\n",
       "                        random_state=12345): 0.348018018018018}"
      ]
     },
     "execution_count": 44,
     "metadata": {},
     "output_type": "execute_result"
    }
   ],
   "source": [
    "dict_of_resuts_trees_models"
   ]
  },
  {
   "cell_type": "markdown",
   "metadata": {},
   "source": [
    "Лучшая модель в данном случае - модель логистической регресии со следующим набором гиперпараметров:\n",
    "    \n",
    "    -  LogisticRegression(class_weight='balanced', penalty='l1', random_state=12345,\n",
    "                    solver='liblinear')\n",
    "    \n",
    "Теперь применим лучшую модель к тестовой выборке выборке и оценим насколько же изменится прибыль отеля. "
   ]
  },
  {
   "cell_type": "markdown",
   "metadata": {},
   "source": [
    "#### Оценка изменения целевой метрики после внедрения модели (за 2017 год):"
   ]
  },
  {
   "cell_type": "code",
   "execution_count": 45,
   "metadata": {},
   "outputs": [],
   "source": [
    "# подготовим признаки \n",
    "features_test_log = preprocessor_log.fit_transform(features_test)"
   ]
  },
  {
   "cell_type": "code",
   "execution_count": 48,
   "metadata": {},
   "outputs": [
    {
     "name": "stdout",
     "output_type": "stream",
     "text": [
      "Прибыль отеля за 2017 год увеличится на: 2093493.2\n"
     ]
    }
   ],
   "source": [
    "def result_revenue_score(y_true, y_pred, **kwargs):\n",
    "    '''\n",
    "    Принцип работы функции:\n",
    "        1) Считается выручка до внедрения модели\n",
    "        2) функия оценивает индексы, по которым был действительно предсказан отказ (отбирает индексы);\n",
    "        3) По индексами отбираем данные в тестовом фрейме и считает выручку с внедрения депозитов; \n",
    "        4) Далее отбираются остальные данные и считается выручка по ним\n",
    "        5) Затем считается разница и вычитается себестоимость модели.\n",
    "    '''\n",
    "\n",
    "    BUDGET_FOR_MODEL = 400_000\n",
    "    target_indexes = [i for i in range(len(y_pred)) if y_pred[i] == 1]\n",
    "    \n",
    "    model_selections_true = df_test[(df_test.index.isin(target_indexes)) & (df_test['is_canceled'] == 1)]\n",
    "    \n",
    "    deposite_profit = abs(sum(model_selections_true['total_revenue'])*0.8)\n",
    "\n",
    "    other_data = df_test[~df_test.index.isin(model_selections_true.index)]\n",
    "    \n",
    "    revenue_before = df_test['total_revenue'].sum()\n",
    "    \n",
    "    revenue_after = deposite_profit + other_data['total_revenue'].sum()\n",
    "    \n",
    "    net_profit = abs((revenue_before - (revenue_after - BUDGET_FOR_MODEL)))\n",
    "    return net_profit\n",
    "\n",
    "# переведём функцию в метрику:\n",
    "my_scorer = make_scorer(result_revenue_score, greater_is_better=True)\n",
    "\n",
    "model_log = LogisticRegression(class_weight='balanced', penalty='l1', random_state=12345, solver='liblinear')\n",
    "\n",
    "result = np.mean(cross_val_score(model_log, features_test_log, target_test, cv=5, scoring=my_scorer))\n",
    "print('Прибыль отеля за 2017 год увеличится на:', result)"
   ]
  },
  {
   "cell_type": "markdown",
   "metadata": {},
   "source": [
    "### Портрет «ненадёжного» клиента"
   ]
  },
  {
   "cell_type": "code",
   "execution_count": 49,
   "metadata": {},
   "outputs": [],
   "source": [
    "# Для того, чтобы описать портрет \"ненадёжного клиента\", \n",
    "# необходимо оценить кого именно, модель идентифицирует как такого клиента Для этого применим метод cross_val_predict\n",
    "scores = cross_val_predict(model_log, features_test_log, target_test, cv=5)"
   ]
  },
  {
   "cell_type": "code",
   "execution_count": 50,
   "metadata": {},
   "outputs": [],
   "source": [
    "target_indexes = [i for i in range(len(scores)) if scores[i] == 1]\n",
    "\n",
    "unreliable_clients_data = df_test[(df_test.index.isin(target_indexes)) & (df_test['is_canceled'] == 1)]"
   ]
  },
  {
   "cell_type": "code",
   "execution_count": 60,
   "metadata": {},
   "outputs": [
    {
     "data": {
      "text/html": [
       "<div>\n",
       "<style scoped>\n",
       "    .dataframe tbody tr th:only-of-type {\n",
       "        vertical-align: middle;\n",
       "    }\n",
       "\n",
       "    .dataframe tbody tr th {\n",
       "        vertical-align: top;\n",
       "    }\n",
       "\n",
       "    .dataframe thead th {\n",
       "        text-align: right;\n",
       "    }\n",
       "</style>\n",
       "<table border=\"1\" class=\"dataframe\">\n",
       "  <thead>\n",
       "    <tr style=\"text-align: right;\">\n",
       "      <th></th>\n",
       "      <th>is_canceled</th>\n",
       "      <th>lead_time</th>\n",
       "      <th>arrival_date_week_number</th>\n",
       "      <th>arrival_date_day_of_month</th>\n",
       "      <th>adults</th>\n",
       "      <th>children</th>\n",
       "      <th>babies</th>\n",
       "      <th>meal</th>\n",
       "      <th>country</th>\n",
       "      <th>distribution_channel</th>\n",
       "      <th>is_repeated_guest</th>\n",
       "      <th>previous_cancellations</th>\n",
       "      <th>previous_bookings_not_canceled</th>\n",
       "      <th>reserved_room_type</th>\n",
       "      <th>booking_changes</th>\n",
       "      <th>days_in_waiting_list</th>\n",
       "      <th>customer_type</th>\n",
       "      <th>required_car_parking_spaces</th>\n",
       "      <th>total_of_special_requests</th>\n",
       "      <th>total_nights</th>\n",
       "      <th>room_price</th>\n",
       "      <th>cleaning_price</th>\n",
       "      <th>cleaning_counts</th>\n",
       "      <th>seasone_coef</th>\n",
       "      <th>total_revenue</th>\n",
       "    </tr>\n",
       "  </thead>\n",
       "  <tbody>\n",
       "    <tr>\n",
       "      <th>0</th>\n",
       "      <td>1</td>\n",
       "      <td>74.0</td>\n",
       "      <td>1</td>\n",
       "      <td>1</td>\n",
       "      <td>2.0</td>\n",
       "      <td>0.0</td>\n",
       "      <td>0.0</td>\n",
       "      <td>BB</td>\n",
       "      <td>PRT</td>\n",
       "      <td>TA/TO</td>\n",
       "      <td>0</td>\n",
       "      <td>0</td>\n",
       "      <td>0</td>\n",
       "      <td>A</td>\n",
       "      <td>0</td>\n",
       "      <td>0</td>\n",
       "      <td>Transient</td>\n",
       "      <td>0</td>\n",
       "      <td>0</td>\n",
       "      <td>1</td>\n",
       "      <td>1000</td>\n",
       "      <td>400</td>\n",
       "      <td>1</td>\n",
       "      <td>1.0</td>\n",
       "      <td>-1400.0</td>\n",
       "    </tr>\n",
       "    <tr>\n",
       "      <th>2</th>\n",
       "      <td>1</td>\n",
       "      <td>71.0</td>\n",
       "      <td>1</td>\n",
       "      <td>1</td>\n",
       "      <td>1.0</td>\n",
       "      <td>0.0</td>\n",
       "      <td>0.0</td>\n",
       "      <td>BB</td>\n",
       "      <td>PRT</td>\n",
       "      <td>TA/TO</td>\n",
       "      <td>0</td>\n",
       "      <td>0</td>\n",
       "      <td>0</td>\n",
       "      <td>A</td>\n",
       "      <td>0</td>\n",
       "      <td>0</td>\n",
       "      <td>Transient</td>\n",
       "      <td>0</td>\n",
       "      <td>1</td>\n",
       "      <td>4</td>\n",
       "      <td>1000</td>\n",
       "      <td>400</td>\n",
       "      <td>3</td>\n",
       "      <td>1.0</td>\n",
       "      <td>-1400.0</td>\n",
       "    </tr>\n",
       "    <tr>\n",
       "      <th>3</th>\n",
       "      <td>1</td>\n",
       "      <td>172.0</td>\n",
       "      <td>1</td>\n",
       "      <td>1</td>\n",
       "      <td>2.0</td>\n",
       "      <td>0.0</td>\n",
       "      <td>0.0</td>\n",
       "      <td>BB</td>\n",
       "      <td>BEL</td>\n",
       "      <td>TA/TO</td>\n",
       "      <td>0</td>\n",
       "      <td>0</td>\n",
       "      <td>0</td>\n",
       "      <td>A</td>\n",
       "      <td>0</td>\n",
       "      <td>0</td>\n",
       "      <td>Transient</td>\n",
       "      <td>0</td>\n",
       "      <td>0</td>\n",
       "      <td>7</td>\n",
       "      <td>1000</td>\n",
       "      <td>400</td>\n",
       "      <td>4</td>\n",
       "      <td>1.0</td>\n",
       "      <td>-1400.0</td>\n",
       "    </tr>\n",
       "    <tr>\n",
       "      <th>6</th>\n",
       "      <td>1</td>\n",
       "      <td>21.0</td>\n",
       "      <td>1</td>\n",
       "      <td>2</td>\n",
       "      <td>2.0</td>\n",
       "      <td>0.0</td>\n",
       "      <td>0.0</td>\n",
       "      <td>BB</td>\n",
       "      <td>BRA</td>\n",
       "      <td>TA/TO</td>\n",
       "      <td>0</td>\n",
       "      <td>0</td>\n",
       "      <td>0</td>\n",
       "      <td>A</td>\n",
       "      <td>0</td>\n",
       "      <td>0</td>\n",
       "      <td>Transient</td>\n",
       "      <td>0</td>\n",
       "      <td>1</td>\n",
       "      <td>4</td>\n",
       "      <td>1000</td>\n",
       "      <td>400</td>\n",
       "      <td>3</td>\n",
       "      <td>1.0</td>\n",
       "      <td>-1400.0</td>\n",
       "    </tr>\n",
       "    <tr>\n",
       "      <th>7</th>\n",
       "      <td>1</td>\n",
       "      <td>89.0</td>\n",
       "      <td>1</td>\n",
       "      <td>2</td>\n",
       "      <td>2.0</td>\n",
       "      <td>0.0</td>\n",
       "      <td>0.0</td>\n",
       "      <td>BB</td>\n",
       "      <td>GBR</td>\n",
       "      <td>TA/TO</td>\n",
       "      <td>0</td>\n",
       "      <td>0</td>\n",
       "      <td>0</td>\n",
       "      <td>E</td>\n",
       "      <td>0</td>\n",
       "      <td>0</td>\n",
       "      <td>Transient</td>\n",
       "      <td>0</td>\n",
       "      <td>0</td>\n",
       "      <td>4</td>\n",
       "      <td>500</td>\n",
       "      <td>150</td>\n",
       "      <td>3</td>\n",
       "      <td>1.0</td>\n",
       "      <td>-650.0</td>\n",
       "    </tr>\n",
       "    <tr>\n",
       "      <th>...</th>\n",
       "      <td>...</td>\n",
       "      <td>...</td>\n",
       "      <td>...</td>\n",
       "      <td>...</td>\n",
       "      <td>...</td>\n",
       "      <td>...</td>\n",
       "      <td>...</td>\n",
       "      <td>...</td>\n",
       "      <td>...</td>\n",
       "      <td>...</td>\n",
       "      <td>...</td>\n",
       "      <td>...</td>\n",
       "      <td>...</td>\n",
       "      <td>...</td>\n",
       "      <td>...</td>\n",
       "      <td>...</td>\n",
       "      <td>...</td>\n",
       "      <td>...</td>\n",
       "      <td>...</td>\n",
       "      <td>...</td>\n",
       "      <td>...</td>\n",
       "      <td>...</td>\n",
       "      <td>...</td>\n",
       "      <td>...</td>\n",
       "      <td>...</td>\n",
       "    </tr>\n",
       "    <tr>\n",
       "      <th>12620</th>\n",
       "      <td>1</td>\n",
       "      <td>218.0</td>\n",
       "      <td>35</td>\n",
       "      <td>31</td>\n",
       "      <td>3.0</td>\n",
       "      <td>0.0</td>\n",
       "      <td>0.0</td>\n",
       "      <td>BB</td>\n",
       "      <td>RUS</td>\n",
       "      <td>TA/TO</td>\n",
       "      <td>0</td>\n",
       "      <td>0</td>\n",
       "      <td>0</td>\n",
       "      <td>D</td>\n",
       "      <td>0</td>\n",
       "      <td>0</td>\n",
       "      <td>Transient</td>\n",
       "      <td>0</td>\n",
       "      <td>0</td>\n",
       "      <td>7</td>\n",
       "      <td>550</td>\n",
       "      <td>150</td>\n",
       "      <td>4</td>\n",
       "      <td>1.4</td>\n",
       "      <td>-920.0</td>\n",
       "    </tr>\n",
       "    <tr>\n",
       "      <th>12682</th>\n",
       "      <td>1</td>\n",
       "      <td>20.0</td>\n",
       "      <td>28</td>\n",
       "      <td>11</td>\n",
       "      <td>1.0</td>\n",
       "      <td>0.0</td>\n",
       "      <td>0.0</td>\n",
       "      <td>BB</td>\n",
       "      <td>PRT</td>\n",
       "      <td>Corporate</td>\n",
       "      <td>1</td>\n",
       "      <td>3</td>\n",
       "      <td>7</td>\n",
       "      <td>A</td>\n",
       "      <td>0</td>\n",
       "      <td>0</td>\n",
       "      <td>Transient</td>\n",
       "      <td>0</td>\n",
       "      <td>0</td>\n",
       "      <td>1</td>\n",
       "      <td>1000</td>\n",
       "      <td>400</td>\n",
       "      <td>1</td>\n",
       "      <td>1.4</td>\n",
       "      <td>-1800.0</td>\n",
       "    </tr>\n",
       "    <tr>\n",
       "      <th>12813</th>\n",
       "      <td>1</td>\n",
       "      <td>4.0</td>\n",
       "      <td>24</td>\n",
       "      <td>11</td>\n",
       "      <td>1.0</td>\n",
       "      <td>0.0</td>\n",
       "      <td>0.0</td>\n",
       "      <td>BB</td>\n",
       "      <td>PRT</td>\n",
       "      <td>Corporate</td>\n",
       "      <td>1</td>\n",
       "      <td>2</td>\n",
       "      <td>1</td>\n",
       "      <td>D</td>\n",
       "      <td>0</td>\n",
       "      <td>0</td>\n",
       "      <td>Transient</td>\n",
       "      <td>0</td>\n",
       "      <td>0</td>\n",
       "      <td>4</td>\n",
       "      <td>550</td>\n",
       "      <td>150</td>\n",
       "      <td>3</td>\n",
       "      <td>1.4</td>\n",
       "      <td>-920.0</td>\n",
       "    </tr>\n",
       "    <tr>\n",
       "      <th>12814</th>\n",
       "      <td>1</td>\n",
       "      <td>8.0</td>\n",
       "      <td>24</td>\n",
       "      <td>17</td>\n",
       "      <td>1.0</td>\n",
       "      <td>0.0</td>\n",
       "      <td>0.0</td>\n",
       "      <td>BB</td>\n",
       "      <td>PRT</td>\n",
       "      <td>Corporate</td>\n",
       "      <td>1</td>\n",
       "      <td>2</td>\n",
       "      <td>1</td>\n",
       "      <td>D</td>\n",
       "      <td>0</td>\n",
       "      <td>0</td>\n",
       "      <td>Transient</td>\n",
       "      <td>0</td>\n",
       "      <td>0</td>\n",
       "      <td>4</td>\n",
       "      <td>550</td>\n",
       "      <td>150</td>\n",
       "      <td>3</td>\n",
       "      <td>1.4</td>\n",
       "      <td>-920.0</td>\n",
       "    </tr>\n",
       "    <tr>\n",
       "      <th>12829</th>\n",
       "      <td>1</td>\n",
       "      <td>194.0</td>\n",
       "      <td>21</td>\n",
       "      <td>25</td>\n",
       "      <td>2.0</td>\n",
       "      <td>0.0</td>\n",
       "      <td>0.0</td>\n",
       "      <td>BB</td>\n",
       "      <td>PRT</td>\n",
       "      <td>Direct</td>\n",
       "      <td>1</td>\n",
       "      <td>1</td>\n",
       "      <td>1</td>\n",
       "      <td>D</td>\n",
       "      <td>0</td>\n",
       "      <td>0</td>\n",
       "      <td>Transient</td>\n",
       "      <td>0</td>\n",
       "      <td>0</td>\n",
       "      <td>3</td>\n",
       "      <td>550</td>\n",
       "      <td>150</td>\n",
       "      <td>2</td>\n",
       "      <td>1.2</td>\n",
       "      <td>-810.0</td>\n",
       "    </tr>\n",
       "  </tbody>\n",
       "</table>\n",
       "<p>5285 rows × 25 columns</p>\n",
       "</div>"
      ],
      "text/plain": [
       "       is_canceled  lead_time  arrival_date_week_number  \\\n",
       "0                1       74.0                         1   \n",
       "2                1       71.0                         1   \n",
       "3                1      172.0                         1   \n",
       "6                1       21.0                         1   \n",
       "7                1       89.0                         1   \n",
       "...            ...        ...                       ...   \n",
       "12620            1      218.0                        35   \n",
       "12682            1       20.0                        28   \n",
       "12813            1        4.0                        24   \n",
       "12814            1        8.0                        24   \n",
       "12829            1      194.0                        21   \n",
       "\n",
       "       arrival_date_day_of_month  adults  children  babies meal country  \\\n",
       "0                              1     2.0       0.0     0.0   BB     PRT   \n",
       "2                              1     1.0       0.0     0.0   BB     PRT   \n",
       "3                              1     2.0       0.0     0.0   BB     BEL   \n",
       "6                              2     2.0       0.0     0.0   BB     BRA   \n",
       "7                              2     2.0       0.0     0.0   BB     GBR   \n",
       "...                          ...     ...       ...     ...  ...     ...   \n",
       "12620                         31     3.0       0.0     0.0   BB     RUS   \n",
       "12682                         11     1.0       0.0     0.0   BB     PRT   \n",
       "12813                         11     1.0       0.0     0.0   BB     PRT   \n",
       "12814                         17     1.0       0.0     0.0   BB     PRT   \n",
       "12829                         25     2.0       0.0     0.0   BB     PRT   \n",
       "\n",
       "      distribution_channel  is_repeated_guest  previous_cancellations  \\\n",
       "0                    TA/TO                  0                       0   \n",
       "2                    TA/TO                  0                       0   \n",
       "3                    TA/TO                  0                       0   \n",
       "6                    TA/TO                  0                       0   \n",
       "7                    TA/TO                  0                       0   \n",
       "...                    ...                ...                     ...   \n",
       "12620                TA/TO                  0                       0   \n",
       "12682            Corporate                  1                       3   \n",
       "12813            Corporate                  1                       2   \n",
       "12814            Corporate                  1                       2   \n",
       "12829               Direct                  1                       1   \n",
       "\n",
       "       previous_bookings_not_canceled reserved_room_type  booking_changes  \\\n",
       "0                                   0                  A                0   \n",
       "2                                   0                  A                0   \n",
       "3                                   0                  A                0   \n",
       "6                                   0                  A                0   \n",
       "7                                   0                  E                0   \n",
       "...                               ...                ...              ...   \n",
       "12620                               0                  D                0   \n",
       "12682                               7                  A                0   \n",
       "12813                               1                  D                0   \n",
       "12814                               1                  D                0   \n",
       "12829                               1                  D                0   \n",
       "\n",
       "       days_in_waiting_list customer_type  required_car_parking_spaces  \\\n",
       "0                         0     Transient                            0   \n",
       "2                         0     Transient                            0   \n",
       "3                         0     Transient                            0   \n",
       "6                         0     Transient                            0   \n",
       "7                         0     Transient                            0   \n",
       "...                     ...           ...                          ...   \n",
       "12620                     0     Transient                            0   \n",
       "12682                     0     Transient                            0   \n",
       "12813                     0     Transient                            0   \n",
       "12814                     0     Transient                            0   \n",
       "12829                     0     Transient                            0   \n",
       "\n",
       "       total_of_special_requests  total_nights  room_price  cleaning_price  \\\n",
       "0                              0             1        1000             400   \n",
       "2                              1             4        1000             400   \n",
       "3                              0             7        1000             400   \n",
       "6                              1             4        1000             400   \n",
       "7                              0             4         500             150   \n",
       "...                          ...           ...         ...             ...   \n",
       "12620                          0             7         550             150   \n",
       "12682                          0             1        1000             400   \n",
       "12813                          0             4         550             150   \n",
       "12814                          0             4         550             150   \n",
       "12829                          0             3         550             150   \n",
       "\n",
       "       cleaning_counts  seasone_coef  total_revenue  \n",
       "0                    1           1.0        -1400.0  \n",
       "2                    3           1.0        -1400.0  \n",
       "3                    4           1.0        -1400.0  \n",
       "6                    3           1.0        -1400.0  \n",
       "7                    3           1.0         -650.0  \n",
       "...                ...           ...            ...  \n",
       "12620                4           1.4         -920.0  \n",
       "12682                1           1.4        -1800.0  \n",
       "12813                3           1.4         -920.0  \n",
       "12814                3           1.4         -920.0  \n",
       "12829                2           1.2         -810.0  \n",
       "\n",
       "[5285 rows x 25 columns]"
      ]
     },
     "execution_count": 60,
     "metadata": {},
     "output_type": "execute_result"
    }
   ],
   "source": [
    "unreliable_clients_data"
   ]
  },
  {
   "cell_type": "code",
   "execution_count": 51,
   "metadata": {},
   "outputs": [
    {
     "data": {
      "text/plain": [
       "142.0399169921875"
      ]
     },
     "execution_count": 51,
     "metadata": {},
     "output_type": "execute_result"
    }
   ],
   "source": [
    "unreliable_clients_data.lead_time.mean()"
   ]
  },
  {
   "cell_type": "code",
   "execution_count": 52,
   "metadata": {},
   "outputs": [
    {
     "data": {
      "text/plain": [
       "2.0"
      ]
     },
     "execution_count": 52,
     "metadata": {},
     "output_type": "execute_result"
    }
   ],
   "source": [
    "round(unreliable_clients_data.adults.mean(), 0)"
   ]
  },
  {
   "cell_type": "code",
   "execution_count": 53,
   "metadata": {},
   "outputs": [
    {
     "data": {
      "text/plain": [
       "PRT    1597\n",
       "GBR     497\n",
       "FRA     423\n",
       "ESP     403\n",
       "ITA     298\n",
       "Name: country, dtype: int64"
      ]
     },
     "execution_count": 53,
     "metadata": {},
     "output_type": "execute_result"
    }
   ],
   "source": [
    "unreliable_clients_data.country.value_counts().head(5)"
   ]
  },
  {
   "cell_type": "code",
   "execution_count": 54,
   "metadata": {},
   "outputs": [
    {
     "data": {
      "text/plain": [
       "0.0"
      ]
     },
     "execution_count": 54,
     "metadata": {},
     "output_type": "execute_result"
    }
   ],
   "source": [
    "round(unreliable_clients_data.children.mean(), 0)"
   ]
  },
  {
   "cell_type": "code",
   "execution_count": 55,
   "metadata": {},
   "outputs": [
    {
     "data": {
      "text/plain": [
       "0.0"
      ]
     },
     "execution_count": 55,
     "metadata": {},
     "output_type": "execute_result"
    }
   ],
   "source": [
    "round(unreliable_clients_data.babies.mean(), 0)"
   ]
  },
  {
   "cell_type": "code",
   "execution_count": 56,
   "metadata": {},
   "outputs": [
    {
     "data": {
      "text/plain": [
       "3.6442762535477766"
      ]
     },
     "execution_count": 56,
     "metadata": {},
     "output_type": "execute_result"
    }
   ],
   "source": [
    "unreliable_clients_data.total_nights.mean()"
   ]
  },
  {
   "cell_type": "code",
   "execution_count": 57,
   "metadata": {},
   "outputs": [
    {
     "data": {
      "text/plain": [
       "Transient          5195\n",
       "Transient-Party      73\n",
       "Contract             17\n",
       "Name: customer_type, dtype: int64"
      ]
     },
     "execution_count": 57,
     "metadata": {},
     "output_type": "execute_result"
    }
   ],
   "source": [
    "unreliable_clients_data.customer_type.value_counts().head(5)"
   ]
  },
  {
   "cell_type": "code",
   "execution_count": 58,
   "metadata": {},
   "outputs": [
    {
     "data": {
      "text/plain": [
       "0.0017029328287606433"
      ]
     },
     "execution_count": 58,
     "metadata": {},
     "output_type": "execute_result"
    }
   ],
   "source": [
    "unreliable_clients_data.is_repeated_guest.mean()"
   ]
  },
  {
   "cell_type": "code",
   "execution_count": 59,
   "metadata": {},
   "outputs": [
    {
     "data": {
      "text/plain": [
       "A    3344\n",
       "D    1352\n",
       "E     353\n",
       "F     107\n",
       "G      80\n",
       "Name: reserved_room_type, dtype: int64"
      ]
     },
     "execution_count": 59,
     "metadata": {},
     "output_type": "execute_result"
    }
   ],
   "source": [
    "unreliable_clients_data.reserved_room_type.value_counts().head(5)"
   ]
  },
  {
   "cell_type": "markdown",
   "metadata": {},
   "source": [
    "Портрет ненадёжного клиента:\n",
    "    \n",
    "    1) большое количество дней между датой бронирования и датой прибытия ~ 140 дней;\n",
    "    2) бронирует 2 взрослых;\n",
    "    3) Из следующего списка стран: ['PRT', 'GBR', 'FRA', 'ESP', 'ITA']\n",
    "    4) Нет детей и нет младенцев;\n",
    "    5) Летят на 3-4 ночи;\n",
    "    6) Тип-заказчика Transient;\n",
    "    7) Гость летит в первый раз;\n",
    "    8) Бронируют номера класса A или D."
   ]
  },
  {
   "cell_type": "markdown",
   "metadata": {},
   "source": [
    "### Шаг 6. Напишите общий вывод"
   ]
  },
  {
   "cell_type": "markdown",
   "metadata": {},
   "source": [
    "Проект состоял из 5 частей:\n",
    "    \n",
    "    1) Загрузка и выгрузка данных;\n",
    "    2) Предобработка и исследовательский анализ данных;\n",
    "    3) Вычисление бизнес-метрик;\n",
    "    4) Разработка ML-модели;\n",
    "    5) Выявление признака «ненадёжного» клиента;\n",
    "\n",
    "В результате первого этапа были загружены данные, которые будут обрабатываться.\n",
    "\n",
    "В результате второго этапа была проведена предобработка и исследовательский анализ данных.\n",
    "На этапе предобработки не было выявлено серьёзных отклонений. Были изменены только типы данных.\n",
    "На этапе исследовательского анализа данных, как количественные, так и качественные признаки были изучены, были исследованы корреляции признаков, найдены статистчиеские выбросы, артефкаты, явные и неявные дубликаты. Данные были очищены и подготовлены к дальнейшему анализу.\n",
    "\n",
    "В третьем этапе требовалось изучить бизнес-метрику, в качестве бизнес-метрик, были выявлены: выручка и прибыль отеля. Были построены графики, показывающие прибыль отеля по годам. Было видно, что на отмену бронирования отели тратят 5-10% от оборота. Это достаточно большая сумма, которую хотелось умешнить. Поэтому была поставлена задача разработки ML-модели.\n",
    "\n",
    "В четвертом этапе была выбрана целевая метрика для оценки модели - плотность. Метрика была выбрана, поскольку нам не дана полная информация о том, что происходит с клинетами, которым модель сказала вносить депозит, но они не отменили заказ. В связи с этим, количество правильных ответов - наиболее важный показатель, именно он защащет от нас \"неопределённости\", которая возникает, когда мы требуем внести депозит для надёжного клиента.\n",
    "Для реализации моделей было сделано 2 пайплайна обработки данных, для \"деревянных\" и для \"недеревянных\" моделей. Было исследовано 2 модели из трёх, которые мы проходили. \n",
    "Отобрана лучшая модель -  LogisticRegression(class_weight='balanced', penalty='l1', random_state=12345, solver='liblinear').\n",
    "Внедрение этой модели поможет заработать отелю дополнительные 2.8 млн. прибыли. Для оценки этой модели уже была разработана собственная функция оценки прибыли.\n",
    "\n",
    "Заключающим этапом стала оценка \"ненадёжного клиента\". Ненадёжные клинеты характризируются следующим набором параметров:\n",
    "    \n",
    "    1) большое количество дней между датой бронирования и датой прибытия ~ 140 дней;\n",
    "    2) бронирует 2 взрослых;\n",
    "    3) Из следующего списка стран: ['PRT', 'GBR', 'FRA', 'ESP', 'ITA']\n",
    "    4) Нет детей и нет младенцев;\n",
    "    5) Летят на 3-4 ночи;\n",
    "    6) Тип-заказчика Transient;\n",
    "    7) Гость летит в первый раз;\n",
    "    8) Бронируют номера класса A или D."
   ]
  }
 ],
 "metadata": {
  "ExecuteTimeLog": [
   {
    "duration": 48,
    "start_time": "2023-02-28T16:46:44.388Z"
   },
   {
    "duration": 403,
    "start_time": "2023-02-28T16:46:45.869Z"
   },
   {
    "duration": 854,
    "start_time": "2023-02-28T16:46:46.274Z"
   },
   {
    "duration": 420,
    "start_time": "2023-02-28T16:47:19.841Z"
   },
   {
    "duration": 698,
    "start_time": "2023-02-28T16:47:38.207Z"
   },
   {
    "duration": 29,
    "start_time": "2023-02-28T16:48:07.369Z"
   },
   {
    "duration": 251,
    "start_time": "2023-02-28T16:49:03.123Z"
   },
   {
    "duration": 50,
    "start_time": "2023-02-28T16:49:09.467Z"
   },
   {
    "duration": 37,
    "start_time": "2023-02-28T16:49:23.205Z"
   },
   {
    "duration": 5,
    "start_time": "2023-02-28T16:53:18.923Z"
   },
   {
    "duration": 6,
    "start_time": "2023-02-28T16:53:26.006Z"
   },
   {
    "duration": 45,
    "start_time": "2023-02-28T16:53:31.507Z"
   },
   {
    "duration": 5,
    "start_time": "2023-02-28T16:53:38.289Z"
   },
   {
    "duration": 23,
    "start_time": "2023-02-28T16:53:43.161Z"
   },
   {
    "duration": 5,
    "start_time": "2023-02-28T16:53:50.894Z"
   },
   {
    "duration": 238,
    "start_time": "2023-02-28T16:57:49.662Z"
   },
   {
    "duration": 51,
    "start_time": "2023-02-28T16:57:57.291Z"
   },
   {
    "duration": 35,
    "start_time": "2023-02-28T16:59:33.689Z"
   },
   {
    "duration": 2,
    "start_time": "2023-02-28T17:01:20.526Z"
   },
   {
    "duration": 10,
    "start_time": "2023-02-28T17:09:17.412Z"
   },
   {
    "duration": 539,
    "start_time": "2023-02-28T17:09:24.156Z"
   },
   {
    "duration": 11704,
    "start_time": "2023-02-28T17:09:36.973Z"
   },
   {
    "duration": 25,
    "start_time": "2023-02-28T17:09:48.679Z"
   },
   {
    "duration": 33,
    "start_time": "2023-02-28T17:11:50.133Z"
   },
   {
    "duration": 1464,
    "start_time": "2023-02-28T17:12:00.235Z"
   },
   {
    "duration": 252,
    "start_time": "2023-02-28T17:12:01.701Z"
   },
   {
    "duration": 39,
    "start_time": "2023-02-28T17:12:01.954Z"
   },
   {
    "duration": 4,
    "start_time": "2023-02-28T17:12:53.479Z"
   },
   {
    "duration": 104,
    "start_time": "2023-02-28T17:17:01.728Z"
   },
   {
    "duration": 49,
    "start_time": "2023-02-28T17:17:10.934Z"
   },
   {
    "duration": 128,
    "start_time": "2023-02-28T17:17:18.335Z"
   },
   {
    "duration": 11,
    "start_time": "2023-02-28T17:17:23.789Z"
   },
   {
    "duration": 13,
    "start_time": "2023-02-28T17:17:38.311Z"
   },
   {
    "duration": 6,
    "start_time": "2023-02-28T17:17:43.394Z"
   },
   {
    "duration": 5,
    "start_time": "2023-02-28T17:21:21.364Z"
   },
   {
    "duration": 14,
    "start_time": "2023-02-28T17:25:46.558Z"
   },
   {
    "duration": 4,
    "start_time": "2023-02-28T17:25:59.162Z"
   },
   {
    "duration": 5,
    "start_time": "2023-02-28T17:37:45.449Z"
   },
   {
    "duration": 233,
    "start_time": "2023-02-28T17:37:45.621Z"
   },
   {
    "duration": 1687,
    "start_time": "2023-03-01T15:50:25.210Z"
   },
   {
    "duration": 54,
    "start_time": "2023-03-01T15:52:38.520Z"
   },
   {
    "duration": 571,
    "start_time": "2023-03-01T15:52:39.351Z"
   },
   {
    "duration": 35,
    "start_time": "2023-03-01T15:52:42.830Z"
   },
   {
    "duration": 4,
    "start_time": "2023-03-01T15:53:29.700Z"
   },
   {
    "duration": 4,
    "start_time": "2023-03-01T15:53:35.143Z"
   },
   {
    "duration": 4,
    "start_time": "2023-03-01T15:53:38.869Z"
   },
   {
    "duration": 34,
    "start_time": "2023-03-01T15:54:00.581Z"
   },
   {
    "duration": 34,
    "start_time": "2023-03-01T15:54:37.330Z"
   },
   {
    "duration": 19,
    "start_time": "2023-03-01T15:55:29.816Z"
   },
   {
    "duration": 92,
    "start_time": "2023-03-01T16:01:51.033Z"
   },
   {
    "duration": 23,
    "start_time": "2023-03-01T16:24:06.216Z"
   },
   {
    "duration": 14,
    "start_time": "2023-03-01T16:48:57.849Z"
   },
   {
    "duration": 109,
    "start_time": "2023-03-01T16:50:05.843Z"
   },
   {
    "duration": 14,
    "start_time": "2023-03-01T16:50:27.805Z"
   },
   {
    "duration": 15,
    "start_time": "2023-03-01T16:50:37.334Z"
   },
   {
    "duration": 127,
    "start_time": "2023-03-01T16:51:36.717Z"
   },
   {
    "duration": 12,
    "start_time": "2023-03-01T16:51:49.496Z"
   },
   {
    "duration": 32,
    "start_time": "2023-03-01T16:51:58.551Z"
   },
   {
    "duration": 28,
    "start_time": "2023-03-01T16:52:01.833Z"
   },
   {
    "duration": 16,
    "start_time": "2023-03-01T16:52:21.351Z"
   },
   {
    "duration": 13,
    "start_time": "2023-03-01T16:52:59.179Z"
   },
   {
    "duration": 27,
    "start_time": "2023-03-01T16:53:00.865Z"
   },
   {
    "duration": 3103,
    "start_time": "2023-03-01T16:53:05.871Z"
   },
   {
    "duration": 39,
    "start_time": "2023-03-01T16:54:11.833Z"
   },
   {
    "duration": 86,
    "start_time": "2023-03-01T16:56:53.156Z"
   },
   {
    "duration": 1135,
    "start_time": "2023-03-01T16:58:23.458Z"
   },
   {
    "duration": 183,
    "start_time": "2023-03-01T16:58:45.362Z"
   },
   {
    "duration": 210,
    "start_time": "2023-03-01T16:58:47.682Z"
   },
   {
    "duration": 146,
    "start_time": "2023-03-01T16:58:53.370Z"
   },
   {
    "duration": 212,
    "start_time": "2023-03-01T16:59:06.827Z"
   },
   {
    "duration": 193,
    "start_time": "2023-03-01T16:59:13.494Z"
   },
   {
    "duration": 195,
    "start_time": "2023-03-01T16:59:24.152Z"
   },
   {
    "duration": 192,
    "start_time": "2023-03-01T16:59:40.931Z"
   },
   {
    "duration": 197,
    "start_time": "2023-03-01T16:59:50.712Z"
   },
   {
    "duration": 143,
    "start_time": "2023-03-01T17:17:20.281Z"
   },
   {
    "duration": 137,
    "start_time": "2023-03-01T17:17:49.420Z"
   },
   {
    "duration": 147,
    "start_time": "2023-03-01T17:18:17.370Z"
   },
   {
    "duration": 143,
    "start_time": "2023-03-01T17:18:39.753Z"
   },
   {
    "duration": 160,
    "start_time": "2023-03-01T17:19:24.627Z"
   },
   {
    "duration": 146,
    "start_time": "2023-03-01T17:19:30.016Z"
   },
   {
    "duration": 139,
    "start_time": "2023-03-01T17:19:39.234Z"
   },
   {
    "duration": 257,
    "start_time": "2023-03-01T17:19:45.091Z"
   },
   {
    "duration": 163,
    "start_time": "2023-03-01T17:19:54.435Z"
   },
   {
    "duration": 161,
    "start_time": "2023-03-01T17:19:58.320Z"
   },
   {
    "duration": 166,
    "start_time": "2023-03-01T17:20:10.950Z"
   },
   {
    "duration": 169,
    "start_time": "2023-03-01T17:20:48.709Z"
   },
   {
    "duration": 170,
    "start_time": "2023-03-01T17:21:16.384Z"
   },
   {
    "duration": 153,
    "start_time": "2023-03-01T17:21:41.515Z"
   },
   {
    "duration": 149,
    "start_time": "2023-03-01T17:21:45.678Z"
   },
   {
    "duration": 146,
    "start_time": "2023-03-01T17:21:48.145Z"
   },
   {
    "duration": 170,
    "start_time": "2023-03-01T17:22:07.767Z"
   },
   {
    "duration": 155,
    "start_time": "2023-03-01T17:22:34.904Z"
   },
   {
    "duration": 145,
    "start_time": "2023-03-01T17:23:02.318Z"
   },
   {
    "duration": 195,
    "start_time": "2023-03-01T17:25:33.558Z"
   },
   {
    "duration": 158,
    "start_time": "2023-03-01T17:26:00.417Z"
   },
   {
    "duration": 158,
    "start_time": "2023-03-01T17:26:08.966Z"
   },
   {
    "duration": 5,
    "start_time": "2023-03-01T17:36:09.714Z"
   },
   {
    "duration": 106076,
    "start_time": "2023-03-01T17:36:13.719Z"
   },
   {
    "duration": 199,
    "start_time": "2023-03-01T17:40:27.829Z"
   },
   {
    "duration": 65,
    "start_time": "2023-03-02T16:29:25.414Z"
   },
   {
    "duration": 1904,
    "start_time": "2023-03-02T16:29:28.432Z"
   },
   {
    "duration": 0,
    "start_time": "2023-03-02T16:29:30.341Z"
   },
   {
    "duration": 0,
    "start_time": "2023-03-02T16:29:30.342Z"
   },
   {
    "duration": 8,
    "start_time": "2023-03-02T16:29:47.139Z"
   },
   {
    "duration": 1903,
    "start_time": "2023-03-02T16:29:48.287Z"
   },
   {
    "duration": 10,
    "start_time": "2023-03-02T16:29:50.775Z"
   },
   {
    "duration": 31,
    "start_time": "2023-03-02T16:30:01.175Z"
   },
   {
    "duration": 38,
    "start_time": "2023-03-02T16:34:09.238Z"
   },
   {
    "duration": 26,
    "start_time": "2023-03-02T16:34:26.277Z"
   },
   {
    "duration": 59,
    "start_time": "2023-03-02T16:42:58.169Z"
   },
   {
    "duration": 46,
    "start_time": "2023-03-02T16:45:21.724Z"
   },
   {
    "duration": 31,
    "start_time": "2023-03-02T16:45:27.884Z"
   },
   {
    "duration": 82,
    "start_time": "2023-03-02T17:21:37.115Z"
   },
   {
    "duration": 111,
    "start_time": "2023-03-02T17:21:51.099Z"
   },
   {
    "duration": 154,
    "start_time": "2023-03-02T17:22:09.032Z"
   },
   {
    "duration": 133,
    "start_time": "2023-03-02T17:22:19.690Z"
   },
   {
    "duration": 118,
    "start_time": "2023-03-02T17:22:52.506Z"
   },
   {
    "duration": 112,
    "start_time": "2023-03-02T17:22:58.496Z"
   },
   {
    "duration": 134,
    "start_time": "2023-03-02T17:23:01.266Z"
   },
   {
    "duration": 159,
    "start_time": "2023-03-02T17:23:03.434Z"
   },
   {
    "duration": 157,
    "start_time": "2023-03-02T17:24:07.014Z"
   },
   {
    "duration": 138,
    "start_time": "2023-03-02T17:24:58.671Z"
   },
   {
    "duration": 133,
    "start_time": "2023-03-02T17:25:13.869Z"
   },
   {
    "duration": 170,
    "start_time": "2023-03-02T17:25:25.713Z"
   },
   {
    "duration": 172,
    "start_time": "2023-03-02T17:25:37.955Z"
   },
   {
    "duration": 163,
    "start_time": "2023-03-02T17:26:11.834Z"
   },
   {
    "duration": 149,
    "start_time": "2023-03-02T17:26:42.634Z"
   },
   {
    "duration": 139,
    "start_time": "2023-03-02T17:26:46.776Z"
   },
   {
    "duration": 148,
    "start_time": "2023-03-02T17:26:50.975Z"
   },
   {
    "duration": 157,
    "start_time": "2023-03-02T17:26:57.005Z"
   },
   {
    "duration": 153,
    "start_time": "2023-03-02T17:27:02.769Z"
   },
   {
    "duration": 230,
    "start_time": "2023-03-02T17:31:34.857Z"
   },
   {
    "duration": 171,
    "start_time": "2023-03-02T17:43:46.465Z"
   },
   {
    "duration": 232,
    "start_time": "2023-03-02T17:44:10.222Z"
   },
   {
    "duration": 269,
    "start_time": "2023-03-02T17:44:41.886Z"
   },
   {
    "duration": 281,
    "start_time": "2023-03-02T17:46:36.112Z"
   },
   {
    "duration": 273,
    "start_time": "2023-03-02T17:46:42.787Z"
   },
   {
    "duration": 316,
    "start_time": "2023-03-02T17:46:49.799Z"
   },
   {
    "duration": 267,
    "start_time": "2023-03-02T17:46:53.667Z"
   },
   {
    "duration": 255,
    "start_time": "2023-03-02T17:46:59.169Z"
   },
   {
    "duration": 280,
    "start_time": "2023-03-02T17:47:02.658Z"
   },
   {
    "duration": 317,
    "start_time": "2023-03-02T17:47:08.883Z"
   },
   {
    "duration": 54,
    "start_time": "2023-03-02T17:48:28.564Z"
   },
   {
    "duration": 30,
    "start_time": "2023-03-02T17:48:33.363Z"
   },
   {
    "duration": 34,
    "start_time": "2023-03-02T17:48:40.526Z"
   },
   {
    "duration": 5,
    "start_time": "2023-03-02T17:49:00.270Z"
   },
   {
    "duration": 27,
    "start_time": "2023-03-02T17:49:03.667Z"
   },
   {
    "duration": 7,
    "start_time": "2023-03-02T17:49:20.686Z"
   },
   {
    "duration": 22,
    "start_time": "2023-03-02T17:49:26.441Z"
   },
   {
    "duration": 9,
    "start_time": "2023-03-02T17:49:28.614Z"
   },
   {
    "duration": 46,
    "start_time": "2023-03-02T17:49:37.325Z"
   },
   {
    "duration": 24,
    "start_time": "2023-03-02T17:49:47.707Z"
   },
   {
    "duration": 18,
    "start_time": "2023-03-02T17:49:57.996Z"
   },
   {
    "duration": 11,
    "start_time": "2023-03-02T17:50:12.517Z"
   },
   {
    "duration": 9,
    "start_time": "2023-03-02T17:50:35.295Z"
   },
   {
    "duration": 1627,
    "start_time": "2023-03-02T17:50:41.906Z"
   },
   {
    "duration": 353,
    "start_time": "2023-03-02T17:50:43.535Z"
   },
   {
    "duration": 54,
    "start_time": "2023-03-02T17:50:43.891Z"
   },
   {
    "duration": 30,
    "start_time": "2023-03-02T17:50:43.948Z"
   },
   {
    "duration": 33,
    "start_time": "2023-03-02T17:50:43.981Z"
   },
   {
    "duration": 34,
    "start_time": "2023-03-02T17:50:44.016Z"
   },
   {
    "duration": 52,
    "start_time": "2023-03-02T17:50:44.051Z"
   },
   {
    "duration": 177,
    "start_time": "2023-03-02T17:50:44.105Z"
   },
   {
    "duration": 324,
    "start_time": "2023-03-02T17:50:44.289Z"
   },
   {
    "duration": 145,
    "start_time": "2023-03-02T17:50:44.615Z"
   },
   {
    "duration": 16,
    "start_time": "2023-03-02T17:50:50.969Z"
   },
   {
    "duration": 10,
    "start_time": "2023-03-02T17:51:00.915Z"
   },
   {
    "duration": 1692,
    "start_time": "2023-03-02T17:51:05.398Z"
   },
   {
    "duration": 286,
    "start_time": "2023-03-02T17:51:07.092Z"
   },
   {
    "duration": 49,
    "start_time": "2023-03-02T17:51:07.387Z"
   },
   {
    "duration": 44,
    "start_time": "2023-03-02T17:51:07.439Z"
   },
   {
    "duration": 36,
    "start_time": "2023-03-02T17:51:07.485Z"
   },
   {
    "duration": 44,
    "start_time": "2023-03-02T17:51:07.523Z"
   },
   {
    "duration": 66,
    "start_time": "2023-03-02T17:51:07.569Z"
   },
   {
    "duration": 188,
    "start_time": "2023-03-02T17:51:07.637Z"
   },
   {
    "duration": 400,
    "start_time": "2023-03-02T17:51:07.827Z"
   },
   {
    "duration": 26,
    "start_time": "2023-03-02T17:51:08.230Z"
   },
   {
    "duration": 40,
    "start_time": "2023-03-02T17:51:18.992Z"
   },
   {
    "duration": 198,
    "start_time": "2023-03-02T17:51:42.603Z"
   },
   {
    "duration": 9,
    "start_time": "2023-03-02T17:51:45.600Z"
   },
   {
    "duration": 14,
    "start_time": "2023-03-02T17:51:47.995Z"
   },
   {
    "duration": 12,
    "start_time": "2023-03-02T17:51:54.000Z"
   },
   {
    "duration": 1758,
    "start_time": "2023-03-02T17:51:57.766Z"
   },
   {
    "duration": 294,
    "start_time": "2023-03-02T17:51:59.526Z"
   },
   {
    "duration": 35,
    "start_time": "2023-03-02T17:51:59.822Z"
   },
   {
    "duration": 39,
    "start_time": "2023-03-02T17:51:59.858Z"
   },
   {
    "duration": 25,
    "start_time": "2023-03-02T17:51:59.899Z"
   },
   {
    "duration": 44,
    "start_time": "2023-03-02T17:51:59.925Z"
   },
   {
    "duration": 54,
    "start_time": "2023-03-02T17:51:59.971Z"
   },
   {
    "duration": 229,
    "start_time": "2023-03-02T17:52:00.027Z"
   },
   {
    "duration": 426,
    "start_time": "2023-03-02T17:52:00.258Z"
   },
   {
    "duration": 151,
    "start_time": "2023-03-02T17:52:00.687Z"
   },
   {
    "duration": 40,
    "start_time": "2023-03-02T17:52:22.748Z"
   },
   {
    "duration": 9,
    "start_time": "2023-03-02T17:52:27.318Z"
   },
   {
    "duration": 1634,
    "start_time": "2023-03-02T17:52:43.271Z"
   },
   {
    "duration": 299,
    "start_time": "2023-03-02T17:52:44.907Z"
   },
   {
    "duration": 56,
    "start_time": "2023-03-02T17:52:45.208Z"
   },
   {
    "duration": 36,
    "start_time": "2023-03-02T17:52:45.268Z"
   },
   {
    "duration": 62,
    "start_time": "2023-03-02T17:52:45.307Z"
   },
   {
    "duration": 27,
    "start_time": "2023-03-02T17:52:45.377Z"
   },
   {
    "duration": 59,
    "start_time": "2023-03-02T17:52:45.407Z"
   },
   {
    "duration": 179,
    "start_time": "2023-03-02T17:52:45.471Z"
   },
   {
    "duration": 330,
    "start_time": "2023-03-02T17:52:45.658Z"
   },
   {
    "duration": 8,
    "start_time": "2023-03-02T17:52:45.991Z"
   },
   {
    "duration": 43,
    "start_time": "2023-03-02T17:52:55.662Z"
   },
   {
    "duration": 7,
    "start_time": "2023-03-02T17:53:08.809Z"
   },
   {
    "duration": 5,
    "start_time": "2023-03-02T17:53:14.774Z"
   },
   {
    "duration": 53,
    "start_time": "2023-03-02T17:53:27.502Z"
   },
   {
    "duration": 49,
    "start_time": "2023-03-02T17:53:38.975Z"
   },
   {
    "duration": 9,
    "start_time": "2023-03-02T17:53:46.157Z"
   },
   {
    "duration": 45,
    "start_time": "2023-03-02T17:53:47.471Z"
   },
   {
    "duration": 6,
    "start_time": "2023-03-02T17:54:02.775Z"
   },
   {
    "duration": 57,
    "start_time": "2023-03-02T17:54:03.412Z"
   },
   {
    "duration": 7,
    "start_time": "2023-03-02T17:54:19.435Z"
   },
   {
    "duration": 267,
    "start_time": "2023-03-02T17:54:41.201Z"
   },
   {
    "duration": 308,
    "start_time": "2023-03-02T17:55:15.823Z"
   },
   {
    "duration": 1762,
    "start_time": "2023-03-02T17:55:48.329Z"
   },
   {
    "duration": 309,
    "start_time": "2023-03-02T17:55:50.093Z"
   },
   {
    "duration": 57,
    "start_time": "2023-03-02T17:55:50.405Z"
   },
   {
    "duration": 34,
    "start_time": "2023-03-02T17:55:50.464Z"
   },
   {
    "duration": 32,
    "start_time": "2023-03-02T17:55:50.501Z"
   },
   {
    "duration": 34,
    "start_time": "2023-03-02T17:55:50.535Z"
   },
   {
    "duration": 52,
    "start_time": "2023-03-02T17:55:50.574Z"
   },
   {
    "duration": 155,
    "start_time": "2023-03-02T17:55:50.627Z"
   },
   {
    "duration": 336,
    "start_time": "2023-03-02T17:55:50.783Z"
   },
   {
    "duration": 9,
    "start_time": "2023-03-02T17:55:51.122Z"
   },
   {
    "duration": 319,
    "start_time": "2023-03-02T17:55:51.133Z"
   },
   {
    "duration": 1788,
    "start_time": "2023-03-02T17:55:58.773Z"
   },
   {
    "duration": 336,
    "start_time": "2023-03-02T17:56:00.563Z"
   },
   {
    "duration": 41,
    "start_time": "2023-03-02T17:56:00.903Z"
   },
   {
    "duration": 49,
    "start_time": "2023-03-02T17:56:00.946Z"
   },
   {
    "duration": 40,
    "start_time": "2023-03-02T17:56:00.998Z"
   },
   {
    "duration": 57,
    "start_time": "2023-03-02T17:56:01.040Z"
   },
   {
    "duration": 87,
    "start_time": "2023-03-02T17:56:01.099Z"
   },
   {
    "duration": 194,
    "start_time": "2023-03-02T17:56:01.190Z"
   },
   {
    "duration": 331,
    "start_time": "2023-03-02T17:56:01.386Z"
   },
   {
    "duration": 7,
    "start_time": "2023-03-02T17:56:01.719Z"
   },
   {
    "duration": 406,
    "start_time": "2023-03-02T17:56:01.727Z"
   },
   {
    "duration": 334,
    "start_time": "2023-03-02T17:56:49.772Z"
   },
   {
    "duration": 15,
    "start_time": "2023-03-02T17:59:08.894Z"
   },
   {
    "duration": 43,
    "start_time": "2023-03-02T17:59:12.795Z"
   },
   {
    "duration": 220,
    "start_time": "2023-03-02T17:59:57.420Z"
   },
   {
    "duration": 6,
    "start_time": "2023-03-02T18:00:03.721Z"
   },
   {
    "duration": 499,
    "start_time": "2023-03-02T18:00:30.271Z"
   },
   {
    "duration": 14,
    "start_time": "2023-03-02T18:02:36.606Z"
   },
   {
    "duration": 19,
    "start_time": "2023-03-02T18:03:30.463Z"
   },
   {
    "duration": 18,
    "start_time": "2023-03-02T18:04:03.778Z"
   },
   {
    "duration": 21,
    "start_time": "2023-03-02T18:04:16.878Z"
   },
   {
    "duration": 27,
    "start_time": "2023-03-02T18:04:37.855Z"
   },
   {
    "duration": 26,
    "start_time": "2023-03-02T18:04:52.963Z"
   },
   {
    "duration": 45,
    "start_time": "2023-03-02T18:05:10.665Z"
   },
   {
    "duration": 5,
    "start_time": "2023-03-02T18:05:16.334Z"
   },
   {
    "duration": 17,
    "start_time": "2023-03-02T18:05:28.673Z"
   },
   {
    "duration": 11,
    "start_time": "2023-03-02T18:05:33.464Z"
   },
   {
    "duration": 11,
    "start_time": "2023-03-02T18:06:56.878Z"
   },
   {
    "duration": 12,
    "start_time": "2023-03-02T18:07:06.918Z"
   },
   {
    "duration": 20,
    "start_time": "2023-03-02T18:07:10.187Z"
   },
   {
    "duration": 31,
    "start_time": "2023-03-02T18:07:26.069Z"
   },
   {
    "duration": 21,
    "start_time": "2023-03-02T18:08:18.272Z"
   },
   {
    "duration": 14,
    "start_time": "2023-03-02T18:51:54.487Z"
   },
   {
    "duration": 111,
    "start_time": "2023-03-02T18:53:08.249Z"
   },
   {
    "duration": 15,
    "start_time": "2023-03-02T18:54:34.758Z"
   },
   {
    "duration": 665,
    "start_time": "2023-03-02T18:54:44.993Z"
   },
   {
    "duration": 5637,
    "start_time": "2023-03-02T18:55:50.670Z"
   },
   {
    "duration": 713,
    "start_time": "2023-03-02T18:56:19.353Z"
   },
   {
    "duration": 706,
    "start_time": "2023-03-02T18:56:24.942Z"
   },
   {
    "duration": 1098,
    "start_time": "2023-03-02T18:57:05.790Z"
   },
   {
    "duration": 989,
    "start_time": "2023-03-02T18:57:13.972Z"
   },
   {
    "duration": 1136,
    "start_time": "2023-03-02T18:57:39.141Z"
   },
   {
    "duration": 43,
    "start_time": "2023-03-02T18:58:09.041Z"
   },
   {
    "duration": 120,
    "start_time": "2023-03-02T18:58:16.540Z"
   },
   {
    "duration": 92,
    "start_time": "2023-03-02T18:58:34.565Z"
   },
   {
    "duration": 87,
    "start_time": "2023-03-02T18:58:40.197Z"
   },
   {
    "duration": 85,
    "start_time": "2023-03-02T18:58:47.855Z"
   },
   {
    "duration": 69,
    "start_time": "2023-03-02T18:58:50.965Z"
   },
   {
    "duration": 75,
    "start_time": "2023-03-02T18:58:55.162Z"
   },
   {
    "duration": 104,
    "start_time": "2023-03-02T18:58:58.677Z"
   },
   {
    "duration": 12,
    "start_time": "2023-03-02T18:59:11.106Z"
   },
   {
    "duration": 9,
    "start_time": "2023-03-02T18:59:14.107Z"
   },
   {
    "duration": 87,
    "start_time": "2023-03-02T18:59:32.783Z"
   },
   {
    "duration": 63,
    "start_time": "2023-03-02T18:59:40.564Z"
   },
   {
    "duration": 74,
    "start_time": "2023-03-02T18:59:45.940Z"
   },
   {
    "duration": 83,
    "start_time": "2023-03-02T18:59:49.251Z"
   },
   {
    "duration": 81,
    "start_time": "2023-03-02T18:59:53.934Z"
   },
   {
    "duration": 79,
    "start_time": "2023-03-02T18:59:59.496Z"
   },
   {
    "duration": 75,
    "start_time": "2023-03-02T19:00:03.249Z"
   },
   {
    "duration": 154,
    "start_time": "2023-03-02T19:00:21.248Z"
   },
   {
    "duration": 97,
    "start_time": "2023-03-02T19:00:41.628Z"
   },
   {
    "duration": 149,
    "start_time": "2023-03-02T19:00:54.558Z"
   },
   {
    "duration": 197,
    "start_time": "2023-03-02T19:00:57.855Z"
   },
   {
    "duration": 115,
    "start_time": "2023-03-02T19:01:07.881Z"
   },
   {
    "duration": 108,
    "start_time": "2023-03-02T19:01:27.870Z"
   },
   {
    "duration": 110,
    "start_time": "2023-03-02T19:01:34.866Z"
   },
   {
    "duration": 8,
    "start_time": "2023-03-02T19:02:00.651Z"
   },
   {
    "duration": 6,
    "start_time": "2023-03-02T19:02:03.559Z"
   },
   {
    "duration": 45,
    "start_time": "2023-03-02T19:02:19.909Z"
   },
   {
    "duration": 51,
    "start_time": "2023-03-02T19:02:22.859Z"
   },
   {
    "duration": 7,
    "start_time": "2023-03-02T19:02:28.647Z"
   },
   {
    "duration": 9,
    "start_time": "2023-03-02T19:02:38.453Z"
   },
   {
    "duration": 94,
    "start_time": "2023-03-02T19:03:49.653Z"
   },
   {
    "duration": 100,
    "start_time": "2023-03-02T19:04:12.505Z"
   },
   {
    "duration": 114,
    "start_time": "2023-03-02T19:04:15.584Z"
   },
   {
    "duration": 100,
    "start_time": "2023-03-02T19:04:24.178Z"
   },
   {
    "duration": 1819,
    "start_time": "2023-03-02T19:05:06.655Z"
   },
   {
    "duration": 1935,
    "start_time": "2023-03-02T19:05:10.075Z"
   },
   {
    "duration": 1849,
    "start_time": "2023-03-02T19:05:22.939Z"
   },
   {
    "duration": 1828,
    "start_time": "2023-03-02T19:05:35.679Z"
   },
   {
    "duration": 111,
    "start_time": "2023-03-02T19:05:44.669Z"
   },
   {
    "duration": 11,
    "start_time": "2023-03-02T19:08:54.971Z"
   },
   {
    "duration": 10,
    "start_time": "2023-03-02T19:09:23.758Z"
   },
   {
    "duration": 9,
    "start_time": "2023-03-02T19:09:29.879Z"
   },
   {
    "duration": 7,
    "start_time": "2023-03-02T19:09:41.150Z"
   },
   {
    "duration": 1719,
    "start_time": "2023-03-02T19:10:04.551Z"
   },
   {
    "duration": 1695,
    "start_time": "2023-03-02T19:10:21.187Z"
   },
   {
    "duration": 128,
    "start_time": "2023-03-02T19:10:31.834Z"
   },
   {
    "duration": 102,
    "start_time": "2023-03-02T19:10:49.009Z"
   },
   {
    "duration": 1764,
    "start_time": "2023-03-02T19:10:52.044Z"
   },
   {
    "duration": 1950,
    "start_time": "2023-03-02T19:10:58.780Z"
   },
   {
    "duration": 30,
    "start_time": "2023-03-02T19:11:06.770Z"
   },
   {
    "duration": 9,
    "start_time": "2023-03-02T19:11:10.566Z"
   },
   {
    "duration": 5,
    "start_time": "2023-03-02T19:11:33.457Z"
   },
   {
    "duration": 13,
    "start_time": "2023-03-02T19:11:36.910Z"
   },
   {
    "duration": 12,
    "start_time": "2023-03-02T19:11:51.707Z"
   },
   {
    "duration": 16,
    "start_time": "2023-03-02T19:11:57.555Z"
   },
   {
    "duration": 12,
    "start_time": "2023-03-02T19:12:11.597Z"
   },
   {
    "duration": 110,
    "start_time": "2023-03-02T19:14:19.096Z"
   },
   {
    "duration": 13,
    "start_time": "2023-03-02T19:14:21.655Z"
   },
   {
    "duration": 21,
    "start_time": "2023-03-02T19:16:34.617Z"
   },
   {
    "duration": 17,
    "start_time": "2023-03-02T19:18:09.387Z"
   },
   {
    "duration": 1606,
    "start_time": "2023-03-02T19:19:02.009Z"
   },
   {
    "duration": 311,
    "start_time": "2023-03-02T19:19:03.618Z"
   },
   {
    "duration": 42,
    "start_time": "2023-03-02T19:19:03.931Z"
   },
   {
    "duration": 20,
    "start_time": "2023-03-02T19:19:03.974Z"
   },
   {
    "duration": 47,
    "start_time": "2023-03-02T19:19:03.997Z"
   },
   {
    "duration": 28,
    "start_time": "2023-03-02T19:19:04.047Z"
   },
   {
    "duration": 67,
    "start_time": "2023-03-02T19:19:04.078Z"
   },
   {
    "duration": 201,
    "start_time": "2023-03-02T19:19:04.148Z"
   },
   {
    "duration": 335,
    "start_time": "2023-03-02T19:19:04.351Z"
   },
   {
    "duration": 7,
    "start_time": "2023-03-02T19:19:04.688Z"
   },
   {
    "duration": 328,
    "start_time": "2023-03-02T19:19:04.697Z"
   },
   {
    "duration": 26,
    "start_time": "2023-03-02T19:19:05.027Z"
   },
   {
    "duration": 119,
    "start_time": "2023-03-02T19:19:05.055Z"
   },
   {
    "duration": 0,
    "start_time": "2023-03-02T19:19:05.176Z"
   },
   {
    "duration": 0,
    "start_time": "2023-03-02T19:19:05.177Z"
   },
   {
    "duration": 0,
    "start_time": "2023-03-02T19:19:05.179Z"
   },
   {
    "duration": 0,
    "start_time": "2023-03-02T19:19:05.180Z"
   },
   {
    "duration": 0,
    "start_time": "2023-03-02T19:19:05.182Z"
   },
   {
    "duration": 0,
    "start_time": "2023-03-02T19:19:05.183Z"
   },
   {
    "duration": 0,
    "start_time": "2023-03-02T19:19:05.184Z"
   },
   {
    "duration": 0,
    "start_time": "2023-03-02T19:19:05.186Z"
   },
   {
    "duration": 273,
    "start_time": "2023-03-02T19:19:14.099Z"
   },
   {
    "duration": 21,
    "start_time": "2023-03-02T19:19:14.444Z"
   },
   {
    "duration": 22,
    "start_time": "2023-03-02T19:19:14.660Z"
   },
   {
    "duration": 1161,
    "start_time": "2023-03-02T19:19:15.262Z"
   },
   {
    "duration": 1215,
    "start_time": "2023-03-02T19:19:16.425Z"
   },
   {
    "duration": 154,
    "start_time": "2023-03-02T19:19:17.642Z"
   },
   {
    "duration": 19,
    "start_time": "2023-03-02T19:19:17.798Z"
   },
   {
    "duration": 48,
    "start_time": "2023-03-02T19:19:17.819Z"
   },
   {
    "duration": 137,
    "start_time": "2023-03-02T19:19:54.171Z"
   },
   {
    "duration": 24,
    "start_time": "2023-03-02T19:21:30.466Z"
   },
   {
    "duration": 14,
    "start_time": "2023-03-02T19:21:48.759Z"
   },
   {
    "duration": 14,
    "start_time": "2023-03-02T19:21:58.615Z"
   },
   {
    "duration": 33,
    "start_time": "2023-03-02T19:22:36.462Z"
   },
   {
    "duration": 32,
    "start_time": "2023-03-02T19:22:49.254Z"
   },
   {
    "duration": 11,
    "start_time": "2023-03-02T19:23:18.609Z"
   },
   {
    "duration": 11,
    "start_time": "2023-03-02T19:23:21.723Z"
   },
   {
    "duration": 9,
    "start_time": "2023-03-02T19:23:38.258Z"
   },
   {
    "duration": 132,
    "start_time": "2023-03-02T19:24:39.523Z"
   },
   {
    "duration": 21,
    "start_time": "2023-03-02T19:24:48.731Z"
   },
   {
    "duration": 33,
    "start_time": "2023-03-02T19:25:03.512Z"
   },
   {
    "duration": 113,
    "start_time": "2023-03-02T19:26:07.276Z"
   },
   {
    "duration": 18,
    "start_time": "2023-03-02T19:26:22.386Z"
   },
   {
    "duration": 120,
    "start_time": "2023-03-02T19:26:30.822Z"
   },
   {
    "duration": 192,
    "start_time": "2023-03-02T19:26:35.799Z"
   },
   {
    "duration": 13,
    "start_time": "2023-03-02T19:27:05.811Z"
   },
   {
    "duration": 14,
    "start_time": "2023-03-02T19:27:11.362Z"
   },
   {
    "duration": 14,
    "start_time": "2023-03-02T19:27:16.770Z"
   },
   {
    "duration": 14,
    "start_time": "2023-03-02T19:27:58.355Z"
   },
   {
    "duration": 30,
    "start_time": "2023-03-02T19:28:31.327Z"
   },
   {
    "duration": 20,
    "start_time": "2023-03-02T19:28:39.366Z"
   },
   {
    "duration": 21,
    "start_time": "2023-03-02T19:34:25.592Z"
   },
   {
    "duration": 20,
    "start_time": "2023-03-02T19:34:29.100Z"
   },
   {
    "duration": 23,
    "start_time": "2023-03-02T19:34:32.163Z"
   },
   {
    "duration": 152,
    "start_time": "2023-03-02T20:21:20.272Z"
   },
   {
    "duration": 1698,
    "start_time": "2023-03-03T09:55:35.670Z"
   },
   {
    "duration": 649,
    "start_time": "2023-03-03T09:55:37.371Z"
   },
   {
    "duration": 32,
    "start_time": "2023-03-03T09:55:38.021Z"
   },
   {
    "duration": 23,
    "start_time": "2023-03-03T09:55:38.054Z"
   },
   {
    "duration": 25,
    "start_time": "2023-03-03T09:55:38.079Z"
   },
   {
    "duration": 20,
    "start_time": "2023-03-03T09:55:38.105Z"
   },
   {
    "duration": 49,
    "start_time": "2023-03-03T09:55:38.150Z"
   },
   {
    "duration": 159,
    "start_time": "2023-03-03T09:55:38.201Z"
   },
   {
    "duration": 303,
    "start_time": "2023-03-03T09:55:38.362Z"
   },
   {
    "duration": 7,
    "start_time": "2023-03-03T09:55:38.667Z"
   },
   {
    "duration": 264,
    "start_time": "2023-03-03T09:55:38.676Z"
   },
   {
    "duration": 24,
    "start_time": "2023-03-03T09:55:38.942Z"
   },
   {
    "duration": 248,
    "start_time": "2023-03-03T09:55:38.968Z"
   },
   {
    "duration": 17,
    "start_time": "2023-03-03T09:55:39.218Z"
   },
   {
    "duration": 15,
    "start_time": "2023-03-03T09:55:39.256Z"
   },
   {
    "duration": 1000,
    "start_time": "2023-03-03T09:55:39.272Z"
   },
   {
    "duration": 1031,
    "start_time": "2023-03-03T09:55:40.274Z"
   },
   {
    "duration": 123,
    "start_time": "2023-03-03T09:55:41.307Z"
   },
   {
    "duration": 29,
    "start_time": "2023-03-03T09:55:41.432Z"
   },
   {
    "duration": 30,
    "start_time": "2023-03-03T09:55:41.463Z"
   },
   {
    "duration": 20,
    "start_time": "2023-03-03T09:55:41.495Z"
   },
   {
    "duration": 28,
    "start_time": "2023-03-03T09:56:35.081Z"
   },
   {
    "duration": 5,
    "start_time": "2023-03-03T09:56:57.575Z"
   },
   {
    "duration": 11,
    "start_time": "2023-03-03T09:57:09.167Z"
   },
   {
    "duration": 14,
    "start_time": "2023-03-03T09:57:32.776Z"
   },
   {
    "duration": 11,
    "start_time": "2023-03-03T09:57:38.289Z"
   },
   {
    "duration": 147,
    "start_time": "2023-03-03T09:58:06.276Z"
   },
   {
    "duration": 12,
    "start_time": "2023-03-03T09:58:09.169Z"
   },
   {
    "duration": 28,
    "start_time": "2023-03-03T09:59:33.969Z"
   },
   {
    "duration": 84,
    "start_time": "2023-03-03T10:06:38.608Z"
   },
   {
    "duration": 86,
    "start_time": "2023-03-03T10:10:18.188Z"
   },
   {
    "duration": 5,
    "start_time": "2023-03-03T10:18:51.479Z"
   },
   {
    "duration": 8,
    "start_time": "2023-03-03T10:18:54.724Z"
   },
   {
    "duration": 5,
    "start_time": "2023-03-03T10:20:59.684Z"
   },
   {
    "duration": 6,
    "start_time": "2023-03-03T10:24:08.524Z"
   },
   {
    "duration": 9,
    "start_time": "2023-03-03T10:24:35.698Z"
   },
   {
    "duration": 10,
    "start_time": "2023-03-03T10:24:48.681Z"
   },
   {
    "duration": 6,
    "start_time": "2023-03-03T10:26:49.773Z"
   },
   {
    "duration": 35,
    "start_time": "2023-03-03T10:27:01.368Z"
   },
   {
    "duration": 65,
    "start_time": "2023-03-03T10:27:03.374Z"
   },
   {
    "duration": 10,
    "start_time": "2023-03-03T10:27:20.371Z"
   },
   {
    "duration": 9,
    "start_time": "2023-03-03T10:27:27.588Z"
   },
   {
    "duration": 116,
    "start_time": "2023-03-03T10:28:05.898Z"
   },
   {
    "duration": 34,
    "start_time": "2023-03-03T10:28:10.971Z"
   },
   {
    "duration": 5,
    "start_time": "2023-03-03T10:28:55.944Z"
   },
   {
    "duration": 14,
    "start_time": "2023-03-03T10:29:00.847Z"
   },
   {
    "duration": 5,
    "start_time": "2023-03-03T10:29:03.814Z"
   },
   {
    "duration": 59,
    "start_time": "2023-03-03T10:29:45.446Z"
   },
   {
    "duration": 60,
    "start_time": "2023-03-03T10:30:15.848Z"
   },
   {
    "duration": 46,
    "start_time": "2023-03-03T10:30:48.723Z"
   },
   {
    "duration": 12,
    "start_time": "2023-03-03T10:31:59.178Z"
   },
   {
    "duration": 189,
    "start_time": "2023-03-03T10:32:16.670Z"
   },
   {
    "duration": 13,
    "start_time": "2023-03-03T10:32:25.182Z"
   },
   {
    "duration": 1394,
    "start_time": "2023-03-03T10:32:42.003Z"
   },
   {
    "duration": 267,
    "start_time": "2023-03-03T10:32:43.399Z"
   },
   {
    "duration": 28,
    "start_time": "2023-03-03T10:32:43.667Z"
   },
   {
    "duration": 27,
    "start_time": "2023-03-03T10:32:43.696Z"
   },
   {
    "duration": 47,
    "start_time": "2023-03-03T10:32:43.725Z"
   },
   {
    "duration": 47,
    "start_time": "2023-03-03T10:32:43.774Z"
   },
   {
    "duration": 55,
    "start_time": "2023-03-03T10:32:43.823Z"
   },
   {
    "duration": 142,
    "start_time": "2023-03-03T10:32:43.880Z"
   },
   {
    "duration": 275,
    "start_time": "2023-03-03T10:32:44.024Z"
   },
   {
    "duration": 6,
    "start_time": "2023-03-03T10:32:44.300Z"
   },
   {
    "duration": 276,
    "start_time": "2023-03-03T10:32:44.307Z"
   },
   {
    "duration": 11,
    "start_time": "2023-03-03T10:32:44.585Z"
   },
   {
    "duration": 248,
    "start_time": "2023-03-03T10:32:44.597Z"
   },
   {
    "duration": 20,
    "start_time": "2023-03-03T10:32:44.847Z"
   },
   {
    "duration": 14,
    "start_time": "2023-03-03T10:32:44.869Z"
   },
   {
    "duration": 1031,
    "start_time": "2023-03-03T10:32:44.884Z"
   },
   {
    "duration": 1099,
    "start_time": "2023-03-03T10:32:45.917Z"
   },
   {
    "duration": 123,
    "start_time": "2023-03-03T10:32:47.017Z"
   },
   {
    "duration": 24,
    "start_time": "2023-03-03T10:32:47.141Z"
   },
   {
    "duration": 24,
    "start_time": "2023-03-03T10:32:47.167Z"
   },
   {
    "duration": 37,
    "start_time": "2023-03-03T10:32:47.193Z"
   },
   {
    "duration": 76,
    "start_time": "2023-03-03T10:32:47.232Z"
   },
   {
    "duration": 5,
    "start_time": "2023-03-03T10:32:47.309Z"
   },
   {
    "duration": 46,
    "start_time": "2023-03-03T10:32:47.316Z"
   },
   {
    "duration": 38,
    "start_time": "2023-03-03T10:33:02.029Z"
   },
   {
    "duration": 1448,
    "start_time": "2023-03-03T10:34:21.686Z"
   },
   {
    "duration": 271,
    "start_time": "2023-03-03T10:34:23.136Z"
   },
   {
    "duration": 40,
    "start_time": "2023-03-03T10:34:23.410Z"
   },
   {
    "duration": 20,
    "start_time": "2023-03-03T10:34:23.461Z"
   },
   {
    "duration": 27,
    "start_time": "2023-03-03T10:34:23.483Z"
   },
   {
    "duration": 19,
    "start_time": "2023-03-03T10:34:23.511Z"
   },
   {
    "duration": 68,
    "start_time": "2023-03-03T10:34:23.532Z"
   },
   {
    "duration": 184,
    "start_time": "2023-03-03T10:34:23.602Z"
   },
   {
    "duration": 298,
    "start_time": "2023-03-03T10:34:23.788Z"
   },
   {
    "duration": 6,
    "start_time": "2023-03-03T10:34:24.089Z"
   },
   {
    "duration": 270,
    "start_time": "2023-03-03T10:34:24.096Z"
   },
   {
    "duration": 12,
    "start_time": "2023-03-03T10:34:24.368Z"
   },
   {
    "duration": 250,
    "start_time": "2023-03-03T10:34:24.382Z"
   },
   {
    "duration": 23,
    "start_time": "2023-03-03T10:34:24.634Z"
   },
   {
    "duration": 17,
    "start_time": "2023-03-03T10:34:24.659Z"
   },
   {
    "duration": 1016,
    "start_time": "2023-03-03T10:34:24.677Z"
   },
   {
    "duration": 1068,
    "start_time": "2023-03-03T10:34:25.695Z"
   },
   {
    "duration": 102,
    "start_time": "2023-03-03T10:34:26.767Z"
   },
   {
    "duration": 11,
    "start_time": "2023-03-03T10:34:26.871Z"
   },
   {
    "duration": 25,
    "start_time": "2023-03-03T10:34:26.883Z"
   },
   {
    "duration": 63,
    "start_time": "2023-03-03T10:34:26.910Z"
   },
   {
    "duration": 137,
    "start_time": "2023-03-03T10:34:26.975Z"
   },
   {
    "duration": 6,
    "start_time": "2023-03-03T10:34:27.113Z"
   },
   {
    "duration": 43,
    "start_time": "2023-03-03T10:34:27.121Z"
   },
   {
    "duration": 28,
    "start_time": "2023-03-03T10:34:38.485Z"
   },
   {
    "duration": 1512,
    "start_time": "2023-03-03T10:35:53.112Z"
   },
   {
    "duration": 283,
    "start_time": "2023-03-03T10:35:54.626Z"
   },
   {
    "duration": 28,
    "start_time": "2023-03-03T10:35:54.910Z"
   },
   {
    "duration": 25,
    "start_time": "2023-03-03T10:35:54.939Z"
   },
   {
    "duration": 32,
    "start_time": "2023-03-03T10:35:54.967Z"
   },
   {
    "duration": 20,
    "start_time": "2023-03-03T10:35:55.000Z"
   },
   {
    "duration": 79,
    "start_time": "2023-03-03T10:35:55.022Z"
   },
   {
    "duration": 139,
    "start_time": "2023-03-03T10:35:55.102Z"
   },
   {
    "duration": 303,
    "start_time": "2023-03-03T10:35:55.242Z"
   },
   {
    "duration": 14,
    "start_time": "2023-03-03T10:35:55.548Z"
   },
   {
    "duration": 422,
    "start_time": "2023-03-03T10:35:55.564Z"
   },
   {
    "duration": 12,
    "start_time": "2023-03-03T10:35:55.988Z"
   },
   {
    "duration": 274,
    "start_time": "2023-03-03T10:35:56.001Z"
   },
   {
    "duration": 14,
    "start_time": "2023-03-03T10:35:56.278Z"
   },
   {
    "duration": 17,
    "start_time": "2023-03-03T10:35:56.293Z"
   },
   {
    "duration": 1179,
    "start_time": "2023-03-03T10:35:56.313Z"
   },
   {
    "duration": 1109,
    "start_time": "2023-03-03T10:35:57.493Z"
   },
   {
    "duration": 120,
    "start_time": "2023-03-03T10:35:58.604Z"
   },
   {
    "duration": 23,
    "start_time": "2023-03-03T10:35:58.726Z"
   },
   {
    "duration": 45,
    "start_time": "2023-03-03T10:35:58.751Z"
   },
   {
    "duration": 39,
    "start_time": "2023-03-03T10:35:58.798Z"
   },
   {
    "duration": 143,
    "start_time": "2023-03-03T10:35:58.839Z"
   },
   {
    "duration": 7,
    "start_time": "2023-03-03T10:35:58.984Z"
   },
   {
    "duration": 619,
    "start_time": "2023-03-03T10:35:58.992Z"
   },
   {
    "duration": 1561,
    "start_time": "2023-03-03T10:36:17.733Z"
   },
   {
    "duration": 286,
    "start_time": "2023-03-03T10:36:19.296Z"
   },
   {
    "duration": 32,
    "start_time": "2023-03-03T10:36:19.584Z"
   },
   {
    "duration": 35,
    "start_time": "2023-03-03T10:36:19.618Z"
   },
   {
    "duration": 35,
    "start_time": "2023-03-03T10:36:19.659Z"
   },
   {
    "duration": 23,
    "start_time": "2023-03-03T10:36:19.696Z"
   },
   {
    "duration": 69,
    "start_time": "2023-03-03T10:36:19.720Z"
   },
   {
    "duration": 171,
    "start_time": "2023-03-03T10:36:19.791Z"
   },
   {
    "duration": 332,
    "start_time": "2023-03-03T10:36:19.965Z"
   },
   {
    "duration": 8,
    "start_time": "2023-03-03T10:36:20.299Z"
   },
   {
    "duration": 319,
    "start_time": "2023-03-03T10:36:20.308Z"
   },
   {
    "duration": 12,
    "start_time": "2023-03-03T10:36:20.628Z"
   },
   {
    "duration": 325,
    "start_time": "2023-03-03T10:36:20.642Z"
   },
   {
    "duration": 15,
    "start_time": "2023-03-03T10:36:20.975Z"
   },
   {
    "duration": 41,
    "start_time": "2023-03-03T10:36:20.992Z"
   },
   {
    "duration": 1114,
    "start_time": "2023-03-03T10:36:21.034Z"
   },
   {
    "duration": 1094,
    "start_time": "2023-03-03T10:36:22.153Z"
   },
   {
    "duration": 136,
    "start_time": "2023-03-03T10:36:23.251Z"
   },
   {
    "duration": 13,
    "start_time": "2023-03-03T10:36:23.389Z"
   },
   {
    "duration": 51,
    "start_time": "2023-03-03T10:36:23.404Z"
   },
   {
    "duration": 56,
    "start_time": "2023-03-03T10:36:23.457Z"
   },
   {
    "duration": 137,
    "start_time": "2023-03-03T10:36:23.514Z"
   },
   {
    "duration": 11,
    "start_time": "2023-03-03T10:36:23.653Z"
   },
   {
    "duration": 262,
    "start_time": "2023-03-03T10:36:23.666Z"
   },
   {
    "duration": 34,
    "start_time": "2023-03-03T10:36:27.871Z"
   },
   {
    "duration": 35,
    "start_time": "2023-03-03T10:36:42.075Z"
   },
   {
    "duration": 5,
    "start_time": "2023-03-03T10:38:51.094Z"
   },
   {
    "duration": 197,
    "start_time": "2023-03-03T10:38:51.266Z"
   },
   {
    "duration": 1612,
    "start_time": "2023-03-03T10:38:51.831Z"
   },
   {
    "duration": 31,
    "start_time": "2023-03-03T10:38:54.812Z"
   },
   {
    "duration": 6,
    "start_time": "2023-03-03T10:39:04.874Z"
   },
   {
    "duration": 12,
    "start_time": "2023-03-03T10:39:25.130Z"
   },
   {
    "duration": 5,
    "start_time": "2023-03-03T10:40:00.726Z"
   },
   {
    "duration": 187,
    "start_time": "2023-03-03T10:40:39.073Z"
   },
   {
    "duration": 5,
    "start_time": "2023-03-03T10:40:39.658Z"
   },
   {
    "duration": 28,
    "start_time": "2023-03-03T10:40:44.861Z"
   },
   {
    "duration": 39,
    "start_time": "2023-03-03T10:40:53.975Z"
   },
   {
    "duration": 6,
    "start_time": "2023-03-03T10:41:37.139Z"
   },
   {
    "duration": 6,
    "start_time": "2023-03-03T10:41:40.333Z"
   },
   {
    "duration": 95,
    "start_time": "2023-03-03T10:42:02.936Z"
   },
   {
    "duration": 5,
    "start_time": "2023-03-03T10:42:06.140Z"
   },
   {
    "duration": 203,
    "start_time": "2023-03-03T10:42:07.033Z"
   },
   {
    "duration": 29,
    "start_time": "2023-03-03T10:42:10.681Z"
   },
   {
    "duration": 5,
    "start_time": "2023-03-03T10:42:21.581Z"
   },
   {
    "duration": 31,
    "start_time": "2023-03-03T10:42:21.961Z"
   },
   {
    "duration": 8,
    "start_time": "2023-03-03T10:42:33.743Z"
   },
   {
    "duration": 186,
    "start_time": "2023-03-03T10:42:35.261Z"
   },
   {
    "duration": 29,
    "start_time": "2023-03-03T10:42:37.211Z"
   },
   {
    "duration": 31,
    "start_time": "2023-03-03T10:42:49.261Z"
   },
   {
    "duration": 8,
    "start_time": "2023-03-03T10:43:35.357Z"
   },
   {
    "duration": 139,
    "start_time": "2023-03-03T10:43:35.793Z"
   },
   {
    "duration": 30,
    "start_time": "2023-03-03T10:43:39.074Z"
   },
   {
    "duration": 9,
    "start_time": "2023-03-03T10:49:02.002Z"
   },
   {
    "duration": 9,
    "start_time": "2023-03-03T10:49:09.237Z"
   },
   {
    "duration": 30,
    "start_time": "2023-03-03T10:49:47.474Z"
   },
   {
    "duration": 41,
    "start_time": "2023-03-03T11:00:55.963Z"
   },
   {
    "duration": 11,
    "start_time": "2023-03-03T11:03:28.757Z"
   },
   {
    "duration": 35,
    "start_time": "2023-03-03T11:03:35.883Z"
   },
   {
    "duration": 13,
    "start_time": "2023-03-03T11:03:43.369Z"
   },
   {
    "duration": 19,
    "start_time": "2023-03-03T11:03:57.145Z"
   },
   {
    "duration": 1013,
    "start_time": "2023-03-03T11:04:26.441Z"
   },
   {
    "duration": 20,
    "start_time": "2023-03-03T11:04:44.166Z"
   },
   {
    "duration": 37,
    "start_time": "2023-03-03T11:04:50.272Z"
   },
   {
    "duration": 44,
    "start_time": "2023-03-03T11:05:18.667Z"
   },
   {
    "duration": 81,
    "start_time": "2023-03-03T11:06:44.540Z"
   },
   {
    "duration": 92,
    "start_time": "2023-03-03T11:07:24.240Z"
   },
   {
    "duration": 455,
    "start_time": "2023-03-03T11:07:27.897Z"
   },
   {
    "duration": 40,
    "start_time": "2023-03-03T11:07:30.144Z"
   },
   {
    "duration": 1516,
    "start_time": "2023-03-03T11:11:41.657Z"
   },
   {
    "duration": 2031,
    "start_time": "2023-03-03T11:11:52.579Z"
   },
   {
    "duration": 1082,
    "start_time": "2023-03-03T11:12:07.976Z"
   },
   {
    "duration": 47,
    "start_time": "2023-03-03T11:12:12.131Z"
   },
   {
    "duration": 5,
    "start_time": "2023-03-03T11:13:47.743Z"
   },
   {
    "duration": 7,
    "start_time": "2023-03-03T11:13:52.877Z"
   },
   {
    "duration": 2236,
    "start_time": "2023-03-03T11:14:02.556Z"
   },
   {
    "duration": 1582,
    "start_time": "2023-03-03T11:14:09.217Z"
   },
   {
    "duration": 7,
    "start_time": "2023-03-03T11:16:14.577Z"
   },
   {
    "duration": 87,
    "start_time": "2023-03-03T11:16:27.051Z"
   },
   {
    "duration": 90,
    "start_time": "2023-03-03T11:16:31.767Z"
   },
   {
    "duration": 34,
    "start_time": "2023-03-03T11:16:34.698Z"
   },
   {
    "duration": 1240,
    "start_time": "2023-03-03T11:16:40.834Z"
   },
   {
    "duration": 11,
    "start_time": "2023-03-03T11:16:48.185Z"
   },
   {
    "duration": 14,
    "start_time": "2023-03-03T11:16:55.175Z"
   },
   {
    "duration": 30,
    "start_time": "2023-03-03T11:26:41.643Z"
   },
   {
    "duration": 90,
    "start_time": "2023-03-03T11:27:25.930Z"
   },
   {
    "duration": 166,
    "start_time": "2023-03-03T11:27:47.179Z"
   },
   {
    "duration": 282,
    "start_time": "2023-03-03T11:28:17.011Z"
   },
   {
    "duration": 232,
    "start_time": "2023-03-03T11:28:21.919Z"
   },
   {
    "duration": 225,
    "start_time": "2023-03-03T11:28:28.199Z"
   },
   {
    "duration": 245,
    "start_time": "2023-03-03T11:30:11.869Z"
   },
   {
    "duration": 45,
    "start_time": "2023-03-03T11:33:42.178Z"
   },
   {
    "duration": 7,
    "start_time": "2023-03-03T11:33:57.242Z"
   },
   {
    "duration": 10,
    "start_time": "2023-03-03T11:34:16.364Z"
   },
   {
    "duration": 8,
    "start_time": "2023-03-03T11:34:21.885Z"
   },
   {
    "duration": 18,
    "start_time": "2023-03-03T11:35:30.541Z"
   },
   {
    "duration": 35,
    "start_time": "2023-03-03T11:35:36.502Z"
   },
   {
    "duration": 328,
    "start_time": "2023-03-03T11:39:12.118Z"
   },
   {
    "duration": 176,
    "start_time": "2023-03-03T11:39:20.141Z"
   },
   {
    "duration": 10,
    "start_time": "2023-03-03T11:39:34.634Z"
   },
   {
    "duration": 175,
    "start_time": "2023-03-03T11:40:47.866Z"
   },
   {
    "duration": 179,
    "start_time": "2023-03-03T11:41:08.176Z"
   },
   {
    "duration": 200,
    "start_time": "2023-03-03T11:41:17.431Z"
   },
   {
    "duration": 190,
    "start_time": "2023-03-03T11:41:21.017Z"
   },
   {
    "duration": 244,
    "start_time": "2023-03-03T11:41:25.429Z"
   },
   {
    "duration": 177,
    "start_time": "2023-03-03T11:41:28.630Z"
   },
   {
    "duration": 204,
    "start_time": "2023-03-03T11:41:47.874Z"
   },
   {
    "duration": 208,
    "start_time": "2023-03-03T11:43:18.872Z"
   },
   {
    "duration": 27,
    "start_time": "2023-03-03T11:43:38.733Z"
   },
   {
    "duration": 28,
    "start_time": "2023-03-03T11:43:43.424Z"
   },
   {
    "duration": 162,
    "start_time": "2023-03-03T11:43:49.099Z"
   },
   {
    "duration": 267,
    "start_time": "2023-03-03T11:44:02.570Z"
   },
   {
    "duration": 144,
    "start_time": "2023-03-03T11:44:07.184Z"
   },
   {
    "duration": 113,
    "start_time": "2023-03-03T11:45:27.863Z"
   },
   {
    "duration": 127,
    "start_time": "2023-03-03T11:45:33.760Z"
   },
   {
    "duration": 120,
    "start_time": "2023-03-03T11:45:43.188Z"
   },
   {
    "duration": 110,
    "start_time": "2023-03-03T11:45:49.238Z"
   },
   {
    "duration": 149,
    "start_time": "2023-03-03T11:46:30.030Z"
   },
   {
    "duration": 26,
    "start_time": "2023-03-03T11:46:34.102Z"
   },
   {
    "duration": 155,
    "start_time": "2023-03-03T11:46:35.678Z"
   },
   {
    "duration": 162,
    "start_time": "2023-03-03T11:46:40.989Z"
   },
   {
    "duration": 112,
    "start_time": "2023-03-03T11:46:48.029Z"
   },
   {
    "duration": 122,
    "start_time": "2023-03-03T11:46:51.833Z"
   },
   {
    "duration": 115,
    "start_time": "2023-03-03T11:47:24.238Z"
   },
   {
    "duration": 118,
    "start_time": "2023-03-03T11:47:50.263Z"
   },
   {
    "duration": 147,
    "start_time": "2023-03-03T11:47:54.081Z"
   },
   {
    "duration": 254,
    "start_time": "2023-03-03T11:48:01.770Z"
   },
   {
    "duration": 156,
    "start_time": "2023-03-03T11:48:08.967Z"
   },
   {
    "duration": 173,
    "start_time": "2023-03-03T11:48:17.333Z"
   },
   {
    "duration": 155,
    "start_time": "2023-03-03T11:48:30.450Z"
   },
   {
    "duration": 183,
    "start_time": "2023-03-03T11:48:34.968Z"
   },
   {
    "duration": 179,
    "start_time": "2023-03-03T11:49:06.073Z"
   },
   {
    "duration": 148,
    "start_time": "2023-03-03T11:49:12.939Z"
   },
   {
    "duration": 177,
    "start_time": "2023-03-03T11:49:16.679Z"
   },
   {
    "duration": 176,
    "start_time": "2023-03-03T11:49:22.856Z"
   },
   {
    "duration": 180,
    "start_time": "2023-03-03T11:49:27.732Z"
   },
   {
    "duration": 201,
    "start_time": "2023-03-03T11:50:03.919Z"
   },
   {
    "duration": 201,
    "start_time": "2023-03-03T11:50:17.548Z"
   },
   {
    "duration": 14,
    "start_time": "2023-03-03T11:50:23.796Z"
   },
   {
    "duration": 12,
    "start_time": "2023-03-03T11:50:42.033Z"
   },
   {
    "duration": 13,
    "start_time": "2023-03-03T11:50:45.789Z"
   },
   {
    "duration": 9,
    "start_time": "2023-03-03T11:51:39.844Z"
   },
   {
    "duration": 367,
    "start_time": "2023-03-03T11:52:45.762Z"
   },
   {
    "duration": 360,
    "start_time": "2023-03-03T11:53:03.829Z"
   },
   {
    "duration": 6,
    "start_time": "2023-03-03T11:53:17.935Z"
   },
   {
    "duration": 15,
    "start_time": "2023-03-03T11:53:21.931Z"
   },
   {
    "duration": 15,
    "start_time": "2023-03-03T11:53:34.287Z"
   },
   {
    "duration": 195,
    "start_time": "2023-03-03T11:55:08.053Z"
   },
   {
    "duration": 297,
    "start_time": "2023-03-03T11:55:16.000Z"
   },
   {
    "duration": 176,
    "start_time": "2023-03-03T11:57:10.986Z"
   },
   {
    "duration": 188,
    "start_time": "2023-03-03T11:57:48.853Z"
   },
   {
    "duration": 219,
    "start_time": "2023-03-03T11:58:09.121Z"
   },
   {
    "duration": 258,
    "start_time": "2023-03-03T11:59:39.669Z"
   },
   {
    "duration": 223,
    "start_time": "2023-03-03T11:59:44.232Z"
   },
   {
    "duration": 223,
    "start_time": "2023-03-03T11:59:50.386Z"
   },
   {
    "duration": 184,
    "start_time": "2023-03-03T11:59:59.557Z"
   },
   {
    "duration": 193,
    "start_time": "2023-03-03T12:00:38.525Z"
   },
   {
    "duration": 187,
    "start_time": "2023-03-03T12:00:43.116Z"
   },
   {
    "duration": 205,
    "start_time": "2023-03-03T12:00:48.990Z"
   },
   {
    "duration": 308,
    "start_time": "2023-03-03T12:01:02.736Z"
   },
   {
    "duration": 226,
    "start_time": "2023-03-03T12:01:47.433Z"
   },
   {
    "duration": 196,
    "start_time": "2023-03-03T12:03:26.297Z"
   },
   {
    "duration": 185,
    "start_time": "2023-03-03T12:03:39.366Z"
   },
   {
    "duration": 191,
    "start_time": "2023-03-03T12:03:46.906Z"
   },
   {
    "duration": 198,
    "start_time": "2023-03-03T12:04:00.004Z"
   },
   {
    "duration": 159,
    "start_time": "2023-03-03T12:04:14.642Z"
   },
   {
    "duration": 230,
    "start_time": "2023-03-03T12:04:43.311Z"
   },
   {
    "duration": 193,
    "start_time": "2023-03-03T12:05:43.455Z"
   },
   {
    "duration": 93,
    "start_time": "2023-03-03T12:05:56.150Z"
   },
   {
    "duration": 99,
    "start_time": "2023-03-03T12:06:00.687Z"
   },
   {
    "duration": 112,
    "start_time": "2023-03-03T12:06:07.493Z"
   },
   {
    "duration": 384,
    "start_time": "2023-03-03T12:06:16.038Z"
   },
   {
    "duration": 221,
    "start_time": "2023-03-03T12:06:36.061Z"
   },
   {
    "duration": 261,
    "start_time": "2023-03-03T12:07:00.011Z"
   },
   {
    "duration": 262,
    "start_time": "2023-03-03T12:07:05.885Z"
   },
   {
    "duration": 241,
    "start_time": "2023-03-03T12:07:11.860Z"
   },
   {
    "duration": 374,
    "start_time": "2023-03-03T12:08:36.574Z"
   },
   {
    "duration": 302,
    "start_time": "2023-03-03T12:08:56.465Z"
   },
   {
    "duration": 327,
    "start_time": "2023-03-03T12:09:13.379Z"
   },
   {
    "duration": 272,
    "start_time": "2023-03-03T12:09:30.721Z"
   },
   {
    "duration": 264,
    "start_time": "2023-03-03T12:10:12.468Z"
   },
   {
    "duration": 275,
    "start_time": "2023-03-03T12:10:17.997Z"
   },
   {
    "duration": 398,
    "start_time": "2023-03-03T12:10:29.694Z"
   },
   {
    "duration": 289,
    "start_time": "2023-03-03T12:11:14.639Z"
   },
   {
    "duration": 324,
    "start_time": "2023-03-03T12:11:28.867Z"
   },
   {
    "duration": 300,
    "start_time": "2023-03-03T12:13:24.563Z"
   },
   {
    "duration": 283,
    "start_time": "2023-03-03T12:14:28.732Z"
   },
   {
    "duration": 271,
    "start_time": "2023-03-03T12:14:42.288Z"
   },
   {
    "duration": 299,
    "start_time": "2023-03-03T12:14:48.086Z"
   },
   {
    "duration": 358,
    "start_time": "2023-03-03T12:16:21.270Z"
   },
   {
    "duration": 313,
    "start_time": "2023-03-03T12:16:28.066Z"
   },
   {
    "duration": 337,
    "start_time": "2023-03-03T12:16:33.972Z"
   },
   {
    "duration": 432,
    "start_time": "2023-03-03T12:16:39.518Z"
   },
   {
    "duration": 298,
    "start_time": "2023-03-03T12:16:42.803Z"
   },
   {
    "duration": 313,
    "start_time": "2023-03-03T12:16:49.232Z"
   },
   {
    "duration": 304,
    "start_time": "2023-03-03T12:17:08.566Z"
   },
   {
    "duration": 302,
    "start_time": "2023-03-03T12:17:11.576Z"
   },
   {
    "duration": 286,
    "start_time": "2023-03-03T12:17:16.712Z"
   },
   {
    "duration": 303,
    "start_time": "2023-03-03T12:17:24.513Z"
   },
   {
    "duration": 308,
    "start_time": "2023-03-03T12:17:29.443Z"
   },
   {
    "duration": 296,
    "start_time": "2023-03-03T12:17:33.843Z"
   },
   {
    "duration": 305,
    "start_time": "2023-03-03T12:17:39.320Z"
   },
   {
    "duration": 1252,
    "start_time": "2023-03-03T12:17:47.360Z"
   },
   {
    "duration": 296,
    "start_time": "2023-03-03T12:17:59.442Z"
   },
   {
    "duration": 433,
    "start_time": "2023-03-03T12:18:04.555Z"
   },
   {
    "duration": 304,
    "start_time": "2023-03-03T12:18:19.778Z"
   },
   {
    "duration": 301,
    "start_time": "2023-03-03T12:18:22.127Z"
   },
   {
    "duration": 310,
    "start_time": "2023-03-03T12:18:31.212Z"
   },
   {
    "duration": 323,
    "start_time": "2023-03-03T12:18:37.292Z"
   },
   {
    "duration": 388,
    "start_time": "2023-03-03T12:19:01.376Z"
   },
   {
    "duration": 303,
    "start_time": "2023-03-03T12:19:07.829Z"
   },
   {
    "duration": 291,
    "start_time": "2023-03-03T12:19:13.859Z"
   },
   {
    "duration": 284,
    "start_time": "2023-03-03T12:19:20.294Z"
   },
   {
    "duration": 305,
    "start_time": "2023-03-03T12:19:25.726Z"
   },
   {
    "duration": 404,
    "start_time": "2023-03-03T12:19:34.491Z"
   },
   {
    "duration": 291,
    "start_time": "2023-03-03T12:20:02.060Z"
   },
   {
    "duration": 1598,
    "start_time": "2023-03-03T12:20:09.759Z"
   },
   {
    "duration": 308,
    "start_time": "2023-03-03T12:20:12.369Z"
   },
   {
    "duration": 295,
    "start_time": "2023-03-03T12:20:32.136Z"
   },
   {
    "duration": 289,
    "start_time": "2023-03-03T12:20:37.460Z"
   },
   {
    "duration": 558,
    "start_time": "2023-03-03T12:23:00.766Z"
   },
   {
    "duration": 791,
    "start_time": "2023-03-03T12:23:25.392Z"
   },
   {
    "duration": 11,
    "start_time": "2023-03-03T12:27:25.601Z"
   },
   {
    "duration": 106,
    "start_time": "2023-03-03T12:29:28.639Z"
   },
   {
    "duration": 394,
    "start_time": "2023-03-03T12:29:34.192Z"
   },
   {
    "duration": 353,
    "start_time": "2023-03-03T12:29:42.212Z"
   },
   {
    "duration": 349,
    "start_time": "2023-03-03T12:29:52.876Z"
   },
   {
    "duration": 320,
    "start_time": "2023-03-03T12:30:15.949Z"
   },
   {
    "duration": 4,
    "start_time": "2023-03-03T12:31:24.388Z"
   },
   {
    "duration": 250,
    "start_time": "2023-03-03T12:31:24.567Z"
   },
   {
    "duration": 32,
    "start_time": "2023-03-03T12:31:25.124Z"
   },
   {
    "duration": 23,
    "start_time": "2023-03-03T12:31:25.322Z"
   },
   {
    "duration": 24,
    "start_time": "2023-03-03T12:31:25.523Z"
   },
   {
    "duration": 21,
    "start_time": "2023-03-03T12:31:25.716Z"
   },
   {
    "duration": 53,
    "start_time": "2023-03-03T12:31:26.135Z"
   },
   {
    "duration": 168,
    "start_time": "2023-03-03T12:31:27.530Z"
   },
   {
    "duration": 333,
    "start_time": "2023-03-03T12:31:28.737Z"
   },
   {
    "duration": 6,
    "start_time": "2023-03-03T12:31:29.991Z"
   },
   {
    "duration": 316,
    "start_time": "2023-03-03T12:31:31.209Z"
   },
   {
    "duration": 14,
    "start_time": "2023-03-03T12:31:32.680Z"
   },
   {
    "duration": 336,
    "start_time": "2023-03-03T12:31:33.339Z"
   },
   {
    "duration": 19,
    "start_time": "2023-03-03T12:31:34.434Z"
   },
   {
    "duration": 16,
    "start_time": "2023-03-03T12:31:34.975Z"
   },
   {
    "duration": 1210,
    "start_time": "2023-03-03T12:31:37.671Z"
   },
   {
    "duration": 1143,
    "start_time": "2023-03-03T12:31:39.391Z"
   },
   {
    "duration": 153,
    "start_time": "2023-03-03T12:31:41.379Z"
   },
   {
    "duration": 10,
    "start_time": "2023-03-03T12:31:43.471Z"
   },
   {
    "duration": 17,
    "start_time": "2023-03-03T12:31:49.475Z"
   },
   {
    "duration": 7,
    "start_time": "2023-03-03T12:31:54.810Z"
   },
   {
    "duration": 35,
    "start_time": "2023-03-03T12:32:43.269Z"
   },
   {
    "duration": 109,
    "start_time": "2023-03-03T12:32:55.161Z"
   },
   {
    "duration": 22,
    "start_time": "2023-03-03T12:32:57.390Z"
   },
   {
    "duration": 13,
    "start_time": "2023-03-03T12:33:03.867Z"
   },
   {
    "duration": 12,
    "start_time": "2023-03-03T12:33:07.378Z"
   },
   {
    "duration": 9,
    "start_time": "2023-03-03T12:33:12.133Z"
   },
   {
    "duration": 10,
    "start_time": "2023-03-03T12:33:19.997Z"
   },
   {
    "duration": 99,
    "start_time": "2023-03-03T12:33:21.914Z"
   },
   {
    "duration": 6,
    "start_time": "2023-03-03T12:33:26.436Z"
   },
   {
    "duration": 74,
    "start_time": "2023-03-03T12:34:09.479Z"
   },
   {
    "duration": 9,
    "start_time": "2023-03-03T12:35:46.874Z"
   },
   {
    "duration": 14,
    "start_time": "2023-03-03T12:35:48.823Z"
   },
   {
    "duration": 14,
    "start_time": "2023-03-03T12:37:59.107Z"
   },
   {
    "duration": 1471,
    "start_time": "2023-03-03T12:38:11.183Z"
   },
   {
    "duration": 256,
    "start_time": "2023-03-03T12:38:12.657Z"
   },
   {
    "duration": 42,
    "start_time": "2023-03-03T12:38:12.915Z"
   },
   {
    "duration": 24,
    "start_time": "2023-03-03T12:38:12.961Z"
   },
   {
    "duration": 27,
    "start_time": "2023-03-03T12:38:12.987Z"
   },
   {
    "duration": 51,
    "start_time": "2023-03-03T12:38:13.016Z"
   },
   {
    "duration": 49,
    "start_time": "2023-03-03T12:38:13.069Z"
   },
   {
    "duration": 171,
    "start_time": "2023-03-03T12:38:13.120Z"
   },
   {
    "duration": 340,
    "start_time": "2023-03-03T12:38:13.293Z"
   },
   {
    "duration": 16,
    "start_time": "2023-03-03T12:38:13.636Z"
   },
   {
    "duration": 308,
    "start_time": "2023-03-03T12:38:13.654Z"
   },
   {
    "duration": 13,
    "start_time": "2023-03-03T12:38:13.964Z"
   },
   {
    "duration": 263,
    "start_time": "2023-03-03T12:38:13.979Z"
   },
   {
    "duration": 25,
    "start_time": "2023-03-03T12:38:14.245Z"
   },
   {
    "duration": 20,
    "start_time": "2023-03-03T12:38:14.272Z"
   },
   {
    "duration": 1124,
    "start_time": "2023-03-03T12:38:14.294Z"
   },
   {
    "duration": 1176,
    "start_time": "2023-03-03T12:38:15.420Z"
   },
   {
    "duration": 137,
    "start_time": "2023-03-03T12:38:16.598Z"
   },
   {
    "duration": 15,
    "start_time": "2023-03-03T12:38:16.737Z"
   },
   {
    "duration": 19,
    "start_time": "2023-03-03T12:38:16.754Z"
   },
   {
    "duration": 9,
    "start_time": "2023-03-03T12:38:16.775Z"
   },
   {
    "duration": 17,
    "start_time": "2023-03-03T12:38:16.785Z"
   },
   {
    "duration": 22,
    "start_time": "2023-03-03T12:38:16.804Z"
   },
   {
    "duration": 171,
    "start_time": "2023-03-03T12:38:16.828Z"
   },
   {
    "duration": 0,
    "start_time": "2023-03-03T12:38:17.001Z"
   },
   {
    "duration": 0,
    "start_time": "2023-03-03T12:38:17.002Z"
   },
   {
    "duration": 0,
    "start_time": "2023-03-03T12:38:17.004Z"
   },
   {
    "duration": 0,
    "start_time": "2023-03-03T12:38:17.005Z"
   },
   {
    "duration": 0,
    "start_time": "2023-03-03T12:38:17.006Z"
   },
   {
    "duration": 0,
    "start_time": "2023-03-03T12:38:17.008Z"
   },
   {
    "duration": 1652,
    "start_time": "2023-03-03T12:38:37.204Z"
   },
   {
    "duration": 309,
    "start_time": "2023-03-03T12:38:38.858Z"
   },
   {
    "duration": 30,
    "start_time": "2023-03-03T12:38:39.179Z"
   },
   {
    "duration": 21,
    "start_time": "2023-03-03T12:38:39.212Z"
   },
   {
    "duration": 32,
    "start_time": "2023-03-03T12:38:39.235Z"
   },
   {
    "duration": 46,
    "start_time": "2023-03-03T12:38:39.269Z"
   },
   {
    "duration": 71,
    "start_time": "2023-03-03T12:38:39.317Z"
   },
   {
    "duration": 162,
    "start_time": "2023-03-03T12:38:39.390Z"
   },
   {
    "duration": 348,
    "start_time": "2023-03-03T12:38:39.556Z"
   },
   {
    "duration": 6,
    "start_time": "2023-03-03T12:38:39.907Z"
   },
   {
    "duration": 303,
    "start_time": "2023-03-03T12:38:39.914Z"
   },
   {
    "duration": 12,
    "start_time": "2023-03-03T12:38:40.219Z"
   },
   {
    "duration": 283,
    "start_time": "2023-03-03T12:38:40.233Z"
   },
   {
    "duration": 34,
    "start_time": "2023-03-03T12:38:40.518Z"
   },
   {
    "duration": 25,
    "start_time": "2023-03-03T12:38:40.554Z"
   },
   {
    "duration": 1237,
    "start_time": "2023-03-03T12:38:40.581Z"
   },
   {
    "duration": 1162,
    "start_time": "2023-03-03T12:38:41.820Z"
   },
   {
    "duration": 137,
    "start_time": "2023-03-03T12:38:42.984Z"
   },
   {
    "duration": 11,
    "start_time": "2023-03-03T12:38:43.122Z"
   },
   {
    "duration": 25,
    "start_time": "2023-03-03T12:38:43.134Z"
   },
   {
    "duration": 25,
    "start_time": "2023-03-03T12:38:43.162Z"
   },
   {
    "duration": 11,
    "start_time": "2023-03-03T12:38:43.188Z"
   },
   {
    "duration": 13,
    "start_time": "2023-03-03T12:38:43.201Z"
   },
   {
    "duration": 21,
    "start_time": "2023-03-03T12:38:43.216Z"
   },
   {
    "duration": 61,
    "start_time": "2023-03-03T12:38:43.238Z"
   },
   {
    "duration": 117,
    "start_time": "2023-03-03T12:38:43.301Z"
   },
   {
    "duration": 7,
    "start_time": "2023-03-03T12:38:43.421Z"
   },
   {
    "duration": 160,
    "start_time": "2023-03-03T12:38:43.431Z"
   },
   {
    "duration": 1594,
    "start_time": "2023-03-03T12:38:43.593Z"
   },
   {
    "duration": 507,
    "start_time": "2023-03-03T12:38:45.189Z"
   },
   {
    "duration": 284,
    "start_time": "2023-03-03T12:39:05.568Z"
   },
   {
    "duration": 358,
    "start_time": "2023-03-03T12:41:24.340Z"
   },
   {
    "duration": 48,
    "start_time": "2023-03-05T09:23:25.600Z"
   },
   {
    "duration": 1805,
    "start_time": "2023-03-05T09:30:32.932Z"
   },
   {
    "duration": 870,
    "start_time": "2023-03-05T09:30:34.740Z"
   },
   {
    "duration": 39,
    "start_time": "2023-03-05T09:30:35.613Z"
   },
   {
    "duration": 28,
    "start_time": "2023-03-05T09:30:35.654Z"
   },
   {
    "duration": 59,
    "start_time": "2023-03-05T09:30:35.685Z"
   },
   {
    "duration": 21,
    "start_time": "2023-03-05T09:30:35.746Z"
   },
   {
    "duration": 78,
    "start_time": "2023-03-05T09:30:35.769Z"
   },
   {
    "duration": 141,
    "start_time": "2023-03-05T09:30:35.849Z"
   },
   {
    "duration": 294,
    "start_time": "2023-03-05T09:30:35.992Z"
   },
   {
    "duration": 7,
    "start_time": "2023-03-05T09:30:36.289Z"
   },
   {
    "duration": 281,
    "start_time": "2023-03-05T09:30:36.298Z"
   },
   {
    "duration": 11,
    "start_time": "2023-03-05T09:30:36.581Z"
   },
   {
    "duration": 254,
    "start_time": "2023-03-05T09:30:36.594Z"
   },
   {
    "duration": 20,
    "start_time": "2023-03-05T09:30:36.852Z"
   },
   {
    "duration": 111,
    "start_time": "2023-03-05T09:30:36.874Z"
   },
   {
    "duration": 1018,
    "start_time": "2023-03-05T09:30:36.987Z"
   },
   {
    "duration": 1018,
    "start_time": "2023-03-05T09:30:38.007Z"
   },
   {
    "duration": 130,
    "start_time": "2023-03-05T09:30:39.027Z"
   },
   {
    "duration": 9,
    "start_time": "2023-03-05T09:30:39.159Z"
   },
   {
    "duration": 8,
    "start_time": "2023-03-05T09:30:39.169Z"
   },
   {
    "duration": 6,
    "start_time": "2023-03-05T09:30:39.179Z"
   },
   {
    "duration": 33,
    "start_time": "2023-03-05T09:30:39.187Z"
   },
   {
    "duration": 14,
    "start_time": "2023-03-05T09:30:39.222Z"
   },
   {
    "duration": 26,
    "start_time": "2023-03-05T09:30:39.239Z"
   },
   {
    "duration": 61,
    "start_time": "2023-03-05T09:30:39.267Z"
   },
   {
    "duration": 105,
    "start_time": "2023-03-05T09:30:39.330Z"
   },
   {
    "duration": 6,
    "start_time": "2023-03-05T09:30:39.438Z"
   },
   {
    "duration": 157,
    "start_time": "2023-03-05T09:30:39.446Z"
   },
   {
    "duration": 1293,
    "start_time": "2023-03-05T09:30:39.604Z"
   },
   {
    "duration": 399,
    "start_time": "2023-03-05T09:30:40.898Z"
   },
   {
    "duration": 251,
    "start_time": "2023-03-05T09:30:41.299Z"
   },
   {
    "duration": 34,
    "start_time": "2023-03-05T09:30:41.552Z"
   },
   {
    "duration": 9,
    "start_time": "2023-03-05T09:32:58.017Z"
   },
   {
    "duration": 11,
    "start_time": "2023-03-05T09:35:15.007Z"
   },
   {
    "duration": 33,
    "start_time": "2023-03-05T09:35:17.720Z"
   },
   {
    "duration": 1512,
    "start_time": "2023-03-05T09:35:36.421Z"
   },
   {
    "duration": 252,
    "start_time": "2023-03-05T09:35:37.935Z"
   },
   {
    "duration": 28,
    "start_time": "2023-03-05T09:35:38.188Z"
   },
   {
    "duration": 20,
    "start_time": "2023-03-05T09:35:38.218Z"
   },
   {
    "duration": 26,
    "start_time": "2023-03-05T09:35:38.240Z"
   },
   {
    "duration": 47,
    "start_time": "2023-03-05T09:35:38.268Z"
   },
   {
    "duration": 55,
    "start_time": "2023-03-05T09:35:38.317Z"
   },
   {
    "duration": 164,
    "start_time": "2023-03-05T09:35:38.374Z"
   },
   {
    "duration": 277,
    "start_time": "2023-03-05T09:35:38.540Z"
   },
   {
    "duration": 6,
    "start_time": "2023-03-05T09:35:38.821Z"
   },
   {
    "duration": 274,
    "start_time": "2023-03-05T09:35:38.829Z"
   },
   {
    "duration": 16,
    "start_time": "2023-03-05T09:35:39.104Z"
   },
   {
    "duration": 246,
    "start_time": "2023-03-05T09:35:39.122Z"
   },
   {
    "duration": 16,
    "start_time": "2023-03-05T09:35:39.370Z"
   },
   {
    "duration": 35,
    "start_time": "2023-03-05T09:35:39.387Z"
   },
   {
    "duration": 1014,
    "start_time": "2023-03-05T09:35:39.424Z"
   },
   {
    "duration": 1027,
    "start_time": "2023-03-05T09:35:40.440Z"
   },
   {
    "duration": 118,
    "start_time": "2023-03-05T09:35:41.468Z"
   },
   {
    "duration": 9,
    "start_time": "2023-03-05T09:35:41.587Z"
   },
   {
    "duration": 15,
    "start_time": "2023-03-05T09:35:41.598Z"
   },
   {
    "duration": 7,
    "start_time": "2023-03-05T09:35:41.614Z"
   },
   {
    "duration": 10,
    "start_time": "2023-03-05T09:35:41.623Z"
   },
   {
    "duration": 13,
    "start_time": "2023-03-05T09:35:41.635Z"
   },
   {
    "duration": 28,
    "start_time": "2023-03-05T09:35:41.650Z"
   },
   {
    "duration": 56,
    "start_time": "2023-03-05T09:35:41.680Z"
   },
   {
    "duration": 105,
    "start_time": "2023-03-05T09:35:41.738Z"
   },
   {
    "duration": 6,
    "start_time": "2023-03-05T09:35:41.846Z"
   },
   {
    "duration": 120,
    "start_time": "2023-03-05T09:35:41.856Z"
   },
   {
    "duration": 1292,
    "start_time": "2023-03-05T09:35:41.978Z"
   },
   {
    "duration": 416,
    "start_time": "2023-03-05T09:35:43.273Z"
   },
   {
    "duration": 260,
    "start_time": "2023-03-05T09:35:43.691Z"
   },
   {
    "duration": 9,
    "start_time": "2023-03-05T09:35:43.952Z"
   },
   {
    "duration": 52,
    "start_time": "2023-03-05T09:35:43.962Z"
   },
   {
    "duration": 14,
    "start_time": "2023-03-05T09:39:39.414Z"
   },
   {
    "duration": 11,
    "start_time": "2023-03-05T09:42:57.187Z"
   },
   {
    "duration": 110,
    "start_time": "2023-03-05T10:09:59.694Z"
   },
   {
    "duration": 118,
    "start_time": "2023-03-05T10:10:02.976Z"
   },
   {
    "duration": 74,
    "start_time": "2023-03-05T10:10:08.212Z"
   },
   {
    "duration": 77,
    "start_time": "2023-03-05T10:10:12.097Z"
   },
   {
    "duration": 5,
    "start_time": "2023-03-05T10:10:25.567Z"
   },
   {
    "duration": 4,
    "start_time": "2023-03-05T10:10:30.082Z"
   },
   {
    "duration": 4,
    "start_time": "2023-03-05T10:10:32.567Z"
   },
   {
    "duration": 76,
    "start_time": "2023-03-05T10:10:35.112Z"
   },
   {
    "duration": 5,
    "start_time": "2023-03-05T10:10:42.871Z"
   },
   {
    "duration": 4,
    "start_time": "2023-03-05T10:10:48.995Z"
   },
   {
    "duration": 3,
    "start_time": "2023-03-05T10:11:05.575Z"
   },
   {
    "duration": 119,
    "start_time": "2023-03-05T10:11:22.229Z"
   },
   {
    "duration": 5,
    "start_time": "2023-03-05T10:11:32.901Z"
   },
   {
    "duration": 6,
    "start_time": "2023-03-05T10:11:35.801Z"
   },
   {
    "duration": 11,
    "start_time": "2023-03-05T10:12:14.974Z"
   },
   {
    "duration": 3,
    "start_time": "2023-03-05T10:12:24.790Z"
   },
   {
    "duration": 6,
    "start_time": "2023-03-05T10:12:26.292Z"
   },
   {
    "duration": 155,
    "start_time": "2023-03-05T10:13:04.708Z"
   },
   {
    "duration": 6,
    "start_time": "2023-03-05T10:13:09.315Z"
   },
   {
    "duration": 4,
    "start_time": "2023-03-05T10:14:03.622Z"
   },
   {
    "duration": 7,
    "start_time": "2023-03-05T10:14:08.103Z"
   },
   {
    "duration": 7,
    "start_time": "2023-03-05T10:14:11.337Z"
   },
   {
    "duration": 12,
    "start_time": "2023-03-05T10:14:33.879Z"
   },
   {
    "duration": 11,
    "start_time": "2023-03-05T10:14:39.579Z"
   },
   {
    "duration": 7,
    "start_time": "2023-03-05T10:14:45.377Z"
   },
   {
    "duration": 9,
    "start_time": "2023-03-05T10:16:08.495Z"
   },
   {
    "duration": 82,
    "start_time": "2023-03-05T10:16:17.416Z"
   },
   {
    "duration": 30,
    "start_time": "2023-03-05T10:20:44.407Z"
   },
   {
    "duration": 6,
    "start_time": "2023-03-05T10:20:50.167Z"
   },
   {
    "duration": 7,
    "start_time": "2023-03-05T10:21:02.096Z"
   },
   {
    "duration": 6,
    "start_time": "2023-03-05T10:21:08.014Z"
   },
   {
    "duration": 6,
    "start_time": "2023-03-05T10:21:21.919Z"
   },
   {
    "duration": 6,
    "start_time": "2023-03-05T10:21:29.671Z"
   },
   {
    "duration": 4,
    "start_time": "2023-03-05T10:22:05.280Z"
   },
   {
    "duration": 232,
    "start_time": "2023-03-05T10:22:05.471Z"
   },
   {
    "duration": 26,
    "start_time": "2023-03-05T10:22:06.084Z"
   },
   {
    "duration": 19,
    "start_time": "2023-03-05T10:22:06.291Z"
   },
   {
    "duration": 32,
    "start_time": "2023-03-05T10:22:06.514Z"
   },
   {
    "duration": 21,
    "start_time": "2023-03-05T10:22:06.729Z"
   },
   {
    "duration": 52,
    "start_time": "2023-03-05T10:22:07.575Z"
   },
   {
    "duration": 146,
    "start_time": "2023-03-05T10:22:08.967Z"
   },
   {
    "duration": 258,
    "start_time": "2023-03-05T10:22:10.031Z"
   },
   {
    "duration": 6,
    "start_time": "2023-03-05T10:22:10.699Z"
   },
   {
    "duration": 241,
    "start_time": "2023-03-05T10:22:11.135Z"
   },
   {
    "duration": 12,
    "start_time": "2023-03-05T10:22:11.779Z"
   },
   {
    "duration": 243,
    "start_time": "2023-03-05T10:22:12.672Z"
   },
   {
    "duration": 20,
    "start_time": "2023-03-05T10:22:14.175Z"
   },
   {
    "duration": 13,
    "start_time": "2023-03-05T10:22:14.664Z"
   },
   {
    "duration": 949,
    "start_time": "2023-03-05T10:22:17.325Z"
   },
   {
    "duration": 1152,
    "start_time": "2023-03-05T10:22:18.275Z"
   },
   {
    "duration": 113,
    "start_time": "2023-03-05T10:22:22.209Z"
   },
   {
    "duration": 9,
    "start_time": "2023-03-05T10:22:33.310Z"
   },
   {
    "duration": 28,
    "start_time": "2023-03-05T10:22:54.668Z"
   },
   {
    "duration": 8,
    "start_time": "2023-03-05T10:23:04.637Z"
   },
   {
    "duration": 8,
    "start_time": "2023-03-05T10:23:09.837Z"
   },
   {
    "duration": 31,
    "start_time": "2023-03-05T10:31:43.823Z"
   },
   {
    "duration": 7,
    "start_time": "2023-03-05T10:32:14.406Z"
   },
   {
    "duration": 12,
    "start_time": "2023-03-05T10:32:22.368Z"
   },
   {
    "duration": 12,
    "start_time": "2023-03-05T10:32:27.083Z"
   },
   {
    "duration": 33,
    "start_time": "2023-03-05T10:32:49.375Z"
   },
   {
    "duration": 105,
    "start_time": "2023-03-05T10:33:31.585Z"
   },
   {
    "duration": 10,
    "start_time": "2023-03-05T10:33:48.673Z"
   },
   {
    "duration": 7,
    "start_time": "2023-03-05T10:35:16.503Z"
   },
   {
    "duration": 8,
    "start_time": "2023-03-05T10:35:21.418Z"
   },
   {
    "duration": 9,
    "start_time": "2023-03-05T10:35:28.810Z"
   },
   {
    "duration": 15,
    "start_time": "2023-03-05T10:35:35.276Z"
   },
   {
    "duration": 12,
    "start_time": "2023-03-05T10:35:57.819Z"
   },
   {
    "duration": 12,
    "start_time": "2023-03-05T10:36:03.507Z"
   },
   {
    "duration": 11,
    "start_time": "2023-03-05T10:36:24.983Z"
   },
   {
    "duration": 10,
    "start_time": "2023-03-05T10:36:58.296Z"
   },
   {
    "duration": 16,
    "start_time": "2023-03-05T10:37:09.334Z"
   },
   {
    "duration": 14,
    "start_time": "2023-03-05T10:37:19.943Z"
   },
   {
    "duration": 16,
    "start_time": "2023-03-05T10:37:31.823Z"
   },
   {
    "duration": 21,
    "start_time": "2023-03-05T10:37:38.334Z"
   },
   {
    "duration": 15,
    "start_time": "2023-03-05T10:38:09.938Z"
   },
   {
    "duration": 15,
    "start_time": "2023-03-05T10:38:15.638Z"
   },
   {
    "duration": 12,
    "start_time": "2023-03-05T10:56:47.883Z"
   },
   {
    "duration": 30,
    "start_time": "2023-03-05T10:56:50.030Z"
   },
   {
    "duration": 16,
    "start_time": "2023-03-05T10:57:10.966Z"
   },
   {
    "duration": 131,
    "start_time": "2023-03-05T10:57:11.691Z"
   },
   {
    "duration": 145,
    "start_time": "2023-03-05T10:59:00.975Z"
   },
   {
    "duration": 256,
    "start_time": "2023-03-05T10:59:10.708Z"
   },
   {
    "duration": 6,
    "start_time": "2023-03-05T10:59:14.962Z"
   },
   {
    "duration": 256,
    "start_time": "2023-03-05T10:59:16.340Z"
   },
   {
    "duration": 9,
    "start_time": "2023-03-05T10:59:18.760Z"
   },
   {
    "duration": 234,
    "start_time": "2023-03-05T10:59:20.128Z"
   },
   {
    "duration": 17,
    "start_time": "2023-03-05T10:59:21.867Z"
   },
   {
    "duration": 15,
    "start_time": "2023-03-05T10:59:22.908Z"
   },
   {
    "duration": 1221,
    "start_time": "2023-03-05T10:59:24.967Z"
   },
   {
    "duration": 1163,
    "start_time": "2023-03-05T10:59:28.785Z"
   },
   {
    "duration": 75,
    "start_time": "2023-03-05T10:59:32.526Z"
   },
   {
    "duration": 20,
    "start_time": "2023-03-05T10:59:37.853Z"
   },
   {
    "duration": 24,
    "start_time": "2023-03-05T10:59:40.029Z"
   },
   {
    "duration": 69,
    "start_time": "2023-03-05T10:59:45.838Z"
   },
   {
    "duration": 5,
    "start_time": "2023-03-05T10:59:48.034Z"
   },
   {
    "duration": 101,
    "start_time": "2023-03-05T10:59:49.370Z"
   },
   {
    "duration": 1110,
    "start_time": "2023-03-05T10:59:49.665Z"
   },
   {
    "duration": 266,
    "start_time": "2023-03-05T10:59:51.166Z"
   },
   {
    "duration": 271,
    "start_time": "2023-03-05T10:59:58.773Z"
   },
   {
    "duration": 261,
    "start_time": "2023-03-05T11:02:49.195Z"
   },
   {
    "duration": 406,
    "start_time": "2023-03-05T11:03:40.014Z"
   },
   {
    "duration": 270,
    "start_time": "2023-03-05T11:03:49.198Z"
   },
   {
    "duration": 253,
    "start_time": "2023-03-05T11:03:59.159Z"
   },
   {
    "duration": 254,
    "start_time": "2023-03-05T11:04:17.693Z"
   },
   {
    "duration": 285,
    "start_time": "2023-03-05T11:04:39.434Z"
   },
   {
    "duration": 261,
    "start_time": "2023-03-05T11:04:48.987Z"
   },
   {
    "duration": 9,
    "start_time": "2023-03-05T11:13:46.086Z"
   },
   {
    "duration": 87,
    "start_time": "2023-03-05T11:13:47.075Z"
   },
   {
    "duration": 79,
    "start_time": "2023-03-05T11:13:49.271Z"
   },
   {
    "duration": 97,
    "start_time": "2023-03-05T11:13:53.983Z"
   },
   {
    "duration": 77,
    "start_time": "2023-03-05T11:13:59.024Z"
   },
   {
    "duration": 77,
    "start_time": "2023-03-05T11:14:12.579Z"
   },
   {
    "duration": 5,
    "start_time": "2023-03-05T11:14:24.182Z"
   },
   {
    "duration": 110,
    "start_time": "2023-03-05T11:15:37.598Z"
   },
   {
    "duration": 4,
    "start_time": "2023-03-05T11:15:40.302Z"
   },
   {
    "duration": 82,
    "start_time": "2023-03-05T11:16:41.066Z"
   },
   {
    "duration": 94,
    "start_time": "2023-03-05T11:16:45.533Z"
   },
   {
    "duration": 3,
    "start_time": "2023-03-05T11:16:57.508Z"
   },
   {
    "duration": 105,
    "start_time": "2023-03-05T11:20:44.610Z"
   },
   {
    "duration": 79,
    "start_time": "2023-03-05T11:20:46.713Z"
   },
   {
    "duration": 89,
    "start_time": "2023-03-05T11:20:51.498Z"
   },
   {
    "duration": 82,
    "start_time": "2023-03-05T11:20:51.710Z"
   },
   {
    "duration": 82,
    "start_time": "2023-03-05T11:20:57.873Z"
   },
   {
    "duration": 76,
    "start_time": "2023-03-05T11:21:06.217Z"
   },
   {
    "duration": 86,
    "start_time": "2023-03-05T11:21:11.978Z"
   },
   {
    "duration": 103,
    "start_time": "2023-03-05T11:21:14.102Z"
   },
   {
    "duration": 84,
    "start_time": "2023-03-05T11:26:21.591Z"
   },
   {
    "duration": 82,
    "start_time": "2023-03-05T11:26:26.271Z"
   },
   {
    "duration": 78,
    "start_time": "2023-03-05T11:26:29.717Z"
   },
   {
    "duration": 83,
    "start_time": "2023-03-05T11:26:32.310Z"
   },
   {
    "duration": 101,
    "start_time": "2023-03-05T11:31:22.986Z"
   },
   {
    "duration": 80,
    "start_time": "2023-03-05T11:31:26.616Z"
   },
   {
    "duration": 74,
    "start_time": "2023-03-05T11:31:30.526Z"
   },
   {
    "duration": 110,
    "start_time": "2023-03-05T11:31:34.404Z"
   },
   {
    "duration": 2021,
    "start_time": "2023-03-05T11:31:56.129Z"
   },
   {
    "duration": 38,
    "start_time": "2023-03-05T11:32:09.695Z"
   },
   {
    "duration": 5,
    "start_time": "2023-03-05T11:32:20.805Z"
   },
   {
    "duration": 7,
    "start_time": "2023-03-05T11:32:24.575Z"
   },
   {
    "duration": 1713,
    "start_time": "2023-03-05T11:32:34.187Z"
   },
   {
    "duration": 19,
    "start_time": "2023-03-05T11:32:42.316Z"
   },
   {
    "duration": 8,
    "start_time": "2023-03-05T11:32:52.072Z"
   },
   {
    "duration": 7,
    "start_time": "2023-03-05T11:33:03.198Z"
   },
   {
    "duration": 7,
    "start_time": "2023-03-05T11:33:09.271Z"
   },
   {
    "duration": 4,
    "start_time": "2023-03-05T11:33:28.587Z"
   },
   {
    "duration": 291,
    "start_time": "2023-03-05T11:33:28.903Z"
   },
   {
    "duration": 11,
    "start_time": "2023-03-05T11:33:36.207Z"
   },
   {
    "duration": 15,
    "start_time": "2023-03-05T11:33:40.436Z"
   },
   {
    "duration": 16,
    "start_time": "2023-03-05T11:33:45.975Z"
   },
   {
    "duration": 11,
    "start_time": "2023-03-05T11:33:59.005Z"
   },
   {
    "duration": 11,
    "start_time": "2023-03-05T11:35:26.029Z"
   },
   {
    "duration": 6,
    "start_time": "2023-03-05T11:35:31.430Z"
   },
   {
    "duration": 34,
    "start_time": "2023-03-05T11:35:41.895Z"
   },
   {
    "duration": 6,
    "start_time": "2023-03-05T11:36:01.729Z"
   },
   {
    "duration": 6,
    "start_time": "2023-03-05T11:36:08.687Z"
   },
   {
    "duration": 1787,
    "start_time": "2023-03-05T11:36:14.377Z"
   },
   {
    "duration": 6,
    "start_time": "2023-03-05T11:36:19.404Z"
   },
   {
    "duration": 7,
    "start_time": "2023-03-05T11:36:36.733Z"
   },
   {
    "duration": 6,
    "start_time": "2023-03-05T11:37:41.812Z"
   },
   {
    "duration": 240,
    "start_time": "2023-03-05T11:37:42.026Z"
   },
   {
    "duration": 34,
    "start_time": "2023-03-05T11:37:42.710Z"
   },
   {
    "duration": 26,
    "start_time": "2023-03-05T11:37:43.004Z"
   },
   {
    "duration": 25,
    "start_time": "2023-03-05T11:37:43.533Z"
   },
   {
    "duration": 28,
    "start_time": "2023-03-05T11:37:44.047Z"
   },
   {
    "duration": 48,
    "start_time": "2023-03-05T11:37:45.127Z"
   },
   {
    "duration": 12,
    "start_time": "2023-03-05T11:37:47.734Z"
   },
   {
    "duration": 15,
    "start_time": "2023-03-05T11:37:49.287Z"
   },
   {
    "duration": 13,
    "start_time": "2023-03-05T11:37:51.409Z"
   },
   {
    "duration": 7,
    "start_time": "2023-03-05T11:37:57.475Z"
   },
   {
    "duration": 5,
    "start_time": "2023-03-05T11:38:26.575Z"
   },
   {
    "duration": 259,
    "start_time": "2023-03-05T11:38:26.770Z"
   },
   {
    "duration": 37,
    "start_time": "2023-03-05T11:38:27.572Z"
   },
   {
    "duration": 24,
    "start_time": "2023-03-05T11:38:27.915Z"
   },
   {
    "duration": 20,
    "start_time": "2023-03-05T11:38:28.575Z"
   },
   {
    "duration": 23,
    "start_time": "2023-03-05T11:38:29.340Z"
   },
   {
    "duration": 57,
    "start_time": "2023-03-05T11:38:31.772Z"
   },
   {
    "duration": 10,
    "start_time": "2023-03-05T11:38:31.991Z"
   },
   {
    "duration": 10,
    "start_time": "2023-03-05T11:38:42.089Z"
   },
   {
    "duration": 14,
    "start_time": "2023-03-05T11:38:54.436Z"
   },
   {
    "duration": 1618,
    "start_time": "2023-03-05T11:39:43.911Z"
   },
   {
    "duration": 242,
    "start_time": "2023-03-05T11:39:45.536Z"
   },
   {
    "duration": 32,
    "start_time": "2023-03-05T11:39:45.780Z"
   },
   {
    "duration": 21,
    "start_time": "2023-03-05T11:39:45.821Z"
   },
   {
    "duration": 27,
    "start_time": "2023-03-05T11:39:45.845Z"
   },
   {
    "duration": 42,
    "start_time": "2023-03-05T11:39:45.874Z"
   },
   {
    "duration": 53,
    "start_time": "2023-03-05T11:39:45.920Z"
   },
   {
    "duration": 12,
    "start_time": "2023-03-05T11:39:45.975Z"
   },
   {
    "duration": 46,
    "start_time": "2023-03-05T11:39:45.989Z"
   },
   {
    "duration": 22,
    "start_time": "2023-03-05T11:39:46.037Z"
   },
   {
    "duration": 144,
    "start_time": "2023-03-05T11:39:46.061Z"
   },
   {
    "duration": 302,
    "start_time": "2023-03-05T11:39:46.215Z"
   },
   {
    "duration": 12,
    "start_time": "2023-03-05T11:39:46.525Z"
   },
   {
    "duration": 5,
    "start_time": "2023-03-05T11:39:46.540Z"
   },
   {
    "duration": 248,
    "start_time": "2023-03-05T11:39:46.546Z"
   },
   {
    "duration": 23,
    "start_time": "2023-03-05T11:39:46.796Z"
   },
   {
    "duration": 11,
    "start_time": "2023-03-05T11:39:46.821Z"
   },
   {
    "duration": 234,
    "start_time": "2023-03-05T11:39:46.834Z"
   },
   {
    "duration": 17,
    "start_time": "2023-03-05T11:39:47.070Z"
   },
   {
    "duration": 29,
    "start_time": "2023-03-05T11:39:47.089Z"
   },
   {
    "duration": 12,
    "start_time": "2023-03-05T11:39:47.120Z"
   },
   {
    "duration": 1158,
    "start_time": "2023-03-05T11:39:47.134Z"
   },
   {
    "duration": 1072,
    "start_time": "2023-03-05T11:39:48.294Z"
   },
   {
    "duration": 89,
    "start_time": "2023-03-05T11:39:49.368Z"
   },
   {
    "duration": 19,
    "start_time": "2023-03-05T11:39:49.459Z"
   },
   {
    "duration": 8,
    "start_time": "2023-03-05T11:39:49.479Z"
   },
   {
    "duration": 57,
    "start_time": "2023-03-05T11:39:49.489Z"
   },
   {
    "duration": 101,
    "start_time": "2023-03-05T11:39:49.548Z"
   },
   {
    "duration": 8,
    "start_time": "2023-03-05T11:39:49.651Z"
   },
   {
    "duration": 5,
    "start_time": "2023-03-05T11:39:49.661Z"
   },
   {
    "duration": 111,
    "start_time": "2023-03-05T11:39:49.668Z"
   },
   {
    "duration": 1098,
    "start_time": "2023-03-05T11:39:49.781Z"
   },
   {
    "duration": 272,
    "start_time": "2023-03-05T11:39:50.881Z"
   },
   {
    "duration": 406,
    "start_time": "2023-03-05T11:39:51.154Z"
   },
   {
    "duration": 8,
    "start_time": "2023-03-05T11:39:51.561Z"
   },
   {
    "duration": 100,
    "start_time": "2023-03-05T11:39:51.570Z"
   },
   {
    "duration": 9,
    "start_time": "2023-03-05T11:39:51.672Z"
   },
   {
    "duration": 5,
    "start_time": "2023-03-05T11:40:41.829Z"
   },
   {
    "duration": 251,
    "start_time": "2023-03-05T11:40:42.030Z"
   },
   {
    "duration": 34,
    "start_time": "2023-03-05T11:40:42.900Z"
   },
   {
    "duration": 19,
    "start_time": "2023-03-05T11:40:43.388Z"
   },
   {
    "duration": 22,
    "start_time": "2023-03-05T11:40:46.328Z"
   },
   {
    "duration": 20,
    "start_time": "2023-03-05T11:40:48.242Z"
   },
   {
    "duration": 53,
    "start_time": "2023-03-05T11:40:51.571Z"
   },
   {
    "duration": 12,
    "start_time": "2023-03-05T11:40:53.142Z"
   },
   {
    "duration": 18,
    "start_time": "2023-03-05T11:40:55.619Z"
   },
   {
    "duration": 10,
    "start_time": "2023-03-05T11:41:00.983Z"
   },
   {
    "duration": 16,
    "start_time": "2023-03-05T11:41:02.498Z"
   },
   {
    "duration": 13,
    "start_time": "2023-03-05T11:41:03.187Z"
   },
   {
    "duration": 7,
    "start_time": "2023-03-05T11:42:12.791Z"
   },
   {
    "duration": 237,
    "start_time": "2023-03-05T11:42:13.034Z"
   },
   {
    "duration": 32,
    "start_time": "2023-03-05T11:42:14.168Z"
   },
   {
    "duration": 28,
    "start_time": "2023-03-05T11:42:14.715Z"
   },
   {
    "duration": 20,
    "start_time": "2023-03-05T11:42:16.683Z"
   },
   {
    "duration": 32,
    "start_time": "2023-03-05T11:42:16.915Z"
   },
   {
    "duration": 65,
    "start_time": "2023-03-05T11:42:19.212Z"
   },
   {
    "duration": 25,
    "start_time": "2023-03-05T11:42:22.708Z"
   },
   {
    "duration": 18,
    "start_time": "2023-03-05T11:42:23.593Z"
   },
   {
    "duration": 15,
    "start_time": "2023-03-05T11:42:27.240Z"
   },
   {
    "duration": 9,
    "start_time": "2023-03-05T11:42:28.875Z"
   },
   {
    "duration": 20,
    "start_time": "2023-03-05T11:44:10.111Z"
   },
   {
    "duration": 4,
    "start_time": "2023-03-05T11:52:21.926Z"
   },
   {
    "duration": 250,
    "start_time": "2023-03-05T11:52:22.130Z"
   },
   {
    "duration": 26,
    "start_time": "2023-03-05T11:52:22.771Z"
   },
   {
    "duration": 20,
    "start_time": "2023-03-05T11:52:22.989Z"
   },
   {
    "duration": 21,
    "start_time": "2023-03-05T11:52:23.244Z"
   },
   {
    "duration": 29,
    "start_time": "2023-03-05T11:52:24.792Z"
   },
   {
    "duration": 58,
    "start_time": "2023-03-05T11:52:25.971Z"
   },
   {
    "duration": 21,
    "start_time": "2023-03-05T11:52:28.508Z"
   },
   {
    "duration": 19,
    "start_time": "2023-03-05T11:52:30.076Z"
   },
   {
    "duration": 13,
    "start_time": "2023-03-05T11:52:32.469Z"
   },
   {
    "duration": 9,
    "start_time": "2023-03-05T11:52:32.848Z"
   },
   {
    "duration": 19,
    "start_time": "2023-03-05T11:53:04.297Z"
   },
   {
    "duration": 147,
    "start_time": "2023-03-05T11:53:05.180Z"
   },
   {
    "duration": 262,
    "start_time": "2023-03-05T11:53:10.071Z"
   },
   {
    "duration": 1589,
    "start_time": "2023-03-05T11:53:48.699Z"
   },
   {
    "duration": 274,
    "start_time": "2023-03-05T11:53:50.290Z"
   },
   {
    "duration": 27,
    "start_time": "2023-03-05T11:53:50.566Z"
   },
   {
    "duration": 41,
    "start_time": "2023-03-05T11:53:50.595Z"
   },
   {
    "duration": 26,
    "start_time": "2023-03-05T11:53:50.638Z"
   },
   {
    "duration": 21,
    "start_time": "2023-03-05T11:53:50.666Z"
   },
   {
    "duration": 84,
    "start_time": "2023-03-05T11:53:50.688Z"
   },
   {
    "duration": 12,
    "start_time": "2023-03-05T11:53:50.773Z"
   },
   {
    "duration": 44,
    "start_time": "2023-03-05T11:53:50.786Z"
   },
   {
    "duration": 18,
    "start_time": "2023-03-05T11:53:50.835Z"
   },
   {
    "duration": 168,
    "start_time": "2023-03-05T11:53:50.855Z"
   },
   {
    "duration": 302,
    "start_time": "2023-03-05T11:53:51.024Z"
   },
   {
    "duration": 8,
    "start_time": "2023-03-05T11:53:51.331Z"
   },
   {
    "duration": 293,
    "start_time": "2023-03-05T11:53:51.340Z"
   },
   {
    "duration": 12,
    "start_time": "2023-03-05T11:53:51.635Z"
   },
   {
    "duration": 301,
    "start_time": "2023-03-05T11:53:51.650Z"
   },
   {
    "duration": 15,
    "start_time": "2023-03-05T11:53:51.953Z"
   },
   {
    "duration": 19,
    "start_time": "2023-03-05T11:53:51.969Z"
   },
   {
    "duration": 1152,
    "start_time": "2023-03-05T11:53:51.990Z"
   },
   {
    "duration": 1297,
    "start_time": "2023-03-05T11:53:53.145Z"
   },
   {
    "duration": 135,
    "start_time": "2023-03-05T11:53:54.444Z"
   },
   {
    "duration": 36,
    "start_time": "2023-03-05T11:53:54.582Z"
   },
   {
    "duration": 41,
    "start_time": "2023-03-05T11:53:54.619Z"
   },
   {
    "duration": 122,
    "start_time": "2023-03-05T11:53:54.662Z"
   },
   {
    "duration": 6,
    "start_time": "2023-03-05T11:53:54.786Z"
   },
   {
    "duration": 171,
    "start_time": "2023-03-05T11:53:54.795Z"
   },
   {
    "duration": 1504,
    "start_time": "2023-03-05T11:53:54.967Z"
   },
   {
    "duration": 449,
    "start_time": "2023-03-05T11:53:56.474Z"
   },
   {
    "duration": 279,
    "start_time": "2023-03-05T11:53:56.927Z"
   },
   {
    "duration": 14,
    "start_time": "2023-03-05T11:53:57.207Z"
   },
   {
    "duration": 131,
    "start_time": "2023-03-05T11:53:57.223Z"
   },
   {
    "duration": 12,
    "start_time": "2023-03-05T11:53:57.355Z"
   },
   {
    "duration": 105,
    "start_time": "2023-03-05T12:08:41.245Z"
   },
   {
    "duration": 117,
    "start_time": "2023-03-05T12:08:45.252Z"
   },
   {
    "duration": 6,
    "start_time": "2023-03-05T12:09:51.682Z"
   },
   {
    "duration": 5,
    "start_time": "2023-03-05T12:10:02.388Z"
   },
   {
    "duration": 6,
    "start_time": "2023-03-05T12:16:23.326Z"
   },
   {
    "duration": 8,
    "start_time": "2023-03-05T12:17:42.113Z"
   },
   {
    "duration": 5,
    "start_time": "2023-03-05T12:17:47.571Z"
   },
   {
    "duration": 79,
    "start_time": "2023-03-05T12:17:52.908Z"
   },
   {
    "duration": 5,
    "start_time": "2023-03-05T12:18:07.881Z"
   },
   {
    "duration": 85,
    "start_time": "2023-03-05T12:18:09.346Z"
   },
   {
    "duration": 84,
    "start_time": "2023-03-05T12:18:16.375Z"
   },
   {
    "duration": 4,
    "start_time": "2023-03-05T12:18:19.537Z"
   },
   {
    "duration": 4,
    "start_time": "2023-03-05T12:18:23.298Z"
   },
   {
    "duration": 4,
    "start_time": "2023-03-05T12:18:54.575Z"
   },
   {
    "duration": 4,
    "start_time": "2023-03-05T12:19:02.874Z"
   },
   {
    "duration": 7,
    "start_time": "2023-03-05T12:19:07.027Z"
   },
   {
    "duration": 93,
    "start_time": "2023-03-05T12:19:26.789Z"
   },
   {
    "duration": 82,
    "start_time": "2023-03-05T12:29:37.765Z"
   },
   {
    "duration": 4,
    "start_time": "2023-03-05T12:29:54.456Z"
   },
   {
    "duration": 5,
    "start_time": "2023-03-05T12:30:01.362Z"
   },
   {
    "duration": 4,
    "start_time": "2023-03-05T12:30:07.888Z"
   },
   {
    "duration": 4,
    "start_time": "2023-03-05T12:30:19.609Z"
   },
   {
    "duration": 81,
    "start_time": "2023-03-05T12:32:22.329Z"
   },
   {
    "duration": 1490,
    "start_time": "2023-03-05T12:33:16.525Z"
   },
   {
    "duration": 239,
    "start_time": "2023-03-05T12:33:18.018Z"
   },
   {
    "duration": 26,
    "start_time": "2023-03-05T12:33:18.258Z"
   },
   {
    "duration": 44,
    "start_time": "2023-03-05T12:33:18.286Z"
   },
   {
    "duration": 27,
    "start_time": "2023-03-05T12:33:18.332Z"
   },
   {
    "duration": 22,
    "start_time": "2023-03-05T12:33:18.361Z"
   },
   {
    "duration": 69,
    "start_time": "2023-03-05T12:33:18.384Z"
   },
   {
    "duration": 138,
    "start_time": "2023-03-05T12:33:18.454Z"
   },
   {
    "duration": 284,
    "start_time": "2023-03-05T12:33:18.594Z"
   },
   {
    "duration": 6,
    "start_time": "2023-03-05T12:33:18.879Z"
   },
   {
    "duration": 268,
    "start_time": "2023-03-05T12:33:18.887Z"
   },
   {
    "duration": 12,
    "start_time": "2023-03-05T12:33:19.157Z"
   },
   {
    "duration": 266,
    "start_time": "2023-03-05T12:33:19.171Z"
   },
   {
    "duration": 16,
    "start_time": "2023-03-05T12:33:19.440Z"
   },
   {
    "duration": 127,
    "start_time": "2023-03-05T12:33:19.457Z"
   },
   {
    "duration": 1007,
    "start_time": "2023-03-05T12:33:19.586Z"
   },
   {
    "duration": 1084,
    "start_time": "2023-03-05T12:33:20.595Z"
   },
   {
    "duration": 122,
    "start_time": "2023-03-05T12:33:21.681Z"
   },
   {
    "duration": 42,
    "start_time": "2023-03-05T12:33:21.805Z"
   },
   {
    "duration": 38,
    "start_time": "2023-03-05T12:33:21.849Z"
   },
   {
    "duration": 143,
    "start_time": "2023-03-05T12:33:21.889Z"
   },
   {
    "duration": 6,
    "start_time": "2023-03-05T12:33:22.034Z"
   },
   {
    "duration": 148,
    "start_time": "2023-03-05T12:33:22.041Z"
   },
   {
    "duration": 1730,
    "start_time": "2023-03-05T12:33:22.190Z"
   },
   {
    "duration": 493,
    "start_time": "2023-03-05T12:33:23.925Z"
   },
   {
    "duration": 292,
    "start_time": "2023-03-05T12:33:24.420Z"
   },
   {
    "duration": 11,
    "start_time": "2023-03-05T12:33:24.714Z"
   },
   {
    "duration": 132,
    "start_time": "2023-03-05T12:33:24.729Z"
   },
   {
    "duration": 4,
    "start_time": "2023-03-05T12:33:24.862Z"
   },
   {
    "duration": 17,
    "start_time": "2023-03-05T12:33:24.867Z"
   },
   {
    "duration": 168,
    "start_time": "2023-03-05T12:34:33.477Z"
   },
   {
    "duration": 1593,
    "start_time": "2023-03-05T12:35:21.973Z"
   },
   {
    "duration": 270,
    "start_time": "2023-03-05T12:35:23.569Z"
   },
   {
    "duration": 31,
    "start_time": "2023-03-05T12:35:23.841Z"
   },
   {
    "duration": 18,
    "start_time": "2023-03-05T12:35:23.874Z"
   },
   {
    "duration": 48,
    "start_time": "2023-03-05T12:35:23.895Z"
   },
   {
    "duration": 21,
    "start_time": "2023-03-05T12:35:23.946Z"
   },
   {
    "duration": 76,
    "start_time": "2023-03-05T12:35:23.969Z"
   },
   {
    "duration": 182,
    "start_time": "2023-03-05T12:35:24.046Z"
   },
   {
    "duration": 395,
    "start_time": "2023-03-05T12:35:24.230Z"
   },
   {
    "duration": 8,
    "start_time": "2023-03-05T12:35:24.627Z"
   },
   {
    "duration": 319,
    "start_time": "2023-03-05T12:35:24.637Z"
   },
   {
    "duration": 13,
    "start_time": "2023-03-05T12:35:24.958Z"
   },
   {
    "duration": 296,
    "start_time": "2023-03-05T12:35:24.973Z"
   },
   {
    "duration": 20,
    "start_time": "2023-03-05T12:35:25.274Z"
   },
   {
    "duration": 122,
    "start_time": "2023-03-05T12:35:25.313Z"
   },
   {
    "duration": 1055,
    "start_time": "2023-03-05T12:35:25.441Z"
   },
   {
    "duration": 1162,
    "start_time": "2023-03-05T12:35:26.498Z"
   },
   {
    "duration": 133,
    "start_time": "2023-03-05T12:35:27.662Z"
   },
   {
    "duration": 31,
    "start_time": "2023-03-05T12:35:27.796Z"
   },
   {
    "duration": 62,
    "start_time": "2023-03-05T12:35:27.830Z"
   },
   {
    "duration": 135,
    "start_time": "2023-03-05T12:35:27.894Z"
   },
   {
    "duration": 13,
    "start_time": "2023-03-05T12:35:28.031Z"
   },
   {
    "duration": 171,
    "start_time": "2023-03-05T12:35:28.045Z"
   },
   {
    "duration": 1881,
    "start_time": "2023-03-05T12:35:28.218Z"
   },
   {
    "duration": 463,
    "start_time": "2023-03-05T12:35:30.101Z"
   },
   {
    "duration": 131,
    "start_time": "2023-03-05T12:35:30.565Z"
   },
   {
    "duration": 0,
    "start_time": "2023-03-05T12:35:30.698Z"
   },
   {
    "duration": 0,
    "start_time": "2023-03-05T12:35:30.699Z"
   },
   {
    "duration": 0,
    "start_time": "2023-03-05T12:35:30.700Z"
   },
   {
    "duration": 0,
    "start_time": "2023-03-05T12:35:30.714Z"
   },
   {
    "duration": 10,
    "start_time": "2023-03-05T12:35:38.571Z"
   },
   {
    "duration": 257,
    "start_time": "2023-03-05T12:35:52.292Z"
   },
   {
    "duration": 335,
    "start_time": "2023-03-05T12:35:57.209Z"
   },
   {
    "duration": 11,
    "start_time": "2023-03-05T12:36:01.374Z"
   },
   {
    "duration": 300,
    "start_time": "2023-03-05T12:36:08.036Z"
   },
   {
    "duration": 1609,
    "start_time": "2023-03-05T12:38:55.142Z"
   },
   {
    "duration": 282,
    "start_time": "2023-03-05T12:38:56.754Z"
   },
   {
    "duration": 32,
    "start_time": "2023-03-05T12:38:57.038Z"
   },
   {
    "duration": 18,
    "start_time": "2023-03-05T12:38:57.072Z"
   },
   {
    "duration": 46,
    "start_time": "2023-03-05T12:38:57.092Z"
   },
   {
    "duration": 24,
    "start_time": "2023-03-05T12:38:57.140Z"
   },
   {
    "duration": 74,
    "start_time": "2023-03-05T12:38:57.166Z"
   },
   {
    "duration": 190,
    "start_time": "2023-03-05T12:38:57.244Z"
   },
   {
    "duration": 308,
    "start_time": "2023-03-05T12:38:57.441Z"
   },
   {
    "duration": 8,
    "start_time": "2023-03-05T12:38:57.751Z"
   },
   {
    "duration": 295,
    "start_time": "2023-03-05T12:38:57.760Z"
   },
   {
    "duration": 13,
    "start_time": "2023-03-05T12:38:58.057Z"
   },
   {
    "duration": 281,
    "start_time": "2023-03-05T12:38:58.071Z"
   },
   {
    "duration": 16,
    "start_time": "2023-03-05T12:38:58.355Z"
   },
   {
    "duration": 126,
    "start_time": "2023-03-05T12:38:58.373Z"
   },
   {
    "duration": 1083,
    "start_time": "2023-03-05T12:38:58.500Z"
   },
   {
    "duration": 1207,
    "start_time": "2023-03-05T12:38:59.586Z"
   },
   {
    "duration": 153,
    "start_time": "2023-03-05T12:39:00.795Z"
   },
   {
    "duration": 20,
    "start_time": "2023-03-05T12:39:00.950Z"
   },
   {
    "duration": 70,
    "start_time": "2023-03-05T12:39:00.972Z"
   },
   {
    "duration": 129,
    "start_time": "2023-03-05T12:39:01.043Z"
   },
   {
    "duration": 6,
    "start_time": "2023-03-05T12:39:01.174Z"
   },
   {
    "duration": 192,
    "start_time": "2023-03-05T12:39:01.182Z"
   },
   {
    "duration": 1849,
    "start_time": "2023-03-05T12:39:01.375Z"
   },
   {
    "duration": 14,
    "start_time": "2023-03-05T12:39:03.234Z"
   },
   {
    "duration": 273,
    "start_time": "2023-03-05T12:39:03.250Z"
   },
   {
    "duration": 517,
    "start_time": "2023-03-05T12:39:03.526Z"
   },
   {
    "duration": 391,
    "start_time": "2023-03-05T12:39:04.045Z"
   },
   {
    "duration": 14,
    "start_time": "2023-03-05T12:39:04.438Z"
   },
   {
    "duration": 184,
    "start_time": "2023-03-05T12:39:04.454Z"
   },
   {
    "duration": 11,
    "start_time": "2023-03-05T12:39:04.640Z"
   },
   {
    "duration": 54,
    "start_time": "2023-03-05T12:39:04.653Z"
   },
   {
    "duration": 5,
    "start_time": "2023-03-05T12:39:17.977Z"
   },
   {
    "duration": 4,
    "start_time": "2023-03-05T12:39:23.690Z"
   },
   {
    "duration": 4,
    "start_time": "2023-03-05T12:39:44.992Z"
   },
   {
    "duration": 5,
    "start_time": "2023-03-05T12:39:59.169Z"
   },
   {
    "duration": 5,
    "start_time": "2023-03-05T12:40:16.493Z"
   },
   {
    "duration": 305,
    "start_time": "2023-03-05T12:40:28.054Z"
   },
   {
    "duration": 13,
    "start_time": "2023-03-05T12:40:42.393Z"
   },
   {
    "duration": 131,
    "start_time": "2023-03-05T12:40:45.554Z"
   },
   {
    "duration": 4,
    "start_time": "2023-03-05T12:40:47.204Z"
   },
   {
    "duration": 122,
    "start_time": "2023-03-05T12:41:00.940Z"
   },
   {
    "duration": 21,
    "start_time": "2023-03-05T12:41:13.410Z"
   },
   {
    "duration": 6,
    "start_time": "2023-03-05T12:41:22.827Z"
   },
   {
    "duration": 5,
    "start_time": "2023-03-05T12:41:27.572Z"
   },
   {
    "duration": 1592,
    "start_time": "2023-03-05T12:44:15.942Z"
   },
   {
    "duration": 299,
    "start_time": "2023-03-05T12:44:17.538Z"
   },
   {
    "duration": 26,
    "start_time": "2023-03-05T12:44:17.843Z"
   },
   {
    "duration": 26,
    "start_time": "2023-03-05T12:44:17.871Z"
   },
   {
    "duration": 44,
    "start_time": "2023-03-05T12:44:17.899Z"
   },
   {
    "duration": 20,
    "start_time": "2023-03-05T12:44:17.945Z"
   },
   {
    "duration": 75,
    "start_time": "2023-03-05T12:44:17.967Z"
   },
   {
    "duration": 157,
    "start_time": "2023-03-05T12:44:18.045Z"
   },
   {
    "duration": 316,
    "start_time": "2023-03-05T12:44:18.203Z"
   },
   {
    "duration": 7,
    "start_time": "2023-03-05T12:44:18.520Z"
   },
   {
    "duration": 296,
    "start_time": "2023-03-05T12:44:18.529Z"
   },
   {
    "duration": 19,
    "start_time": "2023-03-05T12:44:18.829Z"
   },
   {
    "duration": 273,
    "start_time": "2023-03-05T12:44:18.850Z"
   },
   {
    "duration": 18,
    "start_time": "2023-03-05T12:44:19.129Z"
   },
   {
    "duration": 105,
    "start_time": "2023-03-05T12:44:19.148Z"
   },
   {
    "duration": 1077,
    "start_time": "2023-03-05T12:44:19.255Z"
   },
   {
    "duration": 1143,
    "start_time": "2023-03-05T12:44:20.334Z"
   },
   {
    "duration": 154,
    "start_time": "2023-03-05T12:44:21.479Z"
   },
   {
    "duration": 21,
    "start_time": "2023-03-05T12:44:21.639Z"
   },
   {
    "duration": 42,
    "start_time": "2023-03-05T12:44:21.662Z"
   },
   {
    "duration": 146,
    "start_time": "2023-03-05T12:44:21.713Z"
   },
   {
    "duration": 6,
    "start_time": "2023-03-05T12:44:21.861Z"
   },
   {
    "duration": 210,
    "start_time": "2023-03-05T12:44:21.869Z"
   },
   {
    "duration": 1826,
    "start_time": "2023-03-05T12:44:22.081Z"
   },
   {
    "duration": 19,
    "start_time": "2023-03-05T12:44:23.909Z"
   },
   {
    "duration": 258,
    "start_time": "2023-03-05T12:44:23.935Z"
   },
   {
    "duration": 528,
    "start_time": "2023-03-05T12:44:24.196Z"
   },
   {
    "duration": 292,
    "start_time": "2023-03-05T12:44:24.735Z"
   },
   {
    "duration": 11,
    "start_time": "2023-03-05T12:44:25.034Z"
   },
   {
    "duration": 128,
    "start_time": "2023-03-05T12:44:25.048Z"
   },
   {
    "duration": 13,
    "start_time": "2023-03-05T12:44:25.177Z"
   },
   {
    "duration": 38,
    "start_time": "2023-03-05T12:44:38.882Z"
   },
   {
    "duration": 33,
    "start_time": "2023-03-05T12:45:10.057Z"
   },
   {
    "duration": 5,
    "start_time": "2023-03-05T12:45:16.153Z"
   },
   {
    "duration": 9,
    "start_time": "2023-03-05T12:45:19.874Z"
   },
   {
    "duration": 12,
    "start_time": "2023-03-05T12:45:24.640Z"
   },
   {
    "duration": 6,
    "start_time": "2023-03-05T12:46:03.195Z"
   },
   {
    "duration": 18,
    "start_time": "2023-03-05T12:46:43.852Z"
   },
   {
    "duration": 125,
    "start_time": "2023-03-05T12:46:52.459Z"
   },
   {
    "duration": 8,
    "start_time": "2023-03-05T12:46:56.742Z"
   },
   {
    "duration": 8,
    "start_time": "2023-03-05T12:47:08.577Z"
   },
   {
    "duration": 6,
    "start_time": "2023-03-05T12:47:18.050Z"
   },
   {
    "duration": 6,
    "start_time": "2023-03-05T12:47:24.956Z"
   },
   {
    "duration": 5,
    "start_time": "2023-03-05T12:47:25.173Z"
   },
   {
    "duration": 5,
    "start_time": "2023-03-05T12:47:38.805Z"
   },
   {
    "duration": 6,
    "start_time": "2023-03-05T12:47:40.268Z"
   },
   {
    "duration": 236,
    "start_time": "2023-03-05T12:47:55.308Z"
   },
   {
    "duration": 9,
    "start_time": "2023-03-05T12:47:55.678Z"
   },
   {
    "duration": 15,
    "start_time": "2023-03-05T12:48:54.608Z"
   },
   {
    "duration": 150,
    "start_time": "2023-03-05T12:49:34.815Z"
   },
   {
    "duration": 10,
    "start_time": "2023-03-05T12:49:56.178Z"
   },
   {
    "duration": 8,
    "start_time": "2023-03-05T12:49:59.544Z"
   },
   {
    "duration": 4,
    "start_time": "2023-03-05T12:50:03.176Z"
   },
   {
    "duration": 4,
    "start_time": "2023-03-05T12:50:05.501Z"
   },
   {
    "duration": 31,
    "start_time": "2023-03-05T12:51:20.046Z"
   },
   {
    "duration": 7,
    "start_time": "2023-03-05T12:51:25.328Z"
   },
   {
    "duration": 9,
    "start_time": "2023-03-05T12:51:29.030Z"
   },
   {
    "duration": 8,
    "start_time": "2023-03-05T12:51:32.503Z"
   },
   {
    "duration": 6,
    "start_time": "2023-03-05T12:51:38.988Z"
   },
   {
    "duration": 233,
    "start_time": "2023-03-05T12:51:59.978Z"
   },
   {
    "duration": 20,
    "start_time": "2023-03-05T12:52:00.218Z"
   },
   {
    "duration": 25,
    "start_time": "2023-03-05T12:52:22.311Z"
   },
   {
    "duration": 21,
    "start_time": "2023-03-05T12:52:54.166Z"
   },
   {
    "duration": 7,
    "start_time": "2023-03-05T12:53:01.430Z"
   },
   {
    "duration": 5,
    "start_time": "2023-03-05T12:53:08.058Z"
   },
   {
    "duration": 4,
    "start_time": "2023-03-05T12:53:50.768Z"
   },
   {
    "duration": 5,
    "start_time": "2023-03-05T12:54:08.348Z"
   },
   {
    "duration": 5,
    "start_time": "2023-03-05T12:54:36.262Z"
   },
   {
    "duration": 229,
    "start_time": "2023-03-05T12:54:36.458Z"
   },
   {
    "duration": 25,
    "start_time": "2023-03-05T12:54:37.181Z"
   },
   {
    "duration": 27,
    "start_time": "2023-03-05T12:54:37.507Z"
   },
   {
    "duration": 20,
    "start_time": "2023-03-05T12:54:38.024Z"
   },
   {
    "duration": 21,
    "start_time": "2023-03-05T12:54:38.590Z"
   },
   {
    "duration": 48,
    "start_time": "2023-03-05T12:54:41.383Z"
   },
   {
    "duration": 140,
    "start_time": "2023-03-05T12:54:43.903Z"
   },
   {
    "duration": 281,
    "start_time": "2023-03-05T12:54:45.291Z"
   },
   {
    "duration": 6,
    "start_time": "2023-03-05T12:54:46.685Z"
   },
   {
    "duration": 248,
    "start_time": "2023-03-05T12:54:47.127Z"
   },
   {
    "duration": 15,
    "start_time": "2023-03-05T12:54:49.101Z"
   },
   {
    "duration": 249,
    "start_time": "2023-03-05T12:54:50.387Z"
   },
   {
    "duration": 18,
    "start_time": "2023-03-05T12:54:52.062Z"
   },
   {
    "duration": 12,
    "start_time": "2023-03-05T12:54:54.004Z"
   },
   {
    "duration": 975,
    "start_time": "2023-03-05T12:54:55.052Z"
   },
   {
    "duration": 1152,
    "start_time": "2023-03-05T12:54:57.350Z"
   },
   {
    "duration": 245,
    "start_time": "2023-03-05T12:57:08.385Z"
   },
   {
    "duration": 34,
    "start_time": "2023-03-05T12:59:20.756Z"
   },
   {
    "duration": 17,
    "start_time": "2023-03-05T12:59:37.954Z"
   },
   {
    "duration": 18,
    "start_time": "2023-03-05T13:00:37.927Z"
   },
   {
    "duration": 18,
    "start_time": "2023-03-05T13:00:50.538Z"
   },
   {
    "duration": 195,
    "start_time": "2023-03-05T13:00:58.771Z"
   },
   {
    "duration": 128,
    "start_time": "2023-03-05T13:01:16.992Z"
   },
   {
    "duration": 141,
    "start_time": "2023-03-05T13:01:43.540Z"
   },
   {
    "duration": 77,
    "start_time": "2023-03-05T13:01:46.131Z"
   },
   {
    "duration": 5,
    "start_time": "2023-03-05T13:01:51.066Z"
   },
   {
    "duration": 27,
    "start_time": "2023-03-05T13:02:00.514Z"
   },
   {
    "duration": 99,
    "start_time": "2023-03-05T13:02:17.727Z"
   },
   {
    "duration": 5,
    "start_time": "2023-03-05T13:02:22.577Z"
   },
   {
    "duration": 5,
    "start_time": "2023-03-05T13:05:19.856Z"
   },
   {
    "duration": 40,
    "start_time": "2023-03-05T13:05:52.516Z"
   },
   {
    "duration": 31,
    "start_time": "2023-03-05T13:05:59.282Z"
   },
   {
    "duration": 17,
    "start_time": "2023-03-05T13:06:30.078Z"
   },
   {
    "duration": 33,
    "start_time": "2023-03-05T13:06:34.840Z"
   },
   {
    "duration": 5,
    "start_time": "2023-03-05T13:06:36.736Z"
   },
   {
    "duration": 295,
    "start_time": "2023-03-05T13:06:37.189Z"
   },
   {
    "duration": 33,
    "start_time": "2023-03-05T13:06:38.240Z"
   },
   {
    "duration": 29,
    "start_time": "2023-03-05T13:09:14.332Z"
   },
   {
    "duration": 31,
    "start_time": "2023-03-05T13:09:15.141Z"
   },
   {
    "duration": 16,
    "start_time": "2023-03-05T13:09:26.851Z"
   },
   {
    "duration": 9,
    "start_time": "2023-03-05T13:09:32.656Z"
   },
   {
    "duration": 17,
    "start_time": "2023-03-05T13:09:45.965Z"
   },
   {
    "duration": 17,
    "start_time": "2023-03-05T13:10:05.833Z"
   },
   {
    "duration": 45,
    "start_time": "2023-03-05T13:11:01.980Z"
   },
   {
    "duration": 31,
    "start_time": "2023-03-05T13:11:06.330Z"
   },
   {
    "duration": 12,
    "start_time": "2023-03-05T13:12:23.411Z"
   },
   {
    "duration": 9,
    "start_time": "2023-03-05T13:12:28.465Z"
   },
   {
    "duration": 37,
    "start_time": "2023-03-05T13:12:48.704Z"
   },
   {
    "duration": 34,
    "start_time": "2023-03-05T13:14:38.696Z"
   },
   {
    "duration": 31,
    "start_time": "2023-03-05T13:17:59.145Z"
   },
   {
    "duration": 40,
    "start_time": "2023-03-05T13:19:07.292Z"
   },
   {
    "duration": 43,
    "start_time": "2023-03-05T13:19:14.728Z"
   },
   {
    "duration": 27,
    "start_time": "2023-03-05T13:19:28.175Z"
   },
   {
    "duration": 40,
    "start_time": "2023-03-05T13:19:43.594Z"
   },
   {
    "duration": 4,
    "start_time": "2023-03-05T13:22:23.363Z"
   },
   {
    "duration": 70,
    "start_time": "2023-03-05T13:22:51.278Z"
   },
   {
    "duration": 4,
    "start_time": "2023-03-05T13:23:30.376Z"
   },
   {
    "duration": 5,
    "start_time": "2023-03-05T13:23:36.830Z"
   },
   {
    "duration": 29,
    "start_time": "2023-03-05T13:24:03.705Z"
   },
   {
    "duration": 61,
    "start_time": "2023-03-05T13:24:16.183Z"
   },
   {
    "duration": 50,
    "start_time": "2023-03-05T13:24:29.221Z"
   },
   {
    "duration": 46,
    "start_time": "2023-03-05T13:24:33.836Z"
   },
   {
    "duration": 13,
    "start_time": "2023-03-05T13:30:50.719Z"
   },
   {
    "duration": 17,
    "start_time": "2023-03-05T13:31:00.405Z"
   },
   {
    "duration": 14,
    "start_time": "2023-03-05T13:31:04.556Z"
   },
   {
    "duration": 18,
    "start_time": "2023-03-05T13:31:12.729Z"
   },
   {
    "duration": 13,
    "start_time": "2023-03-05T13:31:13.334Z"
   },
   {
    "duration": 11,
    "start_time": "2023-03-05T13:31:24.763Z"
   },
   {
    "duration": 1862,
    "start_time": "2023-03-05T13:31:48.653Z"
   },
   {
    "duration": 313,
    "start_time": "2023-03-05T13:32:04.564Z"
   },
   {
    "duration": 132,
    "start_time": "2023-03-05T13:32:10.992Z"
   },
   {
    "duration": 16,
    "start_time": "2023-03-05T13:32:40.767Z"
   },
   {
    "duration": 21,
    "start_time": "2023-03-05T13:32:44.166Z"
   },
   {
    "duration": 11,
    "start_time": "2023-03-05T13:32:58.194Z"
   },
   {
    "duration": 21,
    "start_time": "2023-03-05T13:33:17.207Z"
   },
   {
    "duration": 4,
    "start_time": "2023-03-05T13:36:24.760Z"
   },
   {
    "duration": 5,
    "start_time": "2023-03-05T13:36:38.762Z"
   },
   {
    "duration": 4,
    "start_time": "2023-03-05T13:36:46.685Z"
   },
   {
    "duration": 508,
    "start_time": "2023-03-05T13:36:51.067Z"
   },
   {
    "duration": 1770,
    "start_time": "2023-03-05T13:37:01.103Z"
   },
   {
    "duration": 6,
    "start_time": "2023-03-05T13:37:25.644Z"
   },
   {
    "duration": 11,
    "start_time": "2023-03-05T13:37:30.791Z"
   },
   {
    "duration": 10,
    "start_time": "2023-03-05T13:37:33.920Z"
   },
   {
    "duration": 15,
    "start_time": "2023-03-05T13:37:55.986Z"
   },
   {
    "duration": 14,
    "start_time": "2023-03-05T13:37:59.031Z"
   },
   {
    "duration": 3,
    "start_time": "2023-03-05T13:38:11.725Z"
   },
   {
    "duration": 10,
    "start_time": "2023-03-05T13:38:26.758Z"
   },
   {
    "duration": 15,
    "start_time": "2023-03-05T13:38:49.379Z"
   },
   {
    "duration": 16,
    "start_time": "2023-03-05T13:39:50.442Z"
   },
   {
    "duration": 40,
    "start_time": "2023-03-05T13:40:00.689Z"
   },
   {
    "duration": 10,
    "start_time": "2023-03-05T13:40:10.989Z"
   },
   {
    "duration": 11,
    "start_time": "2023-03-05T13:40:13.556Z"
   },
   {
    "duration": 16,
    "start_time": "2023-03-05T13:40:24.244Z"
   },
   {
    "duration": 17,
    "start_time": "2023-03-05T13:40:31.334Z"
   },
   {
    "duration": 22,
    "start_time": "2023-03-05T13:41:06.542Z"
   },
   {
    "duration": 17,
    "start_time": "2023-03-05T13:41:21.771Z"
   },
   {
    "duration": 219,
    "start_time": "2023-03-05T13:41:25.546Z"
   },
   {
    "duration": 397,
    "start_time": "2023-03-05T13:41:33.190Z"
   },
   {
    "duration": 191,
    "start_time": "2023-03-05T13:41:38.291Z"
   },
   {
    "duration": 26,
    "start_time": "2023-03-05T13:41:50.831Z"
   },
   {
    "duration": 17,
    "start_time": "2023-03-05T13:41:53.058Z"
   },
   {
    "duration": 26,
    "start_time": "2023-03-05T13:42:06.733Z"
   },
   {
    "duration": 32,
    "start_time": "2023-03-05T13:42:37.741Z"
   },
   {
    "duration": 51,
    "start_time": "2023-03-05T13:42:53.813Z"
   },
   {
    "duration": 17,
    "start_time": "2023-03-05T13:42:58.888Z"
   },
   {
    "duration": 24,
    "start_time": "2023-03-05T13:43:10.446Z"
   },
   {
    "duration": 43,
    "start_time": "2023-03-05T13:43:17.507Z"
   },
   {
    "duration": 15,
    "start_time": "2023-03-05T13:43:45.440Z"
   },
   {
    "duration": 18,
    "start_time": "2023-03-05T13:44:08.560Z"
   },
   {
    "duration": 40,
    "start_time": "2023-03-05T13:44:12.041Z"
   },
   {
    "duration": 88,
    "start_time": "2023-03-05T13:45:20.946Z"
   },
   {
    "duration": 79,
    "start_time": "2023-03-05T13:45:40.360Z"
   },
   {
    "duration": 45,
    "start_time": "2023-03-05T13:45:45.197Z"
   },
   {
    "duration": 58,
    "start_time": "2023-03-05T13:46:50.406Z"
   },
   {
    "duration": 283,
    "start_time": "2023-03-05T13:46:58.154Z"
   },
   {
    "duration": 307,
    "start_time": "2023-03-05T13:47:04.221Z"
   },
   {
    "duration": 144,
    "start_time": "2023-03-05T13:47:15.145Z"
   },
   {
    "duration": 183,
    "start_time": "2023-03-05T13:47:18.034Z"
   },
   {
    "duration": 27,
    "start_time": "2023-03-05T13:47:30.856Z"
   },
   {
    "duration": 187,
    "start_time": "2023-03-05T13:47:59.499Z"
   },
   {
    "duration": 1744,
    "start_time": "2023-03-05T13:48:04.431Z"
   },
   {
    "duration": 315,
    "start_time": "2023-03-05T13:48:06.177Z"
   },
   {
    "duration": 34,
    "start_time": "2023-03-05T13:48:06.493Z"
   },
   {
    "duration": 37,
    "start_time": "2023-03-05T13:48:06.529Z"
   },
   {
    "duration": 30,
    "start_time": "2023-03-05T13:48:06.569Z"
   },
   {
    "duration": 53,
    "start_time": "2023-03-05T13:48:06.601Z"
   },
   {
    "duration": 58,
    "start_time": "2023-03-05T13:48:06.656Z"
   },
   {
    "duration": 170,
    "start_time": "2023-03-05T13:48:06.716Z"
   },
   {
    "duration": 348,
    "start_time": "2023-03-05T13:48:06.888Z"
   },
   {
    "duration": 13,
    "start_time": "2023-03-05T13:48:07.238Z"
   },
   {
    "duration": 297,
    "start_time": "2023-03-05T13:48:07.253Z"
   },
   {
    "duration": 24,
    "start_time": "2023-03-05T13:48:07.557Z"
   },
   {
    "duration": 1244,
    "start_time": "2023-03-05T13:48:07.583Z"
   },
   {
    "duration": 1238,
    "start_time": "2023-03-05T13:48:08.835Z"
   },
   {
    "duration": 153,
    "start_time": "2023-03-05T13:48:10.076Z"
   },
   {
    "duration": 39,
    "start_time": "2023-03-05T13:48:10.230Z"
   },
   {
    "duration": 99,
    "start_time": "2023-03-05T13:48:10.273Z"
   },
   {
    "duration": 151,
    "start_time": "2023-03-05T13:48:10.374Z"
   },
   {
    "duration": 15,
    "start_time": "2023-03-05T13:48:10.526Z"
   },
   {
    "duration": 151,
    "start_time": "2023-03-05T13:48:10.543Z"
   },
   {
    "duration": 6,
    "start_time": "2023-03-05T13:48:10.696Z"
   },
   {
    "duration": 169,
    "start_time": "2023-03-05T13:48:10.722Z"
   },
   {
    "duration": 1878,
    "start_time": "2023-03-05T13:48:10.893Z"
   },
   {
    "duration": 10,
    "start_time": "2023-03-05T13:48:12.773Z"
   },
   {
    "duration": 286,
    "start_time": "2023-03-05T13:48:12.785Z"
   },
   {
    "duration": 518,
    "start_time": "2023-03-05T13:48:13.074Z"
   },
   {
    "duration": 335,
    "start_time": "2023-03-05T13:48:13.594Z"
   },
   {
    "duration": 19,
    "start_time": "2023-03-05T13:48:13.932Z"
   },
   {
    "duration": 105,
    "start_time": "2023-03-05T13:48:13.956Z"
   },
   {
    "duration": 19,
    "start_time": "2023-03-05T13:48:14.064Z"
   },
   {
    "duration": 185,
    "start_time": "2023-03-05T13:48:53.657Z"
   },
   {
    "duration": 156,
    "start_time": "2023-03-05T13:48:57.815Z"
   },
   {
    "duration": 167,
    "start_time": "2023-03-05T13:49:07.182Z"
   },
   {
    "duration": 1677,
    "start_time": "2023-03-05T13:49:11.508Z"
   },
   {
    "duration": 343,
    "start_time": "2023-03-05T13:49:13.188Z"
   },
   {
    "duration": 37,
    "start_time": "2023-03-05T13:49:13.535Z"
   },
   {
    "duration": 42,
    "start_time": "2023-03-05T13:49:13.575Z"
   },
   {
    "duration": 45,
    "start_time": "2023-03-05T13:49:13.629Z"
   },
   {
    "duration": 26,
    "start_time": "2023-03-05T13:49:13.676Z"
   },
   {
    "duration": 66,
    "start_time": "2023-03-05T13:49:13.704Z"
   },
   {
    "duration": 180,
    "start_time": "2023-03-05T13:49:13.772Z"
   },
   {
    "duration": 361,
    "start_time": "2023-03-05T13:49:13.954Z"
   },
   {
    "duration": 16,
    "start_time": "2023-03-05T13:49:14.322Z"
   },
   {
    "duration": 341,
    "start_time": "2023-03-05T13:49:14.341Z"
   },
   {
    "duration": 46,
    "start_time": "2023-03-05T13:49:14.684Z"
   },
   {
    "duration": 1262,
    "start_time": "2023-03-05T13:49:14.736Z"
   },
   {
    "duration": 1320,
    "start_time": "2023-03-05T13:49:16.000Z"
   },
   {
    "duration": 197,
    "start_time": "2023-03-05T13:49:17.325Z"
   },
   {
    "duration": 43,
    "start_time": "2023-03-05T13:49:17.528Z"
   },
   {
    "duration": 132,
    "start_time": "2023-03-05T13:49:17.578Z"
   },
   {
    "duration": 226,
    "start_time": "2023-03-05T13:49:17.719Z"
   },
   {
    "duration": 18,
    "start_time": "2023-03-05T13:49:17.951Z"
   },
   {
    "duration": 177,
    "start_time": "2023-03-05T13:49:17.975Z"
   },
   {
    "duration": 10,
    "start_time": "2023-03-05T13:49:18.158Z"
   },
   {
    "duration": 215,
    "start_time": "2023-03-05T13:49:18.174Z"
   },
   {
    "duration": 2314,
    "start_time": "2023-03-05T13:49:18.391Z"
   },
   {
    "duration": 14,
    "start_time": "2023-03-05T13:49:20.707Z"
   },
   {
    "duration": 333,
    "start_time": "2023-03-05T13:49:20.723Z"
   },
   {
    "duration": 654,
    "start_time": "2023-03-05T13:49:21.063Z"
   },
   {
    "duration": 361,
    "start_time": "2023-03-05T13:49:21.720Z"
   },
   {
    "duration": 11,
    "start_time": "2023-03-05T13:49:22.084Z"
   },
   {
    "duration": 135,
    "start_time": "2023-03-05T13:49:22.118Z"
   },
   {
    "duration": 20,
    "start_time": "2023-03-05T13:49:22.255Z"
   },
   {
    "duration": 1881,
    "start_time": "2023-03-05T13:49:32.200Z"
   },
   {
    "duration": 493,
    "start_time": "2023-03-05T13:49:34.084Z"
   },
   {
    "duration": 41,
    "start_time": "2023-03-05T13:49:34.579Z"
   },
   {
    "duration": 30,
    "start_time": "2023-03-05T13:49:34.622Z"
   },
   {
    "duration": 45,
    "start_time": "2023-03-05T13:49:34.655Z"
   },
   {
    "duration": 42,
    "start_time": "2023-03-05T13:49:34.703Z"
   },
   {
    "duration": 93,
    "start_time": "2023-03-05T13:49:34.747Z"
   },
   {
    "duration": 226,
    "start_time": "2023-03-05T13:49:34.853Z"
   },
   {
    "duration": 416,
    "start_time": "2023-03-05T13:49:35.081Z"
   },
   {
    "duration": 8,
    "start_time": "2023-03-05T13:49:35.499Z"
   },
   {
    "duration": 392,
    "start_time": "2023-03-05T13:49:35.510Z"
   },
   {
    "duration": 37,
    "start_time": "2023-03-05T13:49:35.905Z"
   },
   {
    "duration": 1238,
    "start_time": "2023-03-05T13:49:35.946Z"
   },
   {
    "duration": 1267,
    "start_time": "2023-03-05T13:49:37.187Z"
   },
   {
    "duration": 134,
    "start_time": "2023-03-05T13:49:38.460Z"
   },
   {
    "duration": 39,
    "start_time": "2023-03-05T13:49:38.597Z"
   },
   {
    "duration": 98,
    "start_time": "2023-03-05T13:49:38.637Z"
   },
   {
    "duration": 164,
    "start_time": "2023-03-05T13:49:38.742Z"
   },
   {
    "duration": 18,
    "start_time": "2023-03-05T13:49:38.908Z"
   },
   {
    "duration": 160,
    "start_time": "2023-03-05T13:49:38.929Z"
   },
   {
    "duration": 6,
    "start_time": "2023-03-05T13:49:39.091Z"
   },
   {
    "duration": 194,
    "start_time": "2023-03-05T13:49:39.099Z"
   },
   {
    "duration": 2109,
    "start_time": "2023-03-05T13:49:39.295Z"
   },
   {
    "duration": 20,
    "start_time": "2023-03-05T13:49:41.406Z"
   },
   {
    "duration": 269,
    "start_time": "2023-03-05T13:49:41.428Z"
   },
   {
    "duration": 697,
    "start_time": "2023-03-05T13:49:41.699Z"
   },
   {
    "duration": 464,
    "start_time": "2023-03-05T13:49:42.399Z"
   },
   {
    "duration": 13,
    "start_time": "2023-03-05T13:49:42.865Z"
   },
   {
    "duration": 151,
    "start_time": "2023-03-05T13:49:42.881Z"
   },
   {
    "duration": 21,
    "start_time": "2023-03-05T13:49:43.043Z"
   },
   {
    "duration": 1759,
    "start_time": "2023-03-05T13:50:35.847Z"
   },
   {
    "duration": 347,
    "start_time": "2023-03-05T13:50:37.608Z"
   },
   {
    "duration": 41,
    "start_time": "2023-03-05T13:50:37.957Z"
   },
   {
    "duration": 37,
    "start_time": "2023-03-05T13:50:38.000Z"
   },
   {
    "duration": 41,
    "start_time": "2023-03-05T13:50:38.043Z"
   },
   {
    "duration": 46,
    "start_time": "2023-03-05T13:50:38.087Z"
   },
   {
    "duration": 59,
    "start_time": "2023-03-05T13:50:38.135Z"
   },
   {
    "duration": 198,
    "start_time": "2023-03-05T13:50:38.196Z"
   },
   {
    "duration": 346,
    "start_time": "2023-03-05T13:50:38.396Z"
   },
   {
    "duration": 11,
    "start_time": "2023-03-05T13:50:38.744Z"
   },
   {
    "duration": 278,
    "start_time": "2023-03-05T13:50:38.757Z"
   },
   {
    "duration": 30,
    "start_time": "2023-03-05T13:50:39.037Z"
   },
   {
    "duration": 1257,
    "start_time": "2023-03-05T13:50:39.069Z"
   },
   {
    "duration": 1235,
    "start_time": "2023-03-05T13:50:40.337Z"
   },
   {
    "duration": 136,
    "start_time": "2023-03-05T13:50:41.574Z"
   },
   {
    "duration": 25,
    "start_time": "2023-03-05T13:50:41.712Z"
   },
   {
    "duration": 147,
    "start_time": "2023-03-05T13:50:41.738Z"
   },
   {
    "duration": 123,
    "start_time": "2023-03-05T13:50:41.887Z"
   },
   {
    "duration": 26,
    "start_time": "2023-03-05T13:50:42.012Z"
   },
   {
    "duration": 142,
    "start_time": "2023-03-05T13:50:42.046Z"
   },
   {
    "duration": 0,
    "start_time": "2023-03-05T13:50:42.190Z"
   },
   {
    "duration": 0,
    "start_time": "2023-03-05T13:50:42.191Z"
   },
   {
    "duration": 0,
    "start_time": "2023-03-05T13:50:42.192Z"
   },
   {
    "duration": 0,
    "start_time": "2023-03-05T13:50:42.193Z"
   },
   {
    "duration": 0,
    "start_time": "2023-03-05T13:50:42.194Z"
   },
   {
    "duration": 0,
    "start_time": "2023-03-05T13:50:42.195Z"
   },
   {
    "duration": 0,
    "start_time": "2023-03-05T13:50:42.197Z"
   },
   {
    "duration": 0,
    "start_time": "2023-03-05T13:50:42.198Z"
   },
   {
    "duration": 0,
    "start_time": "2023-03-05T13:50:42.199Z"
   },
   {
    "duration": 0,
    "start_time": "2023-03-05T13:50:42.216Z"
   },
   {
    "duration": 1896,
    "start_time": "2023-03-05T13:50:53.644Z"
   },
   {
    "duration": 288,
    "start_time": "2023-03-05T13:50:55.548Z"
   },
   {
    "duration": 33,
    "start_time": "2023-03-05T13:50:55.843Z"
   },
   {
    "duration": 19,
    "start_time": "2023-03-05T13:50:55.878Z"
   },
   {
    "duration": 52,
    "start_time": "2023-03-05T13:50:55.900Z"
   },
   {
    "duration": 23,
    "start_time": "2023-03-05T13:50:55.954Z"
   },
   {
    "duration": 81,
    "start_time": "2023-03-05T13:50:55.979Z"
   },
   {
    "duration": 171,
    "start_time": "2023-03-05T13:50:56.061Z"
   },
   {
    "duration": 328,
    "start_time": "2023-03-05T13:50:56.234Z"
   },
   {
    "duration": 7,
    "start_time": "2023-03-05T13:50:56.565Z"
   },
   {
    "duration": 302,
    "start_time": "2023-03-05T13:50:56.573Z"
   },
   {
    "duration": 38,
    "start_time": "2023-03-05T13:50:56.877Z"
   },
   {
    "duration": 1203,
    "start_time": "2023-03-05T13:50:56.921Z"
   },
   {
    "duration": 1222,
    "start_time": "2023-03-05T13:50:58.130Z"
   },
   {
    "duration": 186,
    "start_time": "2023-03-05T13:50:59.358Z"
   },
   {
    "duration": 36,
    "start_time": "2023-03-05T13:50:59.546Z"
   },
   {
    "duration": 96,
    "start_time": "2023-03-05T13:50:59.584Z"
   },
   {
    "duration": 147,
    "start_time": "2023-03-05T13:50:59.682Z"
   },
   {
    "duration": 21,
    "start_time": "2023-03-05T13:50:59.832Z"
   },
   {
    "duration": 33,
    "start_time": "2023-03-05T13:50:59.855Z"
   },
   {
    "duration": 7,
    "start_time": "2023-03-05T13:50:59.890Z"
   },
   {
    "duration": 193,
    "start_time": "2023-03-05T13:50:59.898Z"
   },
   {
    "duration": 2017,
    "start_time": "2023-03-05T13:51:00.093Z"
   },
   {
    "duration": 14,
    "start_time": "2023-03-05T13:51:02.115Z"
   },
   {
    "duration": 295,
    "start_time": "2023-03-05T13:51:02.131Z"
   },
   {
    "duration": 361,
    "start_time": "2023-03-05T13:51:02.436Z"
   },
   {
    "duration": 488,
    "start_time": "2023-03-05T13:51:02.799Z"
   },
   {
    "duration": 26,
    "start_time": "2023-03-05T13:51:03.288Z"
   },
   {
    "duration": 100,
    "start_time": "2023-03-05T13:51:03.321Z"
   },
   {
    "duration": 24,
    "start_time": "2023-03-05T13:51:03.423Z"
   },
   {
    "duration": 93,
    "start_time": "2023-03-05T13:51:26.083Z"
   },
   {
    "duration": 82,
    "start_time": "2023-03-05T13:51:29.556Z"
   },
   {
    "duration": 6,
    "start_time": "2023-03-05T13:51:45.063Z"
   },
   {
    "duration": 4,
    "start_time": "2023-03-05T13:51:52.063Z"
   },
   {
    "duration": 9,
    "start_time": "2023-03-05T13:52:04.442Z"
   },
   {
    "duration": 101,
    "start_time": "2023-03-05T13:54:16.966Z"
   },
   {
    "duration": 14,
    "start_time": "2023-03-05T13:55:00.206Z"
   },
   {
    "duration": 18,
    "start_time": "2023-03-05T13:55:46.251Z"
   },
   {
    "duration": 67,
    "start_time": "2023-03-05T13:55:49.979Z"
   },
   {
    "duration": 50,
    "start_time": "2023-03-05T13:56:12.850Z"
   },
   {
    "duration": 33,
    "start_time": "2023-03-05T13:56:27.339Z"
   },
   {
    "duration": 20,
    "start_time": "2023-03-05T13:57:39.310Z"
   },
   {
    "duration": 93,
    "start_time": "2023-03-05T13:57:40.778Z"
   },
   {
    "duration": 23,
    "start_time": "2023-03-05T13:57:44.399Z"
   },
   {
    "duration": 46,
    "start_time": "2023-03-05T13:57:48.445Z"
   },
   {
    "duration": 7,
    "start_time": "2023-03-05T13:58:23.199Z"
   },
   {
    "duration": 207,
    "start_time": "2023-03-05T14:02:29.479Z"
   },
   {
    "duration": 8,
    "start_time": "2023-03-05T14:02:40.242Z"
   },
   {
    "duration": 11,
    "start_time": "2023-03-05T14:03:42.179Z"
   },
   {
    "duration": 31,
    "start_time": "2023-03-05T14:03:54.461Z"
   },
   {
    "duration": 17,
    "start_time": "2023-03-05T14:04:39.407Z"
   },
   {
    "duration": 14,
    "start_time": "2023-03-05T14:05:24.837Z"
   },
   {
    "duration": 1679,
    "start_time": "2023-03-05T14:05:54.449Z"
   },
   {
    "duration": 279,
    "start_time": "2023-03-05T14:05:56.130Z"
   },
   {
    "duration": 43,
    "start_time": "2023-03-05T14:05:56.419Z"
   },
   {
    "duration": 24,
    "start_time": "2023-03-05T14:05:56.465Z"
   },
   {
    "duration": 58,
    "start_time": "2023-03-05T14:05:56.491Z"
   },
   {
    "duration": 22,
    "start_time": "2023-03-05T14:05:56.551Z"
   },
   {
    "duration": 59,
    "start_time": "2023-03-05T14:05:56.575Z"
   },
   {
    "duration": 150,
    "start_time": "2023-03-05T14:05:56.643Z"
   },
   {
    "duration": 309,
    "start_time": "2023-03-05T14:05:56.794Z"
   },
   {
    "duration": 12,
    "start_time": "2023-03-05T14:05:57.112Z"
   },
   {
    "duration": 279,
    "start_time": "2023-03-05T14:05:57.126Z"
   },
   {
    "duration": 25,
    "start_time": "2023-03-05T14:05:57.407Z"
   },
   {
    "duration": 1261,
    "start_time": "2023-03-05T14:05:57.435Z"
   },
   {
    "duration": 1306,
    "start_time": "2023-03-05T14:05:58.697Z"
   },
   {
    "duration": 142,
    "start_time": "2023-03-05T14:06:00.014Z"
   },
   {
    "duration": 21,
    "start_time": "2023-03-05T14:06:00.159Z"
   },
   {
    "duration": 109,
    "start_time": "2023-03-05T14:06:00.182Z"
   },
   {
    "duration": 163,
    "start_time": "2023-03-05T14:06:00.293Z"
   },
   {
    "duration": 11,
    "start_time": "2023-03-05T14:06:00.459Z"
   },
   {
    "duration": 68,
    "start_time": "2023-03-05T14:06:00.472Z"
   },
   {
    "duration": 9,
    "start_time": "2023-03-05T14:06:00.555Z"
   },
   {
    "duration": 232,
    "start_time": "2023-03-05T14:06:00.566Z"
   },
   {
    "duration": 1905,
    "start_time": "2023-03-05T14:06:00.799Z"
   },
   {
    "duration": 27,
    "start_time": "2023-03-05T14:06:02.706Z"
   },
   {
    "duration": 298,
    "start_time": "2023-03-05T14:06:02.738Z"
   },
   {
    "duration": 352,
    "start_time": "2023-03-05T14:06:03.043Z"
   },
   {
    "duration": 457,
    "start_time": "2023-03-05T14:06:03.396Z"
   },
   {
    "duration": 10,
    "start_time": "2023-03-05T14:06:03.855Z"
   },
   {
    "duration": 11,
    "start_time": "2023-03-05T14:06:03.867Z"
   },
   {
    "duration": 121,
    "start_time": "2023-03-05T14:06:03.880Z"
   },
   {
    "duration": 29,
    "start_time": "2023-03-05T14:06:04.003Z"
   },
   {
    "duration": 18,
    "start_time": "2023-03-05T14:06:04.047Z"
   },
   {
    "duration": 28,
    "start_time": "2023-03-05T14:06:04.068Z"
   },
   {
    "duration": 3,
    "start_time": "2023-03-05T14:06:04.098Z"
   },
   {
    "duration": 11,
    "start_time": "2023-03-05T14:06:17.138Z"
   },
   {
    "duration": 34,
    "start_time": "2023-03-05T14:06:23.141Z"
   },
   {
    "duration": 31,
    "start_time": "2023-03-05T14:06:46.203Z"
   },
   {
    "duration": 31,
    "start_time": "2023-03-05T14:06:46.769Z"
   },
   {
    "duration": 79,
    "start_time": "2023-03-05T14:06:47.349Z"
   },
   {
    "duration": 28,
    "start_time": "2023-03-05T14:06:59.957Z"
   },
   {
    "duration": 13,
    "start_time": "2023-03-05T14:07:32.579Z"
   },
   {
    "duration": 14,
    "start_time": "2023-03-05T14:07:35.783Z"
   },
   {
    "duration": 19,
    "start_time": "2023-03-05T14:07:39.402Z"
   },
   {
    "duration": 118,
    "start_time": "2023-03-05T14:07:48.652Z"
   },
   {
    "duration": 24,
    "start_time": "2023-03-05T14:07:52.347Z"
   },
   {
    "duration": 18,
    "start_time": "2023-03-05T14:08:02.676Z"
   },
   {
    "duration": 50,
    "start_time": "2023-03-05T14:08:10.604Z"
   },
   {
    "duration": 20,
    "start_time": "2023-03-05T14:08:18.474Z"
   },
   {
    "duration": 33,
    "start_time": "2023-03-05T14:08:32.743Z"
   },
   {
    "duration": 48,
    "start_time": "2023-03-05T14:08:47.836Z"
   },
   {
    "duration": 14,
    "start_time": "2023-03-05T14:08:58.341Z"
   },
   {
    "duration": 1705,
    "start_time": "2023-03-05T14:09:24.546Z"
   },
   {
    "duration": 277,
    "start_time": "2023-03-05T14:09:26.253Z"
   },
   {
    "duration": 42,
    "start_time": "2023-03-05T14:09:26.532Z"
   },
   {
    "duration": 30,
    "start_time": "2023-03-05T14:09:26.576Z"
   },
   {
    "duration": 43,
    "start_time": "2023-03-05T14:09:26.615Z"
   },
   {
    "duration": 58,
    "start_time": "2023-03-05T14:09:26.660Z"
   },
   {
    "duration": 69,
    "start_time": "2023-03-05T14:09:26.720Z"
   },
   {
    "duration": 169,
    "start_time": "2023-03-05T14:09:26.791Z"
   },
   {
    "duration": 334,
    "start_time": "2023-03-05T14:09:26.962Z"
   },
   {
    "duration": 25,
    "start_time": "2023-03-05T14:09:27.298Z"
   },
   {
    "duration": 298,
    "start_time": "2023-03-05T14:09:27.329Z"
   },
   {
    "duration": 24,
    "start_time": "2023-03-05T14:09:27.628Z"
   },
   {
    "duration": 1194,
    "start_time": "2023-03-05T14:09:27.654Z"
   },
   {
    "duration": 1204,
    "start_time": "2023-03-05T14:09:28.855Z"
   },
   {
    "duration": 136,
    "start_time": "2023-03-05T14:09:30.062Z"
   },
   {
    "duration": 48,
    "start_time": "2023-03-05T14:09:30.200Z"
   },
   {
    "duration": 94,
    "start_time": "2023-03-05T14:09:30.254Z"
   },
   {
    "duration": 129,
    "start_time": "2023-03-05T14:09:30.356Z"
   },
   {
    "duration": 11,
    "start_time": "2023-03-05T14:09:30.487Z"
   },
   {
    "duration": 74,
    "start_time": "2023-03-05T14:09:30.499Z"
   },
   {
    "duration": 41,
    "start_time": "2023-03-05T14:09:30.575Z"
   },
   {
    "duration": 252,
    "start_time": "2023-03-05T14:09:30.618Z"
   },
   {
    "duration": 2102,
    "start_time": "2023-03-05T14:09:30.873Z"
   },
   {
    "duration": 15,
    "start_time": "2023-03-05T14:09:32.977Z"
   },
   {
    "duration": 269,
    "start_time": "2023-03-05T14:09:32.994Z"
   },
   {
    "duration": 378,
    "start_time": "2023-03-05T14:09:33.266Z"
   },
   {
    "duration": 415,
    "start_time": "2023-03-05T14:09:33.646Z"
   },
   {
    "duration": 11,
    "start_time": "2023-03-05T14:09:34.062Z"
   },
   {
    "duration": 37,
    "start_time": "2023-03-05T14:09:34.075Z"
   },
   {
    "duration": 141,
    "start_time": "2023-03-05T14:09:34.118Z"
   },
   {
    "duration": 22,
    "start_time": "2023-03-05T14:09:34.262Z"
   },
   {
    "duration": 28,
    "start_time": "2023-03-05T14:09:34.286Z"
   },
   {
    "duration": 42,
    "start_time": "2023-03-05T14:09:34.315Z"
   },
   {
    "duration": 12,
    "start_time": "2023-03-05T14:09:34.359Z"
   },
   {
    "duration": 20,
    "start_time": "2023-03-05T14:10:59.745Z"
   },
   {
    "duration": 1660,
    "start_time": "2023-03-05T14:11:36.992Z"
   },
   {
    "duration": 290,
    "start_time": "2023-03-05T14:11:38.654Z"
   },
   {
    "duration": 26,
    "start_time": "2023-03-05T14:11:38.946Z"
   },
   {
    "duration": 44,
    "start_time": "2023-03-05T14:11:38.974Z"
   },
   {
    "duration": 38,
    "start_time": "2023-03-05T14:11:39.022Z"
   },
   {
    "duration": 27,
    "start_time": "2023-03-05T14:11:39.062Z"
   },
   {
    "duration": 65,
    "start_time": "2023-03-05T14:11:39.091Z"
   },
   {
    "duration": 169,
    "start_time": "2023-03-05T14:11:39.158Z"
   },
   {
    "duration": 452,
    "start_time": "2023-03-05T14:11:39.331Z"
   },
   {
    "duration": 8,
    "start_time": "2023-03-05T14:11:39.787Z"
   },
   {
    "duration": 431,
    "start_time": "2023-03-05T14:11:39.797Z"
   },
   {
    "duration": 41,
    "start_time": "2023-03-05T14:11:40.232Z"
   },
   {
    "duration": 1279,
    "start_time": "2023-03-05T14:11:40.275Z"
   },
   {
    "duration": 1132,
    "start_time": "2023-03-05T14:11:41.561Z"
   },
   {
    "duration": 196,
    "start_time": "2023-03-05T14:11:42.696Z"
   },
   {
    "duration": 34,
    "start_time": "2023-03-05T14:11:42.894Z"
   },
   {
    "duration": 112,
    "start_time": "2023-03-05T14:11:42.929Z"
   },
   {
    "duration": 141,
    "start_time": "2023-03-05T14:11:43.042Z"
   },
   {
    "duration": 10,
    "start_time": "2023-03-05T14:11:43.185Z"
   },
   {
    "duration": 57,
    "start_time": "2023-03-05T14:11:43.196Z"
   },
   {
    "duration": 6,
    "start_time": "2023-03-05T14:11:43.254Z"
   },
   {
    "duration": 183,
    "start_time": "2023-03-05T14:11:43.262Z"
   },
   {
    "duration": 1962,
    "start_time": "2023-03-05T14:11:43.446Z"
   },
   {
    "duration": 26,
    "start_time": "2023-03-05T14:11:45.410Z"
   },
   {
    "duration": 302,
    "start_time": "2023-03-05T14:11:45.438Z"
   },
   {
    "duration": 348,
    "start_time": "2023-03-05T14:11:45.746Z"
   },
   {
    "duration": 437,
    "start_time": "2023-03-05T14:11:46.096Z"
   },
   {
    "duration": 19,
    "start_time": "2023-03-05T14:11:46.538Z"
   },
   {
    "duration": 14,
    "start_time": "2023-03-05T14:11:46.559Z"
   },
   {
    "duration": 114,
    "start_time": "2023-03-05T14:11:46.576Z"
   },
   {
    "duration": 21,
    "start_time": "2023-03-05T14:11:46.692Z"
   },
   {
    "duration": 20,
    "start_time": "2023-03-05T14:11:46.717Z"
   },
   {
    "duration": 32,
    "start_time": "2023-03-05T14:11:46.743Z"
   },
   {
    "duration": 19508,
    "start_time": "2023-03-05T14:11:46.777Z"
   },
   {
    "duration": 14528,
    "start_time": "2023-03-05T14:12:30.681Z"
   },
   {
    "duration": 15054,
    "start_time": "2023-03-05T14:13:02.609Z"
   },
   {
    "duration": 25,
    "start_time": "2023-03-05T14:13:26.503Z"
   },
   {
    "duration": 38,
    "start_time": "2023-03-05T14:13:30.857Z"
   },
   {
    "duration": 52,
    "start_time": "2023-03-05T14:13:39.635Z"
   },
   {
    "duration": 342,
    "start_time": "2023-03-05T14:13:47.783Z"
   },
   {
    "duration": 68,
    "start_time": "2023-03-05T14:13:50.978Z"
   },
   {
    "duration": 58,
    "start_time": "2023-03-05T14:13:55.474Z"
   },
   {
    "duration": 78,
    "start_time": "2023-03-05T14:13:58.137Z"
   },
   {
    "duration": 129,
    "start_time": "2023-03-05T14:15:00.380Z"
   },
   {
    "duration": 118,
    "start_time": "2023-03-05T14:15:09.244Z"
   },
   {
    "duration": 33,
    "start_time": "2023-03-05T14:15:14.109Z"
   },
   {
    "duration": 21,
    "start_time": "2023-03-05T14:15:28.147Z"
   },
   {
    "duration": 1832,
    "start_time": "2023-03-05T14:15:32.844Z"
   },
   {
    "duration": 412,
    "start_time": "2023-03-05T14:15:34.680Z"
   },
   {
    "duration": 51,
    "start_time": "2023-03-05T14:15:35.095Z"
   },
   {
    "duration": 30,
    "start_time": "2023-03-05T14:15:35.151Z"
   },
   {
    "duration": 40,
    "start_time": "2023-03-05T14:15:35.184Z"
   },
   {
    "duration": 33,
    "start_time": "2023-03-05T14:15:35.226Z"
   },
   {
    "duration": 67,
    "start_time": "2023-03-05T14:15:35.261Z"
   },
   {
    "duration": 170,
    "start_time": "2023-03-05T14:15:35.330Z"
   },
   {
    "duration": 345,
    "start_time": "2023-03-05T14:15:35.503Z"
   },
   {
    "duration": 7,
    "start_time": "2023-03-05T14:15:35.850Z"
   },
   {
    "duration": 286,
    "start_time": "2023-03-05T14:15:35.858Z"
   },
   {
    "duration": 23,
    "start_time": "2023-03-05T14:15:36.146Z"
   },
   {
    "duration": 1211,
    "start_time": "2023-03-05T14:15:36.171Z"
   },
   {
    "duration": 1222,
    "start_time": "2023-03-05T14:15:37.387Z"
   },
   {
    "duration": 137,
    "start_time": "2023-03-05T14:15:38.615Z"
   },
   {
    "duration": 27,
    "start_time": "2023-03-05T14:15:38.754Z"
   },
   {
    "duration": 93,
    "start_time": "2023-03-05T14:15:38.784Z"
   },
   {
    "duration": 124,
    "start_time": "2023-03-05T14:15:38.879Z"
   },
   {
    "duration": 15,
    "start_time": "2023-03-05T14:15:39.005Z"
   },
   {
    "duration": 40,
    "start_time": "2023-03-05T14:15:39.022Z"
   },
   {
    "duration": 8,
    "start_time": "2023-03-05T14:15:39.064Z"
   },
   {
    "duration": 200,
    "start_time": "2023-03-05T14:15:39.075Z"
   },
   {
    "duration": 1952,
    "start_time": "2023-03-05T14:15:39.276Z"
   },
   {
    "duration": 13,
    "start_time": "2023-03-05T14:15:41.230Z"
   },
   {
    "duration": 252,
    "start_time": "2023-03-05T14:15:41.245Z"
   },
   {
    "duration": 331,
    "start_time": "2023-03-05T14:15:41.498Z"
   },
   {
    "duration": 429,
    "start_time": "2023-03-05T14:15:41.831Z"
   },
   {
    "duration": 10,
    "start_time": "2023-03-05T14:15:42.269Z"
   },
   {
    "duration": 14,
    "start_time": "2023-03-05T14:15:42.281Z"
   },
   {
    "duration": 110,
    "start_time": "2023-03-05T14:15:42.296Z"
   },
   {
    "duration": 24,
    "start_time": "2023-03-05T14:15:42.407Z"
   },
   {
    "duration": 17,
    "start_time": "2023-03-05T14:15:42.432Z"
   },
   {
    "duration": 30,
    "start_time": "2023-03-05T14:15:42.451Z"
   },
   {
    "duration": 385,
    "start_time": "2023-03-05T14:15:42.484Z"
   },
   {
    "duration": 64,
    "start_time": "2023-03-05T14:16:06.504Z"
   },
   {
    "duration": 177,
    "start_time": "2023-03-05T14:33:53.383Z"
   },
   {
    "duration": 13,
    "start_time": "2023-03-05T14:34:21.036Z"
   },
   {
    "duration": 3,
    "start_time": "2023-03-05T14:37:22.433Z"
   },
   {
    "duration": 3,
    "start_time": "2023-03-05T14:38:33.062Z"
   },
   {
    "duration": 6,
    "start_time": "2023-03-05T14:43:05.397Z"
   },
   {
    "duration": 4,
    "start_time": "2023-03-05T14:43:41.472Z"
   },
   {
    "duration": 16,
    "start_time": "2023-03-05T14:43:49.342Z"
   },
   {
    "duration": 7,
    "start_time": "2023-03-05T14:44:03.596Z"
   },
   {
    "duration": 10,
    "start_time": "2023-03-05T14:44:14.944Z"
   },
   {
    "duration": 8,
    "start_time": "2023-03-05T14:44:18.698Z"
   },
   {
    "duration": 10,
    "start_time": "2023-03-05T14:44:22.961Z"
   },
   {
    "duration": 7,
    "start_time": "2023-03-05T14:44:26.901Z"
   },
   {
    "duration": 16,
    "start_time": "2023-03-05T14:44:57.359Z"
   },
   {
    "duration": 140,
    "start_time": "2023-03-05T14:45:12.340Z"
   },
   {
    "duration": 148,
    "start_time": "2023-03-05T14:45:20.549Z"
   },
   {
    "duration": 21,
    "start_time": "2023-03-05T14:45:27.761Z"
   },
   {
    "duration": 7,
    "start_time": "2023-03-05T14:45:40.993Z"
   },
   {
    "duration": 23,
    "start_time": "2023-03-05T14:47:04.207Z"
   },
   {
    "duration": 8,
    "start_time": "2023-03-05T14:47:08.802Z"
   },
   {
    "duration": 12,
    "start_time": "2023-03-05T14:47:14.231Z"
   },
   {
    "duration": 5,
    "start_time": "2023-03-05T14:47:18.362Z"
   },
   {
    "duration": 6,
    "start_time": "2023-03-05T14:47:21.366Z"
   },
   {
    "duration": 7,
    "start_time": "2023-03-05T14:48:17.070Z"
   },
   {
    "duration": 7,
    "start_time": "2023-03-05T14:48:23.077Z"
   },
   {
    "duration": 10,
    "start_time": "2023-03-05T14:48:26.518Z"
   },
   {
    "duration": 4,
    "start_time": "2023-03-05T14:52:19.477Z"
   },
   {
    "duration": 9,
    "start_time": "2023-03-05T14:54:05.056Z"
   },
   {
    "duration": 131,
    "start_time": "2023-03-05T14:55:19.693Z"
   },
   {
    "duration": 15,
    "start_time": "2023-03-05T14:55:26.750Z"
   },
   {
    "duration": 4,
    "start_time": "2023-03-05T14:55:49.707Z"
   },
   {
    "duration": 21,
    "start_time": "2023-03-05T14:55:50.081Z"
   },
   {
    "duration": 25,
    "start_time": "2023-03-05T14:56:12.543Z"
   },
   {
    "duration": 1913,
    "start_time": "2023-03-05T14:56:25.649Z"
   },
   {
    "duration": 425,
    "start_time": "2023-03-05T14:56:27.570Z"
   },
   {
    "duration": 45,
    "start_time": "2023-03-05T14:56:27.998Z"
   },
   {
    "duration": 32,
    "start_time": "2023-03-05T14:56:28.047Z"
   },
   {
    "duration": 27,
    "start_time": "2023-03-05T14:56:28.086Z"
   },
   {
    "duration": 43,
    "start_time": "2023-03-05T14:56:28.121Z"
   },
   {
    "duration": 64,
    "start_time": "2023-03-05T14:56:28.166Z"
   },
   {
    "duration": 202,
    "start_time": "2023-03-05T14:56:28.232Z"
   },
   {
    "duration": 403,
    "start_time": "2023-03-05T14:56:28.436Z"
   },
   {
    "duration": 13,
    "start_time": "2023-03-05T14:56:28.841Z"
   },
   {
    "duration": 315,
    "start_time": "2023-03-05T14:56:28.859Z"
   },
   {
    "duration": 20,
    "start_time": "2023-03-05T14:56:29.179Z"
   },
   {
    "duration": 1353,
    "start_time": "2023-03-05T14:56:29.201Z"
   },
   {
    "duration": 1239,
    "start_time": "2023-03-05T14:56:30.561Z"
   },
   {
    "duration": 151,
    "start_time": "2023-03-05T14:56:31.801Z"
   },
   {
    "duration": 24,
    "start_time": "2023-03-05T14:56:31.953Z"
   },
   {
    "duration": 102,
    "start_time": "2023-03-05T14:56:31.979Z"
   },
   {
    "duration": 137,
    "start_time": "2023-03-05T14:56:32.082Z"
   },
   {
    "duration": 15,
    "start_time": "2023-03-05T14:56:32.224Z"
   },
   {
    "duration": 49,
    "start_time": "2023-03-05T14:56:32.243Z"
   },
   {
    "duration": 6,
    "start_time": "2023-03-05T14:56:32.294Z"
   },
   {
    "duration": 202,
    "start_time": "2023-03-05T14:56:32.302Z"
   },
   {
    "duration": 2202,
    "start_time": "2023-03-05T14:56:32.506Z"
   },
   {
    "duration": 21,
    "start_time": "2023-03-05T14:56:34.711Z"
   },
   {
    "duration": 376,
    "start_time": "2023-03-05T14:56:34.743Z"
   },
   {
    "duration": 478,
    "start_time": "2023-03-05T14:56:35.124Z"
   },
   {
    "duration": 340,
    "start_time": "2023-03-05T14:56:35.605Z"
   },
   {
    "duration": 15,
    "start_time": "2023-03-05T14:56:35.947Z"
   },
   {
    "duration": 15,
    "start_time": "2023-03-05T14:56:35.966Z"
   },
   {
    "duration": 115,
    "start_time": "2023-03-05T14:56:35.983Z"
   },
   {
    "duration": 34,
    "start_time": "2023-03-05T14:56:36.101Z"
   },
   {
    "duration": 17,
    "start_time": "2023-03-05T14:56:36.141Z"
   },
   {
    "duration": 33,
    "start_time": "2023-03-05T14:56:36.160Z"
   },
   {
    "duration": 496,
    "start_time": "2023-03-05T14:56:36.195Z"
   },
   {
    "duration": 4,
    "start_time": "2023-03-05T14:56:36.693Z"
   },
   {
    "duration": 50,
    "start_time": "2023-03-05T14:56:36.699Z"
   },
   {
    "duration": 16,
    "start_time": "2023-03-05T14:56:40.686Z"
   },
   {
    "duration": 239,
    "start_time": "2023-03-05T14:58:43.141Z"
   },
   {
    "duration": 231,
    "start_time": "2023-03-05T14:59:12.776Z"
   },
   {
    "duration": 228,
    "start_time": "2023-03-05T14:59:33.838Z"
   },
   {
    "duration": 239,
    "start_time": "2023-03-05T14:59:38.493Z"
   },
   {
    "duration": 7,
    "start_time": "2023-03-05T14:59:47.575Z"
   },
   {
    "duration": 14,
    "start_time": "2023-03-05T14:59:57.222Z"
   },
   {
    "duration": 241,
    "start_time": "2023-03-05T15:00:09.611Z"
   },
   {
    "duration": 274,
    "start_time": "2023-03-05T15:00:26.982Z"
   },
   {
    "duration": 259,
    "start_time": "2023-03-05T15:00:34.265Z"
   },
   {
    "duration": 8138,
    "start_time": "2023-03-05T15:00:39.473Z"
   },
   {
    "duration": 10111,
    "start_time": "2023-03-05T15:00:49.085Z"
   },
   {
    "duration": 5,
    "start_time": "2023-03-05T15:05:57.964Z"
   },
   {
    "duration": 3,
    "start_time": "2023-03-05T15:10:35.108Z"
   },
   {
    "duration": 70,
    "start_time": "2023-03-05T15:13:40.864Z"
   },
   {
    "duration": 135,
    "start_time": "2023-03-05T15:13:54.557Z"
   },
   {
    "duration": 69,
    "start_time": "2023-03-05T15:13:57.699Z"
   },
   {
    "duration": 15,
    "start_time": "2023-03-05T15:14:05.587Z"
   },
   {
    "duration": 67,
    "start_time": "2023-03-05T15:14:09.275Z"
   },
   {
    "duration": 68,
    "start_time": "2023-03-05T15:14:13.962Z"
   },
   {
    "duration": 23,
    "start_time": "2023-03-05T15:15:14.239Z"
   },
   {
    "duration": 74,
    "start_time": "2023-03-05T15:15:22.492Z"
   },
   {
    "duration": 14,
    "start_time": "2023-03-05T15:15:59.439Z"
   },
   {
    "duration": 28,
    "start_time": "2023-03-05T15:15:59.456Z"
   },
   {
    "duration": 340,
    "start_time": "2023-03-05T15:16:00.761Z"
   },
   {
    "duration": 3,
    "start_time": "2023-03-05T15:16:01.556Z"
   },
   {
    "duration": 17,
    "start_time": "2023-03-05T15:16:16.497Z"
   },
   {
    "duration": 14,
    "start_time": "2023-03-05T15:16:54.183Z"
   },
   {
    "duration": 31,
    "start_time": "2023-03-05T15:16:54.627Z"
   },
   {
    "duration": 372,
    "start_time": "2023-03-05T15:16:54.975Z"
   },
   {
    "duration": 2,
    "start_time": "2023-03-05T15:16:55.461Z"
   },
   {
    "duration": 23,
    "start_time": "2023-03-05T15:16:55.813Z"
   },
   {
    "duration": 1500,
    "start_time": "2023-03-05T15:17:02.404Z"
   },
   {
    "duration": 356,
    "start_time": "2023-03-05T15:17:03.906Z"
   },
   {
    "duration": 32,
    "start_time": "2023-03-05T15:17:04.264Z"
   },
   {
    "duration": 38,
    "start_time": "2023-03-05T15:17:04.299Z"
   },
   {
    "duration": 38,
    "start_time": "2023-03-05T15:17:04.339Z"
   },
   {
    "duration": 27,
    "start_time": "2023-03-05T15:17:04.379Z"
   },
   {
    "duration": 87,
    "start_time": "2023-03-05T15:17:04.408Z"
   },
   {
    "duration": 176,
    "start_time": "2023-03-05T15:17:04.497Z"
   },
   {
    "duration": 314,
    "start_time": "2023-03-05T15:17:04.675Z"
   },
   {
    "duration": 6,
    "start_time": "2023-03-05T15:17:04.992Z"
   },
   {
    "duration": 299,
    "start_time": "2023-03-05T15:17:05.000Z"
   },
   {
    "duration": 40,
    "start_time": "2023-03-05T15:17:05.302Z"
   },
   {
    "duration": 1163,
    "start_time": "2023-03-05T15:17:05.344Z"
   },
   {
    "duration": 1155,
    "start_time": "2023-03-05T15:17:06.508Z"
   },
   {
    "duration": 139,
    "start_time": "2023-03-05T15:17:07.665Z"
   },
   {
    "duration": 29,
    "start_time": "2023-03-05T15:17:07.806Z"
   },
   {
    "duration": 54,
    "start_time": "2023-03-05T15:17:07.839Z"
   },
   {
    "duration": 152,
    "start_time": "2023-03-05T15:17:07.895Z"
   },
   {
    "duration": 13,
    "start_time": "2023-03-05T15:17:08.048Z"
   },
   {
    "duration": 57,
    "start_time": "2023-03-05T15:17:08.063Z"
   },
   {
    "duration": 13,
    "start_time": "2023-03-05T15:17:08.121Z"
   },
   {
    "duration": 159,
    "start_time": "2023-03-05T15:17:08.136Z"
   },
   {
    "duration": 1912,
    "start_time": "2023-03-05T15:17:08.297Z"
   },
   {
    "duration": 23,
    "start_time": "2023-03-05T15:17:10.211Z"
   },
   {
    "duration": 249,
    "start_time": "2023-03-05T15:17:10.250Z"
   },
   {
    "duration": 367,
    "start_time": "2023-03-05T15:17:10.501Z"
   },
   {
    "duration": 299,
    "start_time": "2023-03-05T15:17:10.869Z"
   },
   {
    "duration": 14,
    "start_time": "2023-03-05T15:17:11.172Z"
   },
   {
    "duration": 39,
    "start_time": "2023-03-05T15:17:11.187Z"
   },
   {
    "duration": 96,
    "start_time": "2023-03-05T15:17:11.228Z"
   },
   {
    "duration": 22,
    "start_time": "2023-03-05T15:17:11.326Z"
   },
   {
    "duration": 14,
    "start_time": "2023-03-05T15:17:11.349Z"
   },
   {
    "duration": 47,
    "start_time": "2023-03-05T15:17:11.366Z"
   },
   {
    "duration": 473,
    "start_time": "2023-03-05T15:17:11.415Z"
   },
   {
    "duration": 2,
    "start_time": "2023-03-05T15:17:11.890Z"
   },
   {
    "duration": 30,
    "start_time": "2023-03-05T15:17:11.893Z"
   },
   {
    "duration": 9,
    "start_time": "2023-03-05T15:17:11.929Z"
   },
   {
    "duration": 25314,
    "start_time": "2023-03-05T15:17:11.940Z"
   },
   {
    "duration": 48,
    "start_time": "2023-03-05T15:20:52.544Z"
   },
   {
    "duration": 5,
    "start_time": "2023-03-05T15:20:56.968Z"
   },
   {
    "duration": 807,
    "start_time": "2023-03-05T15:26:03.835Z"
   },
   {
    "duration": 213923,
    "start_time": "2023-03-05T15:27:29.327Z"
   },
   {
    "duration": 0,
    "start_time": "2023-03-05T15:31:03.254Z"
   },
   {
    "duration": 576587,
    "start_time": "2023-03-05T15:31:06.768Z"
   },
   {
    "duration": 0,
    "start_time": "2023-03-05T15:40:43.357Z"
   },
   {
    "duration": 4,
    "start_time": "2023-03-05T15:40:53.205Z"
   },
   {
    "duration": 5,
    "start_time": "2023-03-05T15:41:00.757Z"
   },
   {
    "duration": 4,
    "start_time": "2023-03-05T15:41:06.499Z"
   },
   {
    "duration": 13,
    "start_time": "2023-03-05T15:41:10.907Z"
   },
   {
    "duration": 5,
    "start_time": "2023-03-05T15:41:20.737Z"
   },
   {
    "duration": 4,
    "start_time": "2023-03-05T15:41:31.936Z"
   },
   {
    "duration": 4,
    "start_time": "2023-03-05T15:41:39.772Z"
   },
   {
    "duration": 4,
    "start_time": "2023-03-05T15:41:50.929Z"
   },
   {
    "duration": 5,
    "start_time": "2023-03-05T15:41:54.399Z"
   },
   {
    "duration": 5,
    "start_time": "2023-03-05T15:41:59.256Z"
   },
   {
    "duration": 5,
    "start_time": "2023-03-05T15:42:25.991Z"
   },
   {
    "duration": 5,
    "start_time": "2023-03-05T15:43:46.926Z"
   },
   {
    "duration": 4,
    "start_time": "2023-03-05T15:43:54.434Z"
   },
   {
    "duration": 5,
    "start_time": "2023-03-05T15:43:57.693Z"
   },
   {
    "duration": 5,
    "start_time": "2023-03-05T15:44:01.553Z"
   },
   {
    "duration": 4,
    "start_time": "2023-03-05T15:44:05.797Z"
   },
   {
    "duration": 5,
    "start_time": "2023-03-05T15:44:10.004Z"
   },
   {
    "duration": 5,
    "start_time": "2023-03-05T15:44:16.741Z"
   },
   {
    "duration": 6,
    "start_time": "2023-03-05T15:44:23.121Z"
   },
   {
    "duration": 4,
    "start_time": "2023-03-05T15:44:34.788Z"
   },
   {
    "duration": 2000,
    "start_time": "2023-03-05T15:44:35.063Z"
   },
   {
    "duration": 5,
    "start_time": "2023-03-05T15:44:38.081Z"
   },
   {
    "duration": 47048,
    "start_time": "2023-03-05T15:44:52.085Z"
   },
   {
    "duration": 0,
    "start_time": "2023-03-05T15:45:39.136Z"
   },
   {
    "duration": 131751,
    "start_time": "2023-03-05T15:45:42.411Z"
   },
   {
    "duration": 2399,
    "start_time": "2023-03-05T15:58:53.289Z"
   },
   {
    "duration": 444,
    "start_time": "2023-03-05T15:58:55.690Z"
   },
   {
    "duration": 27,
    "start_time": "2023-03-05T15:58:56.136Z"
   },
   {
    "duration": 19,
    "start_time": "2023-03-05T15:58:56.165Z"
   },
   {
    "duration": 61,
    "start_time": "2023-03-05T15:58:56.187Z"
   },
   {
    "duration": 23,
    "start_time": "2023-03-05T15:58:56.250Z"
   },
   {
    "duration": 70,
    "start_time": "2023-03-05T15:58:56.275Z"
   },
   {
    "duration": 185,
    "start_time": "2023-03-05T15:58:56.347Z"
   },
   {
    "duration": 300,
    "start_time": "2023-03-05T15:58:56.534Z"
   },
   {
    "duration": 7,
    "start_time": "2023-03-05T15:58:56.836Z"
   },
   {
    "duration": 282,
    "start_time": "2023-03-05T15:58:56.845Z"
   },
   {
    "duration": 25,
    "start_time": "2023-03-05T15:58:57.129Z"
   },
   {
    "duration": 1210,
    "start_time": "2023-03-05T15:58:57.157Z"
   },
   {
    "duration": 1207,
    "start_time": "2023-03-05T15:58:58.372Z"
   },
   {
    "duration": 151,
    "start_time": "2023-03-05T15:58:59.581Z"
   },
   {
    "duration": 21,
    "start_time": "2023-03-05T15:58:59.736Z"
   },
   {
    "duration": 82,
    "start_time": "2023-03-05T15:58:59.759Z"
   },
   {
    "duration": 131,
    "start_time": "2023-03-05T15:58:59.843Z"
   },
   {
    "duration": 12,
    "start_time": "2023-03-05T15:58:59.977Z"
   },
   {
    "duration": 55,
    "start_time": "2023-03-05T15:58:59.991Z"
   },
   {
    "duration": 7,
    "start_time": "2023-03-05T15:59:00.049Z"
   },
   {
    "duration": 222,
    "start_time": "2023-03-05T15:59:00.058Z"
   },
   {
    "duration": 1859,
    "start_time": "2023-03-05T15:59:00.282Z"
   },
   {
    "duration": 9,
    "start_time": "2023-03-05T15:59:02.143Z"
   },
   {
    "duration": 315,
    "start_time": "2023-03-05T15:59:02.155Z"
   },
   {
    "duration": 367,
    "start_time": "2023-03-05T15:59:02.472Z"
   },
   {
    "duration": 315,
    "start_time": "2023-03-05T15:59:02.843Z"
   },
   {
    "duration": 15,
    "start_time": "2023-03-05T15:59:03.160Z"
   },
   {
    "duration": 38,
    "start_time": "2023-03-05T15:59:03.178Z"
   },
   {
    "duration": 110,
    "start_time": "2023-03-05T15:59:03.217Z"
   },
   {
    "duration": 22,
    "start_time": "2023-03-05T15:59:03.331Z"
   },
   {
    "duration": 15,
    "start_time": "2023-03-05T15:59:03.355Z"
   },
   {
    "duration": 46,
    "start_time": "2023-03-05T15:59:03.371Z"
   },
   {
    "duration": 491,
    "start_time": "2023-03-05T15:59:03.420Z"
   },
   {
    "duration": 7,
    "start_time": "2023-03-05T15:59:03.917Z"
   },
   {
    "duration": 16,
    "start_time": "2023-03-05T15:59:03.932Z"
   },
   {
    "duration": 4,
    "start_time": "2023-03-05T15:59:03.950Z"
   },
   {
    "duration": 5804,
    "start_time": "2023-03-05T15:59:03.956Z"
   },
   {
    "duration": 0,
    "start_time": "2023-03-05T15:59:09.761Z"
   },
   {
    "duration": 63886,
    "start_time": "2023-03-05T16:05:04.942Z"
   },
   {
    "duration": 6,
    "start_time": "2023-03-05T16:06:09.933Z"
   },
   {
    "duration": 1560,
    "start_time": "2023-03-05T16:06:19.194Z"
   },
   {
    "duration": 311,
    "start_time": "2023-03-05T16:06:20.757Z"
   },
   {
    "duration": 28,
    "start_time": "2023-03-05T16:06:21.070Z"
   },
   {
    "duration": 43,
    "start_time": "2023-03-05T16:06:21.100Z"
   },
   {
    "duration": 27,
    "start_time": "2023-03-05T16:06:21.145Z"
   },
   {
    "duration": 23,
    "start_time": "2023-03-05T16:06:21.173Z"
   },
   {
    "duration": 76,
    "start_time": "2023-03-05T16:06:21.198Z"
   },
   {
    "duration": 257,
    "start_time": "2023-03-05T16:06:21.276Z"
   },
   {
    "duration": 403,
    "start_time": "2023-03-05T16:06:21.535Z"
   },
   {
    "duration": 7,
    "start_time": "2023-03-05T16:06:21.940Z"
   },
   {
    "duration": 282,
    "start_time": "2023-03-05T16:06:21.950Z"
   },
   {
    "duration": 21,
    "start_time": "2023-03-05T16:06:22.235Z"
   },
   {
    "duration": 1199,
    "start_time": "2023-03-05T16:06:22.258Z"
   },
   {
    "duration": 1254,
    "start_time": "2023-03-05T16:06:23.460Z"
   },
   {
    "duration": 138,
    "start_time": "2023-03-05T16:06:24.727Z"
   },
   {
    "duration": 22,
    "start_time": "2023-03-05T16:06:24.867Z"
   },
   {
    "duration": 88,
    "start_time": "2023-03-05T16:06:24.891Z"
   },
   {
    "duration": 157,
    "start_time": "2023-03-05T16:06:24.981Z"
   },
   {
    "duration": 14,
    "start_time": "2023-03-05T16:06:25.141Z"
   },
   {
    "duration": 33,
    "start_time": "2023-03-05T16:06:25.157Z"
   },
   {
    "duration": 6,
    "start_time": "2023-03-05T16:06:25.192Z"
   },
   {
    "duration": 213,
    "start_time": "2023-03-05T16:06:25.211Z"
   },
   {
    "duration": 1861,
    "start_time": "2023-03-05T16:06:25.428Z"
   },
   {
    "duration": 13,
    "start_time": "2023-03-05T16:06:27.291Z"
   },
   {
    "duration": 287,
    "start_time": "2023-03-05T16:06:27.306Z"
   },
   {
    "duration": 375,
    "start_time": "2023-03-05T16:06:27.595Z"
   },
   {
    "duration": 298,
    "start_time": "2023-03-05T16:06:27.972Z"
   },
   {
    "duration": 12,
    "start_time": "2023-03-05T16:06:28.271Z"
   },
   {
    "duration": 38,
    "start_time": "2023-03-05T16:06:28.285Z"
   },
   {
    "duration": 95,
    "start_time": "2023-03-05T16:06:28.333Z"
   },
   {
    "duration": 25,
    "start_time": "2023-03-05T16:06:28.430Z"
   },
   {
    "duration": 17,
    "start_time": "2023-03-05T16:06:28.457Z"
   },
   {
    "duration": 52,
    "start_time": "2023-03-05T16:06:28.477Z"
   },
   {
    "duration": 463,
    "start_time": "2023-03-05T16:06:28.535Z"
   },
   {
    "duration": 2,
    "start_time": "2023-03-05T16:06:29.000Z"
   },
   {
    "duration": 24,
    "start_time": "2023-03-05T16:06:29.005Z"
   },
   {
    "duration": 12,
    "start_time": "2023-03-05T16:06:29.031Z"
   },
   {
    "duration": 1600,
    "start_time": "2023-03-05T16:06:36.667Z"
   },
   {
    "duration": 276,
    "start_time": "2023-03-05T16:06:38.269Z"
   },
   {
    "duration": 47,
    "start_time": "2023-03-05T16:06:38.549Z"
   },
   {
    "duration": 35,
    "start_time": "2023-03-05T16:06:38.599Z"
   },
   {
    "duration": 29,
    "start_time": "2023-03-05T16:06:38.643Z"
   },
   {
    "duration": 22,
    "start_time": "2023-03-05T16:06:38.673Z"
   },
   {
    "duration": 70,
    "start_time": "2023-03-05T16:06:38.697Z"
   },
   {
    "duration": 183,
    "start_time": "2023-03-05T16:06:38.768Z"
   },
   {
    "duration": 320,
    "start_time": "2023-03-05T16:06:38.953Z"
   },
   {
    "duration": 7,
    "start_time": "2023-03-05T16:06:39.275Z"
   },
   {
    "duration": 290,
    "start_time": "2023-03-05T16:06:39.284Z"
   },
   {
    "duration": 18,
    "start_time": "2023-03-05T16:06:39.576Z"
   },
   {
    "duration": 1155,
    "start_time": "2023-03-05T16:06:39.616Z"
   },
   {
    "duration": 1201,
    "start_time": "2023-03-05T16:06:40.773Z"
   },
   {
    "duration": 133,
    "start_time": "2023-03-05T16:06:41.977Z"
   },
   {
    "duration": 23,
    "start_time": "2023-03-05T16:06:42.112Z"
   },
   {
    "duration": 54,
    "start_time": "2023-03-05T16:06:42.137Z"
   },
   {
    "duration": 162,
    "start_time": "2023-03-05T16:06:42.214Z"
   },
   {
    "duration": 12,
    "start_time": "2023-03-05T16:06:42.379Z"
   },
   {
    "duration": 59,
    "start_time": "2023-03-05T16:06:42.394Z"
   },
   {
    "duration": 12,
    "start_time": "2023-03-05T16:06:42.455Z"
   },
   {
    "duration": 192,
    "start_time": "2023-03-05T16:06:42.469Z"
   },
   {
    "duration": 1904,
    "start_time": "2023-03-05T16:06:42.663Z"
   },
   {
    "duration": 14,
    "start_time": "2023-03-05T16:06:44.569Z"
   },
   {
    "duration": 288,
    "start_time": "2023-03-05T16:06:44.585Z"
   },
   {
    "duration": 371,
    "start_time": "2023-03-05T16:06:44.875Z"
   },
   {
    "duration": 317,
    "start_time": "2023-03-05T16:06:45.249Z"
   },
   {
    "duration": 18,
    "start_time": "2023-03-05T16:06:45.569Z"
   },
   {
    "duration": 31,
    "start_time": "2023-03-05T16:06:45.589Z"
   },
   {
    "duration": 104,
    "start_time": "2023-03-05T16:06:45.623Z"
   },
   {
    "duration": 28,
    "start_time": "2023-03-05T16:06:45.731Z"
   },
   {
    "duration": 20,
    "start_time": "2023-03-05T16:06:45.762Z"
   },
   {
    "duration": 56,
    "start_time": "2023-03-05T16:06:45.787Z"
   },
   {
    "duration": 476,
    "start_time": "2023-03-05T16:06:45.845Z"
   },
   {
    "duration": 4,
    "start_time": "2023-03-05T16:06:46.323Z"
   },
   {
    "duration": 15,
    "start_time": "2023-03-05T16:06:46.328Z"
   },
   {
    "duration": 7,
    "start_time": "2023-03-05T16:06:46.345Z"
   },
   {
    "duration": 145608,
    "start_time": "2023-03-05T16:06:46.354Z"
   },
   {
    "duration": 1558,
    "start_time": "2023-03-05T16:14:25.393Z"
   },
   {
    "duration": 302,
    "start_time": "2023-03-05T16:14:26.957Z"
   },
   {
    "duration": 27,
    "start_time": "2023-03-05T16:14:27.261Z"
   },
   {
    "duration": 33,
    "start_time": "2023-03-05T16:14:27.290Z"
   },
   {
    "duration": 34,
    "start_time": "2023-03-05T16:14:27.326Z"
   },
   {
    "duration": 22,
    "start_time": "2023-03-05T16:14:27.362Z"
   },
   {
    "duration": 79,
    "start_time": "2023-03-05T16:14:27.386Z"
   },
   {
    "duration": 173,
    "start_time": "2023-03-05T16:14:27.467Z"
   },
   {
    "duration": 316,
    "start_time": "2023-03-05T16:14:27.649Z"
   },
   {
    "duration": 6,
    "start_time": "2023-03-05T16:14:27.967Z"
   },
   {
    "duration": 299,
    "start_time": "2023-03-05T16:14:27.975Z"
   },
   {
    "duration": 15,
    "start_time": "2023-03-05T16:14:28.276Z"
   },
   {
    "duration": 1181,
    "start_time": "2023-03-05T16:14:28.292Z"
   },
   {
    "duration": 1216,
    "start_time": "2023-03-05T16:14:29.476Z"
   },
   {
    "duration": 148,
    "start_time": "2023-03-05T16:14:30.694Z"
   },
   {
    "duration": 27,
    "start_time": "2023-03-05T16:14:30.853Z"
   },
   {
    "duration": 109,
    "start_time": "2023-03-05T16:14:30.882Z"
   },
   {
    "duration": 167,
    "start_time": "2023-03-05T16:14:30.993Z"
   },
   {
    "duration": 11,
    "start_time": "2023-03-05T16:14:31.162Z"
   },
   {
    "duration": 77,
    "start_time": "2023-03-05T16:14:31.175Z"
   },
   {
    "duration": 26,
    "start_time": "2023-03-05T16:14:31.257Z"
   },
   {
    "duration": 216,
    "start_time": "2023-03-05T16:14:31.284Z"
   },
   {
    "duration": 1897,
    "start_time": "2023-03-05T16:14:31.502Z"
   },
   {
    "duration": 19,
    "start_time": "2023-03-05T16:14:33.401Z"
   },
   {
    "duration": 262,
    "start_time": "2023-03-05T16:14:33.428Z"
   },
   {
    "duration": 385,
    "start_time": "2023-03-05T16:14:33.691Z"
   },
   {
    "duration": 338,
    "start_time": "2023-03-05T16:14:34.080Z"
   },
   {
    "duration": 14,
    "start_time": "2023-03-05T16:14:34.420Z"
   },
   {
    "duration": 18,
    "start_time": "2023-03-05T16:14:34.436Z"
   },
   {
    "duration": 123,
    "start_time": "2023-03-05T16:14:34.456Z"
   },
   {
    "duration": 21,
    "start_time": "2023-03-05T16:14:34.581Z"
   },
   {
    "duration": 27,
    "start_time": "2023-03-05T16:14:34.617Z"
   },
   {
    "duration": 36,
    "start_time": "2023-03-05T16:14:34.658Z"
   },
   {
    "duration": 493,
    "start_time": "2023-03-05T16:14:34.696Z"
   },
   {
    "duration": 2,
    "start_time": "2023-03-05T16:14:35.191Z"
   },
   {
    "duration": 42,
    "start_time": "2023-03-05T16:14:35.195Z"
   },
   {
    "duration": 12,
    "start_time": "2023-03-05T16:14:35.241Z"
   },
   {
    "duration": 390506,
    "start_time": "2023-03-05T16:14:35.257Z"
   },
   {
    "duration": 76,
    "start_time": "2023-03-05T16:23:54.780Z"
   },
   {
    "duration": 1520,
    "start_time": "2023-03-05T16:24:07.876Z"
   },
   {
    "duration": 342,
    "start_time": "2023-03-05T16:24:09.399Z"
   },
   {
    "duration": 26,
    "start_time": "2023-03-05T16:24:09.751Z"
   },
   {
    "duration": 19,
    "start_time": "2023-03-05T16:24:09.778Z"
   },
   {
    "duration": 47,
    "start_time": "2023-03-05T16:24:09.811Z"
   },
   {
    "duration": 22,
    "start_time": "2023-03-05T16:24:09.860Z"
   },
   {
    "duration": 68,
    "start_time": "2023-03-05T16:24:09.885Z"
   },
   {
    "duration": 163,
    "start_time": "2023-03-05T16:24:09.955Z"
   },
   {
    "duration": 345,
    "start_time": "2023-03-05T16:24:10.120Z"
   },
   {
    "duration": 6,
    "start_time": "2023-03-05T16:24:10.467Z"
   },
   {
    "duration": 293,
    "start_time": "2023-03-05T16:24:10.475Z"
   },
   {
    "duration": 17,
    "start_time": "2023-03-05T16:24:10.770Z"
   },
   {
    "duration": 1205,
    "start_time": "2023-03-05T16:24:10.789Z"
   },
   {
    "duration": 1252,
    "start_time": "2023-03-05T16:24:11.997Z"
   },
   {
    "duration": 153,
    "start_time": "2023-03-05T16:24:13.251Z"
   },
   {
    "duration": 33,
    "start_time": "2023-03-05T16:24:13.405Z"
   },
   {
    "duration": 75,
    "start_time": "2023-03-05T16:24:13.444Z"
   },
   {
    "duration": 181,
    "start_time": "2023-03-05T16:24:13.525Z"
   },
   {
    "duration": 12,
    "start_time": "2023-03-05T16:24:13.709Z"
   },
   {
    "duration": 56,
    "start_time": "2023-03-05T16:24:13.723Z"
   },
   {
    "duration": 6,
    "start_time": "2023-03-05T16:24:13.781Z"
   },
   {
    "duration": 200,
    "start_time": "2023-03-05T16:24:13.789Z"
   },
   {
    "duration": 2074,
    "start_time": "2023-03-05T16:24:13.991Z"
   },
   {
    "duration": 10,
    "start_time": "2023-03-05T16:24:16.067Z"
   },
   {
    "duration": 279,
    "start_time": "2023-03-05T16:24:16.078Z"
   },
   {
    "duration": 377,
    "start_time": "2023-03-05T16:24:16.359Z"
   },
   {
    "duration": 311,
    "start_time": "2023-03-05T16:24:16.741Z"
   },
   {
    "duration": 12,
    "start_time": "2023-03-05T16:24:17.053Z"
   },
   {
    "duration": 13,
    "start_time": "2023-03-05T16:24:17.066Z"
   },
   {
    "duration": 114,
    "start_time": "2023-03-05T16:24:17.080Z"
   },
   {
    "duration": 29,
    "start_time": "2023-03-05T16:24:17.196Z"
   },
   {
    "duration": 18,
    "start_time": "2023-03-05T16:24:17.226Z"
   },
   {
    "duration": 28,
    "start_time": "2023-03-05T16:24:17.245Z"
   },
   {
    "duration": 495,
    "start_time": "2023-03-05T16:24:17.274Z"
   },
   {
    "duration": 3,
    "start_time": "2023-03-05T16:24:17.771Z"
   },
   {
    "duration": 47,
    "start_time": "2023-03-05T16:24:17.777Z"
   },
   {
    "duration": 105,
    "start_time": "2023-03-05T16:24:17.829Z"
   },
   {
    "duration": 7,
    "start_time": "2023-03-05T16:24:17.937Z"
   },
   {
    "duration": 4,
    "start_time": "2023-03-05T16:24:17.952Z"
   },
   {
    "duration": 300,
    "start_time": "2023-03-05T16:24:17.958Z"
   },
   {
    "duration": 156,
    "start_time": "2023-03-05T16:24:25.469Z"
   },
   {
    "duration": 158,
    "start_time": "2023-03-05T16:24:45.438Z"
   },
   {
    "duration": 69,
    "start_time": "2023-03-05T16:25:01.988Z"
   },
   {
    "duration": 1556,
    "start_time": "2023-03-05T16:26:54.619Z"
   },
   {
    "duration": 281,
    "start_time": "2023-03-05T16:26:56.178Z"
   },
   {
    "duration": 28,
    "start_time": "2023-03-05T16:26:56.461Z"
   },
   {
    "duration": 34,
    "start_time": "2023-03-05T16:26:56.490Z"
   },
   {
    "duration": 32,
    "start_time": "2023-03-05T16:26:56.527Z"
   },
   {
    "duration": 26,
    "start_time": "2023-03-05T16:26:56.561Z"
   },
   {
    "duration": 76,
    "start_time": "2023-03-05T16:26:56.589Z"
   },
   {
    "duration": 169,
    "start_time": "2023-03-05T16:26:56.667Z"
   },
   {
    "duration": 317,
    "start_time": "2023-03-05T16:26:56.843Z"
   },
   {
    "duration": 5,
    "start_time": "2023-03-05T16:26:57.162Z"
   },
   {
    "duration": 286,
    "start_time": "2023-03-05T16:26:57.169Z"
   },
   {
    "duration": 17,
    "start_time": "2023-03-05T16:26:57.457Z"
   },
   {
    "duration": 1188,
    "start_time": "2023-03-05T16:26:57.475Z"
   },
   {
    "duration": 1184,
    "start_time": "2023-03-05T16:26:58.666Z"
   },
   {
    "duration": 140,
    "start_time": "2023-03-05T16:26:59.851Z"
   },
   {
    "duration": 45,
    "start_time": "2023-03-05T16:26:59.993Z"
   },
   {
    "duration": 74,
    "start_time": "2023-03-05T16:27:00.048Z"
   },
   {
    "duration": 139,
    "start_time": "2023-03-05T16:27:00.128Z"
   },
   {
    "duration": 11,
    "start_time": "2023-03-05T16:27:00.269Z"
   },
   {
    "duration": 53,
    "start_time": "2023-03-05T16:27:00.282Z"
   },
   {
    "duration": 12,
    "start_time": "2023-03-05T16:27:00.337Z"
   },
   {
    "duration": 193,
    "start_time": "2023-03-05T16:27:00.351Z"
   },
   {
    "duration": 1796,
    "start_time": "2023-03-05T16:27:00.548Z"
   },
   {
    "duration": 10,
    "start_time": "2023-03-05T16:27:02.346Z"
   },
   {
    "duration": 266,
    "start_time": "2023-03-05T16:27:02.358Z"
   },
   {
    "duration": 342,
    "start_time": "2023-03-05T16:27:02.629Z"
   },
   {
    "duration": 288,
    "start_time": "2023-03-05T16:27:02.973Z"
   },
   {
    "duration": 14,
    "start_time": "2023-03-05T16:27:03.263Z"
   },
   {
    "duration": 44,
    "start_time": "2023-03-05T16:27:03.278Z"
   },
   {
    "duration": 95,
    "start_time": "2023-03-05T16:27:03.329Z"
   },
   {
    "duration": 21,
    "start_time": "2023-03-05T16:27:03.429Z"
   },
   {
    "duration": 13,
    "start_time": "2023-03-05T16:27:03.452Z"
   },
   {
    "duration": 29,
    "start_time": "2023-03-05T16:27:03.467Z"
   },
   {
    "duration": 194,
    "start_time": "2023-03-05T16:27:03.498Z"
   },
   {
    "duration": 2,
    "start_time": "2023-03-05T16:27:03.694Z"
   },
   {
    "duration": 147,
    "start_time": "2023-03-05T16:27:03.697Z"
   },
   {
    "duration": 0,
    "start_time": "2023-03-05T16:27:03.846Z"
   },
   {
    "duration": 0,
    "start_time": "2023-03-05T16:27:03.847Z"
   },
   {
    "duration": 1,
    "start_time": "2023-03-05T16:27:03.848Z"
   },
   {
    "duration": 0,
    "start_time": "2023-03-05T16:27:03.851Z"
   },
   {
    "duration": 5,
    "start_time": "2023-03-05T16:27:13.502Z"
   },
   {
    "duration": 5,
    "start_time": "2023-03-05T16:27:18.506Z"
   },
   {
    "duration": 25,
    "start_time": "2023-03-05T16:27:31.370Z"
   },
   {
    "duration": 55,
    "start_time": "2023-03-05T16:27:31.669Z"
   },
   {
    "duration": 5,
    "start_time": "2023-03-05T16:27:50.996Z"
   },
   {
    "duration": 2,
    "start_time": "2023-03-05T16:28:47.079Z"
   },
   {
    "duration": 1563,
    "start_time": "2023-03-05T16:28:58.939Z"
   },
   {
    "duration": 277,
    "start_time": "2023-03-05T16:29:00.504Z"
   },
   {
    "duration": 43,
    "start_time": "2023-03-05T16:29:00.785Z"
   },
   {
    "duration": 35,
    "start_time": "2023-03-05T16:29:00.832Z"
   },
   {
    "duration": 46,
    "start_time": "2023-03-05T16:29:00.869Z"
   },
   {
    "duration": 53,
    "start_time": "2023-03-05T16:29:00.917Z"
   },
   {
    "duration": 90,
    "start_time": "2023-03-05T16:29:00.972Z"
   },
   {
    "duration": 155,
    "start_time": "2023-03-05T16:29:01.064Z"
   },
   {
    "duration": 328,
    "start_time": "2023-03-05T16:29:01.221Z"
   },
   {
    "duration": 8,
    "start_time": "2023-03-05T16:29:01.551Z"
   },
   {
    "duration": 301,
    "start_time": "2023-03-05T16:29:01.561Z"
   },
   {
    "duration": 15,
    "start_time": "2023-03-05T16:29:01.864Z"
   },
   {
    "duration": 1092,
    "start_time": "2023-03-05T16:29:01.882Z"
   },
   {
    "duration": 1092,
    "start_time": "2023-03-05T16:29:02.976Z"
   },
   {
    "duration": 153,
    "start_time": "2023-03-05T16:29:04.070Z"
   },
   {
    "duration": 30,
    "start_time": "2023-03-05T16:29:04.225Z"
   },
   {
    "duration": 95,
    "start_time": "2023-03-05T16:29:04.257Z"
   },
   {
    "duration": 143,
    "start_time": "2023-03-05T16:29:04.354Z"
   },
   {
    "duration": 25,
    "start_time": "2023-03-05T16:29:04.499Z"
   },
   {
    "duration": 40,
    "start_time": "2023-03-05T16:29:04.528Z"
   },
   {
    "duration": 6,
    "start_time": "2023-03-05T16:29:04.570Z"
   },
   {
    "duration": 178,
    "start_time": "2023-03-05T16:29:04.578Z"
   },
   {
    "duration": 1821,
    "start_time": "2023-03-05T16:29:04.757Z"
   },
   {
    "duration": 9,
    "start_time": "2023-03-05T16:29:06.580Z"
   },
   {
    "duration": 257,
    "start_time": "2023-03-05T16:29:06.590Z"
   },
   {
    "duration": 330,
    "start_time": "2023-03-05T16:29:06.849Z"
   },
   {
    "duration": 296,
    "start_time": "2023-03-05T16:29:07.181Z"
   },
   {
    "duration": 14,
    "start_time": "2023-03-05T16:29:07.479Z"
   },
   {
    "duration": 28,
    "start_time": "2023-03-05T16:29:07.495Z"
   },
   {
    "duration": 111,
    "start_time": "2023-03-05T16:29:07.524Z"
   },
   {
    "duration": 20,
    "start_time": "2023-03-05T16:29:07.643Z"
   },
   {
    "duration": 14,
    "start_time": "2023-03-05T16:29:07.664Z"
   },
   {
    "duration": 46,
    "start_time": "2023-03-05T16:29:07.680Z"
   },
   {
    "duration": 6,
    "start_time": "2023-03-05T16:29:07.728Z"
   },
   {
    "duration": 339,
    "start_time": "2023-03-05T16:29:07.736Z"
   },
   {
    "duration": 3,
    "start_time": "2023-03-05T16:29:08.077Z"
   },
   {
    "duration": 137,
    "start_time": "2023-03-05T16:29:08.082Z"
   },
   {
    "duration": 0,
    "start_time": "2023-03-05T16:29:08.222Z"
   },
   {
    "duration": 0,
    "start_time": "2023-03-05T16:29:08.223Z"
   },
   {
    "duration": 0,
    "start_time": "2023-03-05T16:29:08.227Z"
   },
   {
    "duration": 13,
    "start_time": "2023-03-05T16:29:34.341Z"
   },
   {
    "duration": 6,
    "start_time": "2023-03-05T16:29:37.631Z"
   },
   {
    "duration": 1536,
    "start_time": "2023-03-05T16:29:52.637Z"
   },
   {
    "duration": 294,
    "start_time": "2023-03-05T16:29:54.176Z"
   },
   {
    "duration": 50,
    "start_time": "2023-03-05T16:29:54.472Z"
   },
   {
    "duration": 29,
    "start_time": "2023-03-05T16:29:54.525Z"
   },
   {
    "duration": 31,
    "start_time": "2023-03-05T16:29:54.556Z"
   },
   {
    "duration": 37,
    "start_time": "2023-03-05T16:29:54.588Z"
   },
   {
    "duration": 57,
    "start_time": "2023-03-05T16:29:54.626Z"
   },
   {
    "duration": 159,
    "start_time": "2023-03-05T16:29:54.685Z"
   },
   {
    "duration": 309,
    "start_time": "2023-03-05T16:29:54.846Z"
   },
   {
    "duration": 6,
    "start_time": "2023-03-05T16:29:55.157Z"
   },
   {
    "duration": 338,
    "start_time": "2023-03-05T16:29:55.165Z"
   },
   {
    "duration": 37,
    "start_time": "2023-03-05T16:29:55.504Z"
   },
   {
    "duration": 1142,
    "start_time": "2023-03-05T16:29:55.545Z"
   },
   {
    "duration": 1122,
    "start_time": "2023-03-05T16:29:56.690Z"
   },
   {
    "duration": 125,
    "start_time": "2023-03-05T16:29:57.820Z"
   },
   {
    "duration": 21,
    "start_time": "2023-03-05T16:29:57.947Z"
   },
   {
    "duration": 79,
    "start_time": "2023-03-05T16:29:57.969Z"
   },
   {
    "duration": 122,
    "start_time": "2023-03-05T16:29:58.050Z"
   },
   {
    "duration": 9,
    "start_time": "2023-03-05T16:29:58.174Z"
   },
   {
    "duration": 53,
    "start_time": "2023-03-05T16:29:58.185Z"
   },
   {
    "duration": 8,
    "start_time": "2023-03-05T16:29:58.240Z"
   },
   {
    "duration": 154,
    "start_time": "2023-03-05T16:29:58.249Z"
   },
   {
    "duration": 1942,
    "start_time": "2023-03-05T16:29:58.404Z"
   },
   {
    "duration": 11,
    "start_time": "2023-03-05T16:30:00.348Z"
   },
   {
    "duration": 287,
    "start_time": "2023-03-05T16:30:00.361Z"
   },
   {
    "duration": 333,
    "start_time": "2023-03-05T16:30:00.650Z"
   },
   {
    "duration": 297,
    "start_time": "2023-03-05T16:30:00.985Z"
   },
   {
    "duration": 34,
    "start_time": "2023-03-05T16:30:01.284Z"
   },
   {
    "duration": 16,
    "start_time": "2023-03-05T16:30:01.331Z"
   },
   {
    "duration": 128,
    "start_time": "2023-03-05T16:30:01.349Z"
   },
   {
    "duration": 20,
    "start_time": "2023-03-05T16:30:01.479Z"
   },
   {
    "duration": 28,
    "start_time": "2023-03-05T16:30:01.512Z"
   },
   {
    "duration": 40,
    "start_time": "2023-03-05T16:30:01.545Z"
   },
   {
    "duration": 8,
    "start_time": "2023-03-05T16:30:01.588Z"
   },
   {
    "duration": 1734,
    "start_time": "2023-03-05T16:30:01.598Z"
   },
   {
    "duration": 4,
    "start_time": "2023-03-05T16:30:03.334Z"
   },
   {
    "duration": 69,
    "start_time": "2023-03-05T16:30:03.339Z"
   },
   {
    "duration": 11,
    "start_time": "2023-03-05T16:30:03.410Z"
   },
   {
    "duration": 360553,
    "start_time": "2023-03-05T16:30:03.425Z"
   },
   {
    "duration": 285,
    "start_time": "2023-03-05T16:36:03.981Z"
   },
   {
    "duration": 264,
    "start_time": "2023-03-05T16:36:34.394Z"
   },
   {
    "duration": 116,
    "start_time": "2023-03-05T16:38:25.082Z"
   },
   {
    "duration": 87,
    "start_time": "2023-03-05T16:38:27.163Z"
   },
   {
    "duration": 92,
    "start_time": "2023-03-05T16:38:56.207Z"
   },
   {
    "duration": 11,
    "start_time": "2023-03-05T16:39:11.842Z"
   },
   {
    "duration": 15,
    "start_time": "2023-03-05T16:39:12.009Z"
   },
   {
    "duration": 91,
    "start_time": "2023-03-05T16:39:12.197Z"
   },
   {
    "duration": 14,
    "start_time": "2023-03-05T16:39:12.588Z"
   },
   {
    "duration": 17,
    "start_time": "2023-03-05T16:39:13.007Z"
   },
   {
    "duration": 23,
    "start_time": "2023-03-05T16:39:13.340Z"
   },
   {
    "duration": 3,
    "start_time": "2023-03-05T16:39:15.076Z"
   },
   {
    "duration": 65,
    "start_time": "2023-03-05T16:39:15.261Z"
   },
   {
    "duration": 4079,
    "start_time": "2023-03-05T16:40:13.609Z"
   },
   {
    "duration": 26,
    "start_time": "2023-03-05T16:40:30.710Z"
   },
   {
    "duration": 53,
    "start_time": "2023-03-05T16:40:40.013Z"
   },
   {
    "duration": 13,
    "start_time": "2023-03-05T16:41:16.067Z"
   },
   {
    "duration": 41,
    "start_time": "2023-03-05T16:41:17.740Z"
   },
   {
    "duration": 46,
    "start_time": "2023-03-05T16:41:39.198Z"
   },
   {
    "duration": 22,
    "start_time": "2023-03-05T16:41:50.313Z"
   },
   {
    "duration": 39,
    "start_time": "2023-03-05T16:41:55.005Z"
   },
   {
    "duration": 1627,
    "start_time": "2023-03-05T16:42:13.643Z"
   },
   {
    "duration": 293,
    "start_time": "2023-03-05T16:42:15.273Z"
   },
   {
    "duration": 29,
    "start_time": "2023-03-05T16:42:15.568Z"
   },
   {
    "duration": 43,
    "start_time": "2023-03-05T16:42:15.599Z"
   },
   {
    "duration": 29,
    "start_time": "2023-03-05T16:42:15.644Z"
   },
   {
    "duration": 30,
    "start_time": "2023-03-05T16:42:15.675Z"
   },
   {
    "duration": 63,
    "start_time": "2023-03-05T16:42:15.707Z"
   },
   {
    "duration": 170,
    "start_time": "2023-03-05T16:42:15.772Z"
   },
   {
    "duration": 318,
    "start_time": "2023-03-05T16:42:15.944Z"
   },
   {
    "duration": 7,
    "start_time": "2023-03-05T16:42:16.265Z"
   },
   {
    "duration": 307,
    "start_time": "2023-03-05T16:42:16.275Z"
   },
   {
    "duration": 31,
    "start_time": "2023-03-05T16:42:16.584Z"
   },
   {
    "duration": 1224,
    "start_time": "2023-03-05T16:42:16.616Z"
   },
   {
    "duration": 1143,
    "start_time": "2023-03-05T16:42:17.842Z"
   },
   {
    "duration": 187,
    "start_time": "2023-03-05T16:42:18.988Z"
   },
   {
    "duration": 43,
    "start_time": "2023-03-05T16:42:19.177Z"
   },
   {
    "duration": 59,
    "start_time": "2023-03-05T16:42:19.228Z"
   },
   {
    "duration": 158,
    "start_time": "2023-03-05T16:42:19.290Z"
   },
   {
    "duration": 16,
    "start_time": "2023-03-05T16:42:19.450Z"
   },
   {
    "duration": 36,
    "start_time": "2023-03-05T16:42:19.468Z"
   },
   {
    "duration": 23,
    "start_time": "2023-03-05T16:42:19.507Z"
   },
   {
    "duration": 201,
    "start_time": "2023-03-05T16:42:19.533Z"
   },
   {
    "duration": 1892,
    "start_time": "2023-03-05T16:42:19.740Z"
   },
   {
    "duration": 12,
    "start_time": "2023-03-05T16:42:21.634Z"
   },
   {
    "duration": 301,
    "start_time": "2023-03-05T16:42:21.647Z"
   },
   {
    "duration": 344,
    "start_time": "2023-03-05T16:42:21.950Z"
   },
   {
    "duration": 338,
    "start_time": "2023-03-05T16:42:22.296Z"
   },
   {
    "duration": 24,
    "start_time": "2023-03-05T16:42:22.637Z"
   },
   {
    "duration": 20,
    "start_time": "2023-03-05T16:42:22.663Z"
   },
   {
    "duration": 106,
    "start_time": "2023-03-05T16:42:22.685Z"
   },
   {
    "duration": 33,
    "start_time": "2023-03-05T16:42:22.793Z"
   },
   {
    "duration": 20,
    "start_time": "2023-03-05T16:42:22.831Z"
   },
   {
    "duration": 23,
    "start_time": "2023-03-05T16:42:22.854Z"
   },
   {
    "duration": 190,
    "start_time": "2023-03-05T16:42:22.880Z"
   },
   {
    "duration": 226,
    "start_time": "2023-03-05T16:42:23.071Z"
   },
   {
    "duration": 2,
    "start_time": "2023-03-05T16:42:23.300Z"
   },
   {
    "duration": 26,
    "start_time": "2023-03-05T16:42:23.316Z"
   },
   {
    "duration": 8,
    "start_time": "2023-03-05T16:42:23.343Z"
   },
   {
    "duration": 376762,
    "start_time": "2023-03-05T16:42:23.353Z"
   },
   {
    "duration": 242,
    "start_time": "2023-03-05T16:48:40.121Z"
   },
   {
    "duration": 82,
    "start_time": "2023-03-05T16:52:21.639Z"
   },
   {
    "duration": 10,
    "start_time": "2023-03-05T16:52:26.042Z"
   },
   {
    "duration": 72,
    "start_time": "2023-03-05T16:52:29.089Z"
   },
   {
    "duration": 68,
    "start_time": "2023-03-05T16:52:40.960Z"
   },
   {
    "duration": 32,
    "start_time": "2023-03-05T16:53:14.676Z"
   },
   {
    "duration": 50,
    "start_time": "2023-03-05T16:54:41.501Z"
   },
   {
    "duration": 207,
    "start_time": "2023-03-05T16:59:09.238Z"
   },
   {
    "duration": 110,
    "start_time": "2023-03-05T16:59:09.683Z"
   },
   {
    "duration": 22,
    "start_time": "2023-03-05T16:59:15.282Z"
   },
   {
    "duration": 13,
    "start_time": "2023-03-05T16:59:15.488Z"
   },
   {
    "duration": 109,
    "start_time": "2023-03-05T16:59:18.839Z"
   },
   {
    "duration": 1942,
    "start_time": "2023-03-05T17:00:11.044Z"
   },
   {
    "duration": 359,
    "start_time": "2023-03-05T17:00:12.989Z"
   },
   {
    "duration": 39,
    "start_time": "2023-03-05T17:00:13.349Z"
   },
   {
    "duration": 58,
    "start_time": "2023-03-05T17:00:13.390Z"
   },
   {
    "duration": 39,
    "start_time": "2023-03-05T17:00:13.459Z"
   },
   {
    "duration": 47,
    "start_time": "2023-03-05T17:00:13.499Z"
   },
   {
    "duration": 59,
    "start_time": "2023-03-05T17:00:13.548Z"
   },
   {
    "duration": 207,
    "start_time": "2023-03-05T17:00:13.609Z"
   },
   {
    "duration": 403,
    "start_time": "2023-03-05T17:00:13.829Z"
   },
   {
    "duration": 13,
    "start_time": "2023-03-05T17:00:14.237Z"
   },
   {
    "duration": 331,
    "start_time": "2023-03-05T17:00:14.256Z"
   },
   {
    "duration": 30,
    "start_time": "2023-03-05T17:00:14.591Z"
   },
   {
    "duration": 1384,
    "start_time": "2023-03-05T17:00:14.623Z"
   },
   {
    "duration": 1421,
    "start_time": "2023-03-05T17:00:16.014Z"
   },
   {
    "duration": 191,
    "start_time": "2023-03-05T17:00:17.437Z"
   },
   {
    "duration": 37,
    "start_time": "2023-03-05T17:00:17.630Z"
   },
   {
    "duration": 97,
    "start_time": "2023-03-05T17:00:17.675Z"
   },
   {
    "duration": 181,
    "start_time": "2023-03-05T17:00:17.774Z"
   },
   {
    "duration": 13,
    "start_time": "2023-03-05T17:00:17.958Z"
   },
   {
    "duration": 234,
    "start_time": "2023-03-05T17:00:17.973Z"
   },
   {
    "duration": 2221,
    "start_time": "2023-03-05T17:00:18.211Z"
   },
   {
    "duration": 16,
    "start_time": "2023-03-05T17:00:20.433Z"
   },
   {
    "duration": 328,
    "start_time": "2023-03-05T17:00:20.451Z"
   },
   {
    "duration": 449,
    "start_time": "2023-03-05T17:00:20.785Z"
   },
   {
    "duration": 458,
    "start_time": "2023-03-05T17:00:21.239Z"
   },
   {
    "duration": 30,
    "start_time": "2023-03-05T17:00:21.704Z"
   },
   {
    "duration": 27,
    "start_time": "2023-03-05T17:00:21.739Z"
   },
   {
    "duration": 158,
    "start_time": "2023-03-05T17:00:21.772Z"
   },
   {
    "duration": 54,
    "start_time": "2023-03-05T17:00:21.936Z"
   },
   {
    "duration": 61,
    "start_time": "2023-03-05T17:00:21.993Z"
   },
   {
    "duration": 263,
    "start_time": "2023-03-05T17:00:22.064Z"
   },
   {
    "duration": 374,
    "start_time": "2023-03-05T17:00:22.329Z"
   },
   {
    "duration": 3,
    "start_time": "2023-03-05T17:00:22.705Z"
   },
   {
    "duration": 53,
    "start_time": "2023-03-05T17:00:22.712Z"
   },
   {
    "duration": 5,
    "start_time": "2023-03-05T17:00:22.769Z"
   },
   {
    "duration": 540317,
    "start_time": "2023-03-05T17:00:22.776Z"
   },
   {
    "duration": 305,
    "start_time": "2023-03-05T17:09:23.095Z"
   },
   {
    "duration": 180,
    "start_time": "2023-03-05T17:09:23.404Z"
   },
   {
    "duration": 28,
    "start_time": "2023-03-05T17:10:49.506Z"
   },
   {
    "duration": 29,
    "start_time": "2023-03-05T17:10:58.335Z"
   },
   {
    "duration": 18,
    "start_time": "2023-03-05T17:11:17.240Z"
   },
   {
    "duration": 25,
    "start_time": "2023-03-05T17:11:20.843Z"
   },
   {
    "duration": 197,
    "start_time": "2023-03-05T17:11:27.235Z"
   },
   {
    "duration": 72,
    "start_time": "2023-03-05T17:11:55.344Z"
   },
   {
    "duration": 15,
    "start_time": "2023-03-05T17:12:01.365Z"
   },
   {
    "duration": 9,
    "start_time": "2023-03-05T17:14:08.343Z"
   },
   {
    "duration": 6,
    "start_time": "2023-03-05T17:14:33.178Z"
   },
   {
    "duration": 19,
    "start_time": "2023-03-05T17:15:11.231Z"
   },
   {
    "duration": 174,
    "start_time": "2023-03-05T17:15:50.398Z"
   },
   {
    "duration": 7,
    "start_time": "2023-03-05T17:16:02.180Z"
   },
   {
    "duration": 5,
    "start_time": "2023-03-05T17:16:08.771Z"
   },
   {
    "duration": 2298,
    "start_time": "2023-03-05T17:16:20.705Z"
   },
   {
    "duration": 0,
    "start_time": "2023-03-05T17:16:23.005Z"
   },
   {
    "duration": 12,
    "start_time": "2023-03-05T17:16:31.044Z"
   },
   {
    "duration": 235,
    "start_time": "2023-03-05T17:16:31.245Z"
   },
   {
    "duration": 51,
    "start_time": "2023-03-05T17:16:31.905Z"
   },
   {
    "duration": 20,
    "start_time": "2023-03-05T17:16:32.172Z"
   },
   {
    "duration": 33,
    "start_time": "2023-03-05T17:16:32.410Z"
   },
   {
    "duration": 20,
    "start_time": "2023-03-05T17:16:32.681Z"
   },
   {
    "duration": 50,
    "start_time": "2023-03-05T17:16:33.468Z"
   },
   {
    "duration": 141,
    "start_time": "2023-03-05T17:16:35.056Z"
   },
   {
    "duration": 297,
    "start_time": "2023-03-05T17:16:38.889Z"
   },
   {
    "duration": 12,
    "start_time": "2023-03-05T17:16:40.034Z"
   },
   {
    "duration": 32,
    "start_time": "2023-03-05T17:19:05.426Z"
   },
   {
    "duration": 6,
    "start_time": "2023-03-05T17:19:10.085Z"
   },
   {
    "duration": 6,
    "start_time": "2023-03-05T17:19:17.169Z"
   },
   {
    "duration": 5,
    "start_time": "2023-03-05T17:19:31.368Z"
   },
   {
    "duration": 7,
    "start_time": "2023-03-05T17:22:19.686Z"
   },
   {
    "duration": 6,
    "start_time": "2023-03-05T17:22:24.186Z"
   },
   {
    "duration": 22,
    "start_time": "2023-03-05T17:23:04.865Z"
   },
   {
    "duration": 65,
    "start_time": "2023-03-05T17:23:07.971Z"
   },
   {
    "duration": 40,
    "start_time": "2023-03-05T17:23:12.531Z"
   },
   {
    "duration": 4511,
    "start_time": "2023-03-05T17:23:16.556Z"
   },
   {
    "duration": 10,
    "start_time": "2023-03-05T17:23:38.333Z"
   },
   {
    "duration": 14,
    "start_time": "2023-03-05T17:23:50.474Z"
   },
   {
    "duration": 13,
    "start_time": "2023-03-05T17:24:00.573Z"
   },
   {
    "duration": 38,
    "start_time": "2023-03-05T17:24:07.726Z"
   },
   {
    "duration": 10,
    "start_time": "2023-03-05T17:24:18.381Z"
   },
   {
    "duration": 18,
    "start_time": "2023-03-05T17:24:23.035Z"
   },
   {
    "duration": 5,
    "start_time": "2023-03-05T17:24:29.386Z"
   },
   {
    "duration": 1824,
    "start_time": "2023-03-05T17:25:06.805Z"
   },
   {
    "duration": 335,
    "start_time": "2023-03-05T17:25:08.631Z"
   },
   {
    "duration": 36,
    "start_time": "2023-03-05T17:25:08.972Z"
   },
   {
    "duration": 34,
    "start_time": "2023-03-05T17:25:09.010Z"
   },
   {
    "duration": 35,
    "start_time": "2023-03-05T17:25:09.051Z"
   },
   {
    "duration": 29,
    "start_time": "2023-03-05T17:25:09.088Z"
   },
   {
    "duration": 57,
    "start_time": "2023-03-05T17:25:09.119Z"
   },
   {
    "duration": 157,
    "start_time": "2023-03-05T17:25:09.180Z"
   },
   {
    "duration": 385,
    "start_time": "2023-03-05T17:25:09.339Z"
   },
   {
    "duration": 10,
    "start_time": "2023-03-05T17:25:09.725Z"
   },
   {
    "duration": 304,
    "start_time": "2023-03-05T17:25:09.742Z"
   },
   {
    "duration": 28,
    "start_time": "2023-03-05T17:25:10.049Z"
   },
   {
    "duration": 7,
    "start_time": "2023-03-05T17:25:10.084Z"
   },
   {
    "duration": 17,
    "start_time": "2023-03-05T17:25:10.094Z"
   },
   {
    "duration": 1318,
    "start_time": "2023-03-05T17:25:10.115Z"
   },
   {
    "duration": 1265,
    "start_time": "2023-03-05T17:25:11.435Z"
   },
   {
    "duration": 22,
    "start_time": "2023-03-05T17:25:12.703Z"
   },
   {
    "duration": 14,
    "start_time": "2023-03-05T17:25:12.727Z"
   },
   {
    "duration": 12,
    "start_time": "2023-03-05T17:25:12.743Z"
   },
   {
    "duration": 8,
    "start_time": "2023-03-05T17:25:12.757Z"
   },
   {
    "duration": 181,
    "start_time": "2023-03-05T17:25:12.767Z"
   },
   {
    "duration": 34,
    "start_time": "2023-03-05T17:25:12.950Z"
   },
   {
    "duration": 101,
    "start_time": "2023-03-05T17:25:12.986Z"
   },
   {
    "duration": 188,
    "start_time": "2023-03-05T17:25:13.090Z"
   },
   {
    "duration": 15,
    "start_time": "2023-03-05T17:25:13.280Z"
   },
   {
    "duration": 2945,
    "start_time": "2023-03-05T17:25:13.297Z"
   },
   {
    "duration": 0,
    "start_time": "2023-03-05T17:25:16.248Z"
   },
   {
    "duration": 0,
    "start_time": "2023-03-05T17:25:16.252Z"
   },
   {
    "duration": 0,
    "start_time": "2023-03-05T17:25:16.254Z"
   },
   {
    "duration": 0,
    "start_time": "2023-03-05T17:25:16.263Z"
   },
   {
    "duration": 0,
    "start_time": "2023-03-05T17:25:16.269Z"
   },
   {
    "duration": 0,
    "start_time": "2023-03-05T17:25:16.270Z"
   },
   {
    "duration": 0,
    "start_time": "2023-03-05T17:25:16.271Z"
   },
   {
    "duration": 0,
    "start_time": "2023-03-05T17:25:16.273Z"
   },
   {
    "duration": 0,
    "start_time": "2023-03-05T17:25:16.274Z"
   },
   {
    "duration": 0,
    "start_time": "2023-03-05T17:25:16.275Z"
   },
   {
    "duration": 0,
    "start_time": "2023-03-05T17:25:16.280Z"
   },
   {
    "duration": 0,
    "start_time": "2023-03-05T17:25:16.282Z"
   },
   {
    "duration": 0,
    "start_time": "2023-03-05T17:25:16.283Z"
   },
   {
    "duration": 0,
    "start_time": "2023-03-05T17:25:16.287Z"
   },
   {
    "duration": 0,
    "start_time": "2023-03-05T17:25:16.288Z"
   },
   {
    "duration": 0,
    "start_time": "2023-03-05T17:25:16.289Z"
   },
   {
    "duration": 0,
    "start_time": "2023-03-05T17:25:16.291Z"
   },
   {
    "duration": 0,
    "start_time": "2023-03-05T17:25:16.293Z"
   },
   {
    "duration": 0,
    "start_time": "2023-03-05T17:25:16.294Z"
   },
   {
    "duration": 12,
    "start_time": "2023-03-05T17:27:39.455Z"
   },
   {
    "duration": 64,
    "start_time": "2023-03-05T17:27:54.595Z"
   },
   {
    "duration": 192,
    "start_time": "2023-03-05T17:28:45.888Z"
   },
   {
    "duration": 21,
    "start_time": "2023-03-05T17:29:14.768Z"
   },
   {
    "duration": 19,
    "start_time": "2023-03-05T17:29:15.585Z"
   },
   {
    "duration": 25,
    "start_time": "2023-03-05T17:29:18.256Z"
   },
   {
    "duration": 1797,
    "start_time": "2023-03-05T17:29:28.271Z"
   },
   {
    "duration": 322,
    "start_time": "2023-03-05T17:29:30.070Z"
   },
   {
    "duration": 45,
    "start_time": "2023-03-05T17:29:30.394Z"
   },
   {
    "duration": 36,
    "start_time": "2023-03-05T17:29:30.444Z"
   },
   {
    "duration": 39,
    "start_time": "2023-03-05T17:29:30.485Z"
   },
   {
    "duration": 51,
    "start_time": "2023-03-05T17:29:30.526Z"
   },
   {
    "duration": 68,
    "start_time": "2023-03-05T17:29:30.579Z"
   },
   {
    "duration": 227,
    "start_time": "2023-03-05T17:29:30.653Z"
   },
   {
    "duration": 462,
    "start_time": "2023-03-05T17:29:30.882Z"
   },
   {
    "duration": 12,
    "start_time": "2023-03-05T17:29:31.349Z"
   },
   {
    "duration": 394,
    "start_time": "2023-03-05T17:29:31.366Z"
   },
   {
    "duration": 35,
    "start_time": "2023-03-05T17:29:31.766Z"
   },
   {
    "duration": 10,
    "start_time": "2023-03-05T17:29:31.804Z"
   },
   {
    "duration": 16,
    "start_time": "2023-03-05T17:29:31.821Z"
   },
   {
    "duration": 1406,
    "start_time": "2023-03-05T17:29:31.844Z"
   },
   {
    "duration": 1390,
    "start_time": "2023-03-05T17:29:33.251Z"
   },
   {
    "duration": 8,
    "start_time": "2023-03-05T17:29:34.643Z"
   },
   {
    "duration": 15,
    "start_time": "2023-03-05T17:29:34.654Z"
   },
   {
    "duration": 31,
    "start_time": "2023-03-05T17:29:34.671Z"
   },
   {
    "duration": 9,
    "start_time": "2023-03-05T17:29:34.709Z"
   },
   {
    "duration": 157,
    "start_time": "2023-03-05T17:29:34.722Z"
   },
   {
    "duration": 31,
    "start_time": "2023-03-05T17:29:34.886Z"
   },
   {
    "duration": 96,
    "start_time": "2023-03-05T17:29:34.924Z"
   },
   {
    "duration": 211,
    "start_time": "2023-03-05T17:29:35.024Z"
   },
   {
    "duration": 23,
    "start_time": "2023-03-05T17:29:35.237Z"
   },
   {
    "duration": 14,
    "start_time": "2023-03-05T17:29:35.266Z"
   },
   {
    "duration": 15,
    "start_time": "2023-03-05T17:29:35.293Z"
   },
   {
    "duration": 237,
    "start_time": "2023-03-05T17:29:35.311Z"
   },
   {
    "duration": 2755,
    "start_time": "2023-03-05T17:29:35.554Z"
   },
   {
    "duration": 22,
    "start_time": "2023-03-05T17:29:38.311Z"
   },
   {
    "duration": 311,
    "start_time": "2023-03-05T17:29:38.342Z"
   },
   {
    "duration": 424,
    "start_time": "2023-03-05T17:29:38.655Z"
   },
   {
    "duration": 360,
    "start_time": "2023-03-05T17:29:39.081Z"
   },
   {
    "duration": 27,
    "start_time": "2023-03-05T17:29:39.449Z"
   },
   {
    "duration": 19,
    "start_time": "2023-03-05T17:29:39.481Z"
   },
   {
    "duration": 162,
    "start_time": "2023-03-05T17:29:39.502Z"
   },
   {
    "duration": 38,
    "start_time": "2023-03-05T17:29:39.666Z"
   },
   {
    "duration": 75,
    "start_time": "2023-03-05T17:29:39.706Z"
   },
   {
    "duration": 296,
    "start_time": "2023-03-05T17:29:39.784Z"
   },
   {
    "duration": 259,
    "start_time": "2023-03-05T17:29:40.081Z"
   },
   {
    "duration": 4,
    "start_time": "2023-03-05T17:29:40.348Z"
   },
   {
    "duration": 21,
    "start_time": "2023-03-05T17:29:40.354Z"
   },
   {
    "duration": 9,
    "start_time": "2023-03-05T17:29:40.379Z"
   },
   {
    "duration": 229294,
    "start_time": "2023-03-05T17:29:40.389Z"
   },
   {
    "duration": 0,
    "start_time": "2023-03-05T17:33:29.686Z"
   },
   {
    "duration": 0,
    "start_time": "2023-03-05T17:33:29.688Z"
   },
   {
    "duration": 6,
    "start_time": "2023-03-05T17:33:40.647Z"
   },
   {
    "duration": 343,
    "start_time": "2023-03-05T17:33:41.185Z"
   },
   {
    "duration": 49,
    "start_time": "2023-03-05T17:33:49.715Z"
   },
   {
    "duration": 39,
    "start_time": "2023-03-05T17:33:50.212Z"
   },
   {
    "duration": 24,
    "start_time": "2023-03-05T17:33:52.586Z"
   },
   {
    "duration": 26,
    "start_time": "2023-03-05T17:33:56.239Z"
   },
   {
    "duration": 19,
    "start_time": "2023-03-05T17:34:00.968Z"
   },
   {
    "duration": 25,
    "start_time": "2023-03-05T17:34:01.241Z"
   },
   {
    "duration": 67,
    "start_time": "2023-03-05T17:34:37.577Z"
   },
   {
    "duration": 222,
    "start_time": "2023-03-05T17:37:18.509Z"
   },
   {
    "duration": 414,
    "start_time": "2023-03-05T17:38:48.013Z"
   },
   {
    "duration": 35,
    "start_time": "2023-03-05T17:38:52.010Z"
   },
   {
    "duration": 14,
    "start_time": "2023-03-05T17:38:55.608Z"
   },
   {
    "duration": 17,
    "start_time": "2023-03-05T17:39:19.609Z"
   },
   {
    "duration": 199,
    "start_time": "2023-03-05T17:39:43.701Z"
   },
   {
    "duration": 2719,
    "start_time": "2023-03-05T17:41:26.528Z"
   },
   {
    "duration": 2856,
    "start_time": "2023-03-05T17:41:33.651Z"
   },
   {
    "duration": 46,
    "start_time": "2023-03-05T17:41:47.446Z"
   },
   {
    "duration": 63,
    "start_time": "2023-03-05T17:42:26.358Z"
   },
   {
    "duration": 28,
    "start_time": "2023-03-05T17:43:35.165Z"
   },
   {
    "duration": 18,
    "start_time": "2023-03-05T17:43:38.771Z"
   },
   {
    "duration": 87,
    "start_time": "2023-03-05T17:43:44.811Z"
   },
   {
    "duration": 28,
    "start_time": "2023-03-05T17:43:58.049Z"
   },
   {
    "duration": 1781,
    "start_time": "2023-03-05T17:48:07.269Z"
   },
   {
    "duration": 375,
    "start_time": "2023-03-05T17:48:09.053Z"
   },
   {
    "duration": 39,
    "start_time": "2023-03-05T17:48:09.430Z"
   },
   {
    "duration": 26,
    "start_time": "2023-03-05T17:48:09.470Z"
   },
   {
    "duration": 67,
    "start_time": "2023-03-05T17:48:09.499Z"
   },
   {
    "duration": 35,
    "start_time": "2023-03-05T17:48:09.567Z"
   },
   {
    "duration": 104,
    "start_time": "2023-03-05T17:48:09.604Z"
   },
   {
    "duration": 207,
    "start_time": "2023-03-05T17:48:09.711Z"
   },
   {
    "duration": 355,
    "start_time": "2023-03-05T17:48:09.926Z"
   },
   {
    "duration": 20,
    "start_time": "2023-03-05T17:48:10.285Z"
   },
   {
    "duration": 12,
    "start_time": "2023-03-05T17:48:10.307Z"
   },
   {
    "duration": 21,
    "start_time": "2023-03-05T17:48:10.327Z"
   },
   {
    "duration": 34,
    "start_time": "2023-03-05T17:48:10.350Z"
   },
   {
    "duration": 1466,
    "start_time": "2023-03-05T17:48:10.387Z"
   },
   {
    "duration": 16,
    "start_time": "2023-03-05T17:48:11.855Z"
   },
   {
    "duration": 25,
    "start_time": "2023-03-05T17:48:11.873Z"
   },
   {
    "duration": 145,
    "start_time": "2023-03-05T17:48:11.901Z"
   },
   {
    "duration": 41,
    "start_time": "2023-03-05T17:48:12.047Z"
   },
   {
    "duration": 67,
    "start_time": "2023-03-05T17:48:12.094Z"
   },
   {
    "duration": 181,
    "start_time": "2023-03-05T17:48:12.163Z"
   },
   {
    "duration": 19,
    "start_time": "2023-03-05T17:48:12.361Z"
   },
   {
    "duration": 14,
    "start_time": "2023-03-05T17:48:12.382Z"
   },
   {
    "duration": 8,
    "start_time": "2023-03-05T17:48:12.398Z"
   },
   {
    "duration": 181,
    "start_time": "2023-03-05T17:48:12.408Z"
   },
   {
    "duration": 1809,
    "start_time": "2023-03-05T17:48:12.591Z"
   },
   {
    "duration": 31,
    "start_time": "2023-03-05T17:48:14.404Z"
   },
   {
    "duration": 930,
    "start_time": "2023-03-05T17:48:14.448Z"
   },
   {
    "duration": 0,
    "start_time": "2023-03-05T17:48:15.384Z"
   },
   {
    "duration": 0,
    "start_time": "2023-03-05T17:48:15.385Z"
   },
   {
    "duration": 0,
    "start_time": "2023-03-05T17:48:15.387Z"
   },
   {
    "duration": 0,
    "start_time": "2023-03-05T17:48:15.388Z"
   },
   {
    "duration": 0,
    "start_time": "2023-03-05T17:48:15.390Z"
   },
   {
    "duration": 0,
    "start_time": "2023-03-05T17:48:15.392Z"
   },
   {
    "duration": 0,
    "start_time": "2023-03-05T17:48:15.394Z"
   },
   {
    "duration": 0,
    "start_time": "2023-03-05T17:48:15.395Z"
   },
   {
    "duration": 0,
    "start_time": "2023-03-05T17:48:15.400Z"
   },
   {
    "duration": 0,
    "start_time": "2023-03-05T17:48:15.401Z"
   },
   {
    "duration": 0,
    "start_time": "2023-03-05T17:48:15.403Z"
   },
   {
    "duration": 0,
    "start_time": "2023-03-05T17:48:15.406Z"
   },
   {
    "duration": 0,
    "start_time": "2023-03-05T17:48:15.408Z"
   },
   {
    "duration": 0,
    "start_time": "2023-03-05T17:48:15.410Z"
   },
   {
    "duration": 73,
    "start_time": "2023-03-05T17:48:31.886Z"
   },
   {
    "duration": 24,
    "start_time": "2023-03-05T17:48:42.432Z"
   },
   {
    "duration": 903,
    "start_time": "2023-03-05T17:48:48.091Z"
   },
   {
    "duration": 823,
    "start_time": "2023-03-05T17:49:07.999Z"
   },
   {
    "duration": 95,
    "start_time": "2023-03-05T17:49:15.674Z"
   },
   {
    "duration": 2284,
    "start_time": "2023-03-05T17:50:15.016Z"
   },
   {
    "duration": 436,
    "start_time": "2023-03-05T17:50:17.305Z"
   },
   {
    "duration": 69,
    "start_time": "2023-03-05T17:50:17.746Z"
   },
   {
    "duration": 55,
    "start_time": "2023-03-05T17:50:17.821Z"
   },
   {
    "duration": 74,
    "start_time": "2023-03-05T17:50:17.879Z"
   },
   {
    "duration": 64,
    "start_time": "2023-03-05T17:50:17.955Z"
   },
   {
    "duration": 86,
    "start_time": "2023-03-05T17:50:18.026Z"
   },
   {
    "duration": 235,
    "start_time": "2023-03-05T17:50:18.120Z"
   },
   {
    "duration": 417,
    "start_time": "2023-03-05T17:50:18.363Z"
   },
   {
    "duration": 39,
    "start_time": "2023-03-05T17:50:18.787Z"
   },
   {
    "duration": 16,
    "start_time": "2023-03-05T17:50:18.833Z"
   },
   {
    "duration": 12,
    "start_time": "2023-03-05T17:50:18.856Z"
   },
   {
    "duration": 24,
    "start_time": "2023-03-05T17:50:18.877Z"
   },
   {
    "duration": 1956,
    "start_time": "2023-03-05T17:50:18.911Z"
   },
   {
    "duration": 14,
    "start_time": "2023-03-05T17:50:20.875Z"
   },
   {
    "duration": 13,
    "start_time": "2023-03-05T17:50:20.897Z"
   },
   {
    "duration": 212,
    "start_time": "2023-03-05T17:50:20.917Z"
   },
   {
    "duration": 28,
    "start_time": "2023-03-05T17:50:21.135Z"
   },
   {
    "duration": 84,
    "start_time": "2023-03-05T17:50:21.170Z"
   },
   {
    "duration": 169,
    "start_time": "2023-03-05T17:50:21.261Z"
   },
   {
    "duration": 25,
    "start_time": "2023-03-05T17:50:21.438Z"
   },
   {
    "duration": 13,
    "start_time": "2023-03-05T17:50:21.469Z"
   },
   {
    "duration": 19,
    "start_time": "2023-03-05T17:50:21.490Z"
   },
   {
    "duration": 249,
    "start_time": "2023-03-05T17:50:21.518Z"
   },
   {
    "duration": 2896,
    "start_time": "2023-03-05T17:50:21.773Z"
   },
   {
    "duration": 33,
    "start_time": "2023-03-05T17:50:24.686Z"
   },
   {
    "duration": 437,
    "start_time": "2023-03-05T17:50:24.736Z"
   },
   {
    "duration": 594,
    "start_time": "2023-03-05T17:50:25.176Z"
   },
   {
    "duration": 486,
    "start_time": "2023-03-05T17:50:25.776Z"
   },
   {
    "duration": 48,
    "start_time": "2023-03-05T17:50:26.264Z"
   },
   {
    "duration": 23,
    "start_time": "2023-03-05T17:50:26.319Z"
   },
   {
    "duration": 299,
    "start_time": "2023-03-05T17:50:26.353Z"
   },
   {
    "duration": 72,
    "start_time": "2023-03-05T17:50:26.665Z"
   },
   {
    "duration": 96,
    "start_time": "2023-03-05T17:50:26.748Z"
   },
   {
    "duration": 183,
    "start_time": "2023-03-05T17:50:26.847Z"
   },
   {
    "duration": 342,
    "start_time": "2023-03-05T17:50:27.032Z"
   },
   {
    "duration": 7,
    "start_time": "2023-03-05T17:50:27.380Z"
   },
   {
    "duration": 33,
    "start_time": "2023-03-05T17:50:27.394Z"
   },
   {
    "duration": 6,
    "start_time": "2023-03-05T17:50:27.433Z"
   },
   {
    "duration": 131321,
    "start_time": "2023-03-05T17:50:27.446Z"
   },
   {
    "duration": 0,
    "start_time": "2023-03-05T17:52:38.775Z"
   },
   {
    "duration": 0,
    "start_time": "2023-03-05T17:52:38.781Z"
   },
   {
    "duration": 10,
    "start_time": "2023-03-05T17:53:01.462Z"
   },
   {
    "duration": 10,
    "start_time": "2023-03-05T17:53:07.436Z"
   },
   {
    "duration": 12,
    "start_time": "2023-03-05T17:53:14.411Z"
   },
   {
    "duration": 5,
    "start_time": "2023-03-05T17:53:36.501Z"
   },
   {
    "duration": 21,
    "start_time": "2023-03-05T17:53:42.747Z"
   },
   {
    "duration": 6,
    "start_time": "2023-03-05T17:53:51.789Z"
   },
   {
    "duration": 5,
    "start_time": "2023-03-05T17:53:58.262Z"
   },
   {
    "duration": 127964,
    "start_time": "2023-03-05T17:54:38.233Z"
   },
   {
    "duration": 235,
    "start_time": "2023-03-05T17:57:16.837Z"
   },
   {
    "duration": 5,
    "start_time": "2023-03-05T17:58:24.691Z"
   },
   {
    "duration": 17,
    "start_time": "2023-03-05T17:58:34.593Z"
   },
   {
    "duration": 391,
    "start_time": "2023-03-05T17:58:39.840Z"
   },
   {
    "duration": 8696,
    "start_time": "2023-03-05T17:58:50.512Z"
   },
   {
    "duration": 2307,
    "start_time": "2023-03-05T17:59:24.146Z"
   },
   {
    "duration": 360,
    "start_time": "2023-03-05T17:59:26.455Z"
   },
   {
    "duration": 2234,
    "start_time": "2023-03-05T17:59:33.805Z"
   },
   {
    "duration": 400,
    "start_time": "2023-03-05T17:59:36.042Z"
   },
   {
    "duration": 45,
    "start_time": "2023-03-05T17:59:36.452Z"
   },
   {
    "duration": 32,
    "start_time": "2023-03-05T17:59:36.502Z"
   },
   {
    "duration": 39,
    "start_time": "2023-03-05T17:59:36.540Z"
   },
   {
    "duration": 38,
    "start_time": "2023-03-05T17:59:36.593Z"
   },
   {
    "duration": 72,
    "start_time": "2023-03-05T17:59:36.639Z"
   },
   {
    "duration": 188,
    "start_time": "2023-03-05T17:59:36.716Z"
   },
   {
    "duration": 377,
    "start_time": "2023-03-05T17:59:36.910Z"
   },
   {
    "duration": 32,
    "start_time": "2023-03-05T17:59:37.291Z"
   },
   {
    "duration": 17,
    "start_time": "2023-03-05T17:59:37.328Z"
   },
   {
    "duration": 11,
    "start_time": "2023-03-05T17:59:37.350Z"
   },
   {
    "duration": 21,
    "start_time": "2023-03-05T17:59:37.367Z"
   },
   {
    "duration": 1484,
    "start_time": "2023-03-05T17:59:37.399Z"
   },
   {
    "duration": 10,
    "start_time": "2023-03-05T17:59:38.887Z"
   },
   {
    "duration": 14,
    "start_time": "2023-03-05T17:59:38.900Z"
   },
   {
    "duration": 155,
    "start_time": "2023-03-05T17:59:38.919Z"
   },
   {
    "duration": 26,
    "start_time": "2023-03-05T17:59:39.079Z"
   },
   {
    "duration": 121,
    "start_time": "2023-03-05T17:59:39.114Z"
   },
   {
    "duration": 215,
    "start_time": "2023-03-05T17:59:39.241Z"
   },
   {
    "duration": 33,
    "start_time": "2023-03-05T17:59:39.468Z"
   },
   {
    "duration": 15,
    "start_time": "2023-03-05T17:59:39.503Z"
   },
   {
    "duration": 19,
    "start_time": "2023-03-05T17:59:39.521Z"
   },
   {
    "duration": 278,
    "start_time": "2023-03-05T17:59:39.543Z"
   },
   {
    "duration": 2420,
    "start_time": "2023-03-05T17:59:39.825Z"
   },
   {
    "duration": 17,
    "start_time": "2023-03-05T17:59:42.247Z"
   },
   {
    "duration": 308,
    "start_time": "2023-03-05T17:59:42.266Z"
   },
   {
    "duration": 439,
    "start_time": "2023-03-05T17:59:42.578Z"
   },
   {
    "duration": 368,
    "start_time": "2023-03-05T17:59:43.023Z"
   },
   {
    "duration": 30,
    "start_time": "2023-03-05T17:59:43.394Z"
   },
   {
    "duration": 25,
    "start_time": "2023-03-05T17:59:43.430Z"
   },
   {
    "duration": 158,
    "start_time": "2023-03-05T17:59:43.462Z"
   },
   {
    "duration": 54,
    "start_time": "2023-03-05T17:59:43.626Z"
   },
   {
    "duration": 65,
    "start_time": "2023-03-05T17:59:43.687Z"
   },
   {
    "duration": 115,
    "start_time": "2023-03-05T17:59:43.758Z"
   },
   {
    "duration": 329,
    "start_time": "2023-03-05T17:59:43.879Z"
   },
   {
    "duration": 5,
    "start_time": "2023-03-05T17:59:44.215Z"
   },
   {
    "duration": 34,
    "start_time": "2023-03-05T17:59:44.225Z"
   },
   {
    "duration": 7,
    "start_time": "2023-03-05T17:59:44.265Z"
   },
   {
    "duration": 10,
    "start_time": "2023-03-05T17:59:44.277Z"
   },
   {
    "duration": 53909,
    "start_time": "2023-03-05T17:59:44.294Z"
   },
   {
    "duration": 205,
    "start_time": "2023-03-05T18:01:13.202Z"
   },
   {
    "duration": 114,
    "start_time": "2023-03-05T18:01:29.171Z"
   },
   {
    "duration": 132,
    "start_time": "2023-03-05T18:01:41.907Z"
   },
   {
    "duration": 124,
    "start_time": "2023-03-05T18:03:13.190Z"
   },
   {
    "duration": 164,
    "start_time": "2023-03-05T18:03:25.752Z"
   },
   {
    "duration": 8,
    "start_time": "2023-03-05T18:03:49.741Z"
   },
   {
    "duration": 288,
    "start_time": "2023-03-05T18:03:51.862Z"
   },
   {
    "duration": 41,
    "start_time": "2023-03-05T18:03:54.390Z"
   },
   {
    "duration": 25,
    "start_time": "2023-03-05T18:03:55.585Z"
   },
   {
    "duration": 38,
    "start_time": "2023-03-05T18:03:57.551Z"
   },
   {
    "duration": 26,
    "start_time": "2023-03-05T18:03:57.744Z"
   },
   {
    "duration": 67,
    "start_time": "2023-03-05T18:04:00.163Z"
   },
   {
    "duration": 257,
    "start_time": "2023-03-05T18:04:02.537Z"
   },
   {
    "duration": 12,
    "start_time": "2023-03-05T18:04:48.009Z"
   },
   {
    "duration": 32,
    "start_time": "2023-03-05T18:04:54.611Z"
   },
   {
    "duration": 12,
    "start_time": "2023-03-05T18:05:02.469Z"
   },
   {
    "duration": 10,
    "start_time": "2023-03-05T18:05:16.470Z"
   },
   {
    "duration": 11,
    "start_time": "2023-03-05T18:06:08.777Z"
   },
   {
    "duration": 35,
    "start_time": "2023-03-05T18:06:08.957Z"
   },
   {
    "duration": 61,
    "start_time": "2023-03-05T18:06:57.629Z"
   },
   {
    "duration": 372,
    "start_time": "2023-03-05T18:07:11.980Z"
   },
   {
    "duration": 43,
    "start_time": "2023-03-05T18:07:12.359Z"
   },
   {
    "duration": 2002,
    "start_time": "2023-03-05T18:09:23.292Z"
   },
   {
    "duration": 383,
    "start_time": "2023-03-05T18:09:25.297Z"
   },
   {
    "duration": 42,
    "start_time": "2023-03-05T18:09:25.682Z"
   },
   {
    "duration": 28,
    "start_time": "2023-03-05T18:09:25.726Z"
   },
   {
    "duration": 45,
    "start_time": "2023-03-05T18:09:25.756Z"
   },
   {
    "duration": 55,
    "start_time": "2023-03-05T18:09:25.803Z"
   },
   {
    "duration": 70,
    "start_time": "2023-03-05T18:09:25.861Z"
   },
   {
    "duration": 184,
    "start_time": "2023-03-05T18:09:25.939Z"
   },
   {
    "duration": 326,
    "start_time": "2023-03-05T18:09:26.125Z"
   },
   {
    "duration": 31,
    "start_time": "2023-03-05T18:09:26.453Z"
   },
   {
    "duration": 177,
    "start_time": "2023-03-05T18:09:26.486Z"
   },
   {
    "duration": 0,
    "start_time": "2023-03-05T18:09:26.666Z"
   },
   {
    "duration": 0,
    "start_time": "2023-03-05T18:09:26.667Z"
   },
   {
    "duration": 0,
    "start_time": "2023-03-05T18:09:26.668Z"
   },
   {
    "duration": 0,
    "start_time": "2023-03-05T18:09:26.669Z"
   },
   {
    "duration": 0,
    "start_time": "2023-03-05T18:09:26.669Z"
   },
   {
    "duration": 0,
    "start_time": "2023-03-05T18:09:26.670Z"
   },
   {
    "duration": 0,
    "start_time": "2023-03-05T18:09:26.671Z"
   },
   {
    "duration": 0,
    "start_time": "2023-03-05T18:09:26.672Z"
   },
   {
    "duration": 0,
    "start_time": "2023-03-05T18:09:26.672Z"
   },
   {
    "duration": 0,
    "start_time": "2023-03-05T18:09:26.675Z"
   },
   {
    "duration": 0,
    "start_time": "2023-03-05T18:09:26.676Z"
   },
   {
    "duration": 0,
    "start_time": "2023-03-05T18:09:26.677Z"
   },
   {
    "duration": 0,
    "start_time": "2023-03-05T18:09:26.678Z"
   },
   {
    "duration": 0,
    "start_time": "2023-03-05T18:09:26.681Z"
   },
   {
    "duration": 0,
    "start_time": "2023-03-05T18:09:26.682Z"
   },
   {
    "duration": 0,
    "start_time": "2023-03-05T18:09:26.684Z"
   },
   {
    "duration": 0,
    "start_time": "2023-03-05T18:09:26.687Z"
   },
   {
    "duration": 0,
    "start_time": "2023-03-05T18:09:26.689Z"
   },
   {
    "duration": 0,
    "start_time": "2023-03-05T18:09:26.690Z"
   },
   {
    "duration": 0,
    "start_time": "2023-03-05T18:09:26.692Z"
   },
   {
    "duration": 0,
    "start_time": "2023-03-05T18:09:26.711Z"
   },
   {
    "duration": 0,
    "start_time": "2023-03-05T18:09:26.715Z"
   },
   {
    "duration": 0,
    "start_time": "2023-03-05T18:09:26.716Z"
   },
   {
    "duration": 0,
    "start_time": "2023-03-05T18:09:26.718Z"
   },
   {
    "duration": 0,
    "start_time": "2023-03-05T18:09:26.724Z"
   },
   {
    "duration": 0,
    "start_time": "2023-03-05T18:09:26.727Z"
   },
   {
    "duration": 0,
    "start_time": "2023-03-05T18:09:26.729Z"
   },
   {
    "duration": 0,
    "start_time": "2023-03-05T18:09:26.730Z"
   },
   {
    "duration": 0,
    "start_time": "2023-03-05T18:09:26.731Z"
   },
   {
    "duration": 0,
    "start_time": "2023-03-05T18:09:26.734Z"
   },
   {
    "duration": 38,
    "start_time": "2023-03-05T18:09:41.916Z"
   },
   {
    "duration": 2044,
    "start_time": "2023-03-05T18:10:20.474Z"
   },
   {
    "duration": 458,
    "start_time": "2023-03-05T18:10:22.526Z"
   },
   {
    "duration": 54,
    "start_time": "2023-03-05T18:10:22.985Z"
   },
   {
    "duration": 39,
    "start_time": "2023-03-05T18:10:23.046Z"
   },
   {
    "duration": 36,
    "start_time": "2023-03-05T18:10:23.088Z"
   },
   {
    "duration": 37,
    "start_time": "2023-03-05T18:10:23.126Z"
   },
   {
    "duration": 87,
    "start_time": "2023-03-05T18:10:23.169Z"
   },
   {
    "duration": 193,
    "start_time": "2023-03-05T18:10:23.263Z"
   },
   {
    "duration": 370,
    "start_time": "2023-03-05T18:10:23.464Z"
   },
   {
    "duration": 38,
    "start_time": "2023-03-05T18:10:23.841Z"
   },
   {
    "duration": 14,
    "start_time": "2023-03-05T18:10:23.884Z"
   },
   {
    "duration": 25,
    "start_time": "2023-03-05T18:10:23.906Z"
   },
   {
    "duration": 21,
    "start_time": "2023-03-05T18:10:23.937Z"
   },
   {
    "duration": 1580,
    "start_time": "2023-03-05T18:10:23.968Z"
   },
   {
    "duration": 36,
    "start_time": "2023-03-05T18:10:25.557Z"
   },
   {
    "duration": 48,
    "start_time": "2023-03-05T18:10:25.605Z"
   },
   {
    "duration": 216,
    "start_time": "2023-03-05T18:10:25.668Z"
   },
   {
    "duration": 33,
    "start_time": "2023-03-05T18:10:25.886Z"
   },
   {
    "duration": 144,
    "start_time": "2023-03-05T18:10:25.928Z"
   },
   {
    "duration": 245,
    "start_time": "2023-03-05T18:10:26.079Z"
   },
   {
    "duration": 34,
    "start_time": "2023-03-05T18:10:26.332Z"
   },
   {
    "duration": 13,
    "start_time": "2023-03-05T18:10:26.371Z"
   },
   {
    "duration": 8,
    "start_time": "2023-03-05T18:10:26.401Z"
   },
   {
    "duration": 256,
    "start_time": "2023-03-05T18:10:26.416Z"
   },
   {
    "duration": 2852,
    "start_time": "2023-03-05T18:10:26.682Z"
   },
   {
    "duration": 20,
    "start_time": "2023-03-05T18:10:29.542Z"
   },
   {
    "duration": 328,
    "start_time": "2023-03-05T18:10:29.569Z"
   },
   {
    "duration": 463,
    "start_time": "2023-03-05T18:10:29.905Z"
   },
   {
    "duration": 446,
    "start_time": "2023-03-05T18:10:30.377Z"
   },
   {
    "duration": 37,
    "start_time": "2023-03-05T18:10:30.830Z"
   },
   {
    "duration": 38,
    "start_time": "2023-03-05T18:10:30.870Z"
   },
   {
    "duration": 209,
    "start_time": "2023-03-05T18:10:30.923Z"
   },
   {
    "duration": 75,
    "start_time": "2023-03-05T18:10:31.144Z"
   },
   {
    "duration": 76,
    "start_time": "2023-03-05T18:10:31.234Z"
   },
   {
    "duration": 174,
    "start_time": "2023-03-05T18:10:31.321Z"
   },
   {
    "duration": 421,
    "start_time": "2023-03-05T18:10:31.506Z"
   },
   {
    "duration": 10,
    "start_time": "2023-03-05T18:10:31.933Z"
   },
   {
    "duration": 39,
    "start_time": "2023-03-05T18:10:31.949Z"
   },
   {
    "duration": 6,
    "start_time": "2023-03-05T18:10:31.990Z"
   },
   {
    "duration": 5,
    "start_time": "2023-03-05T18:10:31.997Z"
   },
   {
    "duration": 56292,
    "start_time": "2023-03-05T18:10:32.016Z"
   },
   {
    "duration": 0,
    "start_time": "2023-03-05T18:11:28.311Z"
   },
   {
    "duration": 19,
    "start_time": "2023-03-05T18:11:41.921Z"
   },
   {
    "duration": 43,
    "start_time": "2023-03-05T18:12:15.240Z"
   },
   {
    "duration": 29,
    "start_time": "2023-03-05T18:12:18.958Z"
   },
   {
    "duration": 116,
    "start_time": "2023-03-05T18:12:56.812Z"
   },
   {
    "duration": 191,
    "start_time": "2023-03-05T18:13:06.597Z"
   },
   {
    "duration": 92,
    "start_time": "2023-03-05T18:13:49.783Z"
   },
   {
    "duration": 1819,
    "start_time": "2023-03-05T18:13:54.988Z"
   },
   {
    "duration": 532,
    "start_time": "2023-03-05T18:13:56.809Z"
   },
   {
    "duration": 52,
    "start_time": "2023-03-05T18:13:57.343Z"
   },
   {
    "duration": 46,
    "start_time": "2023-03-05T18:13:57.398Z"
   },
   {
    "duration": 30,
    "start_time": "2023-03-05T18:13:57.458Z"
   },
   {
    "duration": 20,
    "start_time": "2023-03-05T18:13:57.490Z"
   },
   {
    "duration": 84,
    "start_time": "2023-03-05T18:13:57.512Z"
   },
   {
    "duration": 177,
    "start_time": "2023-03-05T18:13:57.598Z"
   },
   {
    "duration": 336,
    "start_time": "2023-03-05T18:13:58.178Z"
   },
   {
    "duration": 30,
    "start_time": "2023-03-05T18:14:00.076Z"
   },
   {
    "duration": 9,
    "start_time": "2023-03-05T18:14:00.884Z"
   },
   {
    "duration": 7,
    "start_time": "2023-03-05T18:14:01.194Z"
   },
   {
    "duration": 15,
    "start_time": "2023-03-05T18:14:01.680Z"
   },
   {
    "duration": 1382,
    "start_time": "2023-03-05T18:14:02.651Z"
   },
   {
    "duration": 24,
    "start_time": "2023-03-05T18:14:04.038Z"
   },
   {
    "duration": 17,
    "start_time": "2023-03-05T18:14:04.374Z"
   },
   {
    "duration": 174,
    "start_time": "2023-03-05T18:14:05.753Z"
   },
   {
    "duration": 38,
    "start_time": "2023-03-05T18:14:07.230Z"
   },
   {
    "duration": 97,
    "start_time": "2023-03-05T18:14:08.104Z"
   },
   {
    "duration": 175,
    "start_time": "2023-03-05T18:14:12.554Z"
   },
   {
    "duration": 250,
    "start_time": "2023-03-05T18:14:14.994Z"
   },
   {
    "duration": 35,
    "start_time": "2023-03-05T18:14:20.172Z"
   },
   {
    "duration": 7,
    "start_time": "2023-03-05T18:14:26.698Z"
   },
   {
    "duration": 16,
    "start_time": "2023-03-05T18:14:30.839Z"
   },
   {
    "duration": 5,
    "start_time": "2023-03-05T18:14:36.687Z"
   },
   {
    "duration": 2848,
    "start_time": "2023-03-05T18:14:43.462Z"
   },
   {
    "duration": 41,
    "start_time": "2023-03-05T18:14:54.509Z"
   },
   {
    "duration": 54,
    "start_time": "2023-03-05T18:14:59.183Z"
   },
   {
    "duration": 60,
    "start_time": "2023-03-05T18:15:10.549Z"
   },
   {
    "duration": 49,
    "start_time": "2023-03-05T18:15:18.494Z"
   },
   {
    "duration": 60,
    "start_time": "2023-03-05T18:15:22.186Z"
   },
   {
    "duration": 70,
    "start_time": "2023-03-05T18:15:34.077Z"
   },
   {
    "duration": 47,
    "start_time": "2023-03-05T18:15:37.590Z"
   },
   {
    "duration": 304,
    "start_time": "2023-03-05T18:15:55.769Z"
   },
   {
    "duration": 24,
    "start_time": "2023-03-05T18:15:56.269Z"
   },
   {
    "duration": 20,
    "start_time": "2023-03-05T18:18:37.776Z"
   },
   {
    "duration": 15,
    "start_time": "2023-03-05T18:18:38.087Z"
   },
   {
    "duration": 128,
    "start_time": "2023-03-05T18:18:39.154Z"
   },
   {
    "duration": 1797,
    "start_time": "2023-03-05T18:18:43.037Z"
   },
   {
    "duration": 393,
    "start_time": "2023-03-05T18:18:44.841Z"
   },
   {
    "duration": 44,
    "start_time": "2023-03-05T18:18:45.239Z"
   },
   {
    "duration": 28,
    "start_time": "2023-03-05T18:18:45.285Z"
   },
   {
    "duration": 50,
    "start_time": "2023-03-05T18:18:45.326Z"
   },
   {
    "duration": 23,
    "start_time": "2023-03-05T18:18:45.379Z"
   },
   {
    "duration": 64,
    "start_time": "2023-03-05T18:18:45.404Z"
   },
   {
    "duration": 184,
    "start_time": "2023-03-05T18:18:45.470Z"
   },
   {
    "duration": 350,
    "start_time": "2023-03-05T18:18:45.656Z"
   },
   {
    "duration": 40,
    "start_time": "2023-03-05T18:18:46.008Z"
   },
   {
    "duration": 14,
    "start_time": "2023-03-05T18:18:46.059Z"
   },
   {
    "duration": 10,
    "start_time": "2023-03-05T18:18:46.077Z"
   },
   {
    "duration": 35,
    "start_time": "2023-03-05T18:18:46.089Z"
   },
   {
    "duration": 1304,
    "start_time": "2023-03-05T18:18:46.132Z"
   },
   {
    "duration": 21,
    "start_time": "2023-03-05T18:18:47.437Z"
   },
   {
    "duration": 8,
    "start_time": "2023-03-05T18:18:47.461Z"
   },
   {
    "duration": 138,
    "start_time": "2023-03-05T18:18:47.471Z"
   },
   {
    "duration": 27,
    "start_time": "2023-03-05T18:18:47.613Z"
   },
   {
    "duration": 55,
    "start_time": "2023-03-05T18:18:47.643Z"
   },
   {
    "duration": 153,
    "start_time": "2023-03-05T18:18:47.702Z"
   },
   {
    "duration": 255,
    "start_time": "2023-03-05T18:18:47.857Z"
   },
   {
    "duration": 21,
    "start_time": "2023-03-05T18:18:48.113Z"
   },
   {
    "duration": 8,
    "start_time": "2023-03-05T18:18:48.136Z"
   },
   {
    "duration": 181,
    "start_time": "2023-03-05T18:18:48.145Z"
   },
   {
    "duration": 1977,
    "start_time": "2023-03-05T18:18:48.328Z"
   },
   {
    "duration": 17,
    "start_time": "2023-03-05T18:18:50.308Z"
   },
   {
    "duration": 258,
    "start_time": "2023-03-05T18:18:50.332Z"
   },
   {
    "duration": 366,
    "start_time": "2023-03-05T18:18:50.593Z"
   },
   {
    "duration": 398,
    "start_time": "2023-03-05T18:18:50.963Z"
   },
   {
    "duration": 30,
    "start_time": "2023-03-05T18:18:51.363Z"
   },
   {
    "duration": 30,
    "start_time": "2023-03-05T18:18:51.397Z"
   },
   {
    "duration": 130,
    "start_time": "2023-03-05T18:18:51.429Z"
   },
   {
    "duration": 36,
    "start_time": "2023-03-05T18:18:51.561Z"
   },
   {
    "duration": 53,
    "start_time": "2023-03-05T18:18:51.599Z"
   },
   {
    "duration": 94,
    "start_time": "2023-03-05T18:18:51.660Z"
   },
   {
    "duration": 297,
    "start_time": "2023-03-05T18:18:51.760Z"
   },
   {
    "duration": 3,
    "start_time": "2023-03-05T18:18:52.059Z"
   },
   {
    "duration": 22,
    "start_time": "2023-03-05T18:18:52.064Z"
   },
   {
    "duration": 4,
    "start_time": "2023-03-05T18:18:52.088Z"
   },
   {
    "duration": 1737,
    "start_time": "2023-03-05T18:20:56.541Z"
   },
   {
    "duration": 364,
    "start_time": "2023-03-05T18:20:58.281Z"
   },
   {
    "duration": 34,
    "start_time": "2023-03-05T18:20:58.649Z"
   },
   {
    "duration": 30,
    "start_time": "2023-03-05T18:20:58.685Z"
   },
   {
    "duration": 36,
    "start_time": "2023-03-05T18:20:58.721Z"
   },
   {
    "duration": 21,
    "start_time": "2023-03-05T18:20:58.759Z"
   },
   {
    "duration": 82,
    "start_time": "2023-03-05T18:20:58.782Z"
   },
   {
    "duration": 164,
    "start_time": "2023-03-05T18:20:58.867Z"
   },
   {
    "duration": 356,
    "start_time": "2023-03-05T18:20:59.037Z"
   },
   {
    "duration": 30,
    "start_time": "2023-03-05T18:20:59.396Z"
   },
   {
    "duration": 13,
    "start_time": "2023-03-05T18:20:59.428Z"
   },
   {
    "duration": 12,
    "start_time": "2023-03-05T18:20:59.443Z"
   },
   {
    "duration": 21,
    "start_time": "2023-03-05T18:20:59.458Z"
   },
   {
    "duration": 1465,
    "start_time": "2023-03-05T18:20:59.483Z"
   },
   {
    "duration": 22,
    "start_time": "2023-03-05T18:21:00.956Z"
   },
   {
    "duration": 28,
    "start_time": "2023-03-05T18:21:00.981Z"
   },
   {
    "duration": 215,
    "start_time": "2023-03-05T18:21:01.010Z"
   },
   {
    "duration": 15,
    "start_time": "2023-03-05T18:21:01.227Z"
   },
   {
    "duration": 119,
    "start_time": "2023-03-05T18:21:01.248Z"
   },
   {
    "duration": 181,
    "start_time": "2023-03-05T18:21:01.370Z"
   },
   {
    "duration": 405,
    "start_time": "2023-03-05T18:21:01.555Z"
   },
   {
    "duration": 16,
    "start_time": "2023-03-05T18:21:01.961Z"
   },
   {
    "duration": 7,
    "start_time": "2023-03-05T18:21:01.979Z"
   },
   {
    "duration": 238,
    "start_time": "2023-03-05T18:21:01.988Z"
   },
   {
    "duration": 2053,
    "start_time": "2023-03-05T18:21:02.228Z"
   },
   {
    "duration": 16,
    "start_time": "2023-03-05T18:21:04.284Z"
   },
   {
    "duration": 354,
    "start_time": "2023-03-05T18:21:04.303Z"
   },
   {
    "duration": 493,
    "start_time": "2023-03-05T18:21:04.662Z"
   },
   {
    "duration": 413,
    "start_time": "2023-03-05T18:21:05.159Z"
   },
   {
    "duration": 48,
    "start_time": "2023-03-05T18:21:05.575Z"
   },
   {
    "duration": 22,
    "start_time": "2023-03-05T18:21:05.633Z"
   },
   {
    "duration": 120,
    "start_time": "2023-03-05T18:21:05.658Z"
   },
   {
    "duration": 41,
    "start_time": "2023-03-05T18:21:05.780Z"
   },
   {
    "duration": 43,
    "start_time": "2023-03-05T18:21:05.823Z"
   },
   {
    "duration": 105,
    "start_time": "2023-03-05T18:21:05.867Z"
   },
   {
    "duration": 354,
    "start_time": "2023-03-05T18:21:05.974Z"
   },
   {
    "duration": 11,
    "start_time": "2023-03-05T18:21:06.335Z"
   },
   {
    "duration": 20,
    "start_time": "2023-03-05T18:21:06.350Z"
   },
   {
    "duration": 9,
    "start_time": "2023-03-05T18:21:06.372Z"
   },
   {
    "duration": 233172,
    "start_time": "2023-03-05T18:21:06.383Z"
   },
   {
    "duration": 0,
    "start_time": "2023-03-05T18:24:59.557Z"
   },
   {
    "duration": 4,
    "start_time": "2023-03-05T18:25:36.245Z"
   },
   {
    "duration": 359042,
    "start_time": "2023-03-05T18:25:36.447Z"
   },
   {
    "duration": 26,
    "start_time": "2023-03-05T18:31:35.491Z"
   },
   {
    "duration": 3,
    "start_time": "2023-03-05T18:36:22.397Z"
   },
   {
    "duration": 18429,
    "start_time": "2023-03-05T18:36:33.865Z"
   },
   {
    "duration": 150,
    "start_time": "2023-03-05T18:37:03.313Z"
   },
   {
    "duration": 7,
    "start_time": "2023-03-05T18:37:10.082Z"
   },
   {
    "duration": 18064,
    "start_time": "2023-03-05T18:38:00.343Z"
   },
   {
    "duration": 18106,
    "start_time": "2023-03-05T18:38:36.367Z"
   },
   {
    "duration": 6,
    "start_time": "2023-03-05T18:39:10.462Z"
   },
   {
    "duration": 6,
    "start_time": "2023-03-05T18:39:13.874Z"
   },
   {
    "duration": 11,
    "start_time": "2023-03-05T18:39:20.178Z"
   },
   {
    "duration": 1725,
    "start_time": "2023-03-07T11:21:42.960Z"
   },
   {
    "duration": 623,
    "start_time": "2023-03-07T11:21:44.687Z"
   },
   {
    "duration": 39,
    "start_time": "2023-03-07T11:21:45.311Z"
   },
   {
    "duration": 33,
    "start_time": "2023-03-07T11:21:45.352Z"
   },
   {
    "duration": 20,
    "start_time": "2023-03-07T11:21:45.387Z"
   },
   {
    "duration": 23,
    "start_time": "2023-03-07T11:21:45.408Z"
   },
   {
    "duration": 60,
    "start_time": "2023-03-07T11:21:45.434Z"
   },
   {
    "duration": 135,
    "start_time": "2023-03-07T11:21:45.495Z"
   },
   {
    "duration": 263,
    "start_time": "2023-03-07T11:21:45.632Z"
   },
   {
    "duration": 14,
    "start_time": "2023-03-07T11:21:45.899Z"
   },
   {
    "duration": 29,
    "start_time": "2023-03-07T11:21:45.915Z"
   },
   {
    "duration": 8,
    "start_time": "2023-03-07T11:21:45.949Z"
   },
   {
    "duration": 17,
    "start_time": "2023-03-07T11:21:45.959Z"
   },
   {
    "duration": 1122,
    "start_time": "2023-03-07T11:21:45.977Z"
   },
   {
    "duration": 5,
    "start_time": "2023-03-07T11:21:47.101Z"
   },
   {
    "duration": 24,
    "start_time": "2023-03-07T11:21:47.107Z"
   },
   {
    "duration": 137,
    "start_time": "2023-03-07T11:21:47.133Z"
   },
   {
    "duration": 10,
    "start_time": "2023-03-07T11:21:47.271Z"
   },
   {
    "duration": 68,
    "start_time": "2023-03-07T11:21:47.282Z"
   },
   {
    "duration": 110,
    "start_time": "2023-03-07T11:21:47.351Z"
   },
   {
    "duration": 218,
    "start_time": "2023-03-07T11:21:47.462Z"
   },
   {
    "duration": 14,
    "start_time": "2023-03-07T11:21:47.682Z"
   },
   {
    "duration": 15,
    "start_time": "2023-03-07T11:21:47.697Z"
   },
   {
    "duration": 180,
    "start_time": "2023-03-07T11:21:47.713Z"
   },
   {
    "duration": 1567,
    "start_time": "2023-03-07T11:21:47.894Z"
   },
   {
    "duration": 10,
    "start_time": "2023-03-07T11:21:49.463Z"
   },
   {
    "duration": 214,
    "start_time": "2023-03-07T11:21:49.475Z"
   },
   {
    "duration": 277,
    "start_time": "2023-03-07T11:21:49.692Z"
   },
   {
    "duration": 245,
    "start_time": "2023-03-07T11:21:49.971Z"
   },
   {
    "duration": 32,
    "start_time": "2023-03-07T11:21:50.217Z"
   },
   {
    "duration": 16,
    "start_time": "2023-03-07T11:21:50.252Z"
   },
   {
    "duration": 106,
    "start_time": "2023-03-07T11:21:50.270Z"
   },
   {
    "duration": 25,
    "start_time": "2023-03-07T11:21:50.378Z"
   },
   {
    "duration": 42,
    "start_time": "2023-03-07T11:21:50.404Z"
   },
   {
    "duration": 61,
    "start_time": "2023-03-07T11:21:50.447Z"
   },
   {
    "duration": 239,
    "start_time": "2023-03-07T11:21:50.510Z"
   },
   {
    "duration": 2,
    "start_time": "2023-03-07T11:21:50.751Z"
   },
   {
    "duration": 39,
    "start_time": "2023-03-07T11:21:50.755Z"
   },
   {
    "duration": 77115,
    "start_time": "2023-03-07T11:21:50.796Z"
   },
   {
    "duration": 0,
    "start_time": "2023-03-07T11:23:07.913Z"
   },
   {
    "duration": 14479,
    "start_time": "2023-03-07T11:36:07.887Z"
   },
   {
    "duration": 1926,
    "start_time": "2023-03-07T17:00:21.933Z"
   },
   {
    "duration": 510,
    "start_time": "2023-03-07T17:00:23.861Z"
   },
   {
    "duration": 38,
    "start_time": "2023-03-07T17:00:25.861Z"
   },
   {
    "duration": 21,
    "start_time": "2023-03-07T17:00:26.123Z"
   },
   {
    "duration": 26,
    "start_time": "2023-03-07T17:00:27.907Z"
   },
   {
    "duration": 18,
    "start_time": "2023-03-07T17:00:28.124Z"
   },
   {
    "duration": 55,
    "start_time": "2023-03-07T17:00:29.755Z"
   },
   {
    "duration": 158,
    "start_time": "2023-03-07T17:00:32.048Z"
   },
   {
    "duration": 307,
    "start_time": "2023-03-07T17:00:33.861Z"
   },
   {
    "duration": 22,
    "start_time": "2023-03-07T17:00:35.402Z"
   },
   {
    "duration": 5,
    "start_time": "2023-03-07T17:01:44.994Z"
   },
   {
    "duration": 260,
    "start_time": "2023-03-07T17:01:45.201Z"
   },
   {
    "duration": 32,
    "start_time": "2023-03-07T17:01:46.039Z"
   },
   {
    "duration": 25,
    "start_time": "2023-03-07T17:01:46.265Z"
   },
   {
    "duration": 28,
    "start_time": "2023-03-07T17:01:46.485Z"
   },
   {
    "duration": 19,
    "start_time": "2023-03-07T17:01:46.726Z"
   },
   {
    "duration": 56,
    "start_time": "2023-03-07T17:01:48.535Z"
   },
   {
    "duration": 152,
    "start_time": "2023-03-07T17:01:49.979Z"
   },
   {
    "duration": 270,
    "start_time": "2023-03-07T17:01:50.755Z"
   },
   {
    "duration": 17,
    "start_time": "2023-03-07T17:01:53.326Z"
   },
   {
    "duration": 4,
    "start_time": "2023-03-07T17:01:54.744Z"
   },
   {
    "duration": 5,
    "start_time": "2023-03-07T17:01:57.427Z"
   },
   {
    "duration": 238,
    "start_time": "2023-03-07T17:02:04.089Z"
   },
   {
    "duration": 310,
    "start_time": "2023-03-07T17:02:17.750Z"
   },
   {
    "duration": 202,
    "start_time": "2023-03-07T17:02:23.007Z"
   },
   {
    "duration": 199,
    "start_time": "2023-03-07T17:02:32.931Z"
   },
   {
    "duration": 156,
    "start_time": "2023-03-07T17:11:30.648Z"
   },
   {
    "duration": 172,
    "start_time": "2023-03-07T17:11:39.942Z"
   },
   {
    "duration": 319,
    "start_time": "2023-03-07T17:11:46.977Z"
   },
   {
    "duration": 185,
    "start_time": "2023-03-07T17:11:50.538Z"
   },
   {
    "duration": 146,
    "start_time": "2023-03-07T17:12:00.165Z"
   },
   {
    "duration": 78,
    "start_time": "2023-03-07T17:12:09.200Z"
   },
   {
    "duration": 276,
    "start_time": "2023-03-07T17:12:13.596Z"
   },
   {
    "duration": 169,
    "start_time": "2023-03-07T17:12:25.563Z"
   },
   {
    "duration": 141,
    "start_time": "2023-03-07T17:12:45.295Z"
   },
   {
    "duration": 152,
    "start_time": "2023-03-07T17:12:48.264Z"
   },
   {
    "duration": 180,
    "start_time": "2023-03-07T17:12:50.855Z"
   },
   {
    "duration": 165,
    "start_time": "2023-03-07T17:13:06.578Z"
   },
   {
    "duration": 155,
    "start_time": "2023-03-07T17:13:15.252Z"
   },
   {
    "duration": 216,
    "start_time": "2023-03-07T17:14:04.318Z"
   },
   {
    "duration": 236,
    "start_time": "2023-03-07T17:14:52.567Z"
   },
   {
    "duration": 178,
    "start_time": "2023-03-07T17:14:55.132Z"
   },
   {
    "duration": 210,
    "start_time": "2023-03-07T17:15:01.539Z"
   },
   {
    "duration": 242,
    "start_time": "2023-03-07T17:15:25.154Z"
   },
   {
    "duration": 321,
    "start_time": "2023-03-07T17:15:51.797Z"
   },
   {
    "duration": 259,
    "start_time": "2023-03-07T17:16:16.199Z"
   },
   {
    "duration": 241,
    "start_time": "2023-03-07T17:16:20.839Z"
   },
   {
    "duration": 24305,
    "start_time": "2023-03-07T17:17:10.695Z"
   },
   {
    "duration": 296,
    "start_time": "2023-03-07T17:17:36.695Z"
   },
   {
    "duration": 241,
    "start_time": "2023-03-07T17:18:08.833Z"
   },
   {
    "duration": 232,
    "start_time": "2023-03-07T17:18:23.678Z"
   },
   {
    "duration": 247,
    "start_time": "2023-03-07T17:18:29.380Z"
   },
   {
    "duration": 221,
    "start_time": "2023-03-07T17:18:40.915Z"
   },
   {
    "duration": 220,
    "start_time": "2023-03-07T17:18:48.236Z"
   },
   {
    "duration": 237,
    "start_time": "2023-03-07T17:18:52.157Z"
   },
   {
    "duration": 225,
    "start_time": "2023-03-07T17:18:54.997Z"
   },
   {
    "duration": 224,
    "start_time": "2023-03-07T17:19:01.568Z"
   },
   {
    "duration": 217,
    "start_time": "2023-03-07T17:19:04.902Z"
   },
   {
    "duration": 220,
    "start_time": "2023-03-07T17:19:07.080Z"
   },
   {
    "duration": 212,
    "start_time": "2023-03-07T17:19:46.085Z"
   },
   {
    "duration": 201,
    "start_time": "2023-03-07T17:19:55.664Z"
   },
   {
    "duration": 208,
    "start_time": "2023-03-07T17:19:58.148Z"
   },
   {
    "duration": 206,
    "start_time": "2023-03-07T17:20:12.017Z"
   },
   {
    "duration": 199,
    "start_time": "2023-03-07T17:20:17.346Z"
   },
   {
    "duration": 216,
    "start_time": "2023-03-07T17:20:20.467Z"
   },
   {
    "duration": 217,
    "start_time": "2023-03-07T17:20:23.583Z"
   },
   {
    "duration": 233,
    "start_time": "2023-03-07T17:21:45.659Z"
   },
   {
    "duration": 79,
    "start_time": "2023-03-07T17:24:43.634Z"
   },
   {
    "duration": 148,
    "start_time": "2023-03-07T17:25:26.172Z"
   },
   {
    "duration": 138,
    "start_time": "2023-03-07T17:25:30.267Z"
   },
   {
    "duration": 296,
    "start_time": "2023-03-07T17:25:34.591Z"
   },
   {
    "duration": 113,
    "start_time": "2023-03-07T17:27:47.991Z"
   },
   {
    "duration": 7,
    "start_time": "2023-03-07T17:28:08.312Z"
   },
   {
    "duration": 143,
    "start_time": "2023-03-07T17:28:15.203Z"
   },
   {
    "duration": 165,
    "start_time": "2023-03-07T17:28:24.385Z"
   },
   {
    "duration": 155,
    "start_time": "2023-03-07T17:28:39.924Z"
   },
   {
    "duration": 152,
    "start_time": "2023-03-07T17:28:43.820Z"
   },
   {
    "duration": 177,
    "start_time": "2023-03-07T17:29:10.241Z"
   },
   {
    "duration": 176,
    "start_time": "2023-03-07T17:29:17.476Z"
   },
   {
    "duration": 366,
    "start_time": "2023-03-07T17:29:39.878Z"
   },
   {
    "duration": 47,
    "start_time": "2023-03-07T17:31:16.212Z"
   },
   {
    "duration": 158,
    "start_time": "2023-03-07T17:31:23.639Z"
   },
   {
    "duration": 208,
    "start_time": "2023-03-07T17:32:01.376Z"
   },
   {
    "duration": 6,
    "start_time": "2023-03-07T17:34:33.444Z"
   },
   {
    "duration": 78,
    "start_time": "2023-03-07T17:36:05.129Z"
   },
   {
    "duration": 3,
    "start_time": "2023-03-07T17:36:08.403Z"
   },
   {
    "duration": 1133,
    "start_time": "2023-03-07T17:36:34.084Z"
   },
   {
    "duration": 1195,
    "start_time": "2023-03-07T17:37:04.486Z"
   },
   {
    "duration": 1214,
    "start_time": "2023-03-07T17:37:14.873Z"
   },
   {
    "duration": 18,
    "start_time": "2023-03-07T17:38:31.150Z"
   },
   {
    "duration": 72,
    "start_time": "2023-03-07T17:38:36.598Z"
   },
   {
    "duration": 79,
    "start_time": "2023-03-07T17:38:42.680Z"
   },
   {
    "duration": 15,
    "start_time": "2023-03-07T17:38:47.052Z"
   },
   {
    "duration": 11,
    "start_time": "2023-03-07T17:38:49.686Z"
   },
   {
    "duration": 15,
    "start_time": "2023-03-07T17:39:07.701Z"
   },
   {
    "duration": 8,
    "start_time": "2023-03-07T17:39:15.267Z"
   },
   {
    "duration": 1424,
    "start_time": "2023-03-07T17:39:28.440Z"
   },
   {
    "duration": 244,
    "start_time": "2023-03-07T17:39:29.866Z"
   },
   {
    "duration": 28,
    "start_time": "2023-03-07T17:39:30.112Z"
   },
   {
    "duration": 39,
    "start_time": "2023-03-07T17:39:30.142Z"
   },
   {
    "duration": 27,
    "start_time": "2023-03-07T17:39:30.185Z"
   },
   {
    "duration": 18,
    "start_time": "2023-03-07T17:39:30.214Z"
   },
   {
    "duration": 75,
    "start_time": "2023-03-07T17:39:30.235Z"
   },
   {
    "duration": 142,
    "start_time": "2023-03-07T17:39:30.312Z"
   },
   {
    "duration": 304,
    "start_time": "2023-03-07T17:39:30.455Z"
   },
   {
    "duration": 25,
    "start_time": "2023-03-07T17:39:30.761Z"
   },
   {
    "duration": 12,
    "start_time": "2023-03-07T17:39:30.788Z"
   },
   {
    "duration": 256,
    "start_time": "2023-03-07T17:39:30.802Z"
   },
   {
    "duration": 22,
    "start_time": "2023-03-07T17:39:31.061Z"
   },
   {
    "duration": 1204,
    "start_time": "2023-03-07T17:39:31.087Z"
   },
   {
    "duration": 6,
    "start_time": "2023-03-07T17:39:32.293Z"
   },
   {
    "duration": 10,
    "start_time": "2023-03-07T17:39:32.301Z"
   },
   {
    "duration": 353,
    "start_time": "2023-03-07T17:39:32.313Z"
   },
   {
    "duration": 186,
    "start_time": "2023-03-07T17:39:32.668Z"
   },
   {
    "duration": 1257,
    "start_time": "2023-03-07T17:39:32.856Z"
   },
   {
    "duration": 20,
    "start_time": "2023-03-07T17:39:34.115Z"
   },
   {
    "duration": 119,
    "start_time": "2023-03-07T17:39:34.137Z"
   },
   {
    "duration": 22,
    "start_time": "2023-03-07T17:39:34.259Z"
   },
   {
    "duration": 120,
    "start_time": "2023-03-07T17:39:34.284Z"
   },
   {
    "duration": 141,
    "start_time": "2023-03-07T17:39:34.406Z"
   },
   {
    "duration": 114,
    "start_time": "2023-03-07T17:39:34.550Z"
   },
   {
    "duration": 12,
    "start_time": "2023-03-07T17:39:34.666Z"
   },
   {
    "duration": 13,
    "start_time": "2023-03-07T17:39:34.681Z"
   },
   {
    "duration": 15,
    "start_time": "2023-03-07T17:39:34.696Z"
   },
   {
    "duration": 163,
    "start_time": "2023-03-07T17:39:34.714Z"
   },
   {
    "duration": 1709,
    "start_time": "2023-03-07T17:39:34.879Z"
   },
   {
    "duration": 14,
    "start_time": "2023-03-07T17:39:36.590Z"
   },
   {
    "duration": 300,
    "start_time": "2023-03-07T17:39:36.606Z"
   },
   {
    "duration": 337,
    "start_time": "2023-03-07T17:39:36.908Z"
   },
   {
    "duration": 269,
    "start_time": "2023-03-07T17:39:37.246Z"
   },
   {
    "duration": 25,
    "start_time": "2023-03-07T17:39:37.517Z"
   },
   {
    "duration": 35,
    "start_time": "2023-03-07T17:39:37.544Z"
   },
   {
    "duration": 77,
    "start_time": "2023-03-07T17:41:07.468Z"
   },
   {
    "duration": 1539,
    "start_time": "2023-03-07T17:41:26.331Z"
   },
   {
    "duration": 490,
    "start_time": "2023-03-07T17:41:27.872Z"
   },
   {
    "duration": 32,
    "start_time": "2023-03-07T17:41:28.365Z"
   },
   {
    "duration": 20,
    "start_time": "2023-03-07T17:41:28.897Z"
   },
   {
    "duration": 28,
    "start_time": "2023-03-07T17:41:29.434Z"
   },
   {
    "duration": 18,
    "start_time": "2023-03-07T17:41:29.939Z"
   },
   {
    "duration": 54,
    "start_time": "2023-03-07T17:41:30.878Z"
   },
   {
    "duration": 141,
    "start_time": "2023-03-07T17:41:31.958Z"
   },
   {
    "duration": 309,
    "start_time": "2023-03-07T17:41:34.285Z"
   },
   {
    "duration": 21,
    "start_time": "2023-03-07T17:41:36.082Z"
   },
   {
    "duration": 6,
    "start_time": "2023-03-07T17:41:38.421Z"
   },
   {
    "duration": 216,
    "start_time": "2023-03-07T17:41:40.488Z"
   },
   {
    "duration": 19,
    "start_time": "2023-03-07T17:41:43.021Z"
   },
   {
    "duration": 1218,
    "start_time": "2023-03-07T17:41:45.239Z"
   },
   {
    "duration": 7,
    "start_time": "2023-03-07T17:41:47.463Z"
   },
   {
    "duration": 7,
    "start_time": "2023-03-07T17:41:48.896Z"
   },
   {
    "duration": 284,
    "start_time": "2023-03-07T17:41:55.358Z"
   },
   {
    "duration": 168,
    "start_time": "2023-03-07T17:42:01.261Z"
   },
   {
    "duration": 1226,
    "start_time": "2023-03-07T17:42:02.736Z"
   },
   {
    "duration": 22,
    "start_time": "2023-03-07T17:42:05.773Z"
   },
   {
    "duration": 86,
    "start_time": "2023-03-07T17:42:07.672Z"
   },
   {
    "duration": 15,
    "start_time": "2023-03-07T17:42:12.590Z"
   },
   {
    "duration": 121,
    "start_time": "2023-03-07T17:42:14.996Z"
   },
   {
    "duration": 9,
    "start_time": "2023-03-07T17:42:18.551Z"
   },
   {
    "duration": 5,
    "start_time": "2023-03-07T17:42:24.435Z"
   },
   {
    "duration": 8,
    "start_time": "2023-03-07T17:42:52.379Z"
   },
   {
    "duration": 1575,
    "start_time": "2023-03-07T17:43:21.642Z"
   },
   {
    "duration": 265,
    "start_time": "2023-03-07T17:43:23.219Z"
   },
   {
    "duration": 30,
    "start_time": "2023-03-07T17:43:23.487Z"
   },
   {
    "duration": 22,
    "start_time": "2023-03-07T17:43:23.519Z"
   },
   {
    "duration": 52,
    "start_time": "2023-03-07T17:43:23.544Z"
   },
   {
    "duration": 19,
    "start_time": "2023-03-07T17:43:23.599Z"
   },
   {
    "duration": 70,
    "start_time": "2023-03-07T17:43:23.621Z"
   },
   {
    "duration": 150,
    "start_time": "2023-03-07T17:43:23.693Z"
   },
   {
    "duration": 292,
    "start_time": "2023-03-07T17:43:23.844Z"
   },
   {
    "duration": 17,
    "start_time": "2023-03-07T17:43:24.138Z"
   },
   {
    "duration": 27,
    "start_time": "2023-03-07T17:43:24.157Z"
   },
   {
    "duration": 253,
    "start_time": "2023-03-07T17:43:24.186Z"
   },
   {
    "duration": 13,
    "start_time": "2023-03-07T17:43:24.441Z"
   },
   {
    "duration": 1195,
    "start_time": "2023-03-07T17:43:24.457Z"
   },
   {
    "duration": 7,
    "start_time": "2023-03-07T17:43:25.654Z"
   },
   {
    "duration": 17,
    "start_time": "2023-03-07T17:43:25.662Z"
   },
   {
    "duration": 291,
    "start_time": "2023-03-07T17:43:25.681Z"
   },
   {
    "duration": 19,
    "start_time": "2023-03-07T17:43:25.976Z"
   },
   {
    "duration": 1274,
    "start_time": "2023-03-07T17:43:25.997Z"
   },
   {
    "duration": 18,
    "start_time": "2023-03-07T17:43:27.276Z"
   },
   {
    "duration": 111,
    "start_time": "2023-03-07T17:43:27.296Z"
   },
   {
    "duration": 11,
    "start_time": "2023-03-07T17:43:27.408Z"
   },
   {
    "duration": 128,
    "start_time": "2023-03-07T17:43:27.421Z"
   },
   {
    "duration": 50,
    "start_time": "2023-03-07T17:43:27.551Z"
   },
   {
    "duration": 54,
    "start_time": "2023-03-07T17:43:27.603Z"
   },
   {
    "duration": 20,
    "start_time": "2023-03-07T17:43:27.659Z"
   },
   {
    "duration": 16,
    "start_time": "2023-03-07T17:43:27.681Z"
   },
   {
    "duration": 7,
    "start_time": "2023-03-07T17:43:27.699Z"
   },
   {
    "duration": 119,
    "start_time": "2023-03-07T17:43:27.708Z"
   },
   {
    "duration": 1170,
    "start_time": "2023-03-07T17:43:27.829Z"
   },
   {
    "duration": 10,
    "start_time": "2023-03-07T17:43:29.002Z"
   },
   {
    "duration": 295,
    "start_time": "2023-03-07T17:43:29.014Z"
   },
   {
    "duration": 370,
    "start_time": "2023-03-07T17:43:29.311Z"
   },
   {
    "duration": 301,
    "start_time": "2023-03-07T17:43:29.683Z"
   },
   {
    "duration": 13,
    "start_time": "2023-03-07T17:43:29.986Z"
   },
   {
    "duration": 26,
    "start_time": "2023-03-07T17:43:30.001Z"
   },
   {
    "duration": 129,
    "start_time": "2023-03-07T17:43:30.029Z"
   },
   {
    "duration": 33,
    "start_time": "2023-03-07T17:43:30.160Z"
   },
   {
    "duration": 31,
    "start_time": "2023-03-07T17:43:30.194Z"
   },
   {
    "duration": 81,
    "start_time": "2023-03-07T17:43:30.227Z"
   },
   {
    "duration": 164,
    "start_time": "2023-03-07T17:43:30.313Z"
   },
   {
    "duration": 3,
    "start_time": "2023-03-07T17:43:30.479Z"
   },
   {
    "duration": 64,
    "start_time": "2023-03-07T17:43:30.483Z"
   },
   {
    "duration": 55258,
    "start_time": "2023-03-07T17:43:30.550Z"
   },
   {
    "duration": 0,
    "start_time": "2023-03-07T17:44:25.810Z"
   },
   {
    "duration": 0,
    "start_time": "2023-03-07T17:44:25.811Z"
   },
   {
    "duration": 1447,
    "start_time": "2023-03-07T17:44:54.390Z"
   },
   {
    "duration": 256,
    "start_time": "2023-03-07T17:44:55.840Z"
   },
   {
    "duration": 30,
    "start_time": "2023-03-07T17:44:56.098Z"
   },
   {
    "duration": 19,
    "start_time": "2023-03-07T17:44:56.130Z"
   },
   {
    "duration": 43,
    "start_time": "2023-03-07T17:44:56.151Z"
   },
   {
    "duration": 19,
    "start_time": "2023-03-07T17:44:56.196Z"
   },
   {
    "duration": 78,
    "start_time": "2023-03-07T17:44:56.216Z"
   },
   {
    "duration": 144,
    "start_time": "2023-03-07T17:44:56.296Z"
   },
   {
    "duration": 281,
    "start_time": "2023-03-07T17:44:56.441Z"
   },
   {
    "duration": 21,
    "start_time": "2023-03-07T17:44:56.725Z"
   },
   {
    "duration": 5,
    "start_time": "2023-03-07T17:44:56.748Z"
   },
   {
    "duration": 230,
    "start_time": "2023-03-07T17:44:56.778Z"
   },
   {
    "duration": 15,
    "start_time": "2023-03-07T17:44:57.010Z"
   },
   {
    "duration": 1207,
    "start_time": "2023-03-07T17:44:57.027Z"
   },
   {
    "duration": 8,
    "start_time": "2023-03-07T17:44:58.237Z"
   },
   {
    "duration": 22,
    "start_time": "2023-03-07T17:44:58.248Z"
   },
   {
    "duration": 281,
    "start_time": "2023-03-07T17:44:58.272Z"
   },
   {
    "duration": 34,
    "start_time": "2023-03-07T17:44:58.555Z"
   },
   {
    "duration": 1303,
    "start_time": "2023-03-07T17:44:58.592Z"
   },
   {
    "duration": 17,
    "start_time": "2023-03-07T17:44:59.897Z"
   },
   {
    "duration": 115,
    "start_time": "2023-03-07T17:44:59.916Z"
   },
   {
    "duration": 11,
    "start_time": "2023-03-07T17:45:00.033Z"
   },
   {
    "duration": 88,
    "start_time": "2023-03-07T17:45:00.047Z"
   },
   {
    "duration": 48,
    "start_time": "2023-03-07T17:45:00.137Z"
   },
   {
    "duration": 69,
    "start_time": "2023-03-07T17:45:00.188Z"
   },
   {
    "duration": 4,
    "start_time": "2023-03-07T17:45:00.259Z"
   },
   {
    "duration": 44,
    "start_time": "2023-03-07T17:45:00.265Z"
   },
   {
    "duration": 17,
    "start_time": "2023-03-07T17:45:00.315Z"
   },
   {
    "duration": 157,
    "start_time": "2023-03-07T17:45:00.334Z"
   },
   {
    "duration": 1322,
    "start_time": "2023-03-07T17:45:00.493Z"
   },
   {
    "duration": 10,
    "start_time": "2023-03-07T17:45:01.817Z"
   },
   {
    "duration": 326,
    "start_time": "2023-03-07T17:45:01.829Z"
   },
   {
    "duration": 362,
    "start_time": "2023-03-07T17:45:02.158Z"
   },
   {
    "duration": 385,
    "start_time": "2023-03-07T17:45:02.522Z"
   },
   {
    "duration": 15,
    "start_time": "2023-03-07T17:45:02.909Z"
   },
   {
    "duration": 27,
    "start_time": "2023-03-07T17:45:02.926Z"
   },
   {
    "duration": 127,
    "start_time": "2023-03-07T17:45:02.955Z"
   },
   {
    "duration": 28,
    "start_time": "2023-03-07T17:45:03.084Z"
   },
   {
    "duration": 52,
    "start_time": "2023-03-07T17:45:03.115Z"
   },
   {
    "duration": 79,
    "start_time": "2023-03-07T17:45:03.169Z"
   },
   {
    "duration": 160,
    "start_time": "2023-03-07T17:45:03.249Z"
   },
   {
    "duration": 2,
    "start_time": "2023-03-07T17:45:03.411Z"
   },
   {
    "duration": 28,
    "start_time": "2023-03-07T17:45:03.415Z"
   },
   {
    "duration": 55303,
    "start_time": "2023-03-07T17:45:03.445Z"
   },
   {
    "duration": 0,
    "start_time": "2023-03-07T17:45:58.750Z"
   },
   {
    "duration": 1319,
    "start_time": "2023-03-07T17:51:52.190Z"
   },
   {
    "duration": 13,
    "start_time": "2023-03-07T17:51:58.053Z"
   },
   {
    "duration": 272,
    "start_time": "2023-03-07T17:51:58.277Z"
   },
   {
    "duration": 476,
    "start_time": "2023-03-07T17:52:04.570Z"
   },
   {
    "duration": 294,
    "start_time": "2023-03-07T17:52:07.694Z"
   },
   {
    "duration": 1835,
    "start_time": "2023-03-07T17:59:26.833Z"
   },
   {
    "duration": 385,
    "start_time": "2023-03-07T17:59:28.671Z"
   },
   {
    "duration": 50,
    "start_time": "2023-03-07T17:59:29.068Z"
   },
   {
    "duration": 34,
    "start_time": "2023-03-07T17:59:29.122Z"
   },
   {
    "duration": 50,
    "start_time": "2023-03-07T17:59:29.159Z"
   },
   {
    "duration": 29,
    "start_time": "2023-03-07T17:59:29.213Z"
   },
   {
    "duration": 89,
    "start_time": "2023-03-07T17:59:29.245Z"
   },
   {
    "duration": 207,
    "start_time": "2023-03-07T17:59:29.336Z"
   },
   {
    "duration": 417,
    "start_time": "2023-03-07T17:59:29.545Z"
   },
   {
    "duration": 31,
    "start_time": "2023-03-07T17:59:29.965Z"
   },
   {
    "duration": 22,
    "start_time": "2023-03-07T17:59:29.998Z"
   },
   {
    "duration": 336,
    "start_time": "2023-03-07T17:59:30.022Z"
   },
   {
    "duration": 25,
    "start_time": "2023-03-07T17:59:30.362Z"
   },
   {
    "duration": 1755,
    "start_time": "2023-03-07T17:59:30.390Z"
   },
   {
    "duration": 9,
    "start_time": "2023-03-07T17:59:32.148Z"
   },
   {
    "duration": 38,
    "start_time": "2023-03-07T17:59:32.159Z"
   },
   {
    "duration": 425,
    "start_time": "2023-03-07T17:59:32.199Z"
   },
   {
    "duration": 23,
    "start_time": "2023-03-07T17:59:32.627Z"
   },
   {
    "duration": 1331,
    "start_time": "2023-03-07T17:59:32.652Z"
   },
   {
    "duration": 21,
    "start_time": "2023-03-07T17:59:33.985Z"
   },
   {
    "duration": 139,
    "start_time": "2023-03-07T17:59:34.008Z"
   },
   {
    "duration": 14,
    "start_time": "2023-03-07T17:59:34.149Z"
   },
   {
    "duration": 135,
    "start_time": "2023-03-07T17:59:34.177Z"
   },
   {
    "duration": 44,
    "start_time": "2023-03-07T17:59:34.315Z"
   },
   {
    "duration": 67,
    "start_time": "2023-03-07T17:59:34.376Z"
   },
   {
    "duration": 5,
    "start_time": "2023-03-07T17:59:34.446Z"
   },
   {
    "duration": 24,
    "start_time": "2023-03-07T17:59:34.453Z"
   },
   {
    "duration": 8,
    "start_time": "2023-03-07T17:59:34.479Z"
   },
   {
    "duration": 199,
    "start_time": "2023-03-07T17:59:34.489Z"
   },
   {
    "duration": 1926,
    "start_time": "2023-03-07T17:59:34.691Z"
   },
   {
    "duration": 14,
    "start_time": "2023-03-07T17:59:36.620Z"
   },
   {
    "duration": 382,
    "start_time": "2023-03-07T17:59:36.637Z"
   },
   {
    "duration": 514,
    "start_time": "2023-03-07T17:59:37.021Z"
   },
   {
    "duration": 427,
    "start_time": "2023-03-07T17:59:37.537Z"
   },
   {
    "duration": 35,
    "start_time": "2023-03-07T17:59:37.966Z"
   },
   {
    "duration": 22,
    "start_time": "2023-03-07T17:59:38.004Z"
   },
   {
    "duration": 98,
    "start_time": "2023-03-07T17:59:38.029Z"
   },
   {
    "duration": 27,
    "start_time": "2023-03-07T17:59:38.130Z"
   },
   {
    "duration": 44,
    "start_time": "2023-03-07T17:59:38.160Z"
   },
   {
    "duration": 80,
    "start_time": "2023-03-07T17:59:38.209Z"
   },
   {
    "duration": 161,
    "start_time": "2023-03-07T17:59:38.291Z"
   },
   {
    "duration": 4,
    "start_time": "2023-03-07T17:59:38.454Z"
   },
   {
    "duration": 32,
    "start_time": "2023-03-07T17:59:38.460Z"
   },
   {
    "duration": 61459,
    "start_time": "2023-03-07T17:59:38.494Z"
   },
   {
    "duration": 0,
    "start_time": "2023-03-07T18:00:39.955Z"
   },
   {
    "duration": 10,
    "start_time": "2023-03-07T18:07:27.344Z"
   },
   {
    "duration": 238,
    "start_time": "2023-03-07T18:07:28.039Z"
   },
   {
    "duration": 14,
    "start_time": "2023-03-07T18:07:34.521Z"
   },
   {
    "duration": 246,
    "start_time": "2023-03-07T18:07:34.848Z"
   },
   {
    "duration": 14,
    "start_time": "2023-03-07T18:08:03.281Z"
   },
   {
    "duration": 356,
    "start_time": "2023-03-07T18:08:03.730Z"
   },
   {
    "duration": 152,
    "start_time": "2023-03-07T18:08:19.795Z"
   },
   {
    "duration": 336,
    "start_time": "2023-03-07T18:08:21.193Z"
   },
   {
    "duration": 464,
    "start_time": "2023-03-07T18:08:35.419Z"
   },
   {
    "duration": 15,
    "start_time": "2023-03-07T18:09:12.315Z"
   },
   {
    "duration": 340,
    "start_time": "2023-03-07T18:09:13.039Z"
   },
   {
    "duration": 490,
    "start_time": "2023-03-07T18:09:16.097Z"
   },
   {
    "duration": 16,
    "start_time": "2023-03-07T18:13:09.292Z"
   },
   {
    "duration": 74,
    "start_time": "2023-03-07T18:13:54.557Z"
   },
   {
    "duration": 6,
    "start_time": "2023-03-07T18:28:54.918Z"
   },
   {
    "duration": 108,
    "start_time": "2023-03-07T18:43:33.559Z"
   },
   {
    "duration": 16,
    "start_time": "2023-03-07T18:44:57.309Z"
   },
   {
    "duration": 1807,
    "start_time": "2023-03-08T04:40:07.262Z"
   },
   {
    "duration": 998,
    "start_time": "2023-03-08T04:40:09.072Z"
   },
   {
    "duration": 32,
    "start_time": "2023-03-08T04:40:10.072Z"
   },
   {
    "duration": 21,
    "start_time": "2023-03-08T04:40:10.107Z"
   },
   {
    "duration": 40,
    "start_time": "2023-03-08T04:40:10.130Z"
   },
   {
    "duration": 18,
    "start_time": "2023-03-08T04:40:10.172Z"
   },
   {
    "duration": 80,
    "start_time": "2023-03-08T04:40:10.193Z"
   },
   {
    "duration": 169,
    "start_time": "2023-03-08T04:40:10.275Z"
   },
   {
    "duration": 286,
    "start_time": "2023-03-08T04:40:10.446Z"
   },
   {
    "duration": 36,
    "start_time": "2023-03-08T04:40:10.734Z"
   },
   {
    "duration": 4,
    "start_time": "2023-03-08T04:40:10.772Z"
   },
   {
    "duration": 227,
    "start_time": "2023-03-08T04:40:10.778Z"
   },
   {
    "duration": 23,
    "start_time": "2023-03-08T04:40:11.006Z"
   },
   {
    "duration": 1181,
    "start_time": "2023-03-08T04:40:11.031Z"
   },
   {
    "duration": 7,
    "start_time": "2023-03-08T04:40:12.215Z"
   },
   {
    "duration": 24,
    "start_time": "2023-03-08T04:40:12.223Z"
   },
   {
    "duration": 316,
    "start_time": "2023-03-08T04:40:12.249Z"
   },
   {
    "duration": 15,
    "start_time": "2023-03-08T04:40:12.566Z"
   },
   {
    "duration": 1138,
    "start_time": "2023-03-08T04:40:12.583Z"
   },
   {
    "duration": 25,
    "start_time": "2023-03-08T04:40:13.723Z"
   },
   {
    "duration": 108,
    "start_time": "2023-03-08T04:40:13.749Z"
   },
   {
    "duration": 11,
    "start_time": "2023-03-08T04:40:13.859Z"
   },
   {
    "duration": 89,
    "start_time": "2023-03-08T04:40:13.872Z"
   },
   {
    "duration": 37,
    "start_time": "2023-03-08T04:40:13.962Z"
   },
   {
    "duration": 66,
    "start_time": "2023-03-08T04:40:14.001Z"
   },
   {
    "duration": 4,
    "start_time": "2023-03-08T04:40:14.069Z"
   },
   {
    "duration": 5,
    "start_time": "2023-03-08T04:40:14.075Z"
   },
   {
    "duration": 7,
    "start_time": "2023-03-08T04:40:14.085Z"
   },
   {
    "duration": 142,
    "start_time": "2023-03-08T04:40:14.094Z"
   },
   {
    "duration": 1155,
    "start_time": "2023-03-08T04:40:14.238Z"
   },
   {
    "duration": 8,
    "start_time": "2023-03-08T04:40:15.395Z"
   },
   {
    "duration": 253,
    "start_time": "2023-03-08T04:40:15.405Z"
   },
   {
    "duration": 331,
    "start_time": "2023-03-08T04:40:15.660Z"
   },
   {
    "duration": 304,
    "start_time": "2023-03-08T04:40:15.992Z"
   },
   {
    "duration": 16,
    "start_time": "2023-03-08T04:40:16.298Z"
   },
   {
    "duration": 8,
    "start_time": "2023-03-08T04:40:16.537Z"
   },
   {
    "duration": 7,
    "start_time": "2023-03-08T04:40:24.060Z"
   },
   {
    "duration": 123,
    "start_time": "2023-03-08T04:42:26.853Z"
   },
   {
    "duration": 1497,
    "start_time": "2023-03-08T04:42:31.024Z"
   },
   {
    "duration": 238,
    "start_time": "2023-03-08T04:42:32.523Z"
   },
   {
    "duration": 26,
    "start_time": "2023-03-08T04:42:32.763Z"
   },
   {
    "duration": 17,
    "start_time": "2023-03-08T04:42:32.790Z"
   },
   {
    "duration": 34,
    "start_time": "2023-03-08T04:42:32.808Z"
   },
   {
    "duration": 25,
    "start_time": "2023-03-08T04:42:32.844Z"
   },
   {
    "duration": 45,
    "start_time": "2023-03-08T04:42:32.871Z"
   },
   {
    "duration": 196,
    "start_time": "2023-03-08T04:42:32.917Z"
   },
   {
    "duration": 278,
    "start_time": "2023-03-08T04:42:33.115Z"
   },
   {
    "duration": 14,
    "start_time": "2023-03-08T04:42:33.396Z"
   },
   {
    "duration": 3,
    "start_time": "2023-03-08T04:42:33.412Z"
   },
   {
    "duration": 272,
    "start_time": "2023-03-08T04:42:33.417Z"
   },
   {
    "duration": 20,
    "start_time": "2023-03-08T04:42:33.741Z"
   },
   {
    "duration": 1130,
    "start_time": "2023-03-08T04:42:33.763Z"
   },
   {
    "duration": 7,
    "start_time": "2023-03-08T04:42:34.895Z"
   },
   {
    "duration": 25,
    "start_time": "2023-03-08T04:42:34.903Z"
   },
   {
    "duration": 270,
    "start_time": "2023-03-08T04:42:34.930Z"
   },
   {
    "duration": 18,
    "start_time": "2023-03-08T04:42:35.201Z"
   },
   {
    "duration": 1174,
    "start_time": "2023-03-08T04:42:35.221Z"
   },
   {
    "duration": 18,
    "start_time": "2023-03-08T04:42:36.397Z"
   },
   {
    "duration": 114,
    "start_time": "2023-03-08T04:42:36.417Z"
   },
   {
    "duration": 20,
    "start_time": "2023-03-08T04:42:36.533Z"
   },
   {
    "duration": 66,
    "start_time": "2023-03-08T04:42:36.555Z"
   },
   {
    "duration": 60,
    "start_time": "2023-03-08T04:42:36.623Z"
   },
   {
    "duration": 73,
    "start_time": "2023-03-08T04:42:36.685Z"
   },
   {
    "duration": 4,
    "start_time": "2023-03-08T04:42:36.760Z"
   },
   {
    "duration": 6,
    "start_time": "2023-03-08T04:42:36.766Z"
   },
   {
    "duration": 6,
    "start_time": "2023-03-08T04:42:36.774Z"
   },
   {
    "duration": 125,
    "start_time": "2023-03-08T04:42:36.781Z"
   },
   {
    "duration": 1204,
    "start_time": "2023-03-08T04:42:36.908Z"
   },
   {
    "duration": 9,
    "start_time": "2023-03-08T04:42:38.114Z"
   },
   {
    "duration": 239,
    "start_time": "2023-03-08T04:42:38.125Z"
   },
   {
    "duration": 309,
    "start_time": "2023-03-08T04:42:38.366Z"
   },
   {
    "duration": 265,
    "start_time": "2023-03-08T04:42:38.676Z"
   },
   {
    "duration": 17,
    "start_time": "2023-03-08T04:42:38.944Z"
   },
   {
    "duration": 6,
    "start_time": "2023-03-08T04:58:10.863Z"
   },
   {
    "duration": 31,
    "start_time": "2023-03-08T04:58:13.524Z"
   },
   {
    "duration": 28,
    "start_time": "2023-03-08T04:58:24.025Z"
   },
   {
    "duration": 6,
    "start_time": "2023-03-08T05:00:10.776Z"
   },
   {
    "duration": 1444,
    "start_time": "2023-03-08T05:00:15.365Z"
   },
   {
    "duration": 259,
    "start_time": "2023-03-08T05:00:16.811Z"
   },
   {
    "duration": 27,
    "start_time": "2023-03-08T05:00:17.072Z"
   },
   {
    "duration": 20,
    "start_time": "2023-03-08T05:00:17.101Z"
   },
   {
    "duration": 40,
    "start_time": "2023-03-08T05:00:17.123Z"
   },
   {
    "duration": 17,
    "start_time": "2023-03-08T05:00:17.165Z"
   },
   {
    "duration": 77,
    "start_time": "2023-03-08T05:00:17.184Z"
   },
   {
    "duration": 194,
    "start_time": "2023-03-08T05:00:17.263Z"
   },
   {
    "duration": 269,
    "start_time": "2023-03-08T05:00:17.458Z"
   },
   {
    "duration": 21,
    "start_time": "2023-03-08T05:00:17.730Z"
   },
   {
    "duration": 4,
    "start_time": "2023-03-08T05:00:17.753Z"
   },
   {
    "duration": 214,
    "start_time": "2023-03-08T05:00:17.759Z"
   },
   {
    "duration": 14,
    "start_time": "2023-03-08T05:00:17.975Z"
   },
   {
    "duration": 1081,
    "start_time": "2023-03-08T05:00:17.991Z"
   },
   {
    "duration": 8,
    "start_time": "2023-03-08T05:00:19.074Z"
   },
   {
    "duration": 6,
    "start_time": "2023-03-08T05:00:19.084Z"
   },
   {
    "duration": 285,
    "start_time": "2023-03-08T05:00:19.101Z"
   },
   {
    "duration": 18,
    "start_time": "2023-03-08T05:00:19.388Z"
   },
   {
    "duration": 1210,
    "start_time": "2023-03-08T05:00:19.408Z"
   },
   {
    "duration": 26,
    "start_time": "2023-03-08T05:00:20.620Z"
   },
   {
    "duration": 98,
    "start_time": "2023-03-08T05:00:20.647Z"
   },
   {
    "duration": 10,
    "start_time": "2023-03-08T05:00:20.746Z"
   },
   {
    "duration": 89,
    "start_time": "2023-03-08T05:00:20.758Z"
   },
   {
    "duration": 39,
    "start_time": "2023-03-08T05:00:20.849Z"
   },
   {
    "duration": 56,
    "start_time": "2023-03-08T05:00:20.890Z"
   },
   {
    "duration": 17,
    "start_time": "2023-03-08T05:00:20.947Z"
   },
   {
    "duration": 9,
    "start_time": "2023-03-08T05:00:20.965Z"
   },
   {
    "duration": 10,
    "start_time": "2023-03-08T05:00:20.978Z"
   },
   {
    "duration": 107,
    "start_time": "2023-03-08T05:00:20.990Z"
   },
   {
    "duration": 1117,
    "start_time": "2023-03-08T05:00:21.099Z"
   },
   {
    "duration": 9,
    "start_time": "2023-03-08T05:00:22.218Z"
   },
   {
    "duration": 240,
    "start_time": "2023-03-08T05:00:22.228Z"
   },
   {
    "duration": 324,
    "start_time": "2023-03-08T05:00:22.470Z"
   },
   {
    "duration": 271,
    "start_time": "2023-03-08T05:00:22.795Z"
   },
   {
    "duration": 14,
    "start_time": "2023-03-08T05:00:23.068Z"
   },
   {
    "duration": 6,
    "start_time": "2023-03-08T05:00:23.084Z"
   },
   {
    "duration": 108,
    "start_time": "2023-03-08T05:00:32.304Z"
   },
   {
    "duration": 28,
    "start_time": "2023-03-08T05:00:45.653Z"
   },
   {
    "duration": 26,
    "start_time": "2023-03-08T05:00:49.697Z"
   },
   {
    "duration": 114,
    "start_time": "2023-03-08T05:04:43.039Z"
   },
   {
    "duration": 5,
    "start_time": "2023-03-08T05:05:02.658Z"
   },
   {
    "duration": 3,
    "start_time": "2023-03-08T05:05:59.227Z"
   },
   {
    "duration": 2,
    "start_time": "2023-03-08T05:23:56.416Z"
   },
   {
    "duration": 14,
    "start_time": "2023-03-08T05:24:54.226Z"
   },
   {
    "duration": 17,
    "start_time": "2023-03-08T05:25:02.948Z"
   },
   {
    "duration": 12,
    "start_time": "2023-03-08T06:10:17.287Z"
   },
   {
    "duration": 12,
    "start_time": "2023-03-08T06:10:22.469Z"
   },
   {
    "duration": 16,
    "start_time": "2023-03-08T06:13:29.268Z"
   },
   {
    "duration": 17,
    "start_time": "2023-03-08T06:13:47.442Z"
   },
   {
    "duration": 1487,
    "start_time": "2023-03-08T06:13:52.061Z"
   },
   {
    "duration": 249,
    "start_time": "2023-03-08T06:13:53.550Z"
   },
   {
    "duration": 50,
    "start_time": "2023-03-08T06:13:53.800Z"
   },
   {
    "duration": 20,
    "start_time": "2023-03-08T06:13:53.852Z"
   },
   {
    "duration": 26,
    "start_time": "2023-03-08T06:13:53.874Z"
   },
   {
    "duration": 42,
    "start_time": "2023-03-08T06:13:53.902Z"
   },
   {
    "duration": 60,
    "start_time": "2023-03-08T06:13:53.947Z"
   },
   {
    "duration": 167,
    "start_time": "2023-03-08T06:13:54.009Z"
   },
   {
    "duration": 284,
    "start_time": "2023-03-08T06:13:54.177Z"
   },
   {
    "duration": 19,
    "start_time": "2023-03-08T06:13:54.463Z"
   },
   {
    "duration": 5,
    "start_time": "2023-03-08T06:13:54.484Z"
   },
   {
    "duration": 304,
    "start_time": "2023-03-08T06:13:54.491Z"
   },
   {
    "duration": 15,
    "start_time": "2023-03-08T06:13:54.797Z"
   },
   {
    "duration": 1151,
    "start_time": "2023-03-08T06:13:54.816Z"
   },
   {
    "duration": 7,
    "start_time": "2023-03-08T06:13:55.969Z"
   },
   {
    "duration": 7,
    "start_time": "2023-03-08T06:13:55.977Z"
   },
   {
    "duration": 301,
    "start_time": "2023-03-08T06:13:55.986Z"
   },
   {
    "duration": 19,
    "start_time": "2023-03-08T06:13:56.289Z"
   },
   {
    "duration": 1318,
    "start_time": "2023-03-08T06:13:56.309Z"
   },
   {
    "duration": 22,
    "start_time": "2023-03-08T06:13:57.629Z"
   },
   {
    "duration": 134,
    "start_time": "2023-03-08T06:13:57.654Z"
   },
   {
    "duration": 16,
    "start_time": "2023-03-08T06:13:57.791Z"
   },
   {
    "duration": 96,
    "start_time": "2023-03-08T06:13:57.809Z"
   },
   {
    "duration": 49,
    "start_time": "2023-03-08T06:13:57.907Z"
   },
   {
    "duration": 51,
    "start_time": "2023-03-08T06:13:57.958Z"
   },
   {
    "duration": 4,
    "start_time": "2023-03-08T06:13:58.011Z"
   },
   {
    "duration": 38,
    "start_time": "2023-03-08T06:13:58.016Z"
   },
   {
    "duration": 10,
    "start_time": "2023-03-08T06:13:58.056Z"
   },
   {
    "duration": 138,
    "start_time": "2023-03-08T06:13:58.068Z"
   },
   {
    "duration": 1131,
    "start_time": "2023-03-08T06:13:58.207Z"
   },
   {
    "duration": 10,
    "start_time": "2023-03-08T06:13:59.342Z"
   },
   {
    "duration": 248,
    "start_time": "2023-03-08T06:13:59.354Z"
   },
   {
    "duration": 352,
    "start_time": "2023-03-08T06:13:59.604Z"
   },
   {
    "duration": 283,
    "start_time": "2023-03-08T06:13:59.958Z"
   },
   {
    "duration": 14,
    "start_time": "2023-03-08T06:14:00.243Z"
   },
   {
    "duration": 17,
    "start_time": "2023-03-08T06:14:00.259Z"
   },
   {
    "duration": 135,
    "start_time": "2023-03-08T06:14:00.278Z"
   },
   {
    "duration": 12,
    "start_time": "2023-03-08T06:14:05.306Z"
   },
   {
    "duration": 318,
    "start_time": "2023-03-08T06:14:56.693Z"
   },
   {
    "duration": 350,
    "start_time": "2023-03-08T06:15:33.648Z"
   },
   {
    "duration": 6,
    "start_time": "2023-03-08T06:16:08.974Z"
   },
   {
    "duration": 25,
    "start_time": "2023-03-08T06:16:17.189Z"
   },
   {
    "duration": 33,
    "start_time": "2023-03-08T06:16:21.814Z"
   },
   {
    "duration": 319,
    "start_time": "2023-03-08T06:21:58.200Z"
   },
   {
    "duration": 306,
    "start_time": "2023-03-08T06:22:14.434Z"
   },
   {
    "duration": 325,
    "start_time": "2023-03-08T06:22:27.380Z"
   },
   {
    "duration": 4,
    "start_time": "2023-03-08T06:22:31.264Z"
   },
   {
    "duration": 45,
    "start_time": "2023-03-08T06:25:30.213Z"
   },
   {
    "duration": 2,
    "start_time": "2023-03-08T06:26:11.537Z"
   },
   {
    "duration": 4,
    "start_time": "2023-03-08T06:26:13.326Z"
   },
   {
    "duration": 9,
    "start_time": "2023-03-08T06:26:24.599Z"
   },
   {
    "duration": 9,
    "start_time": "2023-03-08T06:26:34.517Z"
   },
   {
    "duration": 10,
    "start_time": "2023-03-08T06:26:36.545Z"
   },
   {
    "duration": 28,
    "start_time": "2023-03-08T06:26:54.139Z"
   },
   {
    "duration": 69,
    "start_time": "2023-03-08T06:27:25.218Z"
   },
   {
    "duration": 15,
    "start_time": "2023-03-08T06:27:32.451Z"
   },
   {
    "duration": 26,
    "start_time": "2023-03-08T06:27:37.226Z"
   },
   {
    "duration": 16,
    "start_time": "2023-03-08T06:28:48.858Z"
   },
   {
    "duration": 14,
    "start_time": "2023-03-08T06:28:52.969Z"
   },
   {
    "duration": 19,
    "start_time": "2023-03-08T06:28:57.484Z"
   },
   {
    "duration": 22,
    "start_time": "2023-03-08T06:29:02.858Z"
   },
   {
    "duration": 24,
    "start_time": "2023-03-08T06:30:52.502Z"
   },
   {
    "duration": 437,
    "start_time": "2023-03-08T06:40:22.767Z"
   },
   {
    "duration": 8,
    "start_time": "2023-03-08T06:40:28.142Z"
   },
   {
    "duration": 5,
    "start_time": "2023-03-08T06:40:30.367Z"
   },
   {
    "duration": 5,
    "start_time": "2023-03-08T06:40:34.727Z"
   },
   {
    "duration": 5,
    "start_time": "2023-03-08T06:40:37.273Z"
   },
   {
    "duration": 112,
    "start_time": "2023-03-08T06:40:48.659Z"
   },
   {
    "duration": 12,
    "start_time": "2023-03-08T06:40:51.278Z"
   },
   {
    "duration": 3,
    "start_time": "2023-03-08T06:41:11.455Z"
   },
   {
    "duration": 66,
    "start_time": "2023-03-08T06:41:11.900Z"
   },
   {
    "duration": 100,
    "start_time": "2023-03-08T06:41:22.894Z"
   },
   {
    "duration": 4,
    "start_time": "2023-03-08T06:42:10.781Z"
   },
   {
    "duration": 94,
    "start_time": "2023-03-08T06:42:11.190Z"
   },
   {
    "duration": 66,
    "start_time": "2023-03-08T06:42:27.865Z"
   },
   {
    "duration": 68,
    "start_time": "2023-03-08T06:42:29.258Z"
   },
   {
    "duration": 72,
    "start_time": "2023-03-08T06:42:30.484Z"
   },
   {
    "duration": 104,
    "start_time": "2023-03-08T06:42:32.030Z"
   },
   {
    "duration": 86,
    "start_time": "2023-03-08T06:42:33.932Z"
   },
   {
    "duration": 19,
    "start_time": "2023-03-08T06:42:37.677Z"
   },
   {
    "duration": 128,
    "start_time": "2023-03-08T06:44:02.505Z"
   },
   {
    "duration": 117,
    "start_time": "2023-03-08T06:44:09.205Z"
   },
   {
    "duration": 4,
    "start_time": "2023-03-08T06:44:18.708Z"
   },
   {
    "duration": 157,
    "start_time": "2023-03-08T06:44:20.563Z"
   },
   {
    "duration": 8,
    "start_time": "2023-03-08T06:44:32.361Z"
   },
   {
    "duration": 3,
    "start_time": "2023-03-08T06:45:42.520Z"
   },
   {
    "duration": 170,
    "start_time": "2023-03-08T06:45:42.941Z"
   },
   {
    "duration": 1468,
    "start_time": "2023-03-08T06:47:00.240Z"
   },
   {
    "duration": 271,
    "start_time": "2023-03-08T06:47:01.710Z"
   },
   {
    "duration": 29,
    "start_time": "2023-03-08T06:47:01.984Z"
   },
   {
    "duration": 39,
    "start_time": "2023-03-08T06:47:02.015Z"
   },
   {
    "duration": 25,
    "start_time": "2023-03-08T06:47:02.056Z"
   },
   {
    "duration": 20,
    "start_time": "2023-03-08T06:47:02.084Z"
   },
   {
    "duration": 73,
    "start_time": "2023-03-08T06:47:02.106Z"
   },
   {
    "duration": 171,
    "start_time": "2023-03-08T06:47:02.181Z"
   },
   {
    "duration": 306,
    "start_time": "2023-03-08T06:47:02.354Z"
   },
   {
    "duration": 20,
    "start_time": "2023-03-08T06:47:02.663Z"
   },
   {
    "duration": 8,
    "start_time": "2023-03-08T06:47:02.684Z"
   },
   {
    "duration": 314,
    "start_time": "2023-03-08T06:47:02.694Z"
   },
   {
    "duration": 16,
    "start_time": "2023-03-08T06:47:03.011Z"
   },
   {
    "duration": 1160,
    "start_time": "2023-03-08T06:47:03.029Z"
   },
   {
    "duration": 7,
    "start_time": "2023-03-08T06:47:04.191Z"
   },
   {
    "duration": 8,
    "start_time": "2023-03-08T06:47:04.200Z"
   },
   {
    "duration": 316,
    "start_time": "2023-03-08T06:47:04.210Z"
   },
   {
    "duration": 36,
    "start_time": "2023-03-08T06:47:04.528Z"
   },
   {
    "duration": 1261,
    "start_time": "2023-03-08T06:47:04.565Z"
   },
   {
    "duration": 30,
    "start_time": "2023-03-08T06:47:05.828Z"
   },
   {
    "duration": 121,
    "start_time": "2023-03-08T06:47:05.860Z"
   },
   {
    "duration": 12,
    "start_time": "2023-03-08T06:47:05.983Z"
   },
   {
    "duration": 101,
    "start_time": "2023-03-08T06:47:05.998Z"
   },
   {
    "duration": 70,
    "start_time": "2023-03-08T06:47:06.101Z"
   },
   {
    "duration": 48,
    "start_time": "2023-03-08T06:47:06.173Z"
   },
   {
    "duration": 27,
    "start_time": "2023-03-08T06:47:06.223Z"
   },
   {
    "duration": 8,
    "start_time": "2023-03-08T06:47:06.254Z"
   },
   {
    "duration": 6,
    "start_time": "2023-03-08T06:47:06.265Z"
   },
   {
    "duration": 112,
    "start_time": "2023-03-08T06:47:06.273Z"
   },
   {
    "duration": 1502,
    "start_time": "2023-03-08T06:47:06.387Z"
   },
   {
    "duration": 9,
    "start_time": "2023-03-08T06:47:07.891Z"
   },
   {
    "duration": 245,
    "start_time": "2023-03-08T06:47:07.901Z"
   },
   {
    "duration": 361,
    "start_time": "2023-03-08T06:47:08.148Z"
   },
   {
    "duration": 290,
    "start_time": "2023-03-08T06:47:08.510Z"
   },
   {
    "duration": 14,
    "start_time": "2023-03-08T06:47:08.801Z"
   },
   {
    "duration": 4,
    "start_time": "2023-03-08T06:47:08.817Z"
   },
   {
    "duration": 132,
    "start_time": "2023-03-08T06:47:08.848Z"
   },
   {
    "duration": 12,
    "start_time": "2023-03-08T06:47:08.982Z"
   },
   {
    "duration": 14,
    "start_time": "2023-03-08T06:47:08.997Z"
   },
   {
    "duration": 4,
    "start_time": "2023-03-08T06:47:36.433Z"
   },
   {
    "duration": 114,
    "start_time": "2023-03-08T06:47:38.010Z"
   },
   {
    "duration": 3,
    "start_time": "2023-03-08T06:48:35.004Z"
   },
   {
    "duration": 105,
    "start_time": "2023-03-08T06:48:35.526Z"
   },
   {
    "duration": 3,
    "start_time": "2023-03-08T06:48:40.081Z"
   },
   {
    "duration": 98,
    "start_time": "2023-03-08T06:48:40.265Z"
   },
   {
    "duration": 79,
    "start_time": "2023-03-08T06:48:44.919Z"
   },
   {
    "duration": 19,
    "start_time": "2023-03-08T06:48:45.121Z"
   },
   {
    "duration": 84,
    "start_time": "2023-03-08T06:48:51.182Z"
   },
   {
    "duration": 100,
    "start_time": "2023-03-08T06:50:19.803Z"
   },
   {
    "duration": 4,
    "start_time": "2023-03-08T06:50:35.906Z"
   },
   {
    "duration": 4,
    "start_time": "2023-03-08T06:50:39.745Z"
   },
   {
    "duration": 71,
    "start_time": "2023-03-08T06:50:40.015Z"
   },
   {
    "duration": 4,
    "start_time": "2023-03-08T06:51:04.412Z"
   },
   {
    "duration": 161,
    "start_time": "2023-03-08T06:51:04.867Z"
   },
   {
    "duration": 4,
    "start_time": "2023-03-08T06:51:12.912Z"
   },
   {
    "duration": 85,
    "start_time": "2023-03-08T06:51:13.177Z"
   },
   {
    "duration": 5,
    "start_time": "2023-03-08T06:57:49.246Z"
   },
   {
    "duration": 104,
    "start_time": "2023-03-08T06:57:49.521Z"
   },
   {
    "duration": 99,
    "start_time": "2023-03-08T06:58:35.018Z"
   },
   {
    "duration": 70,
    "start_time": "2023-03-08T06:58:39.258Z"
   },
   {
    "duration": 70,
    "start_time": "2023-03-08T06:58:41.465Z"
   },
   {
    "duration": 79,
    "start_time": "2023-03-08T06:58:52.383Z"
   },
   {
    "duration": 82,
    "start_time": "2023-03-08T06:59:10.035Z"
   },
   {
    "duration": 82,
    "start_time": "2023-03-08T06:59:36.162Z"
   },
   {
    "duration": 83,
    "start_time": "2023-03-08T06:59:44.379Z"
   },
   {
    "duration": 80,
    "start_time": "2023-03-08T06:59:49.925Z"
   },
   {
    "duration": 88,
    "start_time": "2023-03-08T06:59:57.914Z"
   },
   {
    "duration": 113,
    "start_time": "2023-03-08T07:00:11.822Z"
   },
   {
    "duration": 70,
    "start_time": "2023-03-08T07:01:18.771Z"
   },
   {
    "duration": 32,
    "start_time": "2023-03-08T07:01:36.529Z"
   },
   {
    "duration": 5,
    "start_time": "2023-03-08T07:24:17.867Z"
   },
   {
    "duration": 72,
    "start_time": "2023-03-08T07:24:24.682Z"
   },
   {
    "duration": 4,
    "start_time": "2023-03-08T07:41:12.321Z"
   },
   {
    "duration": 71,
    "start_time": "2023-03-08T07:41:12.456Z"
   },
   {
    "duration": 4,
    "start_time": "2023-03-08T07:41:18.677Z"
   },
   {
    "duration": 74,
    "start_time": "2023-03-08T07:41:19.325Z"
   },
   {
    "duration": 5,
    "start_time": "2023-03-08T07:41:27.632Z"
   },
   {
    "duration": 71,
    "start_time": "2023-03-08T07:41:29.136Z"
   },
   {
    "duration": 6,
    "start_time": "2023-03-08T07:48:53.744Z"
   },
   {
    "duration": 83,
    "start_time": "2023-03-08T07:48:54.049Z"
   },
   {
    "duration": 6,
    "start_time": "2023-03-08T07:49:06.831Z"
   },
   {
    "duration": 117,
    "start_time": "2023-03-08T07:49:07.374Z"
   },
   {
    "duration": 5,
    "start_time": "2023-03-08T07:50:38.614Z"
   },
   {
    "duration": 75,
    "start_time": "2023-03-08T07:50:40.007Z"
   },
   {
    "duration": 1774,
    "start_time": "2023-03-09T16:17:27.730Z"
   },
   {
    "duration": 958,
    "start_time": "2023-03-09T16:17:29.507Z"
   },
   {
    "duration": 39,
    "start_time": "2023-03-09T16:17:30.467Z"
   },
   {
    "duration": 26,
    "start_time": "2023-03-09T16:17:30.508Z"
   },
   {
    "duration": 44,
    "start_time": "2023-03-09T16:17:30.537Z"
   },
   {
    "duration": 47,
    "start_time": "2023-03-09T16:17:30.584Z"
   },
   {
    "duration": 75,
    "start_time": "2023-03-09T16:17:30.636Z"
   },
   {
    "duration": 156,
    "start_time": "2023-03-09T16:17:30.715Z"
   },
   {
    "duration": 348,
    "start_time": "2023-03-09T16:17:30.873Z"
   },
   {
    "duration": 23,
    "start_time": "2023-03-09T16:17:31.223Z"
   },
   {
    "duration": 11,
    "start_time": "2023-03-09T16:17:31.247Z"
   },
   {
    "duration": 310,
    "start_time": "2023-03-09T16:17:31.259Z"
   },
   {
    "duration": 13,
    "start_time": "2023-03-09T16:17:31.571Z"
   },
   {
    "duration": 1270,
    "start_time": "2023-03-09T16:17:31.587Z"
   },
   {
    "duration": 6,
    "start_time": "2023-03-09T16:17:32.859Z"
   },
   {
    "duration": 8,
    "start_time": "2023-03-09T16:17:32.867Z"
   },
   {
    "duration": 317,
    "start_time": "2023-03-09T16:17:32.877Z"
   },
   {
    "duration": 36,
    "start_time": "2023-03-09T16:17:33.196Z"
   },
   {
    "duration": 1480,
    "start_time": "2023-03-09T16:17:33.235Z"
   },
   {
    "duration": 31,
    "start_time": "2023-03-09T16:17:34.718Z"
   },
   {
    "duration": 150,
    "start_time": "2023-03-09T16:17:34.753Z"
   },
   {
    "duration": 25,
    "start_time": "2023-03-09T16:17:34.905Z"
   },
   {
    "duration": 69,
    "start_time": "2023-03-09T16:17:34.938Z"
   },
   {
    "duration": 66,
    "start_time": "2023-03-09T16:17:35.009Z"
   },
   {
    "duration": 79,
    "start_time": "2023-03-09T16:17:35.077Z"
   },
   {
    "duration": 5,
    "start_time": "2023-03-09T16:17:35.158Z"
   },
   {
    "duration": 4,
    "start_time": "2023-03-09T16:17:35.165Z"
   },
   {
    "duration": 6,
    "start_time": "2023-03-09T16:17:35.171Z"
   },
   {
    "duration": 167,
    "start_time": "2023-03-09T16:17:35.179Z"
   },
   {
    "duration": 1433,
    "start_time": "2023-03-09T16:17:35.348Z"
   },
   {
    "duration": 10,
    "start_time": "2023-03-09T16:17:36.784Z"
   },
   {
    "duration": 259,
    "start_time": "2023-03-09T16:17:36.796Z"
   },
   {
    "duration": 355,
    "start_time": "2023-03-09T16:17:37.058Z"
   },
   {
    "duration": 281,
    "start_time": "2023-03-09T16:17:37.417Z"
   },
   {
    "duration": 21,
    "start_time": "2023-03-09T16:17:37.714Z"
   },
   {
    "duration": 7,
    "start_time": "2023-03-09T16:17:37.744Z"
   },
   {
    "duration": 203,
    "start_time": "2023-03-09T16:17:37.753Z"
   },
   {
    "duration": 0,
    "start_time": "2023-03-09T16:17:37.958Z"
   },
   {
    "duration": 0,
    "start_time": "2023-03-09T16:17:37.961Z"
   },
   {
    "duration": 9,
    "start_time": "2023-03-09T16:18:00.902Z"
   },
   {
    "duration": 78,
    "start_time": "2023-03-09T16:21:27.247Z"
   },
   {
    "duration": 13,
    "start_time": "2023-03-09T16:21:32.601Z"
   },
   {
    "duration": 28,
    "start_time": "2023-03-09T16:21:35.104Z"
   },
   {
    "duration": 74,
    "start_time": "2023-03-09T16:21:38.076Z"
   },
   {
    "duration": 4,
    "start_time": "2023-03-09T16:21:40.365Z"
   },
   {
    "duration": 74,
    "start_time": "2023-03-09T16:21:40.748Z"
   },
   {
    "duration": 6,
    "start_time": "2023-03-09T16:22:29.302Z"
   },
   {
    "duration": 102,
    "start_time": "2023-03-09T16:22:29.516Z"
   },
   {
    "duration": 4,
    "start_time": "2023-03-09T16:22:50.412Z"
   },
   {
    "duration": 73,
    "start_time": "2023-03-09T16:22:50.832Z"
   },
   {
    "duration": 17,
    "start_time": "2023-03-09T16:24:37.931Z"
   },
   {
    "duration": 9,
    "start_time": "2023-03-09T16:24:58.693Z"
   },
   {
    "duration": 8,
    "start_time": "2023-03-09T16:25:13.304Z"
   },
   {
    "duration": 3,
    "start_time": "2023-03-09T16:25:41.546Z"
   },
   {
    "duration": 14,
    "start_time": "2023-03-09T16:26:59.712Z"
   },
   {
    "duration": 4,
    "start_time": "2023-03-09T16:40:06.730Z"
   },
   {
    "duration": 73,
    "start_time": "2023-03-09T16:40:09.705Z"
   },
   {
    "duration": 9,
    "start_time": "2023-03-09T16:40:14.735Z"
   },
   {
    "duration": 1469,
    "start_time": "2023-03-09T16:40:20.268Z"
   },
   {
    "duration": 0,
    "start_time": "2023-03-09T16:40:21.739Z"
   },
   {
    "duration": 0,
    "start_time": "2023-03-09T16:40:21.741Z"
   },
   {
    "duration": 0,
    "start_time": "2023-03-09T16:40:21.742Z"
   },
   {
    "duration": 0,
    "start_time": "2023-03-09T16:40:21.743Z"
   },
   {
    "duration": 0,
    "start_time": "2023-03-09T16:40:21.744Z"
   },
   {
    "duration": 0,
    "start_time": "2023-03-09T16:40:21.745Z"
   },
   {
    "duration": 0,
    "start_time": "2023-03-09T16:40:21.746Z"
   },
   {
    "duration": 0,
    "start_time": "2023-03-09T16:40:21.747Z"
   },
   {
    "duration": 0,
    "start_time": "2023-03-09T16:40:21.748Z"
   },
   {
    "duration": 0,
    "start_time": "2023-03-09T16:40:21.749Z"
   },
   {
    "duration": 0,
    "start_time": "2023-03-09T16:40:21.750Z"
   },
   {
    "duration": 0,
    "start_time": "2023-03-09T16:40:21.751Z"
   },
   {
    "duration": 0,
    "start_time": "2023-03-09T16:40:21.753Z"
   },
   {
    "duration": 0,
    "start_time": "2023-03-09T16:40:21.754Z"
   },
   {
    "duration": 0,
    "start_time": "2023-03-09T16:40:21.755Z"
   },
   {
    "duration": 0,
    "start_time": "2023-03-09T16:40:21.756Z"
   },
   {
    "duration": 0,
    "start_time": "2023-03-09T16:40:21.757Z"
   },
   {
    "duration": 0,
    "start_time": "2023-03-09T16:40:21.758Z"
   },
   {
    "duration": 0,
    "start_time": "2023-03-09T16:40:21.759Z"
   },
   {
    "duration": 0,
    "start_time": "2023-03-09T16:40:21.760Z"
   },
   {
    "duration": 0,
    "start_time": "2023-03-09T16:40:21.761Z"
   },
   {
    "duration": 0,
    "start_time": "2023-03-09T16:40:21.762Z"
   },
   {
    "duration": 0,
    "start_time": "2023-03-09T16:40:21.763Z"
   },
   {
    "duration": 0,
    "start_time": "2023-03-09T16:40:21.764Z"
   },
   {
    "duration": 0,
    "start_time": "2023-03-09T16:40:21.765Z"
   },
   {
    "duration": 0,
    "start_time": "2023-03-09T16:40:21.766Z"
   },
   {
    "duration": 0,
    "start_time": "2023-03-09T16:40:21.767Z"
   },
   {
    "duration": 0,
    "start_time": "2023-03-09T16:40:21.768Z"
   },
   {
    "duration": 0,
    "start_time": "2023-03-09T16:40:21.812Z"
   },
   {
    "duration": 0,
    "start_time": "2023-03-09T16:40:21.814Z"
   },
   {
    "duration": 0,
    "start_time": "2023-03-09T16:40:21.815Z"
   },
   {
    "duration": 0,
    "start_time": "2023-03-09T16:40:21.816Z"
   },
   {
    "duration": 0,
    "start_time": "2023-03-09T16:40:21.817Z"
   },
   {
    "duration": 0,
    "start_time": "2023-03-09T16:40:21.818Z"
   },
   {
    "duration": 0,
    "start_time": "2023-03-09T16:40:21.819Z"
   },
   {
    "duration": 0,
    "start_time": "2023-03-09T16:40:21.820Z"
   },
   {
    "duration": 0,
    "start_time": "2023-03-09T16:40:21.820Z"
   },
   {
    "duration": 0,
    "start_time": "2023-03-09T16:40:21.822Z"
   },
   {
    "duration": 1523,
    "start_time": "2023-03-09T16:40:37.317Z"
   },
   {
    "duration": 0,
    "start_time": "2023-03-09T16:40:38.844Z"
   },
   {
    "duration": 0,
    "start_time": "2023-03-09T16:40:38.845Z"
   },
   {
    "duration": 0,
    "start_time": "2023-03-09T16:40:38.847Z"
   },
   {
    "duration": 0,
    "start_time": "2023-03-09T16:40:38.848Z"
   },
   {
    "duration": 0,
    "start_time": "2023-03-09T16:40:38.850Z"
   },
   {
    "duration": 0,
    "start_time": "2023-03-09T16:40:38.852Z"
   },
   {
    "duration": 0,
    "start_time": "2023-03-09T16:40:38.853Z"
   },
   {
    "duration": 0,
    "start_time": "2023-03-09T16:40:38.855Z"
   },
   {
    "duration": 0,
    "start_time": "2023-03-09T16:40:38.856Z"
   },
   {
    "duration": 0,
    "start_time": "2023-03-09T16:40:38.858Z"
   },
   {
    "duration": 0,
    "start_time": "2023-03-09T16:40:38.859Z"
   },
   {
    "duration": 0,
    "start_time": "2023-03-09T16:40:38.861Z"
   },
   {
    "duration": 0,
    "start_time": "2023-03-09T16:40:38.862Z"
   },
   {
    "duration": 0,
    "start_time": "2023-03-09T16:40:38.864Z"
   },
   {
    "duration": 0,
    "start_time": "2023-03-09T16:40:38.865Z"
   },
   {
    "duration": 0,
    "start_time": "2023-03-09T16:40:38.867Z"
   },
   {
    "duration": 0,
    "start_time": "2023-03-09T16:40:38.868Z"
   },
   {
    "duration": 0,
    "start_time": "2023-03-09T16:40:38.870Z"
   },
   {
    "duration": 0,
    "start_time": "2023-03-09T16:40:38.871Z"
   },
   {
    "duration": 0,
    "start_time": "2023-03-09T16:40:38.911Z"
   },
   {
    "duration": 0,
    "start_time": "2023-03-09T16:40:38.913Z"
   },
   {
    "duration": 0,
    "start_time": "2023-03-09T16:40:38.914Z"
   },
   {
    "duration": 0,
    "start_time": "2023-03-09T16:40:38.917Z"
   },
   {
    "duration": 0,
    "start_time": "2023-03-09T16:40:38.918Z"
   },
   {
    "duration": 0,
    "start_time": "2023-03-09T16:40:38.920Z"
   },
   {
    "duration": 0,
    "start_time": "2023-03-09T16:40:38.921Z"
   },
   {
    "duration": 0,
    "start_time": "2023-03-09T16:40:38.922Z"
   },
   {
    "duration": 0,
    "start_time": "2023-03-09T16:40:38.923Z"
   },
   {
    "duration": 0,
    "start_time": "2023-03-09T16:40:38.925Z"
   },
   {
    "duration": 0,
    "start_time": "2023-03-09T16:40:38.926Z"
   },
   {
    "duration": 0,
    "start_time": "2023-03-09T16:40:38.927Z"
   },
   {
    "duration": 1,
    "start_time": "2023-03-09T16:40:38.928Z"
   },
   {
    "duration": 0,
    "start_time": "2023-03-09T16:40:38.930Z"
   },
   {
    "duration": 0,
    "start_time": "2023-03-09T16:40:38.931Z"
   },
   {
    "duration": 0,
    "start_time": "2023-03-09T16:40:38.932Z"
   },
   {
    "duration": 0,
    "start_time": "2023-03-09T16:40:38.933Z"
   },
   {
    "duration": 0,
    "start_time": "2023-03-09T16:40:38.934Z"
   },
   {
    "duration": 0,
    "start_time": "2023-03-09T16:40:38.936Z"
   },
   {
    "duration": 5,
    "start_time": "2023-03-09T16:40:57.258Z"
   },
   {
    "duration": 1443,
    "start_time": "2023-03-09T16:41:01.005Z"
   },
   {
    "duration": 217,
    "start_time": "2023-03-09T16:41:02.450Z"
   },
   {
    "duration": 24,
    "start_time": "2023-03-09T16:41:02.669Z"
   },
   {
    "duration": 26,
    "start_time": "2023-03-09T16:41:02.695Z"
   },
   {
    "duration": 21,
    "start_time": "2023-03-09T16:41:02.723Z"
   },
   {
    "duration": 20,
    "start_time": "2023-03-09T16:41:02.746Z"
   },
   {
    "duration": 77,
    "start_time": "2023-03-09T16:41:02.768Z"
   },
   {
    "duration": 140,
    "start_time": "2023-03-09T16:41:02.846Z"
   },
   {
    "duration": 256,
    "start_time": "2023-03-09T16:41:02.988Z"
   },
   {
    "duration": 18,
    "start_time": "2023-03-09T16:41:03.246Z"
   },
   {
    "duration": 4,
    "start_time": "2023-03-09T16:41:03.266Z"
   },
   {
    "duration": 229,
    "start_time": "2023-03-09T16:41:03.272Z"
   },
   {
    "duration": 16,
    "start_time": "2023-03-09T16:41:03.503Z"
   },
   {
    "duration": 1161,
    "start_time": "2023-03-09T16:41:03.523Z"
   },
   {
    "duration": 5,
    "start_time": "2023-03-09T16:41:04.686Z"
   },
   {
    "duration": 8,
    "start_time": "2023-03-09T16:41:04.692Z"
   },
   {
    "duration": 255,
    "start_time": "2023-03-09T16:41:04.712Z"
   },
   {
    "duration": 17,
    "start_time": "2023-03-09T16:41:04.969Z"
   },
   {
    "duration": 1175,
    "start_time": "2023-03-09T16:41:04.987Z"
   },
   {
    "duration": 16,
    "start_time": "2023-03-09T16:41:06.164Z"
   },
   {
    "duration": 100,
    "start_time": "2023-03-09T16:41:06.182Z"
   },
   {
    "duration": 10,
    "start_time": "2023-03-09T16:41:06.284Z"
   },
   {
    "duration": 81,
    "start_time": "2023-03-09T16:41:06.296Z"
   },
   {
    "duration": 50,
    "start_time": "2023-03-09T16:41:06.378Z"
   },
   {
    "duration": 40,
    "start_time": "2023-03-09T16:41:06.429Z"
   },
   {
    "duration": 4,
    "start_time": "2023-03-09T16:41:06.471Z"
   },
   {
    "duration": 9,
    "start_time": "2023-03-09T16:41:06.476Z"
   },
   {
    "duration": 25,
    "start_time": "2023-03-09T16:41:06.487Z"
   },
   {
    "duration": 96,
    "start_time": "2023-03-09T16:41:06.514Z"
   },
   {
    "duration": 1251,
    "start_time": "2023-03-09T16:41:06.612Z"
   },
   {
    "duration": 8,
    "start_time": "2023-03-09T16:41:07.865Z"
   },
   {
    "duration": 222,
    "start_time": "2023-03-09T16:41:07.875Z"
   },
   {
    "duration": 313,
    "start_time": "2023-03-09T16:41:08.099Z"
   },
   {
    "duration": 241,
    "start_time": "2023-03-09T16:41:08.414Z"
   },
   {
    "duration": 14,
    "start_time": "2023-03-09T16:41:08.656Z"
   },
   {
    "duration": 4,
    "start_time": "2023-03-09T16:41:08.672Z"
   },
   {
    "duration": 125,
    "start_time": "2023-03-09T16:41:08.678Z"
   },
   {
    "duration": 0,
    "start_time": "2023-03-09T16:41:08.805Z"
   },
   {
    "duration": 0,
    "start_time": "2023-03-09T16:41:08.806Z"
   },
   {
    "duration": 12,
    "start_time": "2023-03-09T16:41:16.022Z"
   },
   {
    "duration": 70,
    "start_time": "2023-03-09T16:41:17.104Z"
   },
   {
    "duration": 2,
    "start_time": "2023-03-09T16:41:22.816Z"
   },
   {
    "duration": 17,
    "start_time": "2023-03-09T16:41:23.552Z"
   },
   {
    "duration": 168,
    "start_time": "2023-03-09T16:41:24.496Z"
   },
   {
    "duration": 156,
    "start_time": "2023-03-09T16:41:46.320Z"
   },
   {
    "duration": 166,
    "start_time": "2023-03-09T16:42:53.298Z"
   },
   {
    "duration": 4,
    "start_time": "2023-03-09T16:43:29.372Z"
   },
   {
    "duration": 3,
    "start_time": "2023-03-09T16:43:30.774Z"
   },
   {
    "duration": 15,
    "start_time": "2023-03-09T16:43:30.961Z"
   },
   {
    "duration": 165,
    "start_time": "2023-03-09T16:43:31.673Z"
   },
   {
    "duration": 158,
    "start_time": "2023-03-09T16:43:46.338Z"
   },
   {
    "duration": 155,
    "start_time": "2023-03-09T16:43:57.763Z"
   },
   {
    "duration": 151,
    "start_time": "2023-03-09T16:44:03.521Z"
   },
   {
    "duration": 1372,
    "start_time": "2023-03-09T16:44:07.963Z"
   },
   {
    "duration": 273,
    "start_time": "2023-03-09T16:44:09.337Z"
   },
   {
    "duration": 26,
    "start_time": "2023-03-09T16:44:09.612Z"
   },
   {
    "duration": 19,
    "start_time": "2023-03-09T16:44:09.640Z"
   },
   {
    "duration": 23,
    "start_time": "2023-03-09T16:44:09.661Z"
   },
   {
    "duration": 45,
    "start_time": "2023-03-09T16:44:09.685Z"
   },
   {
    "duration": 53,
    "start_time": "2023-03-09T16:44:09.732Z"
   },
   {
    "duration": 156,
    "start_time": "2023-03-09T16:44:09.787Z"
   },
   {
    "duration": 259,
    "start_time": "2023-03-09T16:44:09.944Z"
   },
   {
    "duration": 21,
    "start_time": "2023-03-09T16:44:10.204Z"
   },
   {
    "duration": 4,
    "start_time": "2023-03-09T16:44:10.226Z"
   },
   {
    "duration": 215,
    "start_time": "2023-03-09T16:44:10.231Z"
   },
   {
    "duration": 14,
    "start_time": "2023-03-09T16:44:10.448Z"
   },
   {
    "duration": 1121,
    "start_time": "2023-03-09T16:44:10.465Z"
   },
   {
    "duration": 7,
    "start_time": "2023-03-09T16:44:11.587Z"
   },
   {
    "duration": 20,
    "start_time": "2023-03-09T16:44:11.595Z"
   },
   {
    "duration": 251,
    "start_time": "2023-03-09T16:44:11.617Z"
   },
   {
    "duration": 18,
    "start_time": "2023-03-09T16:44:11.869Z"
   },
   {
    "duration": 1117,
    "start_time": "2023-03-09T16:44:11.888Z"
   },
   {
    "duration": 16,
    "start_time": "2023-03-09T16:44:13.007Z"
   },
   {
    "duration": 97,
    "start_time": "2023-03-09T16:44:13.025Z"
   },
   {
    "duration": 9,
    "start_time": "2023-03-09T16:44:13.123Z"
   },
   {
    "duration": 81,
    "start_time": "2023-03-09T16:44:13.134Z"
   },
   {
    "duration": 33,
    "start_time": "2023-03-09T16:44:13.216Z"
   },
   {
    "duration": 42,
    "start_time": "2023-03-09T16:44:13.251Z"
   },
   {
    "duration": 5,
    "start_time": "2023-03-09T16:44:13.311Z"
   },
   {
    "duration": 8,
    "start_time": "2023-03-09T16:44:13.317Z"
   },
   {
    "duration": 8,
    "start_time": "2023-03-09T16:44:13.327Z"
   },
   {
    "duration": 110,
    "start_time": "2023-03-09T16:44:13.336Z"
   },
   {
    "duration": 1228,
    "start_time": "2023-03-09T16:44:13.448Z"
   },
   {
    "duration": 8,
    "start_time": "2023-03-09T16:44:14.678Z"
   },
   {
    "duration": 226,
    "start_time": "2023-03-09T16:44:14.687Z"
   },
   {
    "duration": 300,
    "start_time": "2023-03-09T16:44:14.914Z"
   },
   {
    "duration": 253,
    "start_time": "2023-03-09T16:44:15.216Z"
   },
   {
    "duration": 13,
    "start_time": "2023-03-09T16:44:15.470Z"
   },
   {
    "duration": 4,
    "start_time": "2023-03-09T16:44:15.485Z"
   },
   {
    "duration": 23,
    "start_time": "2023-03-09T16:44:15.490Z"
   },
   {
    "duration": 15,
    "start_time": "2023-03-09T16:44:15.515Z"
   },
   {
    "duration": 190,
    "start_time": "2023-03-09T16:44:15.532Z"
   },
   {
    "duration": 3,
    "start_time": "2023-03-09T16:44:33.316Z"
   },
   {
    "duration": 170,
    "start_time": "2023-03-09T16:44:34.712Z"
   },
   {
    "duration": 173,
    "start_time": "2023-03-09T16:44:50.776Z"
   },
   {
    "duration": 171,
    "start_time": "2023-03-09T16:45:45.249Z"
   },
   {
    "duration": 160,
    "start_time": "2023-03-09T16:45:48.995Z"
   },
   {
    "duration": 6,
    "start_time": "2023-03-09T16:45:55.328Z"
   },
   {
    "duration": 31,
    "start_time": "2023-03-09T16:45:57.693Z"
   },
   {
    "duration": 161,
    "start_time": "2023-03-09T16:46:51.483Z"
   },
   {
    "duration": 161,
    "start_time": "2023-03-09T16:46:54.829Z"
   },
   {
    "duration": 1410,
    "start_time": "2023-03-09T16:47:07.778Z"
   },
   {
    "duration": 230,
    "start_time": "2023-03-09T16:47:09.190Z"
   },
   {
    "duration": 27,
    "start_time": "2023-03-09T16:47:09.421Z"
   },
   {
    "duration": 19,
    "start_time": "2023-03-09T16:47:09.450Z"
   },
   {
    "duration": 43,
    "start_time": "2023-03-09T16:47:09.470Z"
   },
   {
    "duration": 23,
    "start_time": "2023-03-09T16:47:09.515Z"
   },
   {
    "duration": 79,
    "start_time": "2023-03-09T16:47:09.539Z"
   },
   {
    "duration": 148,
    "start_time": "2023-03-09T16:47:09.620Z"
   },
   {
    "duration": 256,
    "start_time": "2023-03-09T16:47:09.770Z"
   },
   {
    "duration": 17,
    "start_time": "2023-03-09T16:47:10.028Z"
   },
   {
    "duration": 5,
    "start_time": "2023-03-09T16:47:10.046Z"
   },
   {
    "duration": 226,
    "start_time": "2023-03-09T16:47:10.052Z"
   },
   {
    "duration": 14,
    "start_time": "2023-03-09T16:47:10.280Z"
   },
   {
    "duration": 1134,
    "start_time": "2023-03-09T16:47:10.295Z"
   },
   {
    "duration": 8,
    "start_time": "2023-03-09T16:47:11.431Z"
   },
   {
    "duration": 6,
    "start_time": "2023-03-09T16:47:11.441Z"
   },
   {
    "duration": 287,
    "start_time": "2023-03-09T16:47:11.448Z"
   },
   {
    "duration": 18,
    "start_time": "2023-03-09T16:47:11.737Z"
   },
   {
    "duration": 1155,
    "start_time": "2023-03-09T16:47:11.757Z"
   },
   {
    "duration": 16,
    "start_time": "2023-03-09T16:47:12.914Z"
   },
   {
    "duration": 103,
    "start_time": "2023-03-09T16:47:12.932Z"
   },
   {
    "duration": 10,
    "start_time": "2023-03-09T16:47:13.037Z"
   },
   {
    "duration": 85,
    "start_time": "2023-03-09T16:47:13.049Z"
   },
   {
    "duration": 35,
    "start_time": "2023-03-09T16:47:13.136Z"
   },
   {
    "duration": 61,
    "start_time": "2023-03-09T16:47:13.173Z"
   },
   {
    "duration": 4,
    "start_time": "2023-03-09T16:47:13.236Z"
   },
   {
    "duration": 4,
    "start_time": "2023-03-09T16:47:13.242Z"
   },
   {
    "duration": 5,
    "start_time": "2023-03-09T16:47:13.249Z"
   },
   {
    "duration": 122,
    "start_time": "2023-03-09T16:47:13.256Z"
   },
   {
    "duration": 1318,
    "start_time": "2023-03-09T16:47:13.380Z"
   },
   {
    "duration": 13,
    "start_time": "2023-03-09T16:47:14.701Z"
   },
   {
    "duration": 228,
    "start_time": "2023-03-09T16:47:14.716Z"
   },
   {
    "duration": 328,
    "start_time": "2023-03-09T16:47:14.946Z"
   },
   {
    "duration": 269,
    "start_time": "2023-03-09T16:47:15.276Z"
   },
   {
    "duration": 15,
    "start_time": "2023-03-09T16:47:15.547Z"
   },
   {
    "duration": 3,
    "start_time": "2023-03-09T16:47:15.564Z"
   },
   {
    "duration": 7,
    "start_time": "2023-03-09T16:47:15.569Z"
   },
   {
    "duration": 34,
    "start_time": "2023-03-09T16:47:15.578Z"
   },
   {
    "duration": 180,
    "start_time": "2023-03-09T16:47:15.614Z"
   },
   {
    "duration": 111,
    "start_time": "2023-03-09T16:47:25.365Z"
   },
   {
    "duration": 48,
    "start_time": "2023-03-09T16:47:33.273Z"
   },
   {
    "duration": 3529,
    "start_time": "2023-03-09T16:48:03.133Z"
   },
   {
    "duration": 14,
    "start_time": "2023-03-09T16:48:32.277Z"
   },
   {
    "duration": 3285,
    "start_time": "2023-03-09T16:48:38.771Z"
   },
   {
    "duration": 3013,
    "start_time": "2023-03-09T16:49:01.674Z"
   },
   {
    "duration": 3062,
    "start_time": "2023-03-09T16:49:16.659Z"
   },
   {
    "duration": 3249,
    "start_time": "2023-03-09T16:50:39.491Z"
   },
   {
    "duration": 3,
    "start_time": "2023-03-09T16:50:56.485Z"
   },
   {
    "duration": 14,
    "start_time": "2023-03-09T16:51:00.334Z"
   },
   {
    "duration": 3468,
    "start_time": "2023-03-09T16:51:00.991Z"
   },
   {
    "duration": 3,
    "start_time": "2023-03-09T16:51:10.673Z"
   },
   {
    "duration": 2,
    "start_time": "2023-03-09T16:51:10.845Z"
   },
   {
    "duration": 16,
    "start_time": "2023-03-09T16:51:11.023Z"
   },
   {
    "duration": 3548,
    "start_time": "2023-03-09T16:51:11.438Z"
   },
   {
    "duration": 121,
    "start_time": "2023-03-09T16:51:57.320Z"
   },
   {
    "duration": 4,
    "start_time": "2023-03-09T16:52:16.290Z"
   },
   {
    "duration": 17,
    "start_time": "2023-03-09T16:52:23.521Z"
   },
   {
    "duration": 12,
    "start_time": "2023-03-09T16:52:24.645Z"
   },
   {
    "duration": 4,
    "start_time": "2023-03-09T16:52:36.893Z"
   },
   {
    "duration": 3,
    "start_time": "2023-03-09T16:52:37.624Z"
   },
   {
    "duration": 15,
    "start_time": "2023-03-09T16:52:37.834Z"
   },
   {
    "duration": 12,
    "start_time": "2023-03-09T16:52:38.492Z"
   },
   {
    "duration": 3,
    "start_time": "2023-03-09T16:52:41.213Z"
   },
   {
    "duration": 3,
    "start_time": "2023-03-09T16:52:42.462Z"
   },
   {
    "duration": 15,
    "start_time": "2023-03-09T16:52:42.671Z"
   },
   {
    "duration": 12,
    "start_time": "2023-03-09T16:52:46.485Z"
   },
   {
    "duration": 3265,
    "start_time": "2023-03-09T16:52:49.153Z"
   },
   {
    "duration": 108,
    "start_time": "2023-03-09T16:53:01.715Z"
   },
   {
    "duration": 4,
    "start_time": "2023-03-09T16:54:18.807Z"
   },
   {
    "duration": 3,
    "start_time": "2023-03-09T16:54:20.987Z"
   },
   {
    "duration": 15,
    "start_time": "2023-03-09T16:54:21.316Z"
   },
   {
    "duration": 3538,
    "start_time": "2023-03-09T16:54:23.496Z"
   },
   {
    "duration": 3469,
    "start_time": "2023-03-09T16:55:11.058Z"
   },
   {
    "duration": 739,
    "start_time": "2023-03-09T16:56:20.502Z"
   },
   {
    "duration": 179,
    "start_time": "2023-03-09T16:56:47.880Z"
   },
   {
    "duration": 16,
    "start_time": "2023-03-09T17:00:57.990Z"
   },
   {
    "duration": 3,
    "start_time": "2023-03-09T17:01:02.526Z"
   },
   {
    "duration": 10,
    "start_time": "2023-03-09T17:01:11.290Z"
   },
   {
    "duration": 3,
    "start_time": "2023-03-09T17:01:14.686Z"
   },
   {
    "duration": 5,
    "start_time": "2023-03-09T17:05:11.685Z"
   },
   {
    "duration": 175,
    "start_time": "2023-03-09T17:05:42.451Z"
   },
   {
    "duration": 560,
    "start_time": "2023-03-09T17:05:55.594Z"
   },
   {
    "duration": 587,
    "start_time": "2023-03-09T17:06:14.156Z"
   },
   {
    "duration": 5,
    "start_time": "2023-03-09T17:10:09.174Z"
   },
   {
    "duration": 1428,
    "start_time": "2023-03-09T17:10:12.670Z"
   },
   {
    "duration": 301,
    "start_time": "2023-03-09T17:10:14.101Z"
   },
   {
    "duration": 26,
    "start_time": "2023-03-09T17:10:14.404Z"
   },
   {
    "duration": 17,
    "start_time": "2023-03-09T17:10:14.432Z"
   },
   {
    "duration": 20,
    "start_time": "2023-03-09T17:10:14.451Z"
   },
   {
    "duration": 15,
    "start_time": "2023-03-09T17:10:14.473Z"
   },
   {
    "duration": 49,
    "start_time": "2023-03-09T17:10:14.513Z"
   },
   {
    "duration": 146,
    "start_time": "2023-03-09T17:10:14.564Z"
   },
   {
    "duration": 251,
    "start_time": "2023-03-09T17:10:14.712Z"
   },
   {
    "duration": 17,
    "start_time": "2023-03-09T17:10:14.965Z"
   },
   {
    "duration": 5,
    "start_time": "2023-03-09T17:10:14.983Z"
   },
   {
    "duration": 205,
    "start_time": "2023-03-09T17:10:15.013Z"
   },
   {
    "duration": 14,
    "start_time": "2023-03-09T17:10:15.219Z"
   },
   {
    "duration": 1110,
    "start_time": "2023-03-09T17:10:15.236Z"
   },
   {
    "duration": 7,
    "start_time": "2023-03-09T17:10:16.347Z"
   },
   {
    "duration": 5,
    "start_time": "2023-03-09T17:10:16.356Z"
   },
   {
    "duration": 273,
    "start_time": "2023-03-09T17:10:16.363Z"
   },
   {
    "duration": 17,
    "start_time": "2023-03-09T17:10:16.638Z"
   },
   {
    "duration": 1165,
    "start_time": "2023-03-09T17:10:16.657Z"
   },
   {
    "duration": 17,
    "start_time": "2023-03-09T17:10:17.824Z"
   },
   {
    "duration": 105,
    "start_time": "2023-03-09T17:10:17.843Z"
   },
   {
    "duration": 10,
    "start_time": "2023-03-09T17:10:17.950Z"
   },
   {
    "duration": 89,
    "start_time": "2023-03-09T17:10:17.962Z"
   },
   {
    "duration": 36,
    "start_time": "2023-03-09T17:10:18.053Z"
   },
   {
    "duration": 61,
    "start_time": "2023-03-09T17:10:18.090Z"
   },
   {
    "duration": 4,
    "start_time": "2023-03-09T17:10:18.152Z"
   },
   {
    "duration": 10,
    "start_time": "2023-03-09T17:10:18.157Z"
   },
   {
    "duration": 5,
    "start_time": "2023-03-09T17:10:18.169Z"
   },
   {
    "duration": 128,
    "start_time": "2023-03-09T17:10:18.176Z"
   },
   {
    "duration": 1246,
    "start_time": "2023-03-09T17:10:18.306Z"
   },
   {
    "duration": 9,
    "start_time": "2023-03-09T17:10:19.555Z"
   },
   {
    "duration": 245,
    "start_time": "2023-03-09T17:10:19.567Z"
   },
   {
    "duration": 313,
    "start_time": "2023-03-09T17:10:19.814Z"
   },
   {
    "duration": 262,
    "start_time": "2023-03-09T17:10:20.128Z"
   },
   {
    "duration": 33,
    "start_time": "2023-03-09T17:10:20.392Z"
   },
   {
    "duration": 5,
    "start_time": "2023-03-09T17:10:20.428Z"
   },
   {
    "duration": 23,
    "start_time": "2023-03-09T17:10:20.435Z"
   },
   {
    "duration": 4,
    "start_time": "2023-03-09T17:10:20.460Z"
   },
   {
    "duration": 551,
    "start_time": "2023-03-09T17:10:20.465Z"
   },
   {
    "duration": 4,
    "start_time": "2023-03-09T17:12:32.085Z"
   },
   {
    "duration": 124,
    "start_time": "2023-03-09T17:12:36.964Z"
   },
   {
    "duration": 10,
    "start_time": "2023-03-09T17:12:58.445Z"
   },
   {
    "duration": 4,
    "start_time": "2023-03-09T17:13:18.659Z"
   },
   {
    "duration": 3,
    "start_time": "2023-03-09T17:13:31.635Z"
   },
   {
    "duration": 10,
    "start_time": "2023-03-09T17:13:37.347Z"
   },
   {
    "duration": 3,
    "start_time": "2023-03-09T17:13:41.117Z"
   },
   {
    "duration": 4,
    "start_time": "2023-03-09T17:13:46.309Z"
   },
   {
    "duration": 3,
    "start_time": "2023-03-09T17:13:50.777Z"
   },
   {
    "duration": 8,
    "start_time": "2023-03-09T17:16:04.133Z"
   },
   {
    "duration": 112,
    "start_time": "2023-03-09T17:16:17.600Z"
   },
   {
    "duration": 95,
    "start_time": "2023-03-09T17:16:21.359Z"
   },
   {
    "duration": 8,
    "start_time": "2023-03-09T17:18:49.653Z"
   },
   {
    "duration": 159,
    "start_time": "2023-03-09T17:18:56.738Z"
   },
   {
    "duration": 522,
    "start_time": "2023-03-09T17:32:04.186Z"
   },
   {
    "duration": 3,
    "start_time": "2023-03-09T17:40:22.470Z"
   },
   {
    "duration": 4,
    "start_time": "2023-03-09T17:40:28.746Z"
   },
   {
    "duration": 9,
    "start_time": "2023-03-09T17:40:34.055Z"
   },
   {
    "duration": 8,
    "start_time": "2023-03-09T17:40:47.276Z"
   },
   {
    "duration": 4,
    "start_time": "2023-03-09T17:42:12.970Z"
   },
   {
    "duration": 18,
    "start_time": "2023-03-09T17:44:03.530Z"
   },
   {
    "duration": 18,
    "start_time": "2023-03-09T17:45:00.074Z"
   },
   {
    "duration": 4,
    "start_time": "2023-03-09T17:45:03.713Z"
   },
   {
    "duration": 5,
    "start_time": "2023-03-09T17:45:06.577Z"
   },
   {
    "duration": 16,
    "start_time": "2023-03-09T17:45:19.097Z"
   },
   {
    "duration": 11,
    "start_time": "2023-03-09T17:52:20.868Z"
   },
   {
    "duration": 14,
    "start_time": "2023-03-09T17:55:47.420Z"
   },
   {
    "duration": 12,
    "start_time": "2023-03-09T17:55:52.857Z"
   },
   {
    "duration": 12,
    "start_time": "2023-03-09T17:55:57.027Z"
   },
   {
    "duration": 14,
    "start_time": "2023-03-09T17:56:30.241Z"
   },
   {
    "duration": 31,
    "start_time": "2023-03-09T17:56:36.746Z"
   },
   {
    "duration": 21,
    "start_time": "2023-03-09T17:56:53.880Z"
   },
   {
    "duration": 23,
    "start_time": "2023-03-09T17:57:06.897Z"
   },
   {
    "duration": 17,
    "start_time": "2023-03-09T17:57:19.605Z"
   },
   {
    "duration": 16,
    "start_time": "2023-03-09T17:58:10.053Z"
   },
   {
    "duration": 28,
    "start_time": "2023-03-09T17:58:23.602Z"
   },
   {
    "duration": 17,
    "start_time": "2023-03-09T17:59:09.822Z"
   },
   {
    "duration": 15,
    "start_time": "2023-03-09T17:59:09.999Z"
   },
   {
    "duration": 15,
    "start_time": "2023-03-09T17:59:26.565Z"
   },
   {
    "duration": 22,
    "start_time": "2023-03-09T17:59:30.212Z"
   },
   {
    "duration": 32,
    "start_time": "2023-03-09T17:59:32.220Z"
   },
   {
    "duration": 16,
    "start_time": "2023-03-09T18:01:23.592Z"
   },
   {
    "duration": 27,
    "start_time": "2023-03-09T18:01:26.266Z"
   },
   {
    "duration": 18,
    "start_time": "2023-03-09T18:05:25.007Z"
   },
   {
    "duration": 7,
    "start_time": "2023-03-09T18:06:02.609Z"
   },
   {
    "duration": 1515,
    "start_time": "2023-03-09T18:06:12.105Z"
   },
   {
    "duration": 248,
    "start_time": "2023-03-09T18:06:13.623Z"
   },
   {
    "duration": 26,
    "start_time": "2023-03-09T18:06:13.872Z"
   },
   {
    "duration": 24,
    "start_time": "2023-03-09T18:06:13.900Z"
   },
   {
    "duration": 20,
    "start_time": "2023-03-09T18:06:13.927Z"
   },
   {
    "duration": 17,
    "start_time": "2023-03-09T18:06:13.949Z"
   },
   {
    "duration": 94,
    "start_time": "2023-03-09T18:06:13.968Z"
   },
   {
    "duration": 189,
    "start_time": "2023-03-09T18:06:14.064Z"
   },
   {
    "duration": 295,
    "start_time": "2023-03-09T18:06:14.255Z"
   },
   {
    "duration": 20,
    "start_time": "2023-03-09T18:06:14.552Z"
   },
   {
    "duration": 5,
    "start_time": "2023-03-09T18:06:14.574Z"
   },
   {
    "duration": 251,
    "start_time": "2023-03-09T18:06:14.581Z"
   },
   {
    "duration": 14,
    "start_time": "2023-03-09T18:06:14.834Z"
   },
   {
    "duration": 1127,
    "start_time": "2023-03-09T18:06:14.851Z"
   },
   {
    "duration": 6,
    "start_time": "2023-03-09T18:06:15.979Z"
   },
   {
    "duration": 7,
    "start_time": "2023-03-09T18:06:15.986Z"
   },
   {
    "duration": 270,
    "start_time": "2023-03-09T18:06:16.013Z"
   },
   {
    "duration": 18,
    "start_time": "2023-03-09T18:06:16.284Z"
   },
   {
    "duration": 1131,
    "start_time": "2023-03-09T18:06:16.303Z"
   },
   {
    "duration": 17,
    "start_time": "2023-03-09T18:06:17.436Z"
   },
   {
    "duration": 114,
    "start_time": "2023-03-09T18:06:17.455Z"
   },
   {
    "duration": 12,
    "start_time": "2023-03-09T18:06:17.572Z"
   },
   {
    "duration": 96,
    "start_time": "2023-03-09T18:06:17.586Z"
   },
   {
    "duration": 51,
    "start_time": "2023-03-09T18:06:17.684Z"
   },
   {
    "duration": 48,
    "start_time": "2023-03-09T18:06:17.737Z"
   },
   {
    "duration": 4,
    "start_time": "2023-03-09T18:06:17.787Z"
   },
   {
    "duration": 4,
    "start_time": "2023-03-09T18:06:17.812Z"
   },
   {
    "duration": 6,
    "start_time": "2023-03-09T18:06:17.818Z"
   },
   {
    "duration": 111,
    "start_time": "2023-03-09T18:06:17.826Z"
   },
   {
    "duration": 1219,
    "start_time": "2023-03-09T18:06:17.939Z"
   },
   {
    "duration": 9,
    "start_time": "2023-03-09T18:06:19.161Z"
   },
   {
    "duration": 243,
    "start_time": "2023-03-09T18:06:19.172Z"
   },
   {
    "duration": 381,
    "start_time": "2023-03-09T18:06:19.416Z"
   },
   {
    "duration": 283,
    "start_time": "2023-03-09T18:06:19.799Z"
   },
   {
    "duration": 31,
    "start_time": "2023-03-09T18:06:20.083Z"
   },
   {
    "duration": 6,
    "start_time": "2023-03-09T18:06:20.117Z"
   },
   {
    "duration": 29,
    "start_time": "2023-03-09T18:06:20.125Z"
   },
   {
    "duration": 138,
    "start_time": "2023-03-09T18:06:20.156Z"
   },
   {
    "duration": 0,
    "start_time": "2023-03-09T18:06:20.296Z"
   },
   {
    "duration": 11,
    "start_time": "2023-03-09T18:06:39.424Z"
   },
   {
    "duration": 19,
    "start_time": "2023-03-09T18:07:04.703Z"
   },
   {
    "duration": 180,
    "start_time": "2023-03-09T18:07:16.605Z"
   },
   {
    "duration": 19,
    "start_time": "2023-03-09T18:08:19.299Z"
   },
   {
    "duration": 7,
    "start_time": "2023-03-09T18:08:43.699Z"
   },
   {
    "duration": 16,
    "start_time": "2023-03-09T18:08:48.716Z"
   },
   {
    "duration": 85,
    "start_time": "2023-03-09T18:08:56.346Z"
   },
   {
    "duration": 4,
    "start_time": "2023-03-09T18:09:32.571Z"
   },
   {
    "duration": 16,
    "start_time": "2023-03-09T18:12:50.711Z"
   },
   {
    "duration": 99,
    "start_time": "2023-03-09T18:14:25.267Z"
   },
   {
    "duration": 90,
    "start_time": "2023-03-09T18:14:39.666Z"
   },
   {
    "duration": 88,
    "start_time": "2023-03-09T18:14:46.826Z"
   },
   {
    "duration": 24,
    "start_time": "2023-03-09T18:14:58.554Z"
   },
   {
    "duration": 19,
    "start_time": "2023-03-09T18:15:02.146Z"
   },
   {
    "duration": 81,
    "start_time": "2023-03-09T18:15:16.834Z"
   },
   {
    "duration": 27,
    "start_time": "2023-03-09T18:15:22.511Z"
   },
   {
    "duration": 26,
    "start_time": "2023-03-09T18:15:33.166Z"
   },
   {
    "duration": 54,
    "start_time": "2023-03-09T18:15:50.469Z"
   },
   {
    "duration": 191,
    "start_time": "2023-03-09T18:16:47.902Z"
   },
   {
    "duration": 26,
    "start_time": "2023-03-09T18:16:52.773Z"
   },
   {
    "duration": 29,
    "start_time": "2023-03-09T18:16:59.403Z"
   },
   {
    "duration": 182,
    "start_time": "2023-03-09T18:22:07.961Z"
   },
   {
    "duration": 90,
    "start_time": "2023-03-09T18:22:08.148Z"
   },
   {
    "duration": 10,
    "start_time": "2023-03-09T18:31:59.452Z"
   },
   {
    "duration": 5,
    "start_time": "2023-03-09T18:33:15.622Z"
   },
   {
    "duration": 1435,
    "start_time": "2023-03-09T18:33:19.626Z"
   },
   {
    "duration": 242,
    "start_time": "2023-03-09T18:33:21.063Z"
   },
   {
    "duration": 25,
    "start_time": "2023-03-09T18:33:21.307Z"
   },
   {
    "duration": 19,
    "start_time": "2023-03-09T18:33:21.334Z"
   },
   {
    "duration": 23,
    "start_time": "2023-03-09T18:33:21.355Z"
   },
   {
    "duration": 42,
    "start_time": "2023-03-09T18:33:21.380Z"
   },
   {
    "duration": 50,
    "start_time": "2023-03-09T18:33:21.424Z"
   },
   {
    "duration": 158,
    "start_time": "2023-03-09T18:33:21.476Z"
   },
   {
    "duration": 259,
    "start_time": "2023-03-09T18:33:21.636Z"
   },
   {
    "duration": 23,
    "start_time": "2023-03-09T18:33:21.898Z"
   },
   {
    "duration": 5,
    "start_time": "2023-03-09T18:33:21.923Z"
   },
   {
    "duration": 223,
    "start_time": "2023-03-09T18:33:21.929Z"
   },
   {
    "duration": 13,
    "start_time": "2023-03-09T18:33:22.154Z"
   },
   {
    "duration": 1099,
    "start_time": "2023-03-09T18:33:22.169Z"
   },
   {
    "duration": 8,
    "start_time": "2023-03-09T18:33:23.269Z"
   },
   {
    "duration": 21,
    "start_time": "2023-03-09T18:33:23.278Z"
   },
   {
    "duration": 256,
    "start_time": "2023-03-09T18:33:23.301Z"
   },
   {
    "duration": 17,
    "start_time": "2023-03-09T18:33:23.559Z"
   },
   {
    "duration": 1185,
    "start_time": "2023-03-09T18:33:23.578Z"
   },
   {
    "duration": 16,
    "start_time": "2023-03-09T18:33:24.765Z"
   },
   {
    "duration": 99,
    "start_time": "2023-03-09T18:33:24.782Z"
   },
   {
    "duration": 11,
    "start_time": "2023-03-09T18:33:24.882Z"
   },
   {
    "duration": 78,
    "start_time": "2023-03-09T18:33:24.894Z"
   },
   {
    "duration": 40,
    "start_time": "2023-03-09T18:33:24.974Z"
   },
   {
    "duration": 48,
    "start_time": "2023-03-09T18:33:25.016Z"
   },
   {
    "duration": 3,
    "start_time": "2023-03-09T18:33:25.066Z"
   },
   {
    "duration": 5,
    "start_time": "2023-03-09T18:33:25.071Z"
   },
   {
    "duration": 6,
    "start_time": "2023-03-09T18:33:25.079Z"
   },
   {
    "duration": 114,
    "start_time": "2023-03-09T18:33:25.086Z"
   },
   {
    "duration": 1206,
    "start_time": "2023-03-09T18:33:25.202Z"
   },
   {
    "duration": 8,
    "start_time": "2023-03-09T18:33:26.410Z"
   },
   {
    "duration": 218,
    "start_time": "2023-03-09T18:33:26.420Z"
   },
   {
    "duration": 302,
    "start_time": "2023-03-09T18:33:26.640Z"
   },
   {
    "duration": 252,
    "start_time": "2023-03-09T18:33:26.945Z"
   },
   {
    "duration": 23,
    "start_time": "2023-03-09T18:33:27.199Z"
   },
   {
    "duration": 5,
    "start_time": "2023-03-09T18:33:27.223Z"
   },
   {
    "duration": 17,
    "start_time": "2023-03-09T18:33:27.230Z"
   },
   {
    "duration": 5,
    "start_time": "2023-03-09T18:33:27.249Z"
   },
   {
    "duration": 12,
    "start_time": "2023-03-09T18:33:27.255Z"
   },
   {
    "duration": 6,
    "start_time": "2023-03-09T18:33:27.268Z"
   },
   {
    "duration": 115,
    "start_time": "2023-03-09T18:35:35.443Z"
   },
   {
    "duration": 4,
    "start_time": "2023-03-09T18:35:39.271Z"
   },
   {
    "duration": 174,
    "start_time": "2023-03-09T18:35:54.409Z"
   },
   {
    "duration": 159,
    "start_time": "2023-03-09T18:36:53.156Z"
   },
   {
    "duration": 15,
    "start_time": "2023-03-09T18:36:59.204Z"
   },
   {
    "duration": 204,
    "start_time": "2023-03-09T18:37:04.042Z"
   },
   {
    "duration": 22,
    "start_time": "2023-03-09T18:37:14.060Z"
   },
   {
    "duration": 4,
    "start_time": "2023-03-09T18:37:14.436Z"
   },
   {
    "duration": 176,
    "start_time": "2023-03-09T18:37:14.858Z"
   },
   {
    "duration": 11,
    "start_time": "2023-03-09T18:40:42.338Z"
   },
   {
    "duration": 4,
    "start_time": "2023-03-09T18:41:18.994Z"
   },
   {
    "duration": 10,
    "start_time": "2023-03-09T18:43:26.193Z"
   },
   {
    "duration": 17,
    "start_time": "2023-03-09T18:44:15.660Z"
   },
   {
    "duration": 25,
    "start_time": "2023-03-09T18:44:18.001Z"
   },
   {
    "duration": 17,
    "start_time": "2023-03-09T18:44:25.287Z"
   },
   {
    "duration": 17,
    "start_time": "2023-03-09T18:45:14.995Z"
   },
   {
    "duration": 1448,
    "start_time": "2023-03-09T18:45:19.997Z"
   },
   {
    "duration": 242,
    "start_time": "2023-03-09T18:45:21.447Z"
   },
   {
    "duration": 26,
    "start_time": "2023-03-09T18:45:21.693Z"
   },
   {
    "duration": 17,
    "start_time": "2023-03-09T18:45:21.721Z"
   },
   {
    "duration": 22,
    "start_time": "2023-03-09T18:45:21.739Z"
   },
   {
    "duration": 17,
    "start_time": "2023-03-09T18:45:21.763Z"
   },
   {
    "duration": 74,
    "start_time": "2023-03-09T18:45:21.782Z"
   },
   {
    "duration": 139,
    "start_time": "2023-03-09T18:45:21.858Z"
   },
   {
    "duration": 258,
    "start_time": "2023-03-09T18:45:21.998Z"
   },
   {
    "duration": 16,
    "start_time": "2023-03-09T18:45:22.257Z"
   },
   {
    "duration": 4,
    "start_time": "2023-03-09T18:45:22.274Z"
   },
   {
    "duration": 215,
    "start_time": "2023-03-09T18:45:22.280Z"
   },
   {
    "duration": 20,
    "start_time": "2023-03-09T18:45:22.499Z"
   },
   {
    "duration": 1037,
    "start_time": "2023-03-09T18:45:22.521Z"
   },
   {
    "duration": 6,
    "start_time": "2023-03-09T18:45:23.559Z"
   },
   {
    "duration": 4,
    "start_time": "2023-03-09T18:45:23.567Z"
   },
   {
    "duration": 258,
    "start_time": "2023-03-09T18:45:23.573Z"
   },
   {
    "duration": 18,
    "start_time": "2023-03-09T18:45:23.832Z"
   },
   {
    "duration": 1174,
    "start_time": "2023-03-09T18:45:23.852Z"
   },
   {
    "duration": 17,
    "start_time": "2023-03-09T18:45:25.028Z"
   },
   {
    "duration": 104,
    "start_time": "2023-03-09T18:45:25.046Z"
   },
   {
    "duration": 11,
    "start_time": "2023-03-09T18:45:25.152Z"
   },
   {
    "duration": 83,
    "start_time": "2023-03-09T18:45:25.164Z"
   },
   {
    "duration": 45,
    "start_time": "2023-03-09T18:45:25.249Z"
   },
   {
    "duration": 57,
    "start_time": "2023-03-09T18:45:25.296Z"
   },
   {
    "duration": 4,
    "start_time": "2023-03-09T18:45:25.356Z"
   },
   {
    "duration": 12,
    "start_time": "2023-03-09T18:45:25.362Z"
   },
   {
    "duration": 9,
    "start_time": "2023-03-09T18:45:25.377Z"
   },
   {
    "duration": 107,
    "start_time": "2023-03-09T18:45:25.388Z"
   },
   {
    "duration": 1232,
    "start_time": "2023-03-09T18:45:25.497Z"
   },
   {
    "duration": 9,
    "start_time": "2023-03-09T18:45:26.731Z"
   },
   {
    "duration": 230,
    "start_time": "2023-03-09T18:45:26.742Z"
   },
   {
    "duration": 316,
    "start_time": "2023-03-09T18:45:26.974Z"
   },
   {
    "duration": 263,
    "start_time": "2023-03-09T18:45:27.292Z"
   },
   {
    "duration": 15,
    "start_time": "2023-03-09T18:45:27.556Z"
   },
   {
    "duration": 8,
    "start_time": "2023-03-09T18:45:27.574Z"
   },
   {
    "duration": 37,
    "start_time": "2023-03-09T18:45:27.584Z"
   },
   {
    "duration": 129,
    "start_time": "2023-03-09T18:45:27.623Z"
   },
   {
    "duration": 0,
    "start_time": "2023-03-09T18:45:27.754Z"
   },
   {
    "duration": 19,
    "start_time": "2023-03-09T18:47:38.729Z"
   },
   {
    "duration": 9,
    "start_time": "2023-03-09T18:47:55.038Z"
   },
   {
    "duration": 76,
    "start_time": "2023-03-09T18:47:59.197Z"
   },
   {
    "duration": 20,
    "start_time": "2023-03-09T18:48:12.237Z"
   },
   {
    "duration": 121,
    "start_time": "2023-03-09T18:49:20.335Z"
   },
   {
    "duration": 5,
    "start_time": "2023-03-09T18:53:33.243Z"
   },
   {
    "duration": 5,
    "start_time": "2023-03-09T18:54:29.923Z"
   },
   {
    "duration": 10,
    "start_time": "2023-03-09T18:58:46.398Z"
   },
   {
    "duration": 6,
    "start_time": "2023-03-09T18:59:48.250Z"
   },
   {
    "duration": 4,
    "start_time": "2023-03-09T19:05:00.582Z"
   },
   {
    "duration": 14,
    "start_time": "2023-03-09T19:06:13.329Z"
   },
   {
    "duration": 5,
    "start_time": "2023-03-09T19:06:27.118Z"
   },
   {
    "duration": 7,
    "start_time": "2023-03-09T19:12:17.422Z"
   },
   {
    "duration": 19,
    "start_time": "2023-03-09T19:12:24.568Z"
   },
   {
    "duration": 20,
    "start_time": "2023-03-09T19:14:03.502Z"
   },
   {
    "duration": 5,
    "start_time": "2023-03-09T19:15:07.156Z"
   },
   {
    "duration": 6,
    "start_time": "2023-03-09T19:15:58.314Z"
   },
   {
    "duration": 24,
    "start_time": "2023-03-09T19:16:18.653Z"
   },
   {
    "duration": 26,
    "start_time": "2023-03-09T19:16:34.021Z"
   },
   {
    "duration": 7,
    "start_time": "2023-03-09T19:17:53.969Z"
   },
   {
    "duration": 26,
    "start_time": "2023-03-09T19:17:56.284Z"
   },
   {
    "duration": 23,
    "start_time": "2023-03-09T19:17:58.184Z"
   },
   {
    "duration": 7,
    "start_time": "2023-03-09T19:18:03.297Z"
   },
   {
    "duration": 10,
    "start_time": "2023-03-09T19:18:24.246Z"
   },
   {
    "duration": 13,
    "start_time": "2023-03-09T19:19:23.354Z"
   },
   {
    "duration": 23,
    "start_time": "2023-03-09T19:22:40.142Z"
   },
   {
    "duration": 29,
    "start_time": "2023-03-09T19:23:11.373Z"
   },
   {
    "duration": 95,
    "start_time": "2023-03-09T19:23:23.842Z"
   },
   {
    "duration": 424,
    "start_time": "2023-03-09T19:23:53.077Z"
   },
   {
    "duration": 9,
    "start_time": "2023-03-09T19:24:01.805Z"
   },
   {
    "duration": 13,
    "start_time": "2023-03-09T19:24:02.283Z"
   },
   {
    "duration": 58,
    "start_time": "2023-03-09T19:24:02.800Z"
   },
   {
    "duration": 11,
    "start_time": "2023-03-09T19:27:28.426Z"
   },
   {
    "duration": 98,
    "start_time": "2023-03-09T19:30:44.296Z"
   },
   {
    "duration": 11,
    "start_time": "2023-03-09T19:30:52.033Z"
   },
   {
    "duration": 10,
    "start_time": "2023-03-09T19:31:02.051Z"
   },
   {
    "duration": 1156,
    "start_time": "2023-03-09T19:31:08.309Z"
   },
   {
    "duration": 1223,
    "start_time": "2023-03-09T19:31:13.780Z"
   },
   {
    "duration": 11,
    "start_time": "2023-03-09T19:31:26.339Z"
   },
   {
    "duration": 10,
    "start_time": "2023-03-09T19:31:33.957Z"
   },
   {
    "duration": 141,
    "start_time": "2023-03-09T19:31:39.956Z"
   },
   {
    "duration": 4,
    "start_time": "2023-03-09T19:33:50.408Z"
   },
   {
    "duration": 10,
    "start_time": "2023-03-09T19:33:56.206Z"
   },
   {
    "duration": 3,
    "start_time": "2023-03-09T19:34:11.456Z"
   },
   {
    "duration": 3,
    "start_time": "2023-03-09T19:34:20.262Z"
   },
   {
    "duration": 9,
    "start_time": "2023-03-09T19:34:32.449Z"
   },
   {
    "duration": 6,
    "start_time": "2023-03-09T19:34:44.540Z"
   },
   {
    "duration": 8,
    "start_time": "2023-03-09T19:34:59.713Z"
   },
   {
    "duration": 11,
    "start_time": "2023-03-09T19:35:01.884Z"
   },
   {
    "duration": 4,
    "start_time": "2023-03-09T19:35:09.877Z"
   },
   {
    "duration": 7,
    "start_time": "2023-03-09T19:35:18.198Z"
   },
   {
    "duration": 3,
    "start_time": "2023-03-09T19:35:25.450Z"
   },
   {
    "duration": 4,
    "start_time": "2023-03-09T19:36:42.743Z"
   },
   {
    "duration": 13,
    "start_time": "2023-03-09T19:37:36.736Z"
   },
   {
    "duration": 5,
    "start_time": "2023-03-09T19:37:48.191Z"
   },
   {
    "duration": 6,
    "start_time": "2023-03-09T19:38:00.278Z"
   },
   {
    "duration": 11,
    "start_time": "2023-03-09T19:38:35.403Z"
   },
   {
    "duration": 12,
    "start_time": "2023-03-09T19:38:58.127Z"
   },
   {
    "duration": 1605,
    "start_time": "2023-03-09T19:39:03.097Z"
   },
   {
    "duration": 238,
    "start_time": "2023-03-09T19:39:04.704Z"
   },
   {
    "duration": 33,
    "start_time": "2023-03-09T19:39:04.944Z"
   },
   {
    "duration": 45,
    "start_time": "2023-03-09T19:39:04.980Z"
   },
   {
    "duration": 25,
    "start_time": "2023-03-09T19:39:05.027Z"
   },
   {
    "duration": 29,
    "start_time": "2023-03-09T19:39:05.055Z"
   },
   {
    "duration": 78,
    "start_time": "2023-03-09T19:39:05.086Z"
   },
   {
    "duration": 168,
    "start_time": "2023-03-09T19:39:05.165Z"
   },
   {
    "duration": 299,
    "start_time": "2023-03-09T19:39:05.335Z"
   },
   {
    "duration": 19,
    "start_time": "2023-03-09T19:39:05.637Z"
   },
   {
    "duration": 9,
    "start_time": "2023-03-09T19:39:05.658Z"
   },
   {
    "duration": 243,
    "start_time": "2023-03-09T19:39:05.669Z"
   },
   {
    "duration": 14,
    "start_time": "2023-03-09T19:39:05.914Z"
   },
   {
    "duration": 1140,
    "start_time": "2023-03-09T19:39:05.931Z"
   },
   {
    "duration": 9,
    "start_time": "2023-03-09T19:39:07.072Z"
   },
   {
    "duration": 8,
    "start_time": "2023-03-09T19:39:07.082Z"
   },
   {
    "duration": 285,
    "start_time": "2023-03-09T19:39:07.093Z"
   },
   {
    "duration": 20,
    "start_time": "2023-03-09T19:39:07.380Z"
   },
   {
    "duration": 1133,
    "start_time": "2023-03-09T19:39:07.412Z"
   },
   {
    "duration": 15,
    "start_time": "2023-03-09T19:39:08.546Z"
   },
   {
    "duration": 101,
    "start_time": "2023-03-09T19:39:08.563Z"
   },
   {
    "duration": 11,
    "start_time": "2023-03-09T19:39:08.666Z"
   },
   {
    "duration": 79,
    "start_time": "2023-03-09T19:39:08.678Z"
   },
   {
    "duration": 31,
    "start_time": "2023-03-09T19:39:08.759Z"
   },
   {
    "duration": 59,
    "start_time": "2023-03-09T19:39:08.792Z"
   },
   {
    "duration": 3,
    "start_time": "2023-03-09T19:39:08.853Z"
   },
   {
    "duration": 5,
    "start_time": "2023-03-09T19:39:08.858Z"
   },
   {
    "duration": 5,
    "start_time": "2023-03-09T19:39:08.866Z"
   },
   {
    "duration": 114,
    "start_time": "2023-03-09T19:39:08.873Z"
   },
   {
    "duration": 1176,
    "start_time": "2023-03-09T19:39:08.988Z"
   },
   {
    "duration": 9,
    "start_time": "2023-03-09T19:39:10.166Z"
   },
   {
    "duration": 234,
    "start_time": "2023-03-09T19:39:10.177Z"
   },
   {
    "duration": 310,
    "start_time": "2023-03-09T19:39:10.414Z"
   },
   {
    "duration": 261,
    "start_time": "2023-03-09T19:39:10.726Z"
   },
   {
    "duration": 23,
    "start_time": "2023-03-09T19:39:10.989Z"
   },
   {
    "duration": 5,
    "start_time": "2023-03-09T19:39:11.015Z"
   },
   {
    "duration": 18,
    "start_time": "2023-03-09T19:39:11.022Z"
   },
   {
    "duration": 9,
    "start_time": "2023-03-09T19:39:11.043Z"
   },
   {
    "duration": 8,
    "start_time": "2023-03-09T19:39:11.054Z"
   },
   {
    "duration": 190,
    "start_time": "2023-03-09T19:39:11.065Z"
   },
   {
    "duration": 102,
    "start_time": "2023-03-09T19:44:28.533Z"
   },
   {
    "duration": 5,
    "start_time": "2023-03-09T19:44:31.047Z"
   },
   {
    "duration": 10,
    "start_time": "2023-03-09T19:44:31.212Z"
   },
   {
    "duration": 71285,
    "start_time": "2023-03-09T19:44:48.057Z"
   },
   {
    "duration": 4,
    "start_time": "2023-03-09T19:49:44.659Z"
   },
   {
    "duration": 18,
    "start_time": "2023-03-09T19:49:46.513Z"
   },
   {
    "duration": 4,
    "start_time": "2023-03-09T19:49:46.736Z"
   },
   {
    "duration": 7,
    "start_time": "2023-03-09T19:59:58.252Z"
   },
   {
    "duration": 9,
    "start_time": "2023-03-09T20:00:14.290Z"
   },
   {
    "duration": 5,
    "start_time": "2023-03-09T20:00:33.105Z"
   },
   {
    "duration": 4,
    "start_time": "2023-03-09T20:00:37.536Z"
   },
   {
    "duration": 4,
    "start_time": "2023-03-09T20:00:40.049Z"
   },
   {
    "duration": 4,
    "start_time": "2023-03-09T20:00:43.074Z"
   },
   {
    "duration": 4,
    "start_time": "2023-03-09T20:00:44.404Z"
   },
   {
    "duration": 7,
    "start_time": "2023-03-09T20:00:49.209Z"
   },
   {
    "duration": 9,
    "start_time": "2023-03-09T20:00:57.374Z"
   },
   {
    "duration": 8,
    "start_time": "2023-03-09T20:02:01.393Z"
   },
   {
    "duration": 4,
    "start_time": "2023-03-09T20:02:06.234Z"
   },
   {
    "duration": 207,
    "start_time": "2023-03-09T20:02:12.896Z"
   },
   {
    "duration": 5,
    "start_time": "2023-03-09T20:02:16.810Z"
   },
   {
    "duration": 3,
    "start_time": "2023-03-09T20:02:21.488Z"
   },
   {
    "duration": 9,
    "start_time": "2023-03-09T20:02:24.286Z"
   },
   {
    "duration": 10,
    "start_time": "2023-03-09T20:02:36.364Z"
   },
   {
    "duration": 4,
    "start_time": "2023-03-09T20:02:37.703Z"
   },
   {
    "duration": 7,
    "start_time": "2023-03-09T20:02:55.229Z"
   },
   {
    "duration": 15,
    "start_time": "2023-03-09T20:03:03.020Z"
   },
   {
    "duration": 13,
    "start_time": "2023-03-09T20:03:10.310Z"
   },
   {
    "duration": 13,
    "start_time": "2023-03-09T20:03:40.681Z"
   },
   {
    "duration": 5023,
    "start_time": "2023-03-09T20:03:48.442Z"
   },
   {
    "duration": 92703,
    "start_time": "2023-03-09T20:04:11.238Z"
   },
   {
    "duration": 105,
    "start_time": "2023-03-09T20:06:06.175Z"
   },
   {
    "duration": 1372,
    "start_time": "2023-03-09T20:16:56.878Z"
   },
   {
    "duration": 240,
    "start_time": "2023-03-09T20:16:58.252Z"
   },
   {
    "duration": 26,
    "start_time": "2023-03-09T20:16:58.494Z"
   },
   {
    "duration": 19,
    "start_time": "2023-03-09T20:16:58.522Z"
   },
   {
    "duration": 20,
    "start_time": "2023-03-09T20:16:58.544Z"
   },
   {
    "duration": 46,
    "start_time": "2023-03-09T20:16:58.566Z"
   },
   {
    "duration": 49,
    "start_time": "2023-03-09T20:16:58.614Z"
   },
   {
    "duration": 152,
    "start_time": "2023-03-09T20:16:58.665Z"
   },
   {
    "duration": 254,
    "start_time": "2023-03-09T20:16:58.819Z"
   },
   {
    "duration": 17,
    "start_time": "2023-03-09T20:16:59.075Z"
   },
   {
    "duration": 19,
    "start_time": "2023-03-09T20:16:59.094Z"
   },
   {
    "duration": 211,
    "start_time": "2023-03-09T20:16:59.115Z"
   },
   {
    "duration": 14,
    "start_time": "2023-03-09T20:16:59.328Z"
   },
   {
    "duration": 1080,
    "start_time": "2023-03-09T20:16:59.346Z"
   },
   {
    "duration": 6,
    "start_time": "2023-03-09T20:17:00.428Z"
   },
   {
    "duration": 31,
    "start_time": "2023-03-09T20:17:00.436Z"
   },
   {
    "duration": 277,
    "start_time": "2023-03-09T20:17:00.469Z"
   },
   {
    "duration": 18,
    "start_time": "2023-03-09T20:17:00.747Z"
   },
   {
    "duration": 1192,
    "start_time": "2023-03-09T20:17:00.767Z"
   },
   {
    "duration": 16,
    "start_time": "2023-03-09T20:17:01.960Z"
   },
   {
    "duration": 88,
    "start_time": "2023-03-09T20:17:01.978Z"
   },
   {
    "duration": 9,
    "start_time": "2023-03-09T20:17:02.068Z"
   },
   {
    "duration": 151,
    "start_time": "2023-03-09T20:17:02.080Z"
   },
   {
    "duration": 92,
    "start_time": "2023-03-09T20:17:02.232Z"
   },
   {
    "duration": 43,
    "start_time": "2023-03-09T20:17:02.325Z"
   },
   {
    "duration": 4,
    "start_time": "2023-03-09T20:17:02.370Z"
   },
   {
    "duration": 19,
    "start_time": "2023-03-09T20:17:02.375Z"
   },
   {
    "duration": 16,
    "start_time": "2023-03-09T20:17:02.395Z"
   },
   {
    "duration": 140,
    "start_time": "2023-03-09T20:17:02.413Z"
   },
   {
    "duration": 1144,
    "start_time": "2023-03-09T20:17:02.555Z"
   },
   {
    "duration": 11,
    "start_time": "2023-03-09T20:17:03.701Z"
   },
   {
    "duration": 212,
    "start_time": "2023-03-09T20:17:03.713Z"
   },
   {
    "duration": 372,
    "start_time": "2023-03-09T20:17:03.926Z"
   },
   {
    "duration": 255,
    "start_time": "2023-03-09T20:17:04.300Z"
   },
   {
    "duration": 27,
    "start_time": "2023-03-09T20:17:04.557Z"
   },
   {
    "duration": 5,
    "start_time": "2023-03-09T20:17:04.586Z"
   },
   {
    "duration": 31,
    "start_time": "2023-03-09T20:17:04.593Z"
   },
   {
    "duration": 4,
    "start_time": "2023-03-09T20:17:04.626Z"
   },
   {
    "duration": 49537,
    "start_time": "2023-03-09T20:17:04.632Z"
   },
   {
    "duration": 139,
    "start_time": "2023-03-09T20:17:54.171Z"
   },
   {
    "duration": 108,
    "start_time": "2023-03-09T20:18:43.362Z"
   },
   {
    "duration": 8309,
    "start_time": "2023-03-09T20:19:09.657Z"
   },
   {
    "duration": 94,
    "start_time": "2023-03-09T20:19:24.757Z"
   },
   {
    "duration": 279,
    "start_time": "2023-03-09T20:19:38.578Z"
   },
   {
    "duration": 302,
    "start_time": "2023-03-09T20:20:00.266Z"
   },
   {
    "duration": 1463,
    "start_time": "2023-03-09T20:20:09.199Z"
   },
   {
    "duration": 216,
    "start_time": "2023-03-09T20:20:10.664Z"
   },
   {
    "duration": 27,
    "start_time": "2023-03-09T20:20:10.882Z"
   },
   {
    "duration": 17,
    "start_time": "2023-03-09T20:20:10.912Z"
   },
   {
    "duration": 21,
    "start_time": "2023-03-09T20:20:10.931Z"
   },
   {
    "duration": 19,
    "start_time": "2023-03-09T20:20:10.953Z"
   },
   {
    "duration": 77,
    "start_time": "2023-03-09T20:20:10.974Z"
   },
   {
    "duration": 133,
    "start_time": "2023-03-09T20:20:11.053Z"
   },
   {
    "duration": 235,
    "start_time": "2023-03-09T20:20:11.188Z"
   },
   {
    "duration": 15,
    "start_time": "2023-03-09T20:20:11.425Z"
   },
   {
    "duration": 5,
    "start_time": "2023-03-09T20:20:11.442Z"
   },
   {
    "duration": 229,
    "start_time": "2023-03-09T20:20:11.448Z"
   },
   {
    "duration": 13,
    "start_time": "2023-03-09T20:20:11.679Z"
   },
   {
    "duration": 1042,
    "start_time": "2023-03-09T20:20:11.694Z"
   },
   {
    "duration": 6,
    "start_time": "2023-03-09T20:20:12.738Z"
   },
   {
    "duration": 7,
    "start_time": "2023-03-09T20:20:12.746Z"
   },
   {
    "duration": 248,
    "start_time": "2023-03-09T20:20:12.755Z"
   },
   {
    "duration": 22,
    "start_time": "2023-03-09T20:20:13.004Z"
   },
   {
    "duration": 1106,
    "start_time": "2023-03-09T20:20:13.028Z"
   },
   {
    "duration": 20,
    "start_time": "2023-03-09T20:20:14.137Z"
   },
   {
    "duration": 110,
    "start_time": "2023-03-09T20:20:14.159Z"
   },
   {
    "duration": 9,
    "start_time": "2023-03-09T20:20:14.271Z"
   },
   {
    "duration": 87,
    "start_time": "2023-03-09T20:20:14.282Z"
   },
   {
    "duration": 45,
    "start_time": "2023-03-09T20:20:14.370Z"
   },
   {
    "duration": 51,
    "start_time": "2023-03-09T20:20:14.417Z"
   },
   {
    "duration": 4,
    "start_time": "2023-03-09T20:20:14.470Z"
   },
   {
    "duration": 7,
    "start_time": "2023-03-09T20:20:14.475Z"
   },
   {
    "duration": 6,
    "start_time": "2023-03-09T20:20:14.484Z"
   },
   {
    "duration": 110,
    "start_time": "2023-03-09T20:20:14.515Z"
   },
   {
    "duration": 1136,
    "start_time": "2023-03-09T20:20:14.627Z"
   },
   {
    "duration": 8,
    "start_time": "2023-03-09T20:20:15.766Z"
   },
   {
    "duration": 244,
    "start_time": "2023-03-09T20:20:15.776Z"
   },
   {
    "duration": 309,
    "start_time": "2023-03-09T20:20:16.022Z"
   },
   {
    "duration": 256,
    "start_time": "2023-03-09T20:20:16.333Z"
   },
   {
    "duration": 21,
    "start_time": "2023-03-09T20:20:16.591Z"
   },
   {
    "duration": 5,
    "start_time": "2023-03-09T20:20:16.613Z"
   },
   {
    "duration": 20,
    "start_time": "2023-03-09T20:20:16.619Z"
   },
   {
    "duration": 4,
    "start_time": "2023-03-09T20:20:16.640Z"
   },
   {
    "duration": 4750,
    "start_time": "2023-03-09T20:20:16.646Z"
   },
   {
    "duration": 279,
    "start_time": "2023-03-09T20:20:21.398Z"
   },
   {
    "duration": 29,
    "start_time": "2023-03-09T20:21:26.416Z"
   },
   {
    "duration": 3,
    "start_time": "2023-03-09T20:21:32.657Z"
   },
   {
    "duration": 109,
    "start_time": "2023-03-09T20:22:24.420Z"
   },
   {
    "duration": 8,
    "start_time": "2023-03-09T20:22:29.678Z"
   },
   {
    "duration": 4,
    "start_time": "2023-03-09T20:22:33.209Z"
   },
   {
    "duration": 10,
    "start_time": "2023-03-09T20:22:43.894Z"
   },
   {
    "duration": 24,
    "start_time": "2023-03-09T20:22:54.151Z"
   },
   {
    "duration": 17,
    "start_time": "2023-03-09T20:23:01.617Z"
   },
   {
    "duration": 4,
    "start_time": "2023-03-09T20:23:13.499Z"
   },
   {
    "duration": 27,
    "start_time": "2023-03-09T20:23:17.406Z"
   },
   {
    "duration": 3,
    "start_time": "2023-03-09T20:23:22.623Z"
   },
   {
    "duration": 9,
    "start_time": "2023-03-09T20:24:29.942Z"
   },
   {
    "duration": 10,
    "start_time": "2023-03-09T20:24:40.502Z"
   },
   {
    "duration": 4,
    "start_time": "2023-03-09T20:24:43.644Z"
   },
   {
    "duration": 4,
    "start_time": "2023-03-09T20:24:48.935Z"
   },
   {
    "duration": 9,
    "start_time": "2023-03-09T20:24:52.408Z"
   },
   {
    "duration": 9,
    "start_time": "2023-03-09T20:24:56.495Z"
   },
   {
    "duration": 4,
    "start_time": "2023-03-09T20:24:59.340Z"
   },
   {
    "duration": 10,
    "start_time": "2023-03-09T20:25:25.943Z"
   },
   {
    "duration": 5,
    "start_time": "2023-03-09T20:25:32.618Z"
   },
   {
    "duration": 4,
    "start_time": "2023-03-09T20:25:44.269Z"
   },
   {
    "duration": 10,
    "start_time": "2023-03-09T20:26:37.022Z"
   },
   {
    "duration": 4,
    "start_time": "2023-03-09T20:26:42.521Z"
   },
   {
    "duration": 10,
    "start_time": "2023-03-09T20:27:45.718Z"
   },
   {
    "duration": 4,
    "start_time": "2023-03-09T20:27:56.974Z"
   },
   {
    "duration": 102,
    "start_time": "2023-03-09T20:28:17.802Z"
   },
   {
    "duration": 1786,
    "start_time": "2023-03-10T05:57:18.515Z"
   },
   {
    "duration": 835,
    "start_time": "2023-03-10T05:57:20.303Z"
   },
   {
    "duration": 30,
    "start_time": "2023-03-10T05:57:21.140Z"
   },
   {
    "duration": 20,
    "start_time": "2023-03-10T05:57:21.172Z"
   },
   {
    "duration": 22,
    "start_time": "2023-03-10T05:57:21.195Z"
   },
   {
    "duration": 17,
    "start_time": "2023-03-10T05:57:21.242Z"
   },
   {
    "duration": 77,
    "start_time": "2023-03-10T05:57:21.260Z"
   },
   {
    "duration": 127,
    "start_time": "2023-03-10T05:57:21.339Z"
   },
   {
    "duration": 244,
    "start_time": "2023-03-10T05:57:21.468Z"
   },
   {
    "duration": 33,
    "start_time": "2023-03-10T05:57:21.714Z"
   },
   {
    "duration": 3,
    "start_time": "2023-03-10T05:57:21.749Z"
   },
   {
    "duration": 222,
    "start_time": "2023-03-10T05:57:21.754Z"
   },
   {
    "duration": 14,
    "start_time": "2023-03-10T05:57:21.978Z"
   },
   {
    "duration": 1053,
    "start_time": "2023-03-10T05:57:21.994Z"
   },
   {
    "duration": 6,
    "start_time": "2023-03-10T05:57:23.048Z"
   },
   {
    "duration": 5,
    "start_time": "2023-03-10T05:57:23.056Z"
   },
   {
    "duration": 261,
    "start_time": "2023-03-10T05:57:23.063Z"
   },
   {
    "duration": 24,
    "start_time": "2023-03-10T05:57:23.326Z"
   },
   {
    "duration": 1092,
    "start_time": "2023-03-10T05:57:23.352Z"
   },
   {
    "duration": 15,
    "start_time": "2023-03-10T05:57:24.445Z"
   },
   {
    "duration": 97,
    "start_time": "2023-03-10T05:57:24.461Z"
   },
   {
    "duration": 9,
    "start_time": "2023-03-10T05:57:24.560Z"
   },
   {
    "duration": 73,
    "start_time": "2023-03-10T05:57:24.571Z"
   },
   {
    "duration": 33,
    "start_time": "2023-03-10T05:57:24.646Z"
   },
   {
    "duration": 60,
    "start_time": "2023-03-10T05:57:24.681Z"
   },
   {
    "duration": 3,
    "start_time": "2023-03-10T05:57:24.743Z"
   },
   {
    "duration": 11,
    "start_time": "2023-03-10T05:57:24.747Z"
   },
   {
    "duration": 5,
    "start_time": "2023-03-10T05:57:24.760Z"
   },
   {
    "duration": 114,
    "start_time": "2023-03-10T05:57:24.767Z"
   },
   {
    "duration": 1153,
    "start_time": "2023-03-10T05:57:24.882Z"
   },
   {
    "duration": 8,
    "start_time": "2023-03-10T05:57:26.037Z"
   },
   {
    "duration": 215,
    "start_time": "2023-03-10T05:57:26.047Z"
   },
   {
    "duration": 294,
    "start_time": "2023-03-10T05:57:26.264Z"
   },
   {
    "duration": 254,
    "start_time": "2023-03-10T05:57:26.560Z"
   },
   {
    "duration": 32,
    "start_time": "2023-03-10T05:57:26.816Z"
   },
   {
    "duration": 5,
    "start_time": "2023-03-10T05:57:26.849Z"
   },
   {
    "duration": 19,
    "start_time": "2023-03-10T05:57:26.855Z"
   },
   {
    "duration": 4,
    "start_time": "2023-03-10T05:57:26.876Z"
   },
   {
    "duration": 31184,
    "start_time": "2023-03-10T05:57:26.882Z"
   },
   {
    "duration": 104,
    "start_time": "2023-03-10T05:57:58.068Z"
   },
   {
    "duration": 138,
    "start_time": "2023-03-10T06:37:44.411Z"
   },
   {
    "duration": 3,
    "start_time": "2023-03-10T06:37:57.706Z"
   },
   {
    "duration": 121,
    "start_time": "2023-03-10T06:38:24.749Z"
   },
   {
    "duration": 145,
    "start_time": "2023-03-10T06:38:26.957Z"
   },
   {
    "duration": 2692,
    "start_time": "2023-03-10T06:55:21.152Z"
   },
   {
    "duration": 603,
    "start_time": "2023-03-10T06:55:23.850Z"
   },
   {
    "duration": 90,
    "start_time": "2023-03-10T06:55:24.455Z"
   },
   {
    "duration": 36,
    "start_time": "2023-03-10T06:55:24.550Z"
   },
   {
    "duration": 30,
    "start_time": "2023-03-10T06:55:24.643Z"
   },
   {
    "duration": 69,
    "start_time": "2023-03-10T06:55:24.675Z"
   },
   {
    "duration": 128,
    "start_time": "2023-03-10T06:55:24.746Z"
   },
   {
    "duration": 382,
    "start_time": "2023-03-10T06:55:24.876Z"
   },
   {
    "duration": 806,
    "start_time": "2023-03-10T06:55:25.260Z"
   },
   {
    "duration": 82,
    "start_time": "2023-03-10T06:55:26.068Z"
   },
   {
    "duration": 6,
    "start_time": "2023-03-10T06:55:26.164Z"
   },
   {
    "duration": 610,
    "start_time": "2023-03-10T06:55:26.173Z"
   },
   {
    "duration": 73,
    "start_time": "2023-03-10T06:55:26.786Z"
   },
   {
    "duration": 2803,
    "start_time": "2023-03-10T06:55:26.864Z"
   },
   {
    "duration": 7,
    "start_time": "2023-03-10T06:55:29.678Z"
   },
   {
    "duration": 8,
    "start_time": "2023-03-10T06:55:29.744Z"
   },
   {
    "duration": 690,
    "start_time": "2023-03-10T06:55:29.754Z"
   },
   {
    "duration": 21,
    "start_time": "2023-03-10T06:55:30.446Z"
   },
   {
    "duration": 2914,
    "start_time": "2023-03-10T06:55:30.469Z"
   },
   {
    "duration": 67,
    "start_time": "2023-03-10T06:55:33.385Z"
   },
   {
    "duration": 222,
    "start_time": "2023-03-10T06:55:33.454Z"
   },
   {
    "duration": 70,
    "start_time": "2023-03-10T06:55:33.677Z"
   },
   {
    "duration": 201,
    "start_time": "2023-03-10T06:55:33.749Z"
   },
   {
    "duration": 108,
    "start_time": "2023-03-10T06:55:33.952Z"
   },
   {
    "duration": 117,
    "start_time": "2023-03-10T06:55:34.063Z"
   },
   {
    "duration": 3,
    "start_time": "2023-03-10T06:55:34.182Z"
   },
   {
    "duration": 8,
    "start_time": "2023-03-10T06:55:34.246Z"
   },
   {
    "duration": 9,
    "start_time": "2023-03-10T06:55:34.260Z"
   },
   {
    "duration": 312,
    "start_time": "2023-03-10T06:55:34.271Z"
   },
   {
    "duration": 3674,
    "start_time": "2023-03-10T06:55:34.585Z"
   },
   {
    "duration": 12,
    "start_time": "2023-03-10T06:55:38.261Z"
   },
   {
    "duration": 592,
    "start_time": "2023-03-10T06:55:38.275Z"
   },
   {
    "duration": 786,
    "start_time": "2023-03-10T06:55:38.869Z"
   },
   {
    "duration": 628,
    "start_time": "2023-03-10T06:55:39.658Z"
   },
   {
    "duration": 25,
    "start_time": "2023-03-10T06:55:40.340Z"
   },
   {
    "duration": 6,
    "start_time": "2023-03-10T06:55:40.366Z"
   },
   {
    "duration": 2397,
    "start_time": "2023-03-10T06:55:40.374Z"
   },
   {
    "duration": 0,
    "start_time": "2023-03-10T06:55:42.773Z"
   },
   {
    "duration": 0,
    "start_time": "2023-03-10T06:55:42.774Z"
   },
   {
    "duration": 0,
    "start_time": "2023-03-10T06:55:42.775Z"
   },
   {
    "duration": 0,
    "start_time": "2023-03-10T06:55:42.776Z"
   },
   {
    "duration": 0,
    "start_time": "2023-03-10T06:55:42.778Z"
   },
   {
    "duration": 77,
    "start_time": "2023-03-10T06:56:34.469Z"
   },
   {
    "duration": 18,
    "start_time": "2023-03-10T06:57:17.393Z"
   },
   {
    "duration": 15,
    "start_time": "2023-03-10T06:57:32.529Z"
   },
   {
    "duration": 536,
    "start_time": "2023-03-10T06:57:32.734Z"
   },
   {
    "duration": 56,
    "start_time": "2023-03-10T06:57:33.531Z"
   },
   {
    "duration": 43,
    "start_time": "2023-03-10T06:57:33.736Z"
   },
   {
    "duration": 41,
    "start_time": "2023-03-10T06:57:33.935Z"
   },
   {
    "duration": 20,
    "start_time": "2023-03-10T06:57:34.169Z"
   },
   {
    "duration": 85,
    "start_time": "2023-03-10T06:57:34.583Z"
   },
   {
    "duration": 282,
    "start_time": "2023-03-10T06:57:35.206Z"
   },
   {
    "duration": 614,
    "start_time": "2023-03-10T06:57:35.654Z"
   },
   {
    "duration": 90,
    "start_time": "2023-03-10T06:57:36.273Z"
   },
   {
    "duration": 4,
    "start_time": "2023-03-10T06:57:36.491Z"
   },
   {
    "duration": 585,
    "start_time": "2023-03-10T06:57:37.167Z"
   },
   {
    "duration": 22,
    "start_time": "2023-03-10T06:57:37.755Z"
   },
   {
    "duration": 2652,
    "start_time": "2023-03-10T06:57:38.223Z"
   },
   {
    "duration": 6,
    "start_time": "2023-03-10T06:57:40.877Z"
   },
   {
    "duration": 76,
    "start_time": "2023-03-10T06:57:40.884Z"
   },
   {
    "duration": 701,
    "start_time": "2023-03-10T06:57:40.963Z"
   },
   {
    "duration": 82,
    "start_time": "2023-03-10T06:57:41.666Z"
   },
   {
    "duration": 3223,
    "start_time": "2023-03-10T06:57:41.759Z"
   },
   {
    "duration": 76,
    "start_time": "2023-03-10T06:57:44.984Z"
   },
   {
    "duration": 216,
    "start_time": "2023-03-10T06:57:45.066Z"
   },
   {
    "duration": 73,
    "start_time": "2023-03-10T06:57:45.284Z"
   },
   {
    "duration": 191,
    "start_time": "2023-03-10T06:57:45.359Z"
   },
   {
    "duration": 120,
    "start_time": "2023-03-10T06:57:45.552Z"
   },
   {
    "duration": 176,
    "start_time": "2023-03-10T06:57:45.674Z"
   },
   {
    "duration": 12,
    "start_time": "2023-03-10T06:57:45.851Z"
   },
   {
    "duration": 8,
    "start_time": "2023-03-10T06:57:45.868Z"
   },
   {
    "duration": 5,
    "start_time": "2023-03-10T06:57:46.604Z"
   },
   {
    "duration": 389,
    "start_time": "2023-03-10T06:57:47.357Z"
   },
   {
    "duration": 3791,
    "start_time": "2023-03-10T06:57:48.765Z"
   },
   {
    "duration": 19,
    "start_time": "2023-03-10T06:57:52.564Z"
   },
   {
    "duration": 23,
    "start_time": "2023-03-10T06:57:54.669Z"
   },
   {
    "duration": 3144,
    "start_time": "2023-03-10T06:58:51.326Z"
   },
   {
    "duration": 11,
    "start_time": "2023-03-10T06:58:54.471Z"
   },
   {
    "duration": 566,
    "start_time": "2023-03-10T06:58:54.978Z"
   },
   {
    "duration": 102,
    "start_time": "2023-03-10T07:00:01.243Z"
   },
   {
    "duration": 68,
    "start_time": "2023-03-10T07:00:06.725Z"
   },
   {
    "duration": 629,
    "start_time": "2023-03-10T07:00:11.118Z"
   },
   {
    "duration": 557,
    "start_time": "2023-03-10T07:00:29.498Z"
   },
   {
    "duration": 607,
    "start_time": "2023-03-10T07:01:05.645Z"
   },
   {
    "duration": 635,
    "start_time": "2023-03-10T07:01:13.928Z"
   },
   {
    "duration": 560,
    "start_time": "2023-03-10T07:01:59.020Z"
   },
   {
    "duration": 499,
    "start_time": "2023-03-10T07:02:06.185Z"
   },
   {
    "duration": 278,
    "start_time": "2023-03-10T07:02:30.685Z"
   },
   {
    "duration": 584,
    "start_time": "2023-03-10T07:02:31.380Z"
   },
   {
    "duration": 538,
    "start_time": "2023-03-10T07:02:33.968Z"
   },
   {
    "duration": 597,
    "start_time": "2023-03-10T07:02:43.469Z"
   },
   {
    "duration": 565,
    "start_time": "2023-03-10T07:02:48.419Z"
   },
   {
    "duration": 571,
    "start_time": "2023-03-10T07:03:16.911Z"
   },
   {
    "duration": 521,
    "start_time": "2023-03-10T07:03:21.105Z"
   },
   {
    "duration": 3063,
    "start_time": "2023-03-10T07:03:30.820Z"
   },
   {
    "duration": 555,
    "start_time": "2023-03-10T07:03:33.886Z"
   },
   {
    "duration": 109,
    "start_time": "2023-03-10T07:03:34.447Z"
   },
   {
    "duration": 26,
    "start_time": "2023-03-10T07:03:34.560Z"
   },
   {
    "duration": 79,
    "start_time": "2023-03-10T07:03:34.588Z"
   },
   {
    "duration": 86,
    "start_time": "2023-03-10T07:03:34.669Z"
   },
   {
    "duration": 96,
    "start_time": "2023-03-10T07:03:34.763Z"
   },
   {
    "duration": 321,
    "start_time": "2023-03-10T07:03:34.861Z"
   },
   {
    "duration": 706,
    "start_time": "2023-03-10T07:03:35.185Z"
   },
   {
    "duration": 29,
    "start_time": "2023-03-10T07:03:35.941Z"
   },
   {
    "duration": 10,
    "start_time": "2023-03-10T07:03:35.971Z"
   },
   {
    "duration": 567,
    "start_time": "2023-03-10T07:03:35.983Z"
   },
   {
    "duration": 24,
    "start_time": "2023-03-10T07:03:36.552Z"
   },
   {
    "duration": 2988,
    "start_time": "2023-03-10T07:03:36.580Z"
   },
   {
    "duration": 6,
    "start_time": "2023-03-10T07:03:39.570Z"
   },
   {
    "duration": 5,
    "start_time": "2023-03-10T07:03:39.578Z"
   },
   {
    "duration": 702,
    "start_time": "2023-03-10T07:03:39.585Z"
   },
   {
    "duration": 77,
    "start_time": "2023-03-10T07:03:40.288Z"
   },
   {
    "duration": 2892,
    "start_time": "2023-03-10T07:03:40.367Z"
   },
   {
    "duration": 21,
    "start_time": "2023-03-10T07:03:43.262Z"
   },
   {
    "duration": 266,
    "start_time": "2023-03-10T07:03:43.285Z"
   },
   {
    "duration": 13,
    "start_time": "2023-03-10T07:03:43.557Z"
   },
   {
    "duration": 200,
    "start_time": "2023-03-10T07:03:43.574Z"
   },
   {
    "duration": 168,
    "start_time": "2023-03-10T07:03:43.778Z"
   },
   {
    "duration": 116,
    "start_time": "2023-03-10T07:03:43.956Z"
   },
   {
    "duration": 4,
    "start_time": "2023-03-10T07:03:44.074Z"
   },
   {
    "duration": 4,
    "start_time": "2023-03-10T07:03:44.080Z"
   },
   {
    "duration": 10,
    "start_time": "2023-03-10T07:03:44.141Z"
   },
   {
    "duration": 331,
    "start_time": "2023-03-10T07:03:44.154Z"
   },
   {
    "duration": 3291,
    "start_time": "2023-03-10T07:03:44.487Z"
   },
   {
    "duration": 11,
    "start_time": "2023-03-10T07:03:47.781Z"
   },
   {
    "duration": 625,
    "start_time": "2023-03-10T07:03:47.848Z"
   },
   {
    "duration": 880,
    "start_time": "2023-03-10T07:03:48.475Z"
   },
   {
    "duration": 717,
    "start_time": "2023-03-10T07:03:49.357Z"
   },
   {
    "duration": 15,
    "start_time": "2023-03-10T07:03:50.076Z"
   },
   {
    "duration": 14,
    "start_time": "2023-03-10T07:03:50.143Z"
   },
   {
    "duration": 2387,
    "start_time": "2023-03-10T07:03:50.159Z"
   },
   {
    "duration": 0,
    "start_time": "2023-03-10T07:03:52.556Z"
   },
   {
    "duration": 0,
    "start_time": "2023-03-10T07:03:52.557Z"
   },
   {
    "duration": 0,
    "start_time": "2023-03-10T07:03:52.558Z"
   },
   {
    "duration": 0,
    "start_time": "2023-03-10T07:03:52.559Z"
   },
   {
    "duration": 0,
    "start_time": "2023-03-10T07:03:52.561Z"
   },
   {
    "duration": 45,
    "start_time": "2023-03-10T07:05:45.019Z"
   },
   {
    "duration": 18,
    "start_time": "2023-03-10T07:05:48.689Z"
   },
   {
    "duration": 8,
    "start_time": "2023-03-10T07:05:53.079Z"
   },
   {
    "duration": 69,
    "start_time": "2023-03-10T07:05:56.381Z"
   },
   {
    "duration": 20,
    "start_time": "2023-03-10T07:06:16.685Z"
   },
   {
    "duration": 46,
    "start_time": "2023-03-10T07:06:19.919Z"
   },
   {
    "duration": 51,
    "start_time": "2023-03-10T07:06:25.441Z"
   },
   {
    "duration": 94915,
    "start_time": "2023-03-10T07:07:34.341Z"
   },
   {
    "duration": 0,
    "start_time": "2023-03-10T07:09:09.259Z"
   },
   {
    "duration": 51,
    "start_time": "2023-03-10T07:09:38.001Z"
   },
   {
    "duration": 21,
    "start_time": "2023-03-10T07:09:50.937Z"
   },
   {
    "duration": 11,
    "start_time": "2023-03-10T07:09:53.537Z"
   },
   {
    "duration": 48,
    "start_time": "2023-03-10T07:09:54.023Z"
   },
   {
    "duration": 55,
    "start_time": "2023-03-10T07:10:19.233Z"
   },
   {
    "duration": 36,
    "start_time": "2023-03-10T07:10:45.461Z"
   },
   {
    "duration": 7,
    "start_time": "2023-03-10T07:11:20.966Z"
   },
   {
    "duration": 33,
    "start_time": "2023-03-10T07:11:21.562Z"
   },
   {
    "duration": 5,
    "start_time": "2023-03-10T07:11:49.772Z"
   },
   {
    "duration": 74,
    "start_time": "2023-03-10T07:11:50.791Z"
   },
   {
    "duration": 5,
    "start_time": "2023-03-10T07:12:48.874Z"
   },
   {
    "duration": 38,
    "start_time": "2023-03-10T07:12:49.060Z"
   },
   {
    "duration": 7,
    "start_time": "2023-03-10T07:12:55.851Z"
   },
   {
    "duration": 87,
    "start_time": "2023-03-10T07:12:56.071Z"
   },
   {
    "duration": 7,
    "start_time": "2023-03-10T07:13:17.374Z"
   },
   {
    "duration": 30,
    "start_time": "2023-03-10T07:13:17.765Z"
   },
   {
    "duration": 686,
    "start_time": "2023-03-10T07:13:53.368Z"
   },
   {
    "duration": 707,
    "start_time": "2023-03-10T07:15:39.171Z"
   },
   {
    "duration": 45,
    "start_time": "2023-03-10T07:16:26.811Z"
   },
   {
    "duration": 47,
    "start_time": "2023-03-10T07:16:27.647Z"
   },
   {
    "duration": 4,
    "start_time": "2023-03-10T07:16:31.726Z"
   },
   {
    "duration": 579,
    "start_time": "2023-03-10T07:16:32.200Z"
   },
   {
    "duration": 2963,
    "start_time": "2023-03-10T07:29:55.224Z"
   },
   {
    "duration": 594,
    "start_time": "2023-03-10T07:29:58.189Z"
   },
   {
    "duration": 103,
    "start_time": "2023-03-10T07:29:58.841Z"
   },
   {
    "duration": 40,
    "start_time": "2023-03-10T07:29:58.947Z"
   },
   {
    "duration": 73,
    "start_time": "2023-03-10T07:29:58.989Z"
   },
   {
    "duration": 24,
    "start_time": "2023-03-10T07:29:59.063Z"
   },
   {
    "duration": 113,
    "start_time": "2023-03-10T07:29:59.146Z"
   },
   {
    "duration": 323,
    "start_time": "2023-03-10T07:29:59.262Z"
   },
   {
    "duration": 634,
    "start_time": "2023-03-10T07:29:59.645Z"
   },
   {
    "duration": 84,
    "start_time": "2023-03-10T07:30:00.282Z"
   },
   {
    "duration": 83,
    "start_time": "2023-03-10T07:30:00.368Z"
   },
   {
    "duration": 521,
    "start_time": "2023-03-10T07:30:00.453Z"
   },
   {
    "duration": 68,
    "start_time": "2023-03-10T07:30:00.976Z"
   },
   {
    "duration": 2820,
    "start_time": "2023-03-10T07:30:01.054Z"
   },
   {
    "duration": 6,
    "start_time": "2023-03-10T07:30:03.876Z"
   },
   {
    "duration": 72,
    "start_time": "2023-03-10T07:30:03.884Z"
   },
   {
    "duration": 625,
    "start_time": "2023-03-10T07:30:03.958Z"
   },
   {
    "duration": 28,
    "start_time": "2023-03-10T07:30:04.643Z"
   },
   {
    "duration": 3014,
    "start_time": "2023-03-10T07:30:04.673Z"
   },
   {
    "duration": 27,
    "start_time": "2023-03-10T07:30:07.748Z"
   },
   {
    "duration": 299,
    "start_time": "2023-03-10T07:30:07.779Z"
   },
   {
    "duration": 74,
    "start_time": "2023-03-10T07:30:08.081Z"
   },
   {
    "duration": 200,
    "start_time": "2023-03-10T07:30:08.157Z"
   },
   {
    "duration": 113,
    "start_time": "2023-03-10T07:30:08.361Z"
   },
   {
    "duration": 187,
    "start_time": "2023-03-10T07:30:08.477Z"
   },
   {
    "duration": 6,
    "start_time": "2023-03-10T07:30:08.674Z"
   },
   {
    "duration": 7,
    "start_time": "2023-03-10T07:30:08.682Z"
   },
   {
    "duration": 10,
    "start_time": "2023-03-10T07:30:08.746Z"
   },
   {
    "duration": 316,
    "start_time": "2023-03-10T07:30:08.760Z"
   },
   {
    "duration": 3300,
    "start_time": "2023-03-10T07:30:09.081Z"
   },
   {
    "duration": 66,
    "start_time": "2023-03-10T07:30:12.383Z"
   },
   {
    "duration": 514,
    "start_time": "2023-03-10T07:30:12.456Z"
   },
   {
    "duration": 711,
    "start_time": "2023-03-10T07:30:12.974Z"
   },
   {
    "duration": 593,
    "start_time": "2023-03-10T07:30:13.756Z"
   },
   {
    "duration": 20,
    "start_time": "2023-03-10T07:30:14.353Z"
   },
   {
    "duration": 4,
    "start_time": "2023-03-10T07:30:14.375Z"
   },
   {
    "duration": 73,
    "start_time": "2023-03-10T07:30:14.381Z"
   },
   {
    "duration": 10,
    "start_time": "2023-03-10T07:30:14.456Z"
   },
   {
    "duration": 497,
    "start_time": "2023-03-10T07:30:14.467Z"
   },
   {
    "duration": 2936,
    "start_time": "2023-03-10T07:35:18.640Z"
   },
   {
    "duration": 679,
    "start_time": "2023-03-10T07:35:21.578Z"
   },
   {
    "duration": 96,
    "start_time": "2023-03-10T07:35:22.263Z"
   },
   {
    "duration": 27,
    "start_time": "2023-03-10T07:35:22.363Z"
   },
   {
    "duration": 34,
    "start_time": "2023-03-10T07:35:22.445Z"
   },
   {
    "duration": 82,
    "start_time": "2023-03-10T07:35:22.481Z"
   },
   {
    "duration": 122,
    "start_time": "2023-03-10T07:35:22.565Z"
   },
   {
    "duration": 463,
    "start_time": "2023-03-10T07:35:22.689Z"
   },
   {
    "duration": 785,
    "start_time": "2023-03-10T07:35:23.158Z"
   },
   {
    "duration": 19,
    "start_time": "2023-03-10T07:35:23.944Z"
   },
   {
    "duration": 85,
    "start_time": "2023-03-10T07:35:23.973Z"
   },
   {
    "duration": 683,
    "start_time": "2023-03-10T07:35:24.069Z"
   },
   {
    "duration": 20,
    "start_time": "2023-03-10T07:35:24.756Z"
   },
   {
    "duration": 3582,
    "start_time": "2023-03-10T07:35:24.782Z"
   },
   {
    "duration": 12,
    "start_time": "2023-03-10T07:35:28.366Z"
   },
   {
    "duration": 69,
    "start_time": "2023-03-10T07:35:28.382Z"
   },
   {
    "duration": 693,
    "start_time": "2023-03-10T07:35:28.456Z"
   },
   {
    "duration": 25,
    "start_time": "2023-03-10T07:35:29.157Z"
   },
   {
    "duration": 3683,
    "start_time": "2023-03-10T07:35:29.184Z"
   },
   {
    "duration": 21,
    "start_time": "2023-03-10T07:35:32.874Z"
   },
   {
    "duration": 271,
    "start_time": "2023-03-10T07:35:32.897Z"
   },
   {
    "duration": 13,
    "start_time": "2023-03-10T07:35:33.171Z"
   },
   {
    "duration": 261,
    "start_time": "2023-03-10T07:35:33.186Z"
   },
   {
    "duration": 136,
    "start_time": "2023-03-10T07:35:33.451Z"
   },
   {
    "duration": 183,
    "start_time": "2023-03-10T07:35:33.589Z"
   },
   {
    "duration": 8,
    "start_time": "2023-03-10T07:35:33.775Z"
   },
   {
    "duration": 87,
    "start_time": "2023-03-10T07:35:33.785Z"
   },
   {
    "duration": 23,
    "start_time": "2023-03-10T07:35:33.882Z"
   },
   {
    "duration": 442,
    "start_time": "2023-03-10T07:35:33.907Z"
   },
   {
    "duration": 3636,
    "start_time": "2023-03-10T07:35:34.354Z"
   },
   {
    "duration": 87,
    "start_time": "2023-03-10T07:35:37.992Z"
   },
   {
    "duration": 697,
    "start_time": "2023-03-10T07:35:38.081Z"
   },
   {
    "duration": 902,
    "start_time": "2023-03-10T07:35:38.782Z"
   },
   {
    "duration": 872,
    "start_time": "2023-03-10T07:35:39.686Z"
   },
   {
    "duration": 25,
    "start_time": "2023-03-10T07:35:40.561Z"
   },
   {
    "duration": 18,
    "start_time": "2023-03-10T07:35:40.645Z"
   },
   {
    "duration": 26,
    "start_time": "2023-03-10T07:35:40.669Z"
   },
   {
    "duration": 53,
    "start_time": "2023-03-10T07:35:40.698Z"
   },
   {
    "duration": 604,
    "start_time": "2023-03-10T07:35:40.761Z"
   },
   {
    "duration": 6029,
    "start_time": "2023-03-10T07:35:41.366Z"
   },
   {
    "duration": 7,
    "start_time": "2023-03-10T07:35:47.447Z"
   },
   {
    "duration": 6,
    "start_time": "2023-03-10T07:35:47.456Z"
   },
   {
    "duration": 10,
    "start_time": "2023-03-10T07:35:47.464Z"
   },
   {
    "duration": 170,
    "start_time": "2023-03-10T07:35:47.476Z"
   },
   {
    "duration": 5,
    "start_time": "2023-03-10T07:36:02.519Z"
   },
   {
    "duration": 246,
    "start_time": "2023-03-10T07:39:06.237Z"
   },
   {
    "duration": 5,
    "start_time": "2023-03-10T07:39:20.508Z"
   },
   {
    "duration": 5154,
    "start_time": "2023-03-10T07:39:31.200Z"
   },
   {
    "duration": 12,
    "start_time": "2023-03-10T07:39:36.356Z"
   },
   {
    "duration": 5068,
    "start_time": "2023-03-10T07:39:38.899Z"
   },
   {
    "duration": 22,
    "start_time": "2023-03-10T07:39:45.126Z"
   },
   {
    "duration": 5587,
    "start_time": "2023-03-10T07:39:56.173Z"
   },
   {
    "duration": 6,
    "start_time": "2023-03-10T07:40:01.762Z"
   },
   {
    "duration": 139,
    "start_time": "2023-03-10T07:45:49.741Z"
   },
   {
    "duration": 835,
    "start_time": "2023-03-10T07:46:10.410Z"
   },
   {
    "duration": 17,
    "start_time": "2023-03-10T07:46:13.554Z"
   },
   {
    "duration": 397,
    "start_time": "2023-03-10T07:46:49.657Z"
   },
   {
    "duration": 8,
    "start_time": "2023-03-10T07:46:50.706Z"
   },
   {
    "duration": 3049,
    "start_time": "2023-03-10T07:53:15.045Z"
   },
   {
    "duration": 779,
    "start_time": "2023-03-10T07:53:18.103Z"
   },
   {
    "duration": 102,
    "start_time": "2023-03-10T07:53:18.887Z"
   },
   {
    "duration": 96,
    "start_time": "2023-03-10T07:53:18.993Z"
   },
   {
    "duration": 73,
    "start_time": "2023-03-10T07:53:19.092Z"
   },
   {
    "duration": 80,
    "start_time": "2023-03-10T07:53:19.171Z"
   },
   {
    "duration": 193,
    "start_time": "2023-03-10T07:53:19.253Z"
   },
   {
    "duration": 415,
    "start_time": "2023-03-10T07:53:19.459Z"
   },
   {
    "duration": 783,
    "start_time": "2023-03-10T07:53:19.884Z"
   },
   {
    "duration": 19,
    "start_time": "2023-03-10T07:53:20.671Z"
   },
   {
    "duration": 8,
    "start_time": "2023-03-10T07:53:20.750Z"
   },
   {
    "duration": 587,
    "start_time": "2023-03-10T07:53:20.761Z"
   },
   {
    "duration": 24,
    "start_time": "2023-03-10T07:53:21.350Z"
   },
   {
    "duration": 3577,
    "start_time": "2023-03-10T07:53:21.378Z"
   },
   {
    "duration": 12,
    "start_time": "2023-03-10T07:53:24.957Z"
   },
   {
    "duration": 15,
    "start_time": "2023-03-10T07:53:24.971Z"
   },
   {
    "duration": 1061,
    "start_time": "2023-03-10T07:53:24.988Z"
   },
   {
    "duration": 34,
    "start_time": "2023-03-10T07:53:26.055Z"
   },
   {
    "duration": 3465,
    "start_time": "2023-03-10T07:53:26.091Z"
   },
   {
    "duration": 21,
    "start_time": "2023-03-10T07:53:29.562Z"
   },
   {
    "duration": 298,
    "start_time": "2023-03-10T07:53:29.585Z"
   },
   {
    "duration": 56,
    "start_time": "2023-03-10T07:53:29.885Z"
   },
   {
    "duration": 206,
    "start_time": "2023-03-10T07:53:29.943Z"
   },
   {
    "duration": 111,
    "start_time": "2023-03-10T07:53:30.157Z"
   },
   {
    "duration": 118,
    "start_time": "2023-03-10T07:53:30.270Z"
   },
   {
    "duration": 61,
    "start_time": "2023-03-10T07:53:30.390Z"
   },
   {
    "duration": 29,
    "start_time": "2023-03-10T07:53:30.453Z"
   },
   {
    "duration": 60,
    "start_time": "2023-03-10T07:53:30.483Z"
   },
   {
    "duration": 336,
    "start_time": "2023-03-10T07:53:30.545Z"
   },
   {
    "duration": 4098,
    "start_time": "2023-03-10T07:53:30.884Z"
   },
   {
    "duration": 68,
    "start_time": "2023-03-10T07:53:34.984Z"
   },
   {
    "duration": 596,
    "start_time": "2023-03-10T07:53:35.054Z"
   },
   {
    "duration": 829,
    "start_time": "2023-03-10T07:53:35.652Z"
   },
   {
    "duration": 702,
    "start_time": "2023-03-10T07:53:36.483Z"
   },
   {
    "duration": 77,
    "start_time": "2023-03-10T07:53:37.187Z"
   },
   {
    "duration": 80,
    "start_time": "2023-03-10T07:53:37.266Z"
   },
   {
    "duration": 11,
    "start_time": "2023-03-10T07:53:37.351Z"
   },
   {
    "duration": 592,
    "start_time": "2023-03-10T07:53:37.368Z"
   },
   {
    "duration": 72287,
    "start_time": "2023-03-10T07:53:37.965Z"
   },
   {
    "duration": 10,
    "start_time": "2023-03-10T07:54:50.254Z"
   },
   {
    "duration": 147,
    "start_time": "2023-03-10T07:54:50.268Z"
   },
   {
    "duration": 0,
    "start_time": "2023-03-10T07:54:50.417Z"
   },
   {
    "duration": 0,
    "start_time": "2023-03-10T07:54:50.418Z"
   },
   {
    "duration": 0,
    "start_time": "2023-03-10T07:54:50.420Z"
   },
   {
    "duration": 17,
    "start_time": "2023-03-10T07:55:01.759Z"
   },
   {
    "duration": 223070,
    "start_time": "2023-03-10T07:55:03.407Z"
   },
   {
    "duration": 61,
    "start_time": "2023-03-10T07:58:46.481Z"
   },
   {
    "duration": 9,
    "start_time": "2023-03-10T07:58:46.546Z"
   },
   {
    "duration": 0,
    "start_time": "2023-03-10T07:58:46.713Z"
   },
   {
    "duration": 6,
    "start_time": "2023-03-10T07:58:57.070Z"
   },
   {
    "duration": 9,
    "start_time": "2023-03-10T07:59:03.793Z"
   },
   {
    "duration": 113,
    "start_time": "2023-03-10T07:59:19.976Z"
   },
   {
    "duration": 3525,
    "start_time": "2023-03-10T07:59:54.822Z"
   },
   {
    "duration": 12,
    "start_time": "2023-03-10T07:59:58.350Z"
   },
   {
    "duration": 28670,
    "start_time": "2023-03-10T08:00:41.310Z"
   },
   {
    "duration": 0,
    "start_time": "2023-03-10T08:01:09.983Z"
   },
   {
    "duration": 222073,
    "start_time": "2023-03-10T08:01:11.808Z"
   },
   {
    "duration": 67,
    "start_time": "2023-03-10T08:04:53.884Z"
   },
   {
    "duration": 2055,
    "start_time": "2023-03-10T08:05:59.460Z"
   },
   {
    "duration": 32,
    "start_time": "2023-03-10T08:06:06.117Z"
   },
   {
    "duration": 8,
    "start_time": "2023-03-10T08:06:22.858Z"
   },
   {
    "duration": 7,
    "start_time": "2023-03-10T08:06:50.365Z"
   },
   {
    "duration": 8,
    "start_time": "2023-03-10T08:06:57.682Z"
   },
   {
    "duration": 6,
    "start_time": "2023-03-10T08:07:10.022Z"
   },
   {
    "duration": 129860,
    "start_time": "2023-03-10T08:08:02.699Z"
   },
   {
    "duration": 136045,
    "start_time": "2023-03-10T08:10:55.701Z"
   },
   {
    "duration": 45,
    "start_time": "2023-03-10T08:14:03.511Z"
   },
   {
    "duration": 8,
    "start_time": "2023-03-10T08:14:09.475Z"
   },
   {
    "duration": 37,
    "start_time": "2023-03-10T08:14:14.240Z"
   },
   {
    "duration": 58,
    "start_time": "2023-03-10T08:14:20.012Z"
   },
   {
    "duration": 30,
    "start_time": "2023-03-10T08:14:36.566Z"
   },
   {
    "duration": 69,
    "start_time": "2023-03-10T08:15:40.577Z"
   },
   {
    "duration": 107,
    "start_time": "2023-03-10T08:15:47.681Z"
   },
   {
    "duration": 73,
    "start_time": "2023-03-10T08:15:55.009Z"
   },
   {
    "duration": 124,
    "start_time": "2023-03-10T08:16:06.228Z"
   },
   {
    "duration": 72,
    "start_time": "2023-03-10T08:16:09.188Z"
   },
   {
    "duration": 288,
    "start_time": "2023-03-10T08:16:26.068Z"
   },
   {
    "duration": 283,
    "start_time": "2023-03-10T08:16:33.370Z"
   },
   {
    "duration": 270,
    "start_time": "2023-03-10T08:16:52.311Z"
   },
   {
    "duration": 70,
    "start_time": "2023-03-10T08:18:26.717Z"
   },
   {
    "duration": 67,
    "start_time": "2023-03-10T08:19:15.805Z"
   },
   {
    "duration": 94,
    "start_time": "2023-03-10T08:19:19.479Z"
   },
   {
    "duration": 135579,
    "start_time": "2023-03-10T08:24:13.208Z"
   },
   {
    "duration": 139,
    "start_time": "2023-03-10T08:26:28.843Z"
   },
   {
    "duration": 130588,
    "start_time": "2023-03-10T08:26:28.985Z"
   },
   {
    "duration": 121946,
    "start_time": "2023-03-10T08:39:52.209Z"
   },
   {
    "duration": 12,
    "start_time": "2023-03-10T08:42:08.549Z"
   },
   {
    "duration": 6,
    "start_time": "2023-03-10T08:42:27.128Z"
   },
   {
    "duration": 119748,
    "start_time": "2023-03-10T08:42:33.507Z"
   },
   {
    "duration": 5,
    "start_time": "2023-03-10T08:46:11.295Z"
   },
   {
    "duration": 110,
    "start_time": "2023-03-10T08:48:42.764Z"
   },
   {
    "duration": 94,
    "start_time": "2023-03-10T08:49:02.791Z"
   },
   {
    "duration": 77,
    "start_time": "2023-03-10T08:49:42.700Z"
   },
   {
    "duration": 152,
    "start_time": "2023-03-10T08:49:53.109Z"
   },
   {
    "duration": 5,
    "start_time": "2023-03-10T08:50:15.966Z"
   },
   {
    "duration": 6,
    "start_time": "2023-03-10T08:51:39.265Z"
   },
   {
    "duration": 7,
    "start_time": "2023-03-10T08:51:39.464Z"
   },
   {
    "duration": 26,
    "start_time": "2023-03-10T08:51:39.920Z"
   },
   {
    "duration": 6,
    "start_time": "2023-03-10T08:51:40.360Z"
   },
   {
    "duration": 5,
    "start_time": "2023-03-10T08:51:41.113Z"
   },
   {
    "duration": 8,
    "start_time": "2023-03-10T08:51:48.889Z"
   },
   {
    "duration": 5,
    "start_time": "2023-03-10T08:52:02.857Z"
   },
   {
    "duration": 16,
    "start_time": "2023-03-10T08:53:57.673Z"
   },
   {
    "duration": 6,
    "start_time": "2023-03-10T08:54:02.778Z"
   },
   {
    "duration": 20,
    "start_time": "2023-03-10T08:54:09.028Z"
   },
   {
    "duration": 7,
    "start_time": "2023-03-10T08:54:14.055Z"
   },
   {
    "duration": 6,
    "start_time": "2023-03-10T08:54:30.718Z"
   },
   {
    "duration": 20,
    "start_time": "2023-03-10T08:55:02.531Z"
   },
   {
    "duration": 7,
    "start_time": "2023-03-10T08:56:11.984Z"
   },
   {
    "duration": 6,
    "start_time": "2023-03-10T08:56:46.670Z"
   }
  ],
  "kernelspec": {
   "display_name": "Python 3 (ipykernel)",
   "language": "python",
   "name": "python3"
  },
  "language_info": {
   "codemirror_mode": {
    "name": "ipython",
    "version": 3
   },
   "file_extension": ".py",
   "mimetype": "text/x-python",
   "name": "python",
   "nbconvert_exporter": "python",
   "pygments_lexer": "ipython3",
   "version": "3.9.13"
  },
  "toc": {
   "base_numbering": 1,
   "nav_menu": {
    "height": "445px",
    "width": "364px"
   },
   "number_sections": true,
   "sideBar": true,
   "skip_h1_title": true,
   "title_cell": "Table of Contents",
   "title_sidebar": "Contents",
   "toc_cell": false,
   "toc_position": {},
   "toc_section_display": true,
   "toc_window_display": false
  }
 },
 "nbformat": 4,
 "nbformat_minor": 2
}
